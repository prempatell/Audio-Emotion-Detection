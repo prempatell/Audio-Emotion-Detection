{
  "cells": [
    {
      "cell_type": "code",
      "execution_count": null,
      "metadata": {
        "colab": {
          "base_uri": "https://localhost:8080/"
        },
        "id": "xizOe5q_ror_",
        "outputId": "5aa595f7-6673-4c9b-ddb7-8c8e50bab1f7"
      },
      "outputs": [
        {
          "output_type": "stream",
          "name": "stdout",
          "text": [
            "Looking in indexes: https://pypi.org/simple, https://us-python.pkg.dev/colab-wheels/public/simple/\n",
            "Collecting scikit-optimize\n",
            "  Downloading scikit_optimize-0.9.0-py2.py3-none-any.whl (100 kB)\n",
            "\u001b[2K     \u001b[90m━━━━━━━━━━━━━━━━━━━━━━━━━━━━━━━━━━━━━━━\u001b[0m \u001b[32m100.3/100.3 KB\u001b[0m \u001b[31m2.5 MB/s\u001b[0m eta \u001b[36m0:00:00\u001b[0m\n",
            "\u001b[?25hRequirement already satisfied: scipy>=0.19.1 in /usr/local/lib/python3.9/dist-packages (from scikit-optimize) (1.10.1)\n",
            "Requirement already satisfied: joblib>=0.11 in /usr/local/lib/python3.9/dist-packages (from scikit-optimize) (1.1.1)\n",
            "Collecting pyaml>=16.9\n",
            "  Downloading pyaml-21.10.1-py2.py3-none-any.whl (24 kB)\n",
            "Requirement already satisfied: scikit-learn>=0.20.0 in /usr/local/lib/python3.9/dist-packages (from scikit-optimize) (1.2.2)\n",
            "Requirement already satisfied: numpy>=1.13.3 in /usr/local/lib/python3.9/dist-packages (from scikit-optimize) (1.22.4)\n",
            "Requirement already satisfied: PyYAML in /usr/local/lib/python3.9/dist-packages (from pyaml>=16.9->scikit-optimize) (6.0)\n",
            "Requirement already satisfied: threadpoolctl>=2.0.0 in /usr/local/lib/python3.9/dist-packages (from scikit-learn>=0.20.0->scikit-optimize) (3.1.0)\n",
            "Installing collected packages: pyaml, scikit-optimize\n",
            "Successfully installed pyaml-21.10.1 scikit-optimize-0.9.0\n"
          ]
        }
      ],
      "source": [
        "!pip install scikit-optimize"
      ]
    },
    {
      "cell_type": "code",
      "execution_count": 3,
      "metadata": {
        "id": "soGUKvlLdho2"
      },
      "outputs": [],
      "source": [
        "#Import libraries\n",
        "\n",
        "import pandas as pd\n",
        "import numpy as np\n",
        "from matplotlib import pyplot as plt\n",
        "import seaborn as sns\n",
        "\n",
        "from sklearn.neighbors import KNeighborsClassifier\n",
        "import sklearn.cluster as cluster\n",
        "from sklearn.cluster import KMeans\n",
        "from sklearn.metrics import accuracy_score, r2_score, confusion_matrix\n",
        "from sklearn.metrics import hamming_loss, mean_squared_error\n",
        "from sklearn.model_selection import train_test_split\n",
        "from tqdm.notebook import tqdm\n",
        "from sklearn.preprocessing import StandardScaler, LabelEncoder, OneHotEncoder\n",
        "from sklearn.pipeline import make_pipeline\n",
        "from sklearn.model_selection import GridSearchCV\n",
        "from sklearn.decomposition import PCA\n",
        "from skopt import BayesSearchCV\n",
        "import sklearn.metrics as metrics\n",
        "from sklearn.svm import SVC\n",
        "\n",
        "from sklearn.tree import DecisionTreeClassifier, export_graphviz, plot_tree\n",
        "from sklearn.ensemble import RandomForestClassifier, GradientBoostingClassifier\n",
        "from sklearn import tree\n",
        "\n",
        "from joblib import dump, load\n",
        "import joblib\n",
        "\n",
        "import warnings"
      ]
    },
    {
      "cell_type": "markdown",
      "metadata": {
        "id": "4uTod5rVeo_j"
      },
      "source": [
        "# Loading the Data "
      ]
    },
    {
      "cell_type": "code",
      "execution_count": 4,
      "metadata": {
        "colab": {
          "base_uri": "https://localhost:8080/",
          "height": 73
        },
        "id": "AgcwsMcrd_Z6",
        "outputId": "7a92013f-4f04-4b10-f3b0-ca26276257aa"
      },
      "outputs": [
        {
          "output_type": "display_data",
          "data": {
            "text/plain": [
              "<IPython.core.display.HTML object>"
            ],
            "text/html": [
              "\n",
              "     <input type=\"file\" id=\"files-0d82693e-d4fd-428f-98eb-3d35b0631bbf\" name=\"files[]\" multiple disabled\n",
              "        style=\"border:none\" />\n",
              "     <output id=\"result-0d82693e-d4fd-428f-98eb-3d35b0631bbf\">\n",
              "      Upload widget is only available when the cell has been executed in the\n",
              "      current browser session. Please rerun this cell to enable.\n",
              "      </output>\n",
              "      <script>// Copyright 2017 Google LLC\n",
              "//\n",
              "// Licensed under the Apache License, Version 2.0 (the \"License\");\n",
              "// you may not use this file except in compliance with the License.\n",
              "// You may obtain a copy of the License at\n",
              "//\n",
              "//      http://www.apache.org/licenses/LICENSE-2.0\n",
              "//\n",
              "// Unless required by applicable law or agreed to in writing, software\n",
              "// distributed under the License is distributed on an \"AS IS\" BASIS,\n",
              "// WITHOUT WARRANTIES OR CONDITIONS OF ANY KIND, either express or implied.\n",
              "// See the License for the specific language governing permissions and\n",
              "// limitations under the License.\n",
              "\n",
              "/**\n",
              " * @fileoverview Helpers for google.colab Python module.\n",
              " */\n",
              "(function(scope) {\n",
              "function span(text, styleAttributes = {}) {\n",
              "  const element = document.createElement('span');\n",
              "  element.textContent = text;\n",
              "  for (const key of Object.keys(styleAttributes)) {\n",
              "    element.style[key] = styleAttributes[key];\n",
              "  }\n",
              "  return element;\n",
              "}\n",
              "\n",
              "// Max number of bytes which will be uploaded at a time.\n",
              "const MAX_PAYLOAD_SIZE = 100 * 1024;\n",
              "\n",
              "function _uploadFiles(inputId, outputId) {\n",
              "  const steps = uploadFilesStep(inputId, outputId);\n",
              "  const outputElement = document.getElementById(outputId);\n",
              "  // Cache steps on the outputElement to make it available for the next call\n",
              "  // to uploadFilesContinue from Python.\n",
              "  outputElement.steps = steps;\n",
              "\n",
              "  return _uploadFilesContinue(outputId);\n",
              "}\n",
              "\n",
              "// This is roughly an async generator (not supported in the browser yet),\n",
              "// where there are multiple asynchronous steps and the Python side is going\n",
              "// to poll for completion of each step.\n",
              "// This uses a Promise to block the python side on completion of each step,\n",
              "// then passes the result of the previous step as the input to the next step.\n",
              "function _uploadFilesContinue(outputId) {\n",
              "  const outputElement = document.getElementById(outputId);\n",
              "  const steps = outputElement.steps;\n",
              "\n",
              "  const next = steps.next(outputElement.lastPromiseValue);\n",
              "  return Promise.resolve(next.value.promise).then((value) => {\n",
              "    // Cache the last promise value to make it available to the next\n",
              "    // step of the generator.\n",
              "    outputElement.lastPromiseValue = value;\n",
              "    return next.value.response;\n",
              "  });\n",
              "}\n",
              "\n",
              "/**\n",
              " * Generator function which is called between each async step of the upload\n",
              " * process.\n",
              " * @param {string} inputId Element ID of the input file picker element.\n",
              " * @param {string} outputId Element ID of the output display.\n",
              " * @return {!Iterable<!Object>} Iterable of next steps.\n",
              " */\n",
              "function* uploadFilesStep(inputId, outputId) {\n",
              "  const inputElement = document.getElementById(inputId);\n",
              "  inputElement.disabled = false;\n",
              "\n",
              "  const outputElement = document.getElementById(outputId);\n",
              "  outputElement.innerHTML = '';\n",
              "\n",
              "  const pickedPromise = new Promise((resolve) => {\n",
              "    inputElement.addEventListener('change', (e) => {\n",
              "      resolve(e.target.files);\n",
              "    });\n",
              "  });\n",
              "\n",
              "  const cancel = document.createElement('button');\n",
              "  inputElement.parentElement.appendChild(cancel);\n",
              "  cancel.textContent = 'Cancel upload';\n",
              "  const cancelPromise = new Promise((resolve) => {\n",
              "    cancel.onclick = () => {\n",
              "      resolve(null);\n",
              "    };\n",
              "  });\n",
              "\n",
              "  // Wait for the user to pick the files.\n",
              "  const files = yield {\n",
              "    promise: Promise.race([pickedPromise, cancelPromise]),\n",
              "    response: {\n",
              "      action: 'starting',\n",
              "    }\n",
              "  };\n",
              "\n",
              "  cancel.remove();\n",
              "\n",
              "  // Disable the input element since further picks are not allowed.\n",
              "  inputElement.disabled = true;\n",
              "\n",
              "  if (!files) {\n",
              "    return {\n",
              "      response: {\n",
              "        action: 'complete',\n",
              "      }\n",
              "    };\n",
              "  }\n",
              "\n",
              "  for (const file of files) {\n",
              "    const li = document.createElement('li');\n",
              "    li.append(span(file.name, {fontWeight: 'bold'}));\n",
              "    li.append(span(\n",
              "        `(${file.type || 'n/a'}) - ${file.size} bytes, ` +\n",
              "        `last modified: ${\n",
              "            file.lastModifiedDate ? file.lastModifiedDate.toLocaleDateString() :\n",
              "                                    'n/a'} - `));\n",
              "    const percent = span('0% done');\n",
              "    li.appendChild(percent);\n",
              "\n",
              "    outputElement.appendChild(li);\n",
              "\n",
              "    const fileDataPromise = new Promise((resolve) => {\n",
              "      const reader = new FileReader();\n",
              "      reader.onload = (e) => {\n",
              "        resolve(e.target.result);\n",
              "      };\n",
              "      reader.readAsArrayBuffer(file);\n",
              "    });\n",
              "    // Wait for the data to be ready.\n",
              "    let fileData = yield {\n",
              "      promise: fileDataPromise,\n",
              "      response: {\n",
              "        action: 'continue',\n",
              "      }\n",
              "    };\n",
              "\n",
              "    // Use a chunked sending to avoid message size limits. See b/62115660.\n",
              "    let position = 0;\n",
              "    do {\n",
              "      const length = Math.min(fileData.byteLength - position, MAX_PAYLOAD_SIZE);\n",
              "      const chunk = new Uint8Array(fileData, position, length);\n",
              "      position += length;\n",
              "\n",
              "      const base64 = btoa(String.fromCharCode.apply(null, chunk));\n",
              "      yield {\n",
              "        response: {\n",
              "          action: 'append',\n",
              "          file: file.name,\n",
              "          data: base64,\n",
              "        },\n",
              "      };\n",
              "\n",
              "      let percentDone = fileData.byteLength === 0 ?\n",
              "          100 :\n",
              "          Math.round((position / fileData.byteLength) * 100);\n",
              "      percent.textContent = `${percentDone}% done`;\n",
              "\n",
              "    } while (position < fileData.byteLength);\n",
              "  }\n",
              "\n",
              "  // All done.\n",
              "  yield {\n",
              "    response: {\n",
              "      action: 'complete',\n",
              "    }\n",
              "  };\n",
              "}\n",
              "\n",
              "scope.google = scope.google || {};\n",
              "scope.google.colab = scope.google.colab || {};\n",
              "scope.google.colab._files = {\n",
              "  _uploadFiles,\n",
              "  _uploadFilesContinue,\n",
              "};\n",
              "})(self);\n",
              "</script> "
            ]
          },
          "metadata": {}
        },
        {
          "output_type": "stream",
          "name": "stdout",
          "text": [
            "Saving Feature(CREMA-D only).csv to Feature(CREMA-D only).csv\n"
          ]
        }
      ],
      "source": [
        "from google.colab import files\n",
        "uploaded = files.upload()"
      ]
    },
    {
      "cell_type": "code",
      "execution_count": 5,
      "metadata": {
        "colab": {
          "base_uri": "https://localhost:8080/",
          "height": 629
        },
        "id": "2pj_0dWPeF9H",
        "outputId": "c862f7ee-3136-4290-cf60-8816ee7b32ac"
      },
      "outputs": [
        {
          "output_type": "execute_result",
          "data": {
            "text/plain": [
              "     ID Gender Phrase Emotion Level         0         1         2         3  \\\n",
              "0  1001   Male    DFA     ANG    XX  0.085690  0.671934  0.694386  0.672386   \n",
              "1  1001   Male    DFA     DIS    XX  0.078444  0.718596  0.729192  0.653268   \n",
              "2  1001   Male    DFA     FEA    XX  0.071806  0.576044  0.606729  0.631089   \n",
              "3  1001   Male    DFA     HAP    XX  0.069309  0.666179  0.677285  0.701381   \n",
              "4  1001   Male    DFA     SAD    XX  0.069696  0.697295  0.710469  0.657157   \n",
              "5  1001   Male    IEO     ANG    HI  0.085399  0.731783  0.705474  0.655245   \n",
              "6  1001   Male    IEO     ANG    LO  0.060799  0.681063  0.762744  0.686531   \n",
              "7  1001   Male    IEO     ANG    MD  0.088101  0.633072  0.728924  0.615463   \n",
              "8  1001   Male    IEO     DIS    HI  0.075299  0.748065  0.721715  0.664321   \n",
              "9  1001   Male    IEO     DIS    LO  0.056497  0.642570  0.767242  0.731489   \n",
              "\n",
              "          4  ...           159           160           161        162  \\\n",
              "0  0.675260  ...  4.833769e-08  4.774562e-08  4.738036e-08  20.236447   \n",
              "1  0.665332  ...  3.278495e-07  3.231356e-07  3.202182e-07  19.544465   \n",
              "2  0.654011  ...  2.048362e-06  2.016054e-06  1.996248e-06  20.332696   \n",
              "3  0.676417  ...  1.185680e-07  1.169627e-07  1.159695e-07  19.320487   \n",
              "4  0.680874  ...  6.190247e-08  6.069696e-08  5.997680e-08  20.679260   \n",
              "5  0.697538  ...  4.440905e-10  3.050494e-10  2.443161e-10  21.608573   \n",
              "6  0.627263  ...  2.413502e-07  2.361666e-07  2.330079e-07  20.670911   \n",
              "7  0.631576  ...  5.227260e-08  5.157755e-08  5.114884e-08  20.730469   \n",
              "8  0.685191  ...  5.853904e-07  5.781187e-07  5.736204e-07  19.519801   \n",
              "9  0.688408  ...  1.271075e-08  1.254586e-08  1.244376e-08  18.521050   \n",
              "\n",
              "         163        164        165        166        167        168  \n",
              "0  12.717658  17.725536  16.395970  19.851038  18.746176  64.114904  \n",
              "1  13.033411  16.184696  14.940196  18.819783  17.493382  65.144855  \n",
              "2  15.057014  17.835584  16.478764  19.712501  17.948928  63.113899  \n",
              "3  14.540849  16.938015  15.095720  19.876366  17.662157  62.585219  \n",
              "4  12.612233  16.869543  15.638160  19.075156  17.443968  62.328887  \n",
              "5  14.203830  15.465481  16.310677  17.360934  19.369430  61.630846  \n",
              "6  14.087468  16.431122  15.596296  17.138782  18.339009  62.852686  \n",
              "7  13.949370  16.988008  17.081541  17.640648  19.890205  64.127160  \n",
              "8  13.420722  15.089459  14.876512  17.077736  18.584577  61.065492  \n",
              "9  13.716452  14.391508  14.402355  15.818562  15.091575  66.016829  \n",
              "\n",
              "[10 rows x 174 columns]"
            ],
            "text/html": [
              "\n",
              "  <div id=\"df-8b1d78f3-31d7-4fe1-8284-47b7876e9ecd\">\n",
              "    <div class=\"colab-df-container\">\n",
              "      <div>\n",
              "<style scoped>\n",
              "    .dataframe tbody tr th:only-of-type {\n",
              "        vertical-align: middle;\n",
              "    }\n",
              "\n",
              "    .dataframe tbody tr th {\n",
              "        vertical-align: top;\n",
              "    }\n",
              "\n",
              "    .dataframe thead th {\n",
              "        text-align: right;\n",
              "    }\n",
              "</style>\n",
              "<table border=\"1\" class=\"dataframe\">\n",
              "  <thead>\n",
              "    <tr style=\"text-align: right;\">\n",
              "      <th></th>\n",
              "      <th>ID</th>\n",
              "      <th>Gender</th>\n",
              "      <th>Phrase</th>\n",
              "      <th>Emotion</th>\n",
              "      <th>Level</th>\n",
              "      <th>0</th>\n",
              "      <th>1</th>\n",
              "      <th>2</th>\n",
              "      <th>3</th>\n",
              "      <th>4</th>\n",
              "      <th>...</th>\n",
              "      <th>159</th>\n",
              "      <th>160</th>\n",
              "      <th>161</th>\n",
              "      <th>162</th>\n",
              "      <th>163</th>\n",
              "      <th>164</th>\n",
              "      <th>165</th>\n",
              "      <th>166</th>\n",
              "      <th>167</th>\n",
              "      <th>168</th>\n",
              "    </tr>\n",
              "  </thead>\n",
              "  <tbody>\n",
              "    <tr>\n",
              "      <th>0</th>\n",
              "      <td>1001</td>\n",
              "      <td>Male</td>\n",
              "      <td>DFA</td>\n",
              "      <td>ANG</td>\n",
              "      <td>XX</td>\n",
              "      <td>0.085690</td>\n",
              "      <td>0.671934</td>\n",
              "      <td>0.694386</td>\n",
              "      <td>0.672386</td>\n",
              "      <td>0.675260</td>\n",
              "      <td>...</td>\n",
              "      <td>4.833769e-08</td>\n",
              "      <td>4.774562e-08</td>\n",
              "      <td>4.738036e-08</td>\n",
              "      <td>20.236447</td>\n",
              "      <td>12.717658</td>\n",
              "      <td>17.725536</td>\n",
              "      <td>16.395970</td>\n",
              "      <td>19.851038</td>\n",
              "      <td>18.746176</td>\n",
              "      <td>64.114904</td>\n",
              "    </tr>\n",
              "    <tr>\n",
              "      <th>1</th>\n",
              "      <td>1001</td>\n",
              "      <td>Male</td>\n",
              "      <td>DFA</td>\n",
              "      <td>DIS</td>\n",
              "      <td>XX</td>\n",
              "      <td>0.078444</td>\n",
              "      <td>0.718596</td>\n",
              "      <td>0.729192</td>\n",
              "      <td>0.653268</td>\n",
              "      <td>0.665332</td>\n",
              "      <td>...</td>\n",
              "      <td>3.278495e-07</td>\n",
              "      <td>3.231356e-07</td>\n",
              "      <td>3.202182e-07</td>\n",
              "      <td>19.544465</td>\n",
              "      <td>13.033411</td>\n",
              "      <td>16.184696</td>\n",
              "      <td>14.940196</td>\n",
              "      <td>18.819783</td>\n",
              "      <td>17.493382</td>\n",
              "      <td>65.144855</td>\n",
              "    </tr>\n",
              "    <tr>\n",
              "      <th>2</th>\n",
              "      <td>1001</td>\n",
              "      <td>Male</td>\n",
              "      <td>DFA</td>\n",
              "      <td>FEA</td>\n",
              "      <td>XX</td>\n",
              "      <td>0.071806</td>\n",
              "      <td>0.576044</td>\n",
              "      <td>0.606729</td>\n",
              "      <td>0.631089</td>\n",
              "      <td>0.654011</td>\n",
              "      <td>...</td>\n",
              "      <td>2.048362e-06</td>\n",
              "      <td>2.016054e-06</td>\n",
              "      <td>1.996248e-06</td>\n",
              "      <td>20.332696</td>\n",
              "      <td>15.057014</td>\n",
              "      <td>17.835584</td>\n",
              "      <td>16.478764</td>\n",
              "      <td>19.712501</td>\n",
              "      <td>17.948928</td>\n",
              "      <td>63.113899</td>\n",
              "    </tr>\n",
              "    <tr>\n",
              "      <th>3</th>\n",
              "      <td>1001</td>\n",
              "      <td>Male</td>\n",
              "      <td>DFA</td>\n",
              "      <td>HAP</td>\n",
              "      <td>XX</td>\n",
              "      <td>0.069309</td>\n",
              "      <td>0.666179</td>\n",
              "      <td>0.677285</td>\n",
              "      <td>0.701381</td>\n",
              "      <td>0.676417</td>\n",
              "      <td>...</td>\n",
              "      <td>1.185680e-07</td>\n",
              "      <td>1.169627e-07</td>\n",
              "      <td>1.159695e-07</td>\n",
              "      <td>19.320487</td>\n",
              "      <td>14.540849</td>\n",
              "      <td>16.938015</td>\n",
              "      <td>15.095720</td>\n",
              "      <td>19.876366</td>\n",
              "      <td>17.662157</td>\n",
              "      <td>62.585219</td>\n",
              "    </tr>\n",
              "    <tr>\n",
              "      <th>4</th>\n",
              "      <td>1001</td>\n",
              "      <td>Male</td>\n",
              "      <td>DFA</td>\n",
              "      <td>SAD</td>\n",
              "      <td>XX</td>\n",
              "      <td>0.069696</td>\n",
              "      <td>0.697295</td>\n",
              "      <td>0.710469</td>\n",
              "      <td>0.657157</td>\n",
              "      <td>0.680874</td>\n",
              "      <td>...</td>\n",
              "      <td>6.190247e-08</td>\n",
              "      <td>6.069696e-08</td>\n",
              "      <td>5.997680e-08</td>\n",
              "      <td>20.679260</td>\n",
              "      <td>12.612233</td>\n",
              "      <td>16.869543</td>\n",
              "      <td>15.638160</td>\n",
              "      <td>19.075156</td>\n",
              "      <td>17.443968</td>\n",
              "      <td>62.328887</td>\n",
              "    </tr>\n",
              "    <tr>\n",
              "      <th>5</th>\n",
              "      <td>1001</td>\n",
              "      <td>Male</td>\n",
              "      <td>IEO</td>\n",
              "      <td>ANG</td>\n",
              "      <td>HI</td>\n",
              "      <td>0.085399</td>\n",
              "      <td>0.731783</td>\n",
              "      <td>0.705474</td>\n",
              "      <td>0.655245</td>\n",
              "      <td>0.697538</td>\n",
              "      <td>...</td>\n",
              "      <td>4.440905e-10</td>\n",
              "      <td>3.050494e-10</td>\n",
              "      <td>2.443161e-10</td>\n",
              "      <td>21.608573</td>\n",
              "      <td>14.203830</td>\n",
              "      <td>15.465481</td>\n",
              "      <td>16.310677</td>\n",
              "      <td>17.360934</td>\n",
              "      <td>19.369430</td>\n",
              "      <td>61.630846</td>\n",
              "    </tr>\n",
              "    <tr>\n",
              "      <th>6</th>\n",
              "      <td>1001</td>\n",
              "      <td>Male</td>\n",
              "      <td>IEO</td>\n",
              "      <td>ANG</td>\n",
              "      <td>LO</td>\n",
              "      <td>0.060799</td>\n",
              "      <td>0.681063</td>\n",
              "      <td>0.762744</td>\n",
              "      <td>0.686531</td>\n",
              "      <td>0.627263</td>\n",
              "      <td>...</td>\n",
              "      <td>2.413502e-07</td>\n",
              "      <td>2.361666e-07</td>\n",
              "      <td>2.330079e-07</td>\n",
              "      <td>20.670911</td>\n",
              "      <td>14.087468</td>\n",
              "      <td>16.431122</td>\n",
              "      <td>15.596296</td>\n",
              "      <td>17.138782</td>\n",
              "      <td>18.339009</td>\n",
              "      <td>62.852686</td>\n",
              "    </tr>\n",
              "    <tr>\n",
              "      <th>7</th>\n",
              "      <td>1001</td>\n",
              "      <td>Male</td>\n",
              "      <td>IEO</td>\n",
              "      <td>ANG</td>\n",
              "      <td>MD</td>\n",
              "      <td>0.088101</td>\n",
              "      <td>0.633072</td>\n",
              "      <td>0.728924</td>\n",
              "      <td>0.615463</td>\n",
              "      <td>0.631576</td>\n",
              "      <td>...</td>\n",
              "      <td>5.227260e-08</td>\n",
              "      <td>5.157755e-08</td>\n",
              "      <td>5.114884e-08</td>\n",
              "      <td>20.730469</td>\n",
              "      <td>13.949370</td>\n",
              "      <td>16.988008</td>\n",
              "      <td>17.081541</td>\n",
              "      <td>17.640648</td>\n",
              "      <td>19.890205</td>\n",
              "      <td>64.127160</td>\n",
              "    </tr>\n",
              "    <tr>\n",
              "      <th>8</th>\n",
              "      <td>1001</td>\n",
              "      <td>Male</td>\n",
              "      <td>IEO</td>\n",
              "      <td>DIS</td>\n",
              "      <td>HI</td>\n",
              "      <td>0.075299</td>\n",
              "      <td>0.748065</td>\n",
              "      <td>0.721715</td>\n",
              "      <td>0.664321</td>\n",
              "      <td>0.685191</td>\n",
              "      <td>...</td>\n",
              "      <td>5.853904e-07</td>\n",
              "      <td>5.781187e-07</td>\n",
              "      <td>5.736204e-07</td>\n",
              "      <td>19.519801</td>\n",
              "      <td>13.420722</td>\n",
              "      <td>15.089459</td>\n",
              "      <td>14.876512</td>\n",
              "      <td>17.077736</td>\n",
              "      <td>18.584577</td>\n",
              "      <td>61.065492</td>\n",
              "    </tr>\n",
              "    <tr>\n",
              "      <th>9</th>\n",
              "      <td>1001</td>\n",
              "      <td>Male</td>\n",
              "      <td>IEO</td>\n",
              "      <td>DIS</td>\n",
              "      <td>LO</td>\n",
              "      <td>0.056497</td>\n",
              "      <td>0.642570</td>\n",
              "      <td>0.767242</td>\n",
              "      <td>0.731489</td>\n",
              "      <td>0.688408</td>\n",
              "      <td>...</td>\n",
              "      <td>1.271075e-08</td>\n",
              "      <td>1.254586e-08</td>\n",
              "      <td>1.244376e-08</td>\n",
              "      <td>18.521050</td>\n",
              "      <td>13.716452</td>\n",
              "      <td>14.391508</td>\n",
              "      <td>14.402355</td>\n",
              "      <td>15.818562</td>\n",
              "      <td>15.091575</td>\n",
              "      <td>66.016829</td>\n",
              "    </tr>\n",
              "  </tbody>\n",
              "</table>\n",
              "<p>10 rows × 174 columns</p>\n",
              "</div>\n",
              "      <button class=\"colab-df-convert\" onclick=\"convertToInteractive('df-8b1d78f3-31d7-4fe1-8284-47b7876e9ecd')\"\n",
              "              title=\"Convert this dataframe to an interactive table.\"\n",
              "              style=\"display:none;\">\n",
              "        \n",
              "  <svg xmlns=\"http://www.w3.org/2000/svg\" height=\"24px\"viewBox=\"0 0 24 24\"\n",
              "       width=\"24px\">\n",
              "    <path d=\"M0 0h24v24H0V0z\" fill=\"none\"/>\n",
              "    <path d=\"M18.56 5.44l.94 2.06.94-2.06 2.06-.94-2.06-.94-.94-2.06-.94 2.06-2.06.94zm-11 1L8.5 8.5l.94-2.06 2.06-.94-2.06-.94L8.5 2.5l-.94 2.06-2.06.94zm10 10l.94 2.06.94-2.06 2.06-.94-2.06-.94-.94-2.06-.94 2.06-2.06.94z\"/><path d=\"M17.41 7.96l-1.37-1.37c-.4-.4-.92-.59-1.43-.59-.52 0-1.04.2-1.43.59L10.3 9.45l-7.72 7.72c-.78.78-.78 2.05 0 2.83L4 21.41c.39.39.9.59 1.41.59.51 0 1.02-.2 1.41-.59l7.78-7.78 2.81-2.81c.8-.78.8-2.07 0-2.86zM5.41 20L4 18.59l7.72-7.72 1.47 1.35L5.41 20z\"/>\n",
              "  </svg>\n",
              "      </button>\n",
              "      \n",
              "  <style>\n",
              "    .colab-df-container {\n",
              "      display:flex;\n",
              "      flex-wrap:wrap;\n",
              "      gap: 12px;\n",
              "    }\n",
              "\n",
              "    .colab-df-convert {\n",
              "      background-color: #E8F0FE;\n",
              "      border: none;\n",
              "      border-radius: 50%;\n",
              "      cursor: pointer;\n",
              "      display: none;\n",
              "      fill: #1967D2;\n",
              "      height: 32px;\n",
              "      padding: 0 0 0 0;\n",
              "      width: 32px;\n",
              "    }\n",
              "\n",
              "    .colab-df-convert:hover {\n",
              "      background-color: #E2EBFA;\n",
              "      box-shadow: 0px 1px 2px rgba(60, 64, 67, 0.3), 0px 1px 3px 1px rgba(60, 64, 67, 0.15);\n",
              "      fill: #174EA6;\n",
              "    }\n",
              "\n",
              "    [theme=dark] .colab-df-convert {\n",
              "      background-color: #3B4455;\n",
              "      fill: #D2E3FC;\n",
              "    }\n",
              "\n",
              "    [theme=dark] .colab-df-convert:hover {\n",
              "      background-color: #434B5C;\n",
              "      box-shadow: 0px 1px 3px 1px rgba(0, 0, 0, 0.15);\n",
              "      filter: drop-shadow(0px 1px 2px rgba(0, 0, 0, 0.3));\n",
              "      fill: #FFFFFF;\n",
              "    }\n",
              "  </style>\n",
              "\n",
              "      <script>\n",
              "        const buttonEl =\n",
              "          document.querySelector('#df-8b1d78f3-31d7-4fe1-8284-47b7876e9ecd button.colab-df-convert');\n",
              "        buttonEl.style.display =\n",
              "          google.colab.kernel.accessAllowed ? 'block' : 'none';\n",
              "\n",
              "        async function convertToInteractive(key) {\n",
              "          const element = document.querySelector('#df-8b1d78f3-31d7-4fe1-8284-47b7876e9ecd');\n",
              "          const dataTable =\n",
              "            await google.colab.kernel.invokeFunction('convertToInteractive',\n",
              "                                                     [key], {});\n",
              "          if (!dataTable) return;\n",
              "\n",
              "          const docLinkHtml = 'Like what you see? Visit the ' +\n",
              "            '<a target=\"_blank\" href=https://colab.research.google.com/notebooks/data_table.ipynb>data table notebook</a>'\n",
              "            + ' to learn more about interactive tables.';\n",
              "          element.innerHTML = '';\n",
              "          dataTable['output_type'] = 'display_data';\n",
              "          await google.colab.output.renderOutput(dataTable, element);\n",
              "          const docLink = document.createElement('div');\n",
              "          docLink.innerHTML = docLinkHtml;\n",
              "          element.appendChild(docLink);\n",
              "        }\n",
              "      </script>\n",
              "    </div>\n",
              "  </div>\n",
              "  "
            ]
          },
          "metadata": {},
          "execution_count": 5
        }
      ],
      "source": [
        "AudioData = pd.read_csv('Feature(CREMA-D only).csv')\n",
        "AudioData.head(10)"
      ]
    },
    {
      "cell_type": "code",
      "execution_count": 6,
      "metadata": {
        "id": "7zzMhJbGigWD"
      },
      "outputs": [],
      "source": [
        "AudioData['Emotion'] = AudioData['Emotion'].map({'ANG':0, 'DIS':1, 'FEA':2, 'HAP':3, 'SAD':4}).astype(int)"
      ]
    },
    {
      "cell_type": "code",
      "execution_count": 7,
      "metadata": {
        "colab": {
          "base_uri": "https://localhost:8080/",
          "height": 661
        },
        "id": "yqlX38Z1SSBT",
        "outputId": "27f99eca-8dc4-412d-dc80-d5e03cf2c597"
      },
      "outputs": [
        {
          "output_type": "display_data",
          "data": {
            "text/plain": [
              "        ID  Gender Phrase  Emotion Level         0         1         2  \\\n",
              "4240  1061  Female    TIE        0    XX  0.092984  0.549817  0.611623   \n",
              "1495  1022    Male    IWW        0    XX  0.095064  0.601489  0.634199   \n",
              "4675  1068    Male    DFA        0    XX  0.100892  0.632757  0.585611   \n",
              "465   1007  Female    MTI        0    XX  0.046391  0.551361  0.651996   \n",
              "425   1007  Female    IEO        0    HI  0.094824  0.436353  0.493700   \n",
              "...    ...     ...    ...      ...   ...       ...       ...       ...   \n",
              "134   1002  Female    TSI        4    XX  0.147467  0.670932  0.631001   \n",
              "3854  1056  Female    IEO        4    MD  0.040220  0.732324  0.644727   \n",
              "889   1013  Female    TIE        4    XX  0.051916  0.631124  0.654439   \n",
              "2229  1033    Male    DFA        4    XX  0.054410  0.641013  0.636335   \n",
              "5714  1082  Female    TIE        4    XX  0.082633  0.602210  0.557945   \n",
              "\n",
              "             3         4  ...           159           160           161  \\\n",
              "4240  0.687982  0.697771  ...  4.536062e-08  4.482391e-08  4.449004e-08   \n",
              "1495  0.666352  0.666341  ...  4.634562e-06  4.579482e-06  4.545280e-06   \n",
              "4675  0.544353  0.566851  ...  1.164445e-07  1.148812e-07  1.139178e-07   \n",
              "465   0.538148  0.442255  ...  1.610517e-08  1.591140e-08  1.579087e-08   \n",
              "425   0.461670  0.464479  ...  6.427509e-06  6.343494e-06  6.291860e-06   \n",
              "...        ...       ...  ...           ...           ...           ...   \n",
              "134   0.614588  0.556513  ...  4.474506e-09  4.374929e-09  4.314780e-09   \n",
              "3854  0.611816  0.608792  ...  3.116007e-08  3.078227e-08  3.054755e-08   \n",
              "889   0.592879  0.605226  ...  8.369178e-09  8.262509e-09  8.196593e-09   \n",
              "2229  0.618423  0.644051  ...  1.146592e-07  1.133971e-07  1.126104e-07   \n",
              "5714  0.443978  0.446480  ...  4.537201e-09  4.476900e-09  4.439613e-09   \n",
              "\n",
              "            162        163        164        165        166        167  \\\n",
              "4240  12.856300  14.133843  16.731343  15.926818  19.042409  16.670546   \n",
              "1495  14.401822  15.138085  17.840835  15.760194  16.548973  18.634105   \n",
              "4675  14.589349  14.951891  16.551429  16.432319  16.420636  19.171307   \n",
              "465   15.117342  16.051220  20.291125  18.215276  17.278931  18.252559   \n",
              "425   10.968436  16.262664  20.853624  20.236874  20.839699  19.218847   \n",
              "...         ...        ...        ...        ...        ...        ...   \n",
              "134   18.603013  13.566217  14.841158  14.001113  17.225641  16.357808   \n",
              "3854  12.399413  13.372501  16.027363  15.032232  16.550457  15.830667   \n",
              "889   13.998738  14.602503  16.924629  16.151056  16.821118  15.986578   \n",
              "2229  13.346250  13.374808  14.701561  15.285460  17.429611  16.415108   \n",
              "5714  16.870954  17.256296  20.022212  16.889478  18.262761  18.026450   \n",
              "\n",
              "            168  \n",
              "4240  66.658294  \n",
              "1495  63.236641  \n",
              "4675  64.771895  \n",
              "465   64.681422  \n",
              "425   64.509126  \n",
              "...         ...  \n",
              "134   69.486127  \n",
              "3854  66.051287  \n",
              "889   66.465609  \n",
              "2229  64.993709  \n",
              "5714  65.987513  \n",
              "\n",
              "[5085 rows x 174 columns]"
            ],
            "text/html": [
              "\n",
              "  <div id=\"df-14ea2a07-40a8-4d7c-aabb-e869d396afbc\">\n",
              "    <div class=\"colab-df-container\">\n",
              "      <div>\n",
              "<style scoped>\n",
              "    .dataframe tbody tr th:only-of-type {\n",
              "        vertical-align: middle;\n",
              "    }\n",
              "\n",
              "    .dataframe tbody tr th {\n",
              "        vertical-align: top;\n",
              "    }\n",
              "\n",
              "    .dataframe thead th {\n",
              "        text-align: right;\n",
              "    }\n",
              "</style>\n",
              "<table border=\"1\" class=\"dataframe\">\n",
              "  <thead>\n",
              "    <tr style=\"text-align: right;\">\n",
              "      <th></th>\n",
              "      <th>ID</th>\n",
              "      <th>Gender</th>\n",
              "      <th>Phrase</th>\n",
              "      <th>Emotion</th>\n",
              "      <th>Level</th>\n",
              "      <th>0</th>\n",
              "      <th>1</th>\n",
              "      <th>2</th>\n",
              "      <th>3</th>\n",
              "      <th>4</th>\n",
              "      <th>...</th>\n",
              "      <th>159</th>\n",
              "      <th>160</th>\n",
              "      <th>161</th>\n",
              "      <th>162</th>\n",
              "      <th>163</th>\n",
              "      <th>164</th>\n",
              "      <th>165</th>\n",
              "      <th>166</th>\n",
              "      <th>167</th>\n",
              "      <th>168</th>\n",
              "    </tr>\n",
              "  </thead>\n",
              "  <tbody>\n",
              "    <tr>\n",
              "      <th>4240</th>\n",
              "      <td>1061</td>\n",
              "      <td>Female</td>\n",
              "      <td>TIE</td>\n",
              "      <td>0</td>\n",
              "      <td>XX</td>\n",
              "      <td>0.092984</td>\n",
              "      <td>0.549817</td>\n",
              "      <td>0.611623</td>\n",
              "      <td>0.687982</td>\n",
              "      <td>0.697771</td>\n",
              "      <td>...</td>\n",
              "      <td>4.536062e-08</td>\n",
              "      <td>4.482391e-08</td>\n",
              "      <td>4.449004e-08</td>\n",
              "      <td>12.856300</td>\n",
              "      <td>14.133843</td>\n",
              "      <td>16.731343</td>\n",
              "      <td>15.926818</td>\n",
              "      <td>19.042409</td>\n",
              "      <td>16.670546</td>\n",
              "      <td>66.658294</td>\n",
              "    </tr>\n",
              "    <tr>\n",
              "      <th>1495</th>\n",
              "      <td>1022</td>\n",
              "      <td>Male</td>\n",
              "      <td>IWW</td>\n",
              "      <td>0</td>\n",
              "      <td>XX</td>\n",
              "      <td>0.095064</td>\n",
              "      <td>0.601489</td>\n",
              "      <td>0.634199</td>\n",
              "      <td>0.666352</td>\n",
              "      <td>0.666341</td>\n",
              "      <td>...</td>\n",
              "      <td>4.634562e-06</td>\n",
              "      <td>4.579482e-06</td>\n",
              "      <td>4.545280e-06</td>\n",
              "      <td>14.401822</td>\n",
              "      <td>15.138085</td>\n",
              "      <td>17.840835</td>\n",
              "      <td>15.760194</td>\n",
              "      <td>16.548973</td>\n",
              "      <td>18.634105</td>\n",
              "      <td>63.236641</td>\n",
              "    </tr>\n",
              "    <tr>\n",
              "      <th>4675</th>\n",
              "      <td>1068</td>\n",
              "      <td>Male</td>\n",
              "      <td>DFA</td>\n",
              "      <td>0</td>\n",
              "      <td>XX</td>\n",
              "      <td>0.100892</td>\n",
              "      <td>0.632757</td>\n",
              "      <td>0.585611</td>\n",
              "      <td>0.544353</td>\n",
              "      <td>0.566851</td>\n",
              "      <td>...</td>\n",
              "      <td>1.164445e-07</td>\n",
              "      <td>1.148812e-07</td>\n",
              "      <td>1.139178e-07</td>\n",
              "      <td>14.589349</td>\n",
              "      <td>14.951891</td>\n",
              "      <td>16.551429</td>\n",
              "      <td>16.432319</td>\n",
              "      <td>16.420636</td>\n",
              "      <td>19.171307</td>\n",
              "      <td>64.771895</td>\n",
              "    </tr>\n",
              "    <tr>\n",
              "      <th>465</th>\n",
              "      <td>1007</td>\n",
              "      <td>Female</td>\n",
              "      <td>MTI</td>\n",
              "      <td>0</td>\n",
              "      <td>XX</td>\n",
              "      <td>0.046391</td>\n",
              "      <td>0.551361</td>\n",
              "      <td>0.651996</td>\n",
              "      <td>0.538148</td>\n",
              "      <td>0.442255</td>\n",
              "      <td>...</td>\n",
              "      <td>1.610517e-08</td>\n",
              "      <td>1.591140e-08</td>\n",
              "      <td>1.579087e-08</td>\n",
              "      <td>15.117342</td>\n",
              "      <td>16.051220</td>\n",
              "      <td>20.291125</td>\n",
              "      <td>18.215276</td>\n",
              "      <td>17.278931</td>\n",
              "      <td>18.252559</td>\n",
              "      <td>64.681422</td>\n",
              "    </tr>\n",
              "    <tr>\n",
              "      <th>425</th>\n",
              "      <td>1007</td>\n",
              "      <td>Female</td>\n",
              "      <td>IEO</td>\n",
              "      <td>0</td>\n",
              "      <td>HI</td>\n",
              "      <td>0.094824</td>\n",
              "      <td>0.436353</td>\n",
              "      <td>0.493700</td>\n",
              "      <td>0.461670</td>\n",
              "      <td>0.464479</td>\n",
              "      <td>...</td>\n",
              "      <td>6.427509e-06</td>\n",
              "      <td>6.343494e-06</td>\n",
              "      <td>6.291860e-06</td>\n",
              "      <td>10.968436</td>\n",
              "      <td>16.262664</td>\n",
              "      <td>20.853624</td>\n",
              "      <td>20.236874</td>\n",
              "      <td>20.839699</td>\n",
              "      <td>19.218847</td>\n",
              "      <td>64.509126</td>\n",
              "    </tr>\n",
              "    <tr>\n",
              "      <th>...</th>\n",
              "      <td>...</td>\n",
              "      <td>...</td>\n",
              "      <td>...</td>\n",
              "      <td>...</td>\n",
              "      <td>...</td>\n",
              "      <td>...</td>\n",
              "      <td>...</td>\n",
              "      <td>...</td>\n",
              "      <td>...</td>\n",
              "      <td>...</td>\n",
              "      <td>...</td>\n",
              "      <td>...</td>\n",
              "      <td>...</td>\n",
              "      <td>...</td>\n",
              "      <td>...</td>\n",
              "      <td>...</td>\n",
              "      <td>...</td>\n",
              "      <td>...</td>\n",
              "      <td>...</td>\n",
              "      <td>...</td>\n",
              "      <td>...</td>\n",
              "    </tr>\n",
              "    <tr>\n",
              "      <th>134</th>\n",
              "      <td>1002</td>\n",
              "      <td>Female</td>\n",
              "      <td>TSI</td>\n",
              "      <td>4</td>\n",
              "      <td>XX</td>\n",
              "      <td>0.147467</td>\n",
              "      <td>0.670932</td>\n",
              "      <td>0.631001</td>\n",
              "      <td>0.614588</td>\n",
              "      <td>0.556513</td>\n",
              "      <td>...</td>\n",
              "      <td>4.474506e-09</td>\n",
              "      <td>4.374929e-09</td>\n",
              "      <td>4.314780e-09</td>\n",
              "      <td>18.603013</td>\n",
              "      <td>13.566217</td>\n",
              "      <td>14.841158</td>\n",
              "      <td>14.001113</td>\n",
              "      <td>17.225641</td>\n",
              "      <td>16.357808</td>\n",
              "      <td>69.486127</td>\n",
              "    </tr>\n",
              "    <tr>\n",
              "      <th>3854</th>\n",
              "      <td>1056</td>\n",
              "      <td>Female</td>\n",
              "      <td>IEO</td>\n",
              "      <td>4</td>\n",
              "      <td>MD</td>\n",
              "      <td>0.040220</td>\n",
              "      <td>0.732324</td>\n",
              "      <td>0.644727</td>\n",
              "      <td>0.611816</td>\n",
              "      <td>0.608792</td>\n",
              "      <td>...</td>\n",
              "      <td>3.116007e-08</td>\n",
              "      <td>3.078227e-08</td>\n",
              "      <td>3.054755e-08</td>\n",
              "      <td>12.399413</td>\n",
              "      <td>13.372501</td>\n",
              "      <td>16.027363</td>\n",
              "      <td>15.032232</td>\n",
              "      <td>16.550457</td>\n",
              "      <td>15.830667</td>\n",
              "      <td>66.051287</td>\n",
              "    </tr>\n",
              "    <tr>\n",
              "      <th>889</th>\n",
              "      <td>1013</td>\n",
              "      <td>Female</td>\n",
              "      <td>TIE</td>\n",
              "      <td>4</td>\n",
              "      <td>XX</td>\n",
              "      <td>0.051916</td>\n",
              "      <td>0.631124</td>\n",
              "      <td>0.654439</td>\n",
              "      <td>0.592879</td>\n",
              "      <td>0.605226</td>\n",
              "      <td>...</td>\n",
              "      <td>8.369178e-09</td>\n",
              "      <td>8.262509e-09</td>\n",
              "      <td>8.196593e-09</td>\n",
              "      <td>13.998738</td>\n",
              "      <td>14.602503</td>\n",
              "      <td>16.924629</td>\n",
              "      <td>16.151056</td>\n",
              "      <td>16.821118</td>\n",
              "      <td>15.986578</td>\n",
              "      <td>66.465609</td>\n",
              "    </tr>\n",
              "    <tr>\n",
              "      <th>2229</th>\n",
              "      <td>1033</td>\n",
              "      <td>Male</td>\n",
              "      <td>DFA</td>\n",
              "      <td>4</td>\n",
              "      <td>XX</td>\n",
              "      <td>0.054410</td>\n",
              "      <td>0.641013</td>\n",
              "      <td>0.636335</td>\n",
              "      <td>0.618423</td>\n",
              "      <td>0.644051</td>\n",
              "      <td>...</td>\n",
              "      <td>1.146592e-07</td>\n",
              "      <td>1.133971e-07</td>\n",
              "      <td>1.126104e-07</td>\n",
              "      <td>13.346250</td>\n",
              "      <td>13.374808</td>\n",
              "      <td>14.701561</td>\n",
              "      <td>15.285460</td>\n",
              "      <td>17.429611</td>\n",
              "      <td>16.415108</td>\n",
              "      <td>64.993709</td>\n",
              "    </tr>\n",
              "    <tr>\n",
              "      <th>5714</th>\n",
              "      <td>1082</td>\n",
              "      <td>Female</td>\n",
              "      <td>TIE</td>\n",
              "      <td>4</td>\n",
              "      <td>XX</td>\n",
              "      <td>0.082633</td>\n",
              "      <td>0.602210</td>\n",
              "      <td>0.557945</td>\n",
              "      <td>0.443978</td>\n",
              "      <td>0.446480</td>\n",
              "      <td>...</td>\n",
              "      <td>4.537201e-09</td>\n",
              "      <td>4.476900e-09</td>\n",
              "      <td>4.439613e-09</td>\n",
              "      <td>16.870954</td>\n",
              "      <td>17.256296</td>\n",
              "      <td>20.022212</td>\n",
              "      <td>16.889478</td>\n",
              "      <td>18.262761</td>\n",
              "      <td>18.026450</td>\n",
              "      <td>65.987513</td>\n",
              "    </tr>\n",
              "  </tbody>\n",
              "</table>\n",
              "<p>5085 rows × 174 columns</p>\n",
              "</div>\n",
              "      <button class=\"colab-df-convert\" onclick=\"convertToInteractive('df-14ea2a07-40a8-4d7c-aabb-e869d396afbc')\"\n",
              "              title=\"Convert this dataframe to an interactive table.\"\n",
              "              style=\"display:none;\">\n",
              "        \n",
              "  <svg xmlns=\"http://www.w3.org/2000/svg\" height=\"24px\"viewBox=\"0 0 24 24\"\n",
              "       width=\"24px\">\n",
              "    <path d=\"M0 0h24v24H0V0z\" fill=\"none\"/>\n",
              "    <path d=\"M18.56 5.44l.94 2.06.94-2.06 2.06-.94-2.06-.94-.94-2.06-.94 2.06-2.06.94zm-11 1L8.5 8.5l.94-2.06 2.06-.94-2.06-.94L8.5 2.5l-.94 2.06-2.06.94zm10 10l.94 2.06.94-2.06 2.06-.94-2.06-.94-.94-2.06-.94 2.06-2.06.94z\"/><path d=\"M17.41 7.96l-1.37-1.37c-.4-.4-.92-.59-1.43-.59-.52 0-1.04.2-1.43.59L10.3 9.45l-7.72 7.72c-.78.78-.78 2.05 0 2.83L4 21.41c.39.39.9.59 1.41.59.51 0 1.02-.2 1.41-.59l7.78-7.78 2.81-2.81c.8-.78.8-2.07 0-2.86zM5.41 20L4 18.59l7.72-7.72 1.47 1.35L5.41 20z\"/>\n",
              "  </svg>\n",
              "      </button>\n",
              "      \n",
              "  <style>\n",
              "    .colab-df-container {\n",
              "      display:flex;\n",
              "      flex-wrap:wrap;\n",
              "      gap: 12px;\n",
              "    }\n",
              "\n",
              "    .colab-df-convert {\n",
              "      background-color: #E8F0FE;\n",
              "      border: none;\n",
              "      border-radius: 50%;\n",
              "      cursor: pointer;\n",
              "      display: none;\n",
              "      fill: #1967D2;\n",
              "      height: 32px;\n",
              "      padding: 0 0 0 0;\n",
              "      width: 32px;\n",
              "    }\n",
              "\n",
              "    .colab-df-convert:hover {\n",
              "      background-color: #E2EBFA;\n",
              "      box-shadow: 0px 1px 2px rgba(60, 64, 67, 0.3), 0px 1px 3px 1px rgba(60, 64, 67, 0.15);\n",
              "      fill: #174EA6;\n",
              "    }\n",
              "\n",
              "    [theme=dark] .colab-df-convert {\n",
              "      background-color: #3B4455;\n",
              "      fill: #D2E3FC;\n",
              "    }\n",
              "\n",
              "    [theme=dark] .colab-df-convert:hover {\n",
              "      background-color: #434B5C;\n",
              "      box-shadow: 0px 1px 3px 1px rgba(0, 0, 0, 0.15);\n",
              "      filter: drop-shadow(0px 1px 2px rgba(0, 0, 0, 0.3));\n",
              "      fill: #FFFFFF;\n",
              "    }\n",
              "  </style>\n",
              "\n",
              "      <script>\n",
              "        const buttonEl =\n",
              "          document.querySelector('#df-14ea2a07-40a8-4d7c-aabb-e869d396afbc button.colab-df-convert');\n",
              "        buttonEl.style.display =\n",
              "          google.colab.kernel.accessAllowed ? 'block' : 'none';\n",
              "\n",
              "        async function convertToInteractive(key) {\n",
              "          const element = document.querySelector('#df-14ea2a07-40a8-4d7c-aabb-e869d396afbc');\n",
              "          const dataTable =\n",
              "            await google.colab.kernel.invokeFunction('convertToInteractive',\n",
              "                                                     [key], {});\n",
              "          if (!dataTable) return;\n",
              "\n",
              "          const docLinkHtml = 'Like what you see? Visit the ' +\n",
              "            '<a target=\"_blank\" href=https://colab.research.google.com/notebooks/data_table.ipynb>data table notebook</a>'\n",
              "            + ' to learn more about interactive tables.';\n",
              "          element.innerHTML = '';\n",
              "          dataTable['output_type'] = 'display_data';\n",
              "          await google.colab.output.renderOutput(dataTable, element);\n",
              "          const docLink = document.createElement('div');\n",
              "          docLink.innerHTML = docLinkHtml;\n",
              "          element.appendChild(docLink);\n",
              "        }\n",
              "      </script>\n",
              "    </div>\n",
              "  </div>\n",
              "  "
            ]
          },
          "metadata": {}
        }
      ],
      "source": [
        "trainingdata = AudioData.groupby('Emotion', group_keys=False).apply(lambda x: x.sample(frac=0.8, random_state = 8))\n",
        "#Splitting the data 80-20 as common convention\n",
        "\n",
        "X_tr = trainingdata.drop(['Emotion','ID','Phrase','Level','Gender'],axis=1) \n",
        "Y_tr = trainingdata['Emotion']\n",
        "display(trainingdata)"
      ]
    },
    {
      "cell_type": "code",
      "execution_count": 8,
      "metadata": {
        "id": "yqrxldzaePzV"
      },
      "outputs": [],
      "source": [
        "testingdata = AudioData[~AudioData.index.isin(trainingdata.index)]\n",
        "\n",
        "X_te = testingdata.drop(['Emotion','ID','Phrase','Level','Gender'],axis=1)\n",
        "Y_te = testingdata['Emotion']"
      ]
    },
    {
      "cell_type": "code",
      "execution_count": null,
      "metadata": {
        "colab": {
          "base_uri": "https://localhost:8080/",
          "height": 661
        },
        "id": "FlqbjlW25om7",
        "outputId": "47aae800-bda5-4a44-86f4-42f7ad766126"
      },
      "outputs": [
        {
          "data": {
            "text/html": [
              "\n",
              "  <div id=\"df-39995832-40b3-4f2b-801f-0f63cb5a3568\">\n",
              "    <div class=\"colab-df-container\">\n",
              "      <div>\n",
              "<style scoped>\n",
              "    .dataframe tbody tr th:only-of-type {\n",
              "        vertical-align: middle;\n",
              "    }\n",
              "\n",
              "    .dataframe tbody tr th {\n",
              "        vertical-align: top;\n",
              "    }\n",
              "\n",
              "    .dataframe thead th {\n",
              "        text-align: right;\n",
              "    }\n",
              "</style>\n",
              "<table border=\"1\" class=\"dataframe\">\n",
              "  <thead>\n",
              "    <tr style=\"text-align: right;\">\n",
              "      <th></th>\n",
              "      <th>0</th>\n",
              "      <th>1</th>\n",
              "      <th>2</th>\n",
              "      <th>3</th>\n",
              "      <th>4</th>\n",
              "      <th>5</th>\n",
              "      <th>6</th>\n",
              "      <th>7</th>\n",
              "      <th>8</th>\n",
              "      <th>9</th>\n",
              "      <th>...</th>\n",
              "      <th>159</th>\n",
              "      <th>160</th>\n",
              "      <th>161</th>\n",
              "      <th>162</th>\n",
              "      <th>163</th>\n",
              "      <th>164</th>\n",
              "      <th>165</th>\n",
              "      <th>166</th>\n",
              "      <th>167</th>\n",
              "      <th>168</th>\n",
              "    </tr>\n",
              "  </thead>\n",
              "  <tbody>\n",
              "    <tr>\n",
              "      <th>6</th>\n",
              "      <td>0.060799</td>\n",
              "      <td>0.681063</td>\n",
              "      <td>0.762744</td>\n",
              "      <td>0.686531</td>\n",
              "      <td>0.627263</td>\n",
              "      <td>0.614043</td>\n",
              "      <td>0.568332</td>\n",
              "      <td>0.593469</td>\n",
              "      <td>0.610406</td>\n",
              "      <td>0.679264</td>\n",
              "      <td>...</td>\n",
              "      <td>2.413502e-07</td>\n",
              "      <td>2.361666e-07</td>\n",
              "      <td>2.330079e-07</td>\n",
              "      <td>20.670911</td>\n",
              "      <td>14.087468</td>\n",
              "      <td>16.431122</td>\n",
              "      <td>15.596296</td>\n",
              "      <td>17.138782</td>\n",
              "      <td>18.339009</td>\n",
              "      <td>62.852686</td>\n",
              "    </tr>\n",
              "    <tr>\n",
              "      <th>9</th>\n",
              "      <td>0.056497</td>\n",
              "      <td>0.642570</td>\n",
              "      <td>0.767242</td>\n",
              "      <td>0.731489</td>\n",
              "      <td>0.688408</td>\n",
              "      <td>0.709037</td>\n",
              "      <td>0.668679</td>\n",
              "      <td>0.625248</td>\n",
              "      <td>0.624790</td>\n",
              "      <td>0.683544</td>\n",
              "      <td>...</td>\n",
              "      <td>1.271075e-08</td>\n",
              "      <td>1.254586e-08</td>\n",
              "      <td>1.244376e-08</td>\n",
              "      <td>18.521050</td>\n",
              "      <td>13.716452</td>\n",
              "      <td>14.391508</td>\n",
              "      <td>14.402355</td>\n",
              "      <td>15.818562</td>\n",
              "      <td>15.091575</td>\n",
              "      <td>66.016829</td>\n",
              "    </tr>\n",
              "    <tr>\n",
              "      <th>12</th>\n",
              "      <td>0.062369</td>\n",
              "      <td>0.762812</td>\n",
              "      <td>0.832317</td>\n",
              "      <td>0.698373</td>\n",
              "      <td>0.700082</td>\n",
              "      <td>0.653495</td>\n",
              "      <td>0.634656</td>\n",
              "      <td>0.570931</td>\n",
              "      <td>0.628753</td>\n",
              "      <td>0.654432</td>\n",
              "      <td>...</td>\n",
              "      <td>1.236244e-07</td>\n",
              "      <td>1.221700e-07</td>\n",
              "      <td>1.212621e-07</td>\n",
              "      <td>20.166248</td>\n",
              "      <td>13.995979</td>\n",
              "      <td>14.764143</td>\n",
              "      <td>14.675896</td>\n",
              "      <td>16.354697</td>\n",
              "      <td>16.294236</td>\n",
              "      <td>64.170398</td>\n",
              "    </tr>\n",
              "    <tr>\n",
              "      <th>15</th>\n",
              "      <td>0.053182</td>\n",
              "      <td>0.708044</td>\n",
              "      <td>0.783436</td>\n",
              "      <td>0.746871</td>\n",
              "      <td>0.679744</td>\n",
              "      <td>0.671686</td>\n",
              "      <td>0.641620</td>\n",
              "      <td>0.627159</td>\n",
              "      <td>0.614944</td>\n",
              "      <td>0.728322</td>\n",
              "      <td>...</td>\n",
              "      <td>5.452708e-08</td>\n",
              "      <td>5.397671e-08</td>\n",
              "      <td>5.363603e-08</td>\n",
              "      <td>18.582521</td>\n",
              "      <td>14.204428</td>\n",
              "      <td>15.595939</td>\n",
              "      <td>14.097221</td>\n",
              "      <td>15.553017</td>\n",
              "      <td>16.873162</td>\n",
              "      <td>63.595638</td>\n",
              "    </tr>\n",
              "    <tr>\n",
              "      <th>18</th>\n",
              "      <td>0.071246</td>\n",
              "      <td>0.694037</td>\n",
              "      <td>0.740965</td>\n",
              "      <td>0.686981</td>\n",
              "      <td>0.693227</td>\n",
              "      <td>0.669359</td>\n",
              "      <td>0.583588</td>\n",
              "      <td>0.581601</td>\n",
              "      <td>0.665594</td>\n",
              "      <td>0.745063</td>\n",
              "      <td>...</td>\n",
              "      <td>4.304763e-08</td>\n",
              "      <td>4.264189e-08</td>\n",
              "      <td>4.238683e-08</td>\n",
              "      <td>20.105102</td>\n",
              "      <td>13.342502</td>\n",
              "      <td>16.841665</td>\n",
              "      <td>15.066975</td>\n",
              "      <td>17.217753</td>\n",
              "      <td>16.171984</td>\n",
              "      <td>64.899184</td>\n",
              "    </tr>\n",
              "    <tr>\n",
              "      <th>...</th>\n",
              "      <td>...</td>\n",
              "      <td>...</td>\n",
              "      <td>...</td>\n",
              "      <td>...</td>\n",
              "      <td>...</td>\n",
              "      <td>...</td>\n",
              "      <td>...</td>\n",
              "      <td>...</td>\n",
              "      <td>...</td>\n",
              "      <td>...</td>\n",
              "      <td>...</td>\n",
              "      <td>...</td>\n",
              "      <td>...</td>\n",
              "      <td>...</td>\n",
              "      <td>...</td>\n",
              "      <td>...</td>\n",
              "      <td>...</td>\n",
              "      <td>...</td>\n",
              "      <td>...</td>\n",
              "      <td>...</td>\n",
              "      <td>...</td>\n",
              "    </tr>\n",
              "    <tr>\n",
              "      <th>6325</th>\n",
              "      <td>0.094494</td>\n",
              "      <td>0.549485</td>\n",
              "      <td>0.677346</td>\n",
              "      <td>0.664106</td>\n",
              "      <td>0.561557</td>\n",
              "      <td>0.533191</td>\n",
              "      <td>0.542033</td>\n",
              "      <td>0.590043</td>\n",
              "      <td>0.622899</td>\n",
              "      <td>0.665553</td>\n",
              "      <td>...</td>\n",
              "      <td>3.703025e-06</td>\n",
              "      <td>3.652796e-06</td>\n",
              "      <td>3.621733e-06</td>\n",
              "      <td>15.112770</td>\n",
              "      <td>15.770000</td>\n",
              "      <td>18.633352</td>\n",
              "      <td>16.535497</td>\n",
              "      <td>17.586309</td>\n",
              "      <td>17.338107</td>\n",
              "      <td>66.286477</td>\n",
              "    </tr>\n",
              "    <tr>\n",
              "      <th>6326</th>\n",
              "      <td>0.075768</td>\n",
              "      <td>0.534870</td>\n",
              "      <td>0.565601</td>\n",
              "      <td>0.519987</td>\n",
              "      <td>0.497438</td>\n",
              "      <td>0.583568</td>\n",
              "      <td>0.608708</td>\n",
              "      <td>0.635385</td>\n",
              "      <td>0.671491</td>\n",
              "      <td>0.682680</td>\n",
              "      <td>...</td>\n",
              "      <td>5.315962e-10</td>\n",
              "      <td>5.251048e-10</td>\n",
              "      <td>5.210796e-10</td>\n",
              "      <td>15.220033</td>\n",
              "      <td>15.097523</td>\n",
              "      <td>17.396265</td>\n",
              "      <td>15.777923</td>\n",
              "      <td>18.560719</td>\n",
              "      <td>16.827558</td>\n",
              "      <td>66.725918</td>\n",
              "    </tr>\n",
              "    <tr>\n",
              "      <th>6327</th>\n",
              "      <td>0.070458</td>\n",
              "      <td>0.528276</td>\n",
              "      <td>0.488441</td>\n",
              "      <td>0.448189</td>\n",
              "      <td>0.502351</td>\n",
              "      <td>0.519598</td>\n",
              "      <td>0.574609</td>\n",
              "      <td>0.607989</td>\n",
              "      <td>0.681938</td>\n",
              "      <td>0.805898</td>\n",
              "      <td>...</td>\n",
              "      <td>3.500149e-09</td>\n",
              "      <td>3.447546e-09</td>\n",
              "      <td>3.415276e-09</td>\n",
              "      <td>16.414942</td>\n",
              "      <td>15.916192</td>\n",
              "      <td>17.841749</td>\n",
              "      <td>16.112221</td>\n",
              "      <td>18.915954</td>\n",
              "      <td>18.449106</td>\n",
              "      <td>67.792814</td>\n",
              "    </tr>\n",
              "    <tr>\n",
              "      <th>6328</th>\n",
              "      <td>0.076871</td>\n",
              "      <td>0.544311</td>\n",
              "      <td>0.574740</td>\n",
              "      <td>0.533077</td>\n",
              "      <td>0.561477</td>\n",
              "      <td>0.595797</td>\n",
              "      <td>0.614349</td>\n",
              "      <td>0.615048</td>\n",
              "      <td>0.610039</td>\n",
              "      <td>0.670135</td>\n",
              "      <td>...</td>\n",
              "      <td>5.495296e-10</td>\n",
              "      <td>5.385943e-10</td>\n",
              "      <td>5.319497e-10</td>\n",
              "      <td>16.526519</td>\n",
              "      <td>14.501675</td>\n",
              "      <td>17.304937</td>\n",
              "      <td>15.806878</td>\n",
              "      <td>18.536499</td>\n",
              "      <td>17.017114</td>\n",
              "      <td>66.704363</td>\n",
              "    </tr>\n",
              "    <tr>\n",
              "      <th>6329</th>\n",
              "      <td>0.050990</td>\n",
              "      <td>0.673790</td>\n",
              "      <td>0.614457</td>\n",
              "      <td>0.604675</td>\n",
              "      <td>0.526600</td>\n",
              "      <td>0.518395</td>\n",
              "      <td>0.556240</td>\n",
              "      <td>0.607804</td>\n",
              "      <td>0.642877</td>\n",
              "      <td>0.702487</td>\n",
              "      <td>...</td>\n",
              "      <td>1.328859e-07</td>\n",
              "      <td>1.311993e-07</td>\n",
              "      <td>1.301539e-07</td>\n",
              "      <td>14.794796</td>\n",
              "      <td>15.723387</td>\n",
              "      <td>16.903363</td>\n",
              "      <td>15.939681</td>\n",
              "      <td>17.022285</td>\n",
              "      <td>16.570842</td>\n",
              "      <td>65.870004</td>\n",
              "    </tr>\n",
              "  </tbody>\n",
              "</table>\n",
              "<p>1270 rows × 169 columns</p>\n",
              "</div>\n",
              "      <button class=\"colab-df-convert\" onclick=\"convertToInteractive('df-39995832-40b3-4f2b-801f-0f63cb5a3568')\"\n",
              "              title=\"Convert this dataframe to an interactive table.\"\n",
              "              style=\"display:none;\">\n",
              "        \n",
              "  <svg xmlns=\"http://www.w3.org/2000/svg\" height=\"24px\"viewBox=\"0 0 24 24\"\n",
              "       width=\"24px\">\n",
              "    <path d=\"M0 0h24v24H0V0z\" fill=\"none\"/>\n",
              "    <path d=\"M18.56 5.44l.94 2.06.94-2.06 2.06-.94-2.06-.94-.94-2.06-.94 2.06-2.06.94zm-11 1L8.5 8.5l.94-2.06 2.06-.94-2.06-.94L8.5 2.5l-.94 2.06-2.06.94zm10 10l.94 2.06.94-2.06 2.06-.94-2.06-.94-.94-2.06-.94 2.06-2.06.94z\"/><path d=\"M17.41 7.96l-1.37-1.37c-.4-.4-.92-.59-1.43-.59-.52 0-1.04.2-1.43.59L10.3 9.45l-7.72 7.72c-.78.78-.78 2.05 0 2.83L4 21.41c.39.39.9.59 1.41.59.51 0 1.02-.2 1.41-.59l7.78-7.78 2.81-2.81c.8-.78.8-2.07 0-2.86zM5.41 20L4 18.59l7.72-7.72 1.47 1.35L5.41 20z\"/>\n",
              "  </svg>\n",
              "      </button>\n",
              "      \n",
              "  <style>\n",
              "    .colab-df-container {\n",
              "      display:flex;\n",
              "      flex-wrap:wrap;\n",
              "      gap: 12px;\n",
              "    }\n",
              "\n",
              "    .colab-df-convert {\n",
              "      background-color: #E8F0FE;\n",
              "      border: none;\n",
              "      border-radius: 50%;\n",
              "      cursor: pointer;\n",
              "      display: none;\n",
              "      fill: #1967D2;\n",
              "      height: 32px;\n",
              "      padding: 0 0 0 0;\n",
              "      width: 32px;\n",
              "    }\n",
              "\n",
              "    .colab-df-convert:hover {\n",
              "      background-color: #E2EBFA;\n",
              "      box-shadow: 0px 1px 2px rgba(60, 64, 67, 0.3), 0px 1px 3px 1px rgba(60, 64, 67, 0.15);\n",
              "      fill: #174EA6;\n",
              "    }\n",
              "\n",
              "    [theme=dark] .colab-df-convert {\n",
              "      background-color: #3B4455;\n",
              "      fill: #D2E3FC;\n",
              "    }\n",
              "\n",
              "    [theme=dark] .colab-df-convert:hover {\n",
              "      background-color: #434B5C;\n",
              "      box-shadow: 0px 1px 3px 1px rgba(0, 0, 0, 0.15);\n",
              "      filter: drop-shadow(0px 1px 2px rgba(0, 0, 0, 0.3));\n",
              "      fill: #FFFFFF;\n",
              "    }\n",
              "  </style>\n",
              "\n",
              "      <script>\n",
              "        const buttonEl =\n",
              "          document.querySelector('#df-39995832-40b3-4f2b-801f-0f63cb5a3568 button.colab-df-convert');\n",
              "        buttonEl.style.display =\n",
              "          google.colab.kernel.accessAllowed ? 'block' : 'none';\n",
              "\n",
              "        async function convertToInteractive(key) {\n",
              "          const element = document.querySelector('#df-39995832-40b3-4f2b-801f-0f63cb5a3568');\n",
              "          const dataTable =\n",
              "            await google.colab.kernel.invokeFunction('convertToInteractive',\n",
              "                                                     [key], {});\n",
              "          if (!dataTable) return;\n",
              "\n",
              "          const docLinkHtml = 'Like what you see? Visit the ' +\n",
              "            '<a target=\"_blank\" href=https://colab.research.google.com/notebooks/data_table.ipynb>data table notebook</a>'\n",
              "            + ' to learn more about interactive tables.';\n",
              "          element.innerHTML = '';\n",
              "          dataTable['output_type'] = 'display_data';\n",
              "          await google.colab.output.renderOutput(dataTable, element);\n",
              "          const docLink = document.createElement('div');\n",
              "          docLink.innerHTML = docLinkHtml;\n",
              "          element.appendChild(docLink);\n",
              "        }\n",
              "      </script>\n",
              "    </div>\n",
              "  </div>\n",
              "  "
            ],
            "text/plain": [
              "             0         1         2         3         4         5         6  \\\n",
              "6     0.060799  0.681063  0.762744  0.686531  0.627263  0.614043  0.568332   \n",
              "9     0.056497  0.642570  0.767242  0.731489  0.688408  0.709037  0.668679   \n",
              "12    0.062369  0.762812  0.832317  0.698373  0.700082  0.653495  0.634656   \n",
              "15    0.053182  0.708044  0.783436  0.746871  0.679744  0.671686  0.641620   \n",
              "18    0.071246  0.694037  0.740965  0.686981  0.693227  0.669359  0.583588   \n",
              "...        ...       ...       ...       ...       ...       ...       ...   \n",
              "6325  0.094494  0.549485  0.677346  0.664106  0.561557  0.533191  0.542033   \n",
              "6326  0.075768  0.534870  0.565601  0.519987  0.497438  0.583568  0.608708   \n",
              "6327  0.070458  0.528276  0.488441  0.448189  0.502351  0.519598  0.574609   \n",
              "6328  0.076871  0.544311  0.574740  0.533077  0.561477  0.595797  0.614349   \n",
              "6329  0.050990  0.673790  0.614457  0.604675  0.526600  0.518395  0.556240   \n",
              "\n",
              "             7         8         9  ...           159           160  \\\n",
              "6     0.593469  0.610406  0.679264  ...  2.413502e-07  2.361666e-07   \n",
              "9     0.625248  0.624790  0.683544  ...  1.271075e-08  1.254586e-08   \n",
              "12    0.570931  0.628753  0.654432  ...  1.236244e-07  1.221700e-07   \n",
              "15    0.627159  0.614944  0.728322  ...  5.452708e-08  5.397671e-08   \n",
              "18    0.581601  0.665594  0.745063  ...  4.304763e-08  4.264189e-08   \n",
              "...        ...       ...       ...  ...           ...           ...   \n",
              "6325  0.590043  0.622899  0.665553  ...  3.703025e-06  3.652796e-06   \n",
              "6326  0.635385  0.671491  0.682680  ...  5.315962e-10  5.251048e-10   \n",
              "6327  0.607989  0.681938  0.805898  ...  3.500149e-09  3.447546e-09   \n",
              "6328  0.615048  0.610039  0.670135  ...  5.495296e-10  5.385943e-10   \n",
              "6329  0.607804  0.642877  0.702487  ...  1.328859e-07  1.311993e-07   \n",
              "\n",
              "               161        162        163        164        165        166  \\\n",
              "6     2.330079e-07  20.670911  14.087468  16.431122  15.596296  17.138782   \n",
              "9     1.244376e-08  18.521050  13.716452  14.391508  14.402355  15.818562   \n",
              "12    1.212621e-07  20.166248  13.995979  14.764143  14.675896  16.354697   \n",
              "15    5.363603e-08  18.582521  14.204428  15.595939  14.097221  15.553017   \n",
              "18    4.238683e-08  20.105102  13.342502  16.841665  15.066975  17.217753   \n",
              "...            ...        ...        ...        ...        ...        ...   \n",
              "6325  3.621733e-06  15.112770  15.770000  18.633352  16.535497  17.586309   \n",
              "6326  5.210796e-10  15.220033  15.097523  17.396265  15.777923  18.560719   \n",
              "6327  3.415276e-09  16.414942  15.916192  17.841749  16.112221  18.915954   \n",
              "6328  5.319497e-10  16.526519  14.501675  17.304937  15.806878  18.536499   \n",
              "6329  1.301539e-07  14.794796  15.723387  16.903363  15.939681  17.022285   \n",
              "\n",
              "            167        168  \n",
              "6     18.339009  62.852686  \n",
              "9     15.091575  66.016829  \n",
              "12    16.294236  64.170398  \n",
              "15    16.873162  63.595638  \n",
              "18    16.171984  64.899184  \n",
              "...         ...        ...  \n",
              "6325  17.338107  66.286477  \n",
              "6326  16.827558  66.725918  \n",
              "6327  18.449106  67.792814  \n",
              "6328  17.017114  66.704363  \n",
              "6329  16.570842  65.870004  \n",
              "\n",
              "[1270 rows x 169 columns]"
            ]
          },
          "metadata": {},
          "output_type": "display_data"
        }
      ],
      "source": [
        "display(X_te)"
      ]
    },
    {
      "cell_type": "code",
      "execution_count": null,
      "metadata": {
        "colab": {
          "base_uri": "https://localhost:8080/",
          "height": 225
        },
        "id": "7uX0eS-_5rMA",
        "outputId": "46b37f55-eab0-470b-9865-948d42cc4ffa"
      },
      "outputs": [
        {
          "data": {
            "text/plain": [
              "6       0\n",
              "9       1\n",
              "12      2\n",
              "15      3\n",
              "18      4\n",
              "       ..\n",
              "6325    0\n",
              "6326    1\n",
              "6327    2\n",
              "6328    3\n",
              "6329    4\n",
              "Name: Emotion, Length: 1270, dtype: int64"
            ]
          },
          "metadata": {},
          "output_type": "display_data"
        }
      ],
      "source": [
        "display(Y_te)"
      ]
    },
    {
      "cell_type": "code",
      "execution_count": 9,
      "metadata": {
        "id": "TKkImObfeZKU"
      },
      "outputs": [],
      "source": [
        "scaler = StandardScaler()\n",
        "\n",
        "X_te_transformed = scaler.fit_transform(X_te) \n",
        "X_tr_transformed = scaler.transform(X_tr)\n",
        "\n",
        "#Reference: https://scikit-learn.org/stable/modules/generated/sklearn.preprocessing.StandardScaler.html\n",
        "#Reference: https://towardsdatascience.com/multiclass-classification-using-k-nearest-neighbours-ca5281a9ef76"
      ]
    },
    {
      "cell_type": "markdown",
      "metadata": {
        "id": "fPkRknseiz0i"
      },
      "source": [
        "# Cluster Based Modelling"
      ]
    },
    {
      "cell_type": "markdown",
      "metadata": {
        "id": "YqrfX5wTi41j"
      },
      "source": [
        "kNN and k-Means will be both implemented to determine if a bottom-up or top-down approach is applicable for this data set. "
      ]
    },
    {
      "cell_type": "markdown",
      "metadata": {
        "id": "OPZkU90petAk"
      },
      "source": [
        "## kNN Model Building"
      ]
    },
    {
      "cell_type": "code",
      "execution_count": null,
      "metadata": {
        "colab": {
          "base_uri": "https://localhost:8080/",
          "height": 66,
          "referenced_widgets": [
            "e374e6183fde4200a584a91a944aaaae",
            "eb493dcab1ee41199e077873d8c90c47",
            "777ad917d3984b20abc559e5e8aa67e2",
            "08e1c547ebe349adab52329025349022",
            "a1adb9d81185493a9cc28be9d29593cb",
            "6e39b68e61764241bcc8904558b7d354",
            "7e90b6c96e454077ac709cc654da211a",
            "cfb030e999e842e1a4085ba4c39405aa",
            "92458eb322304b668277062d50d8f48d",
            "b37134d2314a42d18fe32aa30f9609b0",
            "dccdc687a339497797251dfe632b1f4b"
          ]
        },
        "id": "aDPdMt8cefk9",
        "outputId": "47b8029f-52c9-4115-cbda-dd79383b055a"
      },
      "outputs": [
        {
          "data": {
            "application/vnd.jupyter.widget-view+json": {
              "model_id": "e374e6183fde4200a584a91a944aaaae",
              "version_major": 2,
              "version_minor": 0
            },
            "text/plain": [
              "  0%|          | 0/200 [00:00<?, ?it/s]"
            ]
          },
          "metadata": {},
          "output_type": "display_data"
        },
        {
          "name": "stdout",
          "output_type": "stream",
          "text": [
            "39\n"
          ]
        }
      ],
      "source": [
        "n_neighbours = np.arange(1, 73,2) #To avoid having an even number of neighbours\n",
        "\n",
        "n_repeats = 200\n",
        "accs_val = np.zeros((n_repeats, len(n_neighbours)))\n",
        "\n",
        "for i in tqdm(range(n_repeats)):\n",
        "    x_tr_2, x_val, y_tr_2, y_val = train_test_split(X_tr_transformed, Y_tr, test_size=0.2)  \n",
        "    for j, k in enumerate(n_neighbours):\n",
        "        model = KNeighborsClassifier(n_neighbors=k, weights='distance')\n",
        "        model.fit(x_tr_2, y_tr_2)\n",
        "        accs_val[i, j] = accuracy_score(y_val, model.predict(x_val)) \n",
        "\n",
        "scores = accs_val.mean(axis=0)\n",
        "optimal_k = n_neighbours[np.argmax(scores)]\n",
        "print(optimal_k)"
      ]
    },
    {
      "cell_type": "code",
      "execution_count": null,
      "metadata": {
        "colab": {
          "base_uri": "https://localhost:8080/",
          "height": 351
        },
        "id": "cchPr0L_ejZb",
        "outputId": "1c9d536d-eb5a-4895-db7d-ba6303eabc42"
      },
      "outputs": [
        {
          "data": {
            "image/png": "[encoded data removed]",
            "text/plain": [
              "<Figure size 648x360 with 1 Axes>"
            ]
          },
          "metadata": {},
          "output_type": "display_data"
        }
      ],
      "source": [
        "fig = plt.figure()\n",
        "fig.set_size_inches(9,5)\n",
        "plt.title(\"kNN Accuracy Score\", fontsize=12)\n",
        "plt.ylabel(\"Accuracy Score\", fontsize=10)\n",
        "plt.xlabel(\"Number of Neighbours, n_neighbours\",fontsize=10)\n",
        "plt.plot(n_neighbours, scores)\n",
        "plt.show()"
      ]
    },
    {
      "cell_type": "code",
      "execution_count": 11,
      "metadata": {
        "colab": {
          "base_uri": "https://localhost:8080/"
        },
        "id": "-ouKUXI5el8E",
        "outputId": "6d35706e-e48f-426f-876e-f2db7e43735d"
      },
      "outputs": [
        {
          "output_type": "stream",
          "name": "stdout",
          "text": [
            "The Hamming Loss is: 0.4976\n",
            "The accuracy score is: 50.24\n",
            "THE MSE is: 2.3638\n"
          ]
        }
      ],
      "source": [
        "model = KNeighborsClassifier(n_neighbors=39, weights='distance')\n",
        "model.fit(X_tr_transformed, Y_tr)\n",
        "Y_predictedkNN = model.predict(X_te_transformed)\n",
        "H_kNN = hamming_loss(Y_te,Y_predictedkNN)\n",
        "AccScore_kNN = accuracy_score(Y_te, Y_predictedkNN)\n",
        "MSE_kNN = mean_squared_error(Y_te, Y_predictedkNN)\n",
        "print(\"The Hamming Loss is: \" + str(round(H_kNN,4))) #Rounding the output to 4 decimal places for easier presentation\n",
        "print(\"The accuracy score is: \" + str(round(AccScore_kNN*100,2)))\n",
        "print(\"THE MSE is: \" + str(round(MSE_kNN,4)))\n",
        "\n",
        "#Reference: https://scikit-learn.org/stable/modules/generated/sklearn.metrics.hamming_loss.html"
      ]
    },
    {
      "cell_type": "markdown",
      "metadata": {
        "id": "pEropQn-evkL"
      },
      "source": [
        "### Dimensionality Reduction"
      ]
    },
    {
      "cell_type": "code",
      "execution_count": null,
      "metadata": {
        "colab": {
          "base_uri": "https://localhost:8080/"
        },
        "id": "82rbKq6teyuX",
        "outputId": "6efd4a5c-7d51-4996-e810-7ca76ceeed09"
      },
      "outputs": [
        {
          "name": "stdout",
          "output_type": "stream",
          "text": [
            "{'memory': None, 'steps': [('pca', PCA(n_components=91)), ('kneighborsclassifier', KNeighborsClassifier(n_neighbors=39, p=1, weights='distance'))], 'verbose': False, 'pca': PCA(n_components=91), 'kneighborsclassifier': KNeighborsClassifier(n_neighbors=39, p=1, weights='distance'), 'pca__copy': True, 'pca__iterated_power': 'auto', 'pca__n_components': 91, 'pca__n_oversamples': 10, 'pca__power_iteration_normalizer': 'auto', 'pca__random_state': None, 'pca__svd_solver': 'auto', 'pca__tol': 0.0, 'pca__whiten': False, 'kneighborsclassifier__algorithm': 'auto', 'kneighborsclassifier__leaf_size': 30, 'kneighborsclassifier__metric': 'minkowski', 'kneighborsclassifier__metric_params': None, 'kneighborsclassifier__n_jobs': None, 'kneighborsclassifier__n_neighbors': 39, 'kneighborsclassifier__p': 1, 'kneighborsclassifier__weights': 'distance'}\n"
          ]
        }
      ],
      "source": [
        "model = make_pipeline(PCA(), KNeighborsClassifier(n_neighbors=39, weights='distance'))\n",
        "\n",
        "param_grid = {\n",
        "    \"pca__n_components\": np.arange(1, 100),\n",
        "    \"kneighborsclassifier__p\": [1,2]\n",
        "}\n",
        "\n",
        "search = GridSearchCV(model, param_grid=param_grid, scoring=\"accuracy\", cv=10)\n",
        "search.fit(X_tr_transformed, Y_tr)\n",
        "print(search.best_estimator_.get_params())\n",
        "\n",
        "#Reference: https://scikit-learn.org/stable/modules/generated/sklearn.neighbors.KNeighborsClassifier.html\n",
        "#Reference: https://stackoverflow.com/questions/72549766/why-does-sklearns-best-estimator-not-return-all-of-the-variables-xgboost"
      ]
    },
    {
      "cell_type": "code",
      "execution_count": 12,
      "metadata": {
        "colab": {
          "base_uri": "https://localhost:8080/"
        },
        "id": "fH4Fe8wje0ZL",
        "outputId": "3805627a-0f27-4696-8e64-39e121f73f9d"
      },
      "outputs": [
        {
          "output_type": "stream",
          "name": "stdout",
          "text": [
            "The Hamming Loss is: 0.4953\n",
            "The accuracy score is: 50.47\n",
            "THE MSE is: 2.3071\n"
          ]
        }
      ],
      "source": [
        "model_updated = make_pipeline(PCA(n_components=91), KNeighborsClassifier(n_neighbors=39, weights='distance',p=1))\n",
        "#Optimal p for kNN is NOT still 2 (euclidean_distance)\n",
        "model_updated.fit(X_tr_transformed, Y_tr)\n",
        "Y_predictedkNN = model_updated.predict(X_te_transformed)\n",
        "H_kNN = hamming_loss(Y_te,Y_predictedkNN)\n",
        "AccScore_kNN = accuracy_score(Y_te, Y_predictedkNN)\n",
        "MSE_kNN = mean_squared_error(Y_te, Y_predictedkNN)\n",
        "print(\"The Hamming Loss is: \" + str(round(H_kNN,4))) #Rounding the output to 4 decimal places for easier presentation\n",
        "print(\"The accuracy score is: \" + str(round(AccScore_kNN*100,2)))\n",
        "print(\"THE MSE is: \" + str(round(MSE_kNN,4)))"
      ]
    },
    {
      "cell_type": "markdown",
      "metadata": {
        "id": "q3XxSzADiu4U"
      },
      "source": [
        "## k Means Comparison"
      ]
    },
    {
      "cell_type": "markdown",
      "metadata": {
        "id": "MPROjhnZkUYQ"
      },
      "source": [
        "Testing if this unsupervised method results in the same conclusion as kNN."
      ]
    },
    {
      "cell_type": "code",
      "execution_count": 14,
      "metadata": {
        "colab": {
          "base_uri": "https://localhost:8080/",
          "height": 661
        },
        "id": "18gy2snBkglE",
        "outputId": "83d25325-ddd1-4b2d-8316-ec952cfd51a0"
      },
      "outputs": [
        {
          "output_type": "display_data",
          "data": {
            "text/plain": [
              "             0         1         2         3         4         5         6  \\\n",
              "0     0.085690  0.671934  0.694386  0.672386  0.675260  0.674322  0.579565   \n",
              "1     0.078444  0.718596  0.729192  0.653268  0.665332  0.687527  0.602966   \n",
              "2     0.071806  0.576044  0.606729  0.631089  0.654011  0.615403  0.571089   \n",
              "3     0.069309  0.666179  0.677285  0.701381  0.676417  0.659513  0.630201   \n",
              "4     0.069696  0.697295  0.710469  0.657157  0.680874  0.675752  0.616896   \n",
              "...        ...       ...       ...       ...       ...       ...       ...   \n",
              "6350  0.114518  0.587432  0.625285  0.559025  0.530899  0.582621  0.590750   \n",
              "6351  0.066478  0.591427  0.572732  0.558411  0.564348  0.614273  0.684132   \n",
              "6352  0.087736  0.515751  0.512463  0.514055  0.513658  0.587177  0.629450   \n",
              "6353  0.129660  0.434935  0.465356  0.475787  0.471286  0.521731  0.539943   \n",
              "6354  0.067657  0.491703  0.494237  0.485405  0.591729  0.703057  0.639543   \n",
              "\n",
              "             7         8         9  ...           159           160  \\\n",
              "0     0.578604  0.647424  0.650719  ...  4.833769e-08  4.774562e-08   \n",
              "1     0.577669  0.618406  0.681478  ...  3.278495e-07  3.231356e-07   \n",
              "2     0.554196  0.630819  0.666309  ...  2.048362e-06  2.016054e-06   \n",
              "3     0.582889  0.567919  0.673455  ...  1.185680e-07  1.169627e-07   \n",
              "4     0.581852  0.673936  0.778380  ...  6.190247e-08  6.069696e-08   \n",
              "...        ...       ...       ...  ...           ...           ...   \n",
              "6350  0.696646  0.720174  0.689990  ...  1.455467e-08  1.393272e-08   \n",
              "6351  0.664140  0.684727  0.775005  ...  1.854230e-09  1.844318e-09   \n",
              "6352  0.699794  0.787597  0.812950  ...  3.920627e-10  3.877069e-10   \n",
              "6353  0.611939  0.690907  0.717095  ...  5.890358e-09  5.813106e-09   \n",
              "6354  0.599682  0.604297  0.734770  ...  2.350030e-09  2.436720e-09   \n",
              "\n",
              "               161        162        163        164        165        166  \\\n",
              "0     4.738036e-08  20.236447  12.717658  17.725536  16.395970  19.851038   \n",
              "1     3.202182e-07  19.544465  13.033411  16.184696  14.940196  18.819783   \n",
              "2     1.996248e-06  20.332696  15.057014  17.835584  16.478764  19.712501   \n",
              "3     1.159695e-07  19.320487  14.540849  16.938015  15.095720  19.876366   \n",
              "4     5.997680e-08  20.679260  12.612233  16.869543  15.638160  19.075156   \n",
              "...            ...        ...        ...        ...        ...        ...   \n",
              "6350  1.356538e-08  17.970945  15.397158  16.427824  16.965998  17.989314   \n",
              "6351  1.837963e-09  16.775219  14.104081  15.905302  16.261985  17.625420   \n",
              "6352  3.850097e-10  18.002724  15.550379  16.384595  15.627693  17.630192   \n",
              "6353  5.765292e-09  17.159134  14.972380  17.922721  16.988440  18.537291   \n",
              "6354  2.486853e-09  15.693887  13.985572  16.124964  16.894055  18.165387   \n",
              "\n",
              "            167        168  \n",
              "0     18.746176  64.114904  \n",
              "1     17.493382  65.144855  \n",
              "2     17.948928  63.113899  \n",
              "3     17.662157  62.585219  \n",
              "4     17.443968  62.328887  \n",
              "...         ...        ...  \n",
              "6350  17.473032  68.055226  \n",
              "6351  16.952061  67.380123  \n",
              "6352  17.117918  68.745353  \n",
              "6353  18.036333  66.545819  \n",
              "6354  16.983736  67.920040  \n",
              "\n",
              "[6355 rows x 169 columns]"
            ],
            "text/html": [
              "\n",
              "  <div id=\"df-a52f9362-e1df-46bd-877a-c6311da2b99e\">\n",
              "    <div class=\"colab-df-container\">\n",
              "      <div>\n",
              "<style scoped>\n",
              "    .dataframe tbody tr th:only-of-type {\n",
              "        vertical-align: middle;\n",
              "    }\n",
              "\n",
              "    .dataframe tbody tr th {\n",
              "        vertical-align: top;\n",
              "    }\n",
              "\n",
              "    .dataframe thead th {\n",
              "        text-align: right;\n",
              "    }\n",
              "</style>\n",
              "<table border=\"1\" class=\"dataframe\">\n",
              "  <thead>\n",
              "    <tr style=\"text-align: right;\">\n",
              "      <th></th>\n",
              "      <th>0</th>\n",
              "      <th>1</th>\n",
              "      <th>2</th>\n",
              "      <th>3</th>\n",
              "      <th>4</th>\n",
              "      <th>5</th>\n",
              "      <th>6</th>\n",
              "      <th>7</th>\n",
              "      <th>8</th>\n",
              "      <th>9</th>\n",
              "      <th>...</th>\n",
              "      <th>159</th>\n",
              "      <th>160</th>\n",
              "      <th>161</th>\n",
              "      <th>162</th>\n",
              "      <th>163</th>\n",
              "      <th>164</th>\n",
              "      <th>165</th>\n",
              "      <th>166</th>\n",
              "      <th>167</th>\n",
              "      <th>168</th>\n",
              "    </tr>\n",
              "  </thead>\n",
              "  <tbody>\n",
              "    <tr>\n",
              "      <th>0</th>\n",
              "      <td>0.085690</td>\n",
              "      <td>0.671934</td>\n",
              "      <td>0.694386</td>\n",
              "      <td>0.672386</td>\n",
              "      <td>0.675260</td>\n",
              "      <td>0.674322</td>\n",
              "      <td>0.579565</td>\n",
              "      <td>0.578604</td>\n",
              "      <td>0.647424</td>\n",
              "      <td>0.650719</td>\n",
              "      <td>...</td>\n",
              "      <td>4.833769e-08</td>\n",
              "      <td>4.774562e-08</td>\n",
              "      <td>4.738036e-08</td>\n",
              "      <td>20.236447</td>\n",
              "      <td>12.717658</td>\n",
              "      <td>17.725536</td>\n",
              "      <td>16.395970</td>\n",
              "      <td>19.851038</td>\n",
              "      <td>18.746176</td>\n",
              "      <td>64.114904</td>\n",
              "    </tr>\n",
              "    <tr>\n",
              "      <th>1</th>\n",
              "      <td>0.078444</td>\n",
              "      <td>0.718596</td>\n",
              "      <td>0.729192</td>\n",
              "      <td>0.653268</td>\n",
              "      <td>0.665332</td>\n",
              "      <td>0.687527</td>\n",
              "      <td>0.602966</td>\n",
              "      <td>0.577669</td>\n",
              "      <td>0.618406</td>\n",
              "      <td>0.681478</td>\n",
              "      <td>...</td>\n",
              "      <td>3.278495e-07</td>\n",
              "      <td>3.231356e-07</td>\n",
              "      <td>3.202182e-07</td>\n",
              "      <td>19.544465</td>\n",
              "      <td>13.033411</td>\n",
              "      <td>16.184696</td>\n",
              "      <td>14.940196</td>\n",
              "      <td>18.819783</td>\n",
              "      <td>17.493382</td>\n",
              "      <td>65.144855</td>\n",
              "    </tr>\n",
              "    <tr>\n",
              "      <th>2</th>\n",
              "      <td>0.071806</td>\n",
              "      <td>0.576044</td>\n",
              "      <td>0.606729</td>\n",
              "      <td>0.631089</td>\n",
              "      <td>0.654011</td>\n",
              "      <td>0.615403</td>\n",
              "      <td>0.571089</td>\n",
              "      <td>0.554196</td>\n",
              "      <td>0.630819</td>\n",
              "      <td>0.666309</td>\n",
              "      <td>...</td>\n",
              "      <td>2.048362e-06</td>\n",
              "      <td>2.016054e-06</td>\n",
              "      <td>1.996248e-06</td>\n",
              "      <td>20.332696</td>\n",
              "      <td>15.057014</td>\n",
              "      <td>17.835584</td>\n",
              "      <td>16.478764</td>\n",
              "      <td>19.712501</td>\n",
              "      <td>17.948928</td>\n",
              "      <td>63.113899</td>\n",
              "    </tr>\n",
              "    <tr>\n",
              "      <th>3</th>\n",
              "      <td>0.069309</td>\n",
              "      <td>0.666179</td>\n",
              "      <td>0.677285</td>\n",
              "      <td>0.701381</td>\n",
              "      <td>0.676417</td>\n",
              "      <td>0.659513</td>\n",
              "      <td>0.630201</td>\n",
              "      <td>0.582889</td>\n",
              "      <td>0.567919</td>\n",
              "      <td>0.673455</td>\n",
              "      <td>...</td>\n",
              "      <td>1.185680e-07</td>\n",
              "      <td>1.169627e-07</td>\n",
              "      <td>1.159695e-07</td>\n",
              "      <td>19.320487</td>\n",
              "      <td>14.540849</td>\n",
              "      <td>16.938015</td>\n",
              "      <td>15.095720</td>\n",
              "      <td>19.876366</td>\n",
              "      <td>17.662157</td>\n",
              "      <td>62.585219</td>\n",
              "    </tr>\n",
              "    <tr>\n",
              "      <th>4</th>\n",
              "      <td>0.069696</td>\n",
              "      <td>0.697295</td>\n",
              "      <td>0.710469</td>\n",
              "      <td>0.657157</td>\n",
              "      <td>0.680874</td>\n",
              "      <td>0.675752</td>\n",
              "      <td>0.616896</td>\n",
              "      <td>0.581852</td>\n",
              "      <td>0.673936</td>\n",
              "      <td>0.778380</td>\n",
              "      <td>...</td>\n",
              "      <td>6.190247e-08</td>\n",
              "      <td>6.069696e-08</td>\n",
              "      <td>5.997680e-08</td>\n",
              "      <td>20.679260</td>\n",
              "      <td>12.612233</td>\n",
              "      <td>16.869543</td>\n",
              "      <td>15.638160</td>\n",
              "      <td>19.075156</td>\n",
              "      <td>17.443968</td>\n",
              "      <td>62.328887</td>\n",
              "    </tr>\n",
              "    <tr>\n",
              "      <th>...</th>\n",
              "      <td>...</td>\n",
              "      <td>...</td>\n",
              "      <td>...</td>\n",
              "      <td>...</td>\n",
              "      <td>...</td>\n",
              "      <td>...</td>\n",
              "      <td>...</td>\n",
              "      <td>...</td>\n",
              "      <td>...</td>\n",
              "      <td>...</td>\n",
              "      <td>...</td>\n",
              "      <td>...</td>\n",
              "      <td>...</td>\n",
              "      <td>...</td>\n",
              "      <td>...</td>\n",
              "      <td>...</td>\n",
              "      <td>...</td>\n",
              "      <td>...</td>\n",
              "      <td>...</td>\n",
              "      <td>...</td>\n",
              "      <td>...</td>\n",
              "    </tr>\n",
              "    <tr>\n",
              "      <th>6350</th>\n",
              "      <td>0.114518</td>\n",
              "      <td>0.587432</td>\n",
              "      <td>0.625285</td>\n",
              "      <td>0.559025</td>\n",
              "      <td>0.530899</td>\n",
              "      <td>0.582621</td>\n",
              "      <td>0.590750</td>\n",
              "      <td>0.696646</td>\n",
              "      <td>0.720174</td>\n",
              "      <td>0.689990</td>\n",
              "      <td>...</td>\n",
              "      <td>1.455467e-08</td>\n",
              "      <td>1.393272e-08</td>\n",
              "      <td>1.356538e-08</td>\n",
              "      <td>17.970945</td>\n",
              "      <td>15.397158</td>\n",
              "      <td>16.427824</td>\n",
              "      <td>16.965998</td>\n",
              "      <td>17.989314</td>\n",
              "      <td>17.473032</td>\n",
              "      <td>68.055226</td>\n",
              "    </tr>\n",
              "    <tr>\n",
              "      <th>6351</th>\n",
              "      <td>0.066478</td>\n",
              "      <td>0.591427</td>\n",
              "      <td>0.572732</td>\n",
              "      <td>0.558411</td>\n",
              "      <td>0.564348</td>\n",
              "      <td>0.614273</td>\n",
              "      <td>0.684132</td>\n",
              "      <td>0.664140</td>\n",
              "      <td>0.684727</td>\n",
              "      <td>0.775005</td>\n",
              "      <td>...</td>\n",
              "      <td>1.854230e-09</td>\n",
              "      <td>1.844318e-09</td>\n",
              "      <td>1.837963e-09</td>\n",
              "      <td>16.775219</td>\n",
              "      <td>14.104081</td>\n",
              "      <td>15.905302</td>\n",
              "      <td>16.261985</td>\n",
              "      <td>17.625420</td>\n",
              "      <td>16.952061</td>\n",
              "      <td>67.380123</td>\n",
              "    </tr>\n",
              "    <tr>\n",
              "      <th>6352</th>\n",
              "      <td>0.087736</td>\n",
              "      <td>0.515751</td>\n",
              "      <td>0.512463</td>\n",
              "      <td>0.514055</td>\n",
              "      <td>0.513658</td>\n",
              "      <td>0.587177</td>\n",
              "      <td>0.629450</td>\n",
              "      <td>0.699794</td>\n",
              "      <td>0.787597</td>\n",
              "      <td>0.812950</td>\n",
              "      <td>...</td>\n",
              "      <td>3.920627e-10</td>\n",
              "      <td>3.877069e-10</td>\n",
              "      <td>3.850097e-10</td>\n",
              "      <td>18.002724</td>\n",
              "      <td>15.550379</td>\n",
              "      <td>16.384595</td>\n",
              "      <td>15.627693</td>\n",
              "      <td>17.630192</td>\n",
              "      <td>17.117918</td>\n",
              "      <td>68.745353</td>\n",
              "    </tr>\n",
              "    <tr>\n",
              "      <th>6353</th>\n",
              "      <td>0.129660</td>\n",
              "      <td>0.434935</td>\n",
              "      <td>0.465356</td>\n",
              "      <td>0.475787</td>\n",
              "      <td>0.471286</td>\n",
              "      <td>0.521731</td>\n",
              "      <td>0.539943</td>\n",
              "      <td>0.611939</td>\n",
              "      <td>0.690907</td>\n",
              "      <td>0.717095</td>\n",
              "      <td>...</td>\n",
              "      <td>5.890358e-09</td>\n",
              "      <td>5.813106e-09</td>\n",
              "      <td>5.765292e-09</td>\n",
              "      <td>17.159134</td>\n",
              "      <td>14.972380</td>\n",
              "      <td>17.922721</td>\n",
              "      <td>16.988440</td>\n",
              "      <td>18.537291</td>\n",
              "      <td>18.036333</td>\n",
              "      <td>66.545819</td>\n",
              "    </tr>\n",
              "    <tr>\n",
              "      <th>6354</th>\n",
              "      <td>0.067657</td>\n",
              "      <td>0.491703</td>\n",
              "      <td>0.494237</td>\n",
              "      <td>0.485405</td>\n",
              "      <td>0.591729</td>\n",
              "      <td>0.703057</td>\n",
              "      <td>0.639543</td>\n",
              "      <td>0.599682</td>\n",
              "      <td>0.604297</td>\n",
              "      <td>0.734770</td>\n",
              "      <td>...</td>\n",
              "      <td>2.350030e-09</td>\n",
              "      <td>2.436720e-09</td>\n",
              "      <td>2.486853e-09</td>\n",
              "      <td>15.693887</td>\n",
              "      <td>13.985572</td>\n",
              "      <td>16.124964</td>\n",
              "      <td>16.894055</td>\n",
              "      <td>18.165387</td>\n",
              "      <td>16.983736</td>\n",
              "      <td>67.920040</td>\n",
              "    </tr>\n",
              "  </tbody>\n",
              "</table>\n",
              "<p>6355 rows × 169 columns</p>\n",
              "</div>\n",
              "      <button class=\"colab-df-convert\" onclick=\"convertToInteractive('df-a52f9362-e1df-46bd-877a-c6311da2b99e')\"\n",
              "              title=\"Convert this dataframe to an interactive table.\"\n",
              "              style=\"display:none;\">\n",
              "        \n",
              "  <svg xmlns=\"http://www.w3.org/2000/svg\" height=\"24px\"viewBox=\"0 0 24 24\"\n",
              "       width=\"24px\">\n",
              "    <path d=\"M0 0h24v24H0V0z\" fill=\"none\"/>\n",
              "    <path d=\"M18.56 5.44l.94 2.06.94-2.06 2.06-.94-2.06-.94-.94-2.06-.94 2.06-2.06.94zm-11 1L8.5 8.5l.94-2.06 2.06-.94-2.06-.94L8.5 2.5l-.94 2.06-2.06.94zm10 10l.94 2.06.94-2.06 2.06-.94-2.06-.94-.94-2.06-.94 2.06-2.06.94z\"/><path d=\"M17.41 7.96l-1.37-1.37c-.4-.4-.92-.59-1.43-.59-.52 0-1.04.2-1.43.59L10.3 9.45l-7.72 7.72c-.78.78-.78 2.05 0 2.83L4 21.41c.39.39.9.59 1.41.59.51 0 1.02-.2 1.41-.59l7.78-7.78 2.81-2.81c.8-.78.8-2.07 0-2.86zM5.41 20L4 18.59l7.72-7.72 1.47 1.35L5.41 20z\"/>\n",
              "  </svg>\n",
              "      </button>\n",
              "      \n",
              "  <style>\n",
              "    .colab-df-container {\n",
              "      display:flex;\n",
              "      flex-wrap:wrap;\n",
              "      gap: 12px;\n",
              "    }\n",
              "\n",
              "    .colab-df-convert {\n",
              "      background-color: #E8F0FE;\n",
              "      border: none;\n",
              "      border-radius: 50%;\n",
              "      cursor: pointer;\n",
              "      display: none;\n",
              "      fill: #1967D2;\n",
              "      height: 32px;\n",
              "      padding: 0 0 0 0;\n",
              "      width: 32px;\n",
              "    }\n",
              "\n",
              "    .colab-df-convert:hover {\n",
              "      background-color: #E2EBFA;\n",
              "      box-shadow: 0px 1px 2px rgba(60, 64, 67, 0.3), 0px 1px 3px 1px rgba(60, 64, 67, 0.15);\n",
              "      fill: #174EA6;\n",
              "    }\n",
              "\n",
              "    [theme=dark] .colab-df-convert {\n",
              "      background-color: #3B4455;\n",
              "      fill: #D2E3FC;\n",
              "    }\n",
              "\n",
              "    [theme=dark] .colab-df-convert:hover {\n",
              "      background-color: #434B5C;\n",
              "      box-shadow: 0px 1px 3px 1px rgba(0, 0, 0, 0.15);\n",
              "      filter: drop-shadow(0px 1px 2px rgba(0, 0, 0, 0.3));\n",
              "      fill: #FFFFFF;\n",
              "    }\n",
              "  </style>\n",
              "\n",
              "      <script>\n",
              "        const buttonEl =\n",
              "          document.querySelector('#df-a52f9362-e1df-46bd-877a-c6311da2b99e button.colab-df-convert');\n",
              "        buttonEl.style.display =\n",
              "          google.colab.kernel.accessAllowed ? 'block' : 'none';\n",
              "\n",
              "        async function convertToInteractive(key) {\n",
              "          const element = document.querySelector('#df-a52f9362-e1df-46bd-877a-c6311da2b99e');\n",
              "          const dataTable =\n",
              "            await google.colab.kernel.invokeFunction('convertToInteractive',\n",
              "                                                     [key], {});\n",
              "          if (!dataTable) return;\n",
              "\n",
              "          const docLinkHtml = 'Like what you see? Visit the ' +\n",
              "            '<a target=\"_blank\" href=https://colab.research.google.com/notebooks/data_table.ipynb>data table notebook</a>'\n",
              "            + ' to learn more about interactive tables.';\n",
              "          element.innerHTML = '';\n",
              "          dataTable['output_type'] = 'display_data';\n",
              "          await google.colab.output.renderOutput(dataTable, element);\n",
              "          const docLink = document.createElement('div');\n",
              "          docLink.innerHTML = docLinkHtml;\n",
              "          element.appendChild(docLink);\n",
              "        }\n",
              "      </script>\n",
              "    </div>\n",
              "  </div>\n",
              "  "
            ]
          },
          "metadata": {}
        }
      ],
      "source": [
        "kmeans_df = AudioData.drop(['Emotion','ID','Phrase','Level','Gender'],axis=1) \n",
        "display(kmeans_df)"
      ]
    },
    {
      "cell_type": "code",
      "execution_count": 15,
      "metadata": {
        "colab": {
          "base_uri": "https://localhost:8080/",
          "height": 243
        },
        "id": "7MJk3JNxk_UT",
        "outputId": "30d46689-19d0-429f-e35b-51a5141839c1"
      },
      "outputs": [
        {
          "output_type": "display_data",
          "data": {
            "text/plain": [
              "array([[ 0.60938291,  1.02323958,  0.98917025, ...,  1.72046874,\n",
              "         0.85965861, -0.56430252],\n",
              "       [ 0.35276035,  1.60502513,  1.39892997, ...,  0.9832774 ,\n",
              "         0.09878012, -0.06233092],\n",
              "       [ 0.11767269, -0.17231152, -0.04276843, ...,  1.62143594,\n",
              "         0.37545412, -1.0521665 ],\n",
              "       ...,\n",
              "       [ 0.68183604, -0.92404735, -1.15252114, ...,  0.13290064,\n",
              "        -0.12925608,  1.69245929],\n",
              "       [ 2.16661973, -1.93165762, -1.70709367, ...,  0.78133892,\n",
              "         0.42853897,  0.62046301],\n",
              "       [-0.02927922, -1.22387205, -1.3670939 , ...,  0.51548355,\n",
              "        -0.21075092,  1.29022293]])"
            ]
          },
          "metadata": {}
        }
      ],
      "source": [
        "kmeans_df_transformed = scaler.fit_transform(kmeans_df)\n",
        "display(kmeans_df_transformed)"
      ]
    },
    {
      "cell_type": "code",
      "execution_count": 16,
      "metadata": {
        "colab": {
          "base_uri": "https://localhost:8080/",
          "height": 299
        },
        "id": "dWVeHKqYvDlq",
        "outputId": "bd5aab41-e07b-4c75-fb8c-1351a00ecfec"
      },
      "outputs": [
        {
          "output_type": "execute_result",
          "data": {
            "text/plain": [
              "         0         1         2         3         4         5         6   \\\n",
              "0 -0.393929 -0.635701  0.159582 -0.212533 -1.492240  2.500306  2.716390   \n",
              "1 -2.499599 -1.052826  1.507742 -0.961677 -1.251942  2.484388  2.063042   \n",
              "2  2.358469  0.673091 -0.355423  1.099284 -1.658744  2.709408  1.520803   \n",
              "3 -0.100417 -0.634760  0.236095 -0.068123 -1.494156  3.255417  2.282923   \n",
              "4 -2.763262 -1.155812  1.523463 -1.185349 -1.319180  1.808227  1.812729   \n",
              "\n",
              "         7         8         9   ...        81        82        83        84  \\\n",
              "0 -3.862157 -0.846121  2.179479  ...  0.061517 -0.185156 -0.227578  0.307914   \n",
              "1 -2.399069 -0.356067  0.911558  ...  0.134768 -0.009537 -0.164349  0.268373   \n",
              "2 -2.966755 -2.222371  2.373722  ... -0.285754 -0.517970 -0.237538 -0.345741   \n",
              "3 -4.281610 -0.093206  1.848345  ...  0.058944 -0.413001  0.169614  0.026653   \n",
              "4 -2.726806 -0.638135  1.358880  ... -0.150312 -0.176873  0.040943  0.410950   \n",
              "\n",
              "         85        86        87        88        89        90  \n",
              "0 -0.324569 -0.084850  0.327532  0.421378 -0.112305  0.367215  \n",
              "1 -0.112114 -0.091992  0.009158  0.209603 -0.047859  0.163936  \n",
              "2  0.038530  0.121237 -0.222806  0.717353  0.182657  0.367843  \n",
              "3 -0.104485  0.339545 -0.147406  0.290888 -0.254410 -0.015822  \n",
              "4 -0.578526 -0.064399  0.088709  0.710659 -0.401767 -0.112871  \n",
              "\n",
              "[5 rows x 91 columns]"
            ],
            "text/html": [
              "\n",
              "  <div id=\"df-6fc02993-a72b-406c-8969-9263f2905322\">\n",
              "    <div class=\"colab-df-container\">\n",
              "      <div>\n",
              "<style scoped>\n",
              "    .dataframe tbody tr th:only-of-type {\n",
              "        vertical-align: middle;\n",
              "    }\n",
              "\n",
              "    .dataframe tbody tr th {\n",
              "        vertical-align: top;\n",
              "    }\n",
              "\n",
              "    .dataframe thead th {\n",
              "        text-align: right;\n",
              "    }\n",
              "</style>\n",
              "<table border=\"1\" class=\"dataframe\">\n",
              "  <thead>\n",
              "    <tr style=\"text-align: right;\">\n",
              "      <th></th>\n",
              "      <th>0</th>\n",
              "      <th>1</th>\n",
              "      <th>2</th>\n",
              "      <th>3</th>\n",
              "      <th>4</th>\n",
              "      <th>5</th>\n",
              "      <th>6</th>\n",
              "      <th>7</th>\n",
              "      <th>8</th>\n",
              "      <th>9</th>\n",
              "      <th>...</th>\n",
              "      <th>81</th>\n",
              "      <th>82</th>\n",
              "      <th>83</th>\n",
              "      <th>84</th>\n",
              "      <th>85</th>\n",
              "      <th>86</th>\n",
              "      <th>87</th>\n",
              "      <th>88</th>\n",
              "      <th>89</th>\n",
              "      <th>90</th>\n",
              "    </tr>\n",
              "  </thead>\n",
              "  <tbody>\n",
              "    <tr>\n",
              "      <th>0</th>\n",
              "      <td>-0.393929</td>\n",
              "      <td>-0.635701</td>\n",
              "      <td>0.159582</td>\n",
              "      <td>-0.212533</td>\n",
              "      <td>-1.492240</td>\n",
              "      <td>2.500306</td>\n",
              "      <td>2.716390</td>\n",
              "      <td>-3.862157</td>\n",
              "      <td>-0.846121</td>\n",
              "      <td>2.179479</td>\n",
              "      <td>...</td>\n",
              "      <td>0.061517</td>\n",
              "      <td>-0.185156</td>\n",
              "      <td>-0.227578</td>\n",
              "      <td>0.307914</td>\n",
              "      <td>-0.324569</td>\n",
              "      <td>-0.084850</td>\n",
              "      <td>0.327532</td>\n",
              "      <td>0.421378</td>\n",
              "      <td>-0.112305</td>\n",
              "      <td>0.367215</td>\n",
              "    </tr>\n",
              "    <tr>\n",
              "      <th>1</th>\n",
              "      <td>-2.499599</td>\n",
              "      <td>-1.052826</td>\n",
              "      <td>1.507742</td>\n",
              "      <td>-0.961677</td>\n",
              "      <td>-1.251942</td>\n",
              "      <td>2.484388</td>\n",
              "      <td>2.063042</td>\n",
              "      <td>-2.399069</td>\n",
              "      <td>-0.356067</td>\n",
              "      <td>0.911558</td>\n",
              "      <td>...</td>\n",
              "      <td>0.134768</td>\n",
              "      <td>-0.009537</td>\n",
              "      <td>-0.164349</td>\n",
              "      <td>0.268373</td>\n",
              "      <td>-0.112114</td>\n",
              "      <td>-0.091992</td>\n",
              "      <td>0.009158</td>\n",
              "      <td>0.209603</td>\n",
              "      <td>-0.047859</td>\n",
              "      <td>0.163936</td>\n",
              "    </tr>\n",
              "    <tr>\n",
              "      <th>2</th>\n",
              "      <td>2.358469</td>\n",
              "      <td>0.673091</td>\n",
              "      <td>-0.355423</td>\n",
              "      <td>1.099284</td>\n",
              "      <td>-1.658744</td>\n",
              "      <td>2.709408</td>\n",
              "      <td>1.520803</td>\n",
              "      <td>-2.966755</td>\n",
              "      <td>-2.222371</td>\n",
              "      <td>2.373722</td>\n",
              "      <td>...</td>\n",
              "      <td>-0.285754</td>\n",
              "      <td>-0.517970</td>\n",
              "      <td>-0.237538</td>\n",
              "      <td>-0.345741</td>\n",
              "      <td>0.038530</td>\n",
              "      <td>0.121237</td>\n",
              "      <td>-0.222806</td>\n",
              "      <td>0.717353</td>\n",
              "      <td>0.182657</td>\n",
              "      <td>0.367843</td>\n",
              "    </tr>\n",
              "    <tr>\n",
              "      <th>3</th>\n",
              "      <td>-0.100417</td>\n",
              "      <td>-0.634760</td>\n",
              "      <td>0.236095</td>\n",
              "      <td>-0.068123</td>\n",
              "      <td>-1.494156</td>\n",
              "      <td>3.255417</td>\n",
              "      <td>2.282923</td>\n",
              "      <td>-4.281610</td>\n",
              "      <td>-0.093206</td>\n",
              "      <td>1.848345</td>\n",
              "      <td>...</td>\n",
              "      <td>0.058944</td>\n",
              "      <td>-0.413001</td>\n",
              "      <td>0.169614</td>\n",
              "      <td>0.026653</td>\n",
              "      <td>-0.104485</td>\n",
              "      <td>0.339545</td>\n",
              "      <td>-0.147406</td>\n",
              "      <td>0.290888</td>\n",
              "      <td>-0.254410</td>\n",
              "      <td>-0.015822</td>\n",
              "    </tr>\n",
              "    <tr>\n",
              "      <th>4</th>\n",
              "      <td>-2.763262</td>\n",
              "      <td>-1.155812</td>\n",
              "      <td>1.523463</td>\n",
              "      <td>-1.185349</td>\n",
              "      <td>-1.319180</td>\n",
              "      <td>1.808227</td>\n",
              "      <td>1.812729</td>\n",
              "      <td>-2.726806</td>\n",
              "      <td>-0.638135</td>\n",
              "      <td>1.358880</td>\n",
              "      <td>...</td>\n",
              "      <td>-0.150312</td>\n",
              "      <td>-0.176873</td>\n",
              "      <td>0.040943</td>\n",
              "      <td>0.410950</td>\n",
              "      <td>-0.578526</td>\n",
              "      <td>-0.064399</td>\n",
              "      <td>0.088709</td>\n",
              "      <td>0.710659</td>\n",
              "      <td>-0.401767</td>\n",
              "      <td>-0.112871</td>\n",
              "    </tr>\n",
              "  </tbody>\n",
              "</table>\n",
              "<p>5 rows × 91 columns</p>\n",
              "</div>\n",
              "      <button class=\"colab-df-convert\" onclick=\"convertToInteractive('df-6fc02993-a72b-406c-8969-9263f2905322')\"\n",
              "              title=\"Convert this dataframe to an interactive table.\"\n",
              "              style=\"display:none;\">\n",
              "        \n",
              "  <svg xmlns=\"http://www.w3.org/2000/svg\" height=\"24px\"viewBox=\"0 0 24 24\"\n",
              "       width=\"24px\">\n",
              "    <path d=\"M0 0h24v24H0V0z\" fill=\"none\"/>\n",
              "    <path d=\"M18.56 5.44l.94 2.06.94-2.06 2.06-.94-2.06-.94-.94-2.06-.94 2.06-2.06.94zm-11 1L8.5 8.5l.94-2.06 2.06-.94-2.06-.94L8.5 2.5l-.94 2.06-2.06.94zm10 10l.94 2.06.94-2.06 2.06-.94-2.06-.94-.94-2.06-.94 2.06-2.06.94z\"/><path d=\"M17.41 7.96l-1.37-1.37c-.4-.4-.92-.59-1.43-.59-.52 0-1.04.2-1.43.59L10.3 9.45l-7.72 7.72c-.78.78-.78 2.05 0 2.83L4 21.41c.39.39.9.59 1.41.59.51 0 1.02-.2 1.41-.59l7.78-7.78 2.81-2.81c.8-.78.8-2.07 0-2.86zM5.41 20L4 18.59l7.72-7.72 1.47 1.35L5.41 20z\"/>\n",
              "  </svg>\n",
              "      </button>\n",
              "      \n",
              "  <style>\n",
              "    .colab-df-container {\n",
              "      display:flex;\n",
              "      flex-wrap:wrap;\n",
              "      gap: 12px;\n",
              "    }\n",
              "\n",
              "    .colab-df-convert {\n",
              "      background-color: #E8F0FE;\n",
              "      border: none;\n",
              "      border-radius: 50%;\n",
              "      cursor: pointer;\n",
              "      display: none;\n",
              "      fill: #1967D2;\n",
              "      height: 32px;\n",
              "      padding: 0 0 0 0;\n",
              "      width: 32px;\n",
              "    }\n",
              "\n",
              "    .colab-df-convert:hover {\n",
              "      background-color: #E2EBFA;\n",
              "      box-shadow: 0px 1px 2px rgba(60, 64, 67, 0.3), 0px 1px 3px 1px rgba(60, 64, 67, 0.15);\n",
              "      fill: #174EA6;\n",
              "    }\n",
              "\n",
              "    [theme=dark] .colab-df-convert {\n",
              "      background-color: #3B4455;\n",
              "      fill: #D2E3FC;\n",
              "    }\n",
              "\n",
              "    [theme=dark] .colab-df-convert:hover {\n",
              "      background-color: #434B5C;\n",
              "      box-shadow: 0px 1px 3px 1px rgba(0, 0, 0, 0.15);\n",
              "      filter: drop-shadow(0px 1px 2px rgba(0, 0, 0, 0.3));\n",
              "      fill: #FFFFFF;\n",
              "    }\n",
              "  </style>\n",
              "\n",
              "      <script>\n",
              "        const buttonEl =\n",
              "          document.querySelector('#df-6fc02993-a72b-406c-8969-9263f2905322 button.colab-df-convert');\n",
              "        buttonEl.style.display =\n",
              "          google.colab.kernel.accessAllowed ? 'block' : 'none';\n",
              "\n",
              "        async function convertToInteractive(key) {\n",
              "          const element = document.querySelector('#df-6fc02993-a72b-406c-8969-9263f2905322');\n",
              "          const dataTable =\n",
              "            await google.colab.kernel.invokeFunction('convertToInteractive',\n",
              "                                                     [key], {});\n",
              "          if (!dataTable) return;\n",
              "\n",
              "          const docLinkHtml = 'Like what you see? Visit the ' +\n",
              "            '<a target=\"_blank\" href=https://colab.research.google.com/notebooks/data_table.ipynb>data table notebook</a>'\n",
              "            + ' to learn more about interactive tables.';\n",
              "          element.innerHTML = '';\n",
              "          dataTable['output_type'] = 'display_data';\n",
              "          await google.colab.output.renderOutput(dataTable, element);\n",
              "          const docLink = document.createElement('div');\n",
              "          docLink.innerHTML = docLinkHtml;\n",
              "          element.appendChild(docLink);\n",
              "        }\n",
              "      </script>\n",
              "    </div>\n",
              "  </div>\n",
              "  "
            ]
          },
          "metadata": {},
          "execution_count": 16
        }
      ],
      "source": [
        "pca = PCA(n_components=91) #To match with kNN specifications\n",
        "principalComponents = pca.fit_transform(kmeans_df_transformed)\n",
        "\n",
        "pca_df = pd.DataFrame(data = principalComponents)\n",
        "pca_df.head()\n",
        "#Reference: https://machinelearningknowledge.ai/tutorial-for-k-means-clustering-in-python-sklearn/#:~:text=Step%2D1%3ATo%20decide%20the,new%20centroid%20for%20every%20cluster"
      ]
    },
    {
      "cell_type": "code",
      "execution_count": 17,
      "metadata": {
        "colab": {
          "base_uri": "https://localhost:8080/",
          "height": 206
        },
        "id": "YSSfXrCs0rjN",
        "outputId": "e633bba0-6a22-44a7-cbb7-43c9fca64a83"
      },
      "outputs": [
        {
          "output_type": "execute_result",
          "data": {
            "text/plain": [
              "   principal component 1  principal component 2\n",
              "0              -0.393929              -0.635674\n",
              "1              -2.499599              -1.052811\n",
              "2               2.358469               0.673113\n",
              "3              -0.100417              -0.634743\n",
              "4              -2.763262              -1.155794"
            ],
            "text/html": [
              "\n",
              "  <div id=\"df-1b9ec923-cfc2-4b4a-bcf3-7eabd6b82e85\">\n",
              "    <div class=\"colab-df-container\">\n",
              "      <div>\n",
              "<style scoped>\n",
              "    .dataframe tbody tr th:only-of-type {\n",
              "        vertical-align: middle;\n",
              "    }\n",
              "\n",
              "    .dataframe tbody tr th {\n",
              "        vertical-align: top;\n",
              "    }\n",
              "\n",
              "    .dataframe thead th {\n",
              "        text-align: right;\n",
              "    }\n",
              "</style>\n",
              "<table border=\"1\" class=\"dataframe\">\n",
              "  <thead>\n",
              "    <tr style=\"text-align: right;\">\n",
              "      <th></th>\n",
              "      <th>principal component 1</th>\n",
              "      <th>principal component 2</th>\n",
              "    </tr>\n",
              "  </thead>\n",
              "  <tbody>\n",
              "    <tr>\n",
              "      <th>0</th>\n",
              "      <td>-0.393929</td>\n",
              "      <td>-0.635674</td>\n",
              "    </tr>\n",
              "    <tr>\n",
              "      <th>1</th>\n",
              "      <td>-2.499599</td>\n",
              "      <td>-1.052811</td>\n",
              "    </tr>\n",
              "    <tr>\n",
              "      <th>2</th>\n",
              "      <td>2.358469</td>\n",
              "      <td>0.673113</td>\n",
              "    </tr>\n",
              "    <tr>\n",
              "      <th>3</th>\n",
              "      <td>-0.100417</td>\n",
              "      <td>-0.634743</td>\n",
              "    </tr>\n",
              "    <tr>\n",
              "      <th>4</th>\n",
              "      <td>-2.763262</td>\n",
              "      <td>-1.155794</td>\n",
              "    </tr>\n",
              "  </tbody>\n",
              "</table>\n",
              "</div>\n",
              "      <button class=\"colab-df-convert\" onclick=\"convertToInteractive('df-1b9ec923-cfc2-4b4a-bcf3-7eabd6b82e85')\"\n",
              "              title=\"Convert this dataframe to an interactive table.\"\n",
              "              style=\"display:none;\">\n",
              "        \n",
              "  <svg xmlns=\"http://www.w3.org/2000/svg\" height=\"24px\"viewBox=\"0 0 24 24\"\n",
              "       width=\"24px\">\n",
              "    <path d=\"M0 0h24v24H0V0z\" fill=\"none\"/>\n",
              "    <path d=\"M18.56 5.44l.94 2.06.94-2.06 2.06-.94-2.06-.94-.94-2.06-.94 2.06-2.06.94zm-11 1L8.5 8.5l.94-2.06 2.06-.94-2.06-.94L8.5 2.5l-.94 2.06-2.06.94zm10 10l.94 2.06.94-2.06 2.06-.94-2.06-.94-.94-2.06-.94 2.06-2.06.94z\"/><path d=\"M17.41 7.96l-1.37-1.37c-.4-.4-.92-.59-1.43-.59-.52 0-1.04.2-1.43.59L10.3 9.45l-7.72 7.72c-.78.78-.78 2.05 0 2.83L4 21.41c.39.39.9.59 1.41.59.51 0 1.02-.2 1.41-.59l7.78-7.78 2.81-2.81c.8-.78.8-2.07 0-2.86zM5.41 20L4 18.59l7.72-7.72 1.47 1.35L5.41 20z\"/>\n",
              "  </svg>\n",
              "      </button>\n",
              "      \n",
              "  <style>\n",
              "    .colab-df-container {\n",
              "      display:flex;\n",
              "      flex-wrap:wrap;\n",
              "      gap: 12px;\n",
              "    }\n",
              "\n",
              "    .colab-df-convert {\n",
              "      background-color: #E8F0FE;\n",
              "      border: none;\n",
              "      border-radius: 50%;\n",
              "      cursor: pointer;\n",
              "      display: none;\n",
              "      fill: #1967D2;\n",
              "      height: 32px;\n",
              "      padding: 0 0 0 0;\n",
              "      width: 32px;\n",
              "    }\n",
              "\n",
              "    .colab-df-convert:hover {\n",
              "      background-color: #E2EBFA;\n",
              "      box-shadow: 0px 1px 2px rgba(60, 64, 67, 0.3), 0px 1px 3px 1px rgba(60, 64, 67, 0.15);\n",
              "      fill: #174EA6;\n",
              "    }\n",
              "\n",
              "    [theme=dark] .colab-df-convert {\n",
              "      background-color: #3B4455;\n",
              "      fill: #D2E3FC;\n",
              "    }\n",
              "\n",
              "    [theme=dark] .colab-df-convert:hover {\n",
              "      background-color: #434B5C;\n",
              "      box-shadow: 0px 1px 3px 1px rgba(0, 0, 0, 0.15);\n",
              "      filter: drop-shadow(0px 1px 2px rgba(0, 0, 0, 0.3));\n",
              "      fill: #FFFFFF;\n",
              "    }\n",
              "  </style>\n",
              "\n",
              "      <script>\n",
              "        const buttonEl =\n",
              "          document.querySelector('#df-1b9ec923-cfc2-4b4a-bcf3-7eabd6b82e85 button.colab-df-convert');\n",
              "        buttonEl.style.display =\n",
              "          google.colab.kernel.accessAllowed ? 'block' : 'none';\n",
              "\n",
              "        async function convertToInteractive(key) {\n",
              "          const element = document.querySelector('#df-1b9ec923-cfc2-4b4a-bcf3-7eabd6b82e85');\n",
              "          const dataTable =\n",
              "            await google.colab.kernel.invokeFunction('convertToInteractive',\n",
              "                                                     [key], {});\n",
              "          if (!dataTable) return;\n",
              "\n",
              "          const docLinkHtml = 'Like what you see? Visit the ' +\n",
              "            '<a target=\"_blank\" href=https://colab.research.google.com/notebooks/data_table.ipynb>data table notebook</a>'\n",
              "            + ' to learn more about interactive tables.';\n",
              "          element.innerHTML = '';\n",
              "          dataTable['output_type'] = 'display_data';\n",
              "          await google.colab.output.renderOutput(dataTable, element);\n",
              "          const docLink = document.createElement('div');\n",
              "          docLink.innerHTML = docLinkHtml;\n",
              "          element.appendChild(docLink);\n",
              "        }\n",
              "      </script>\n",
              "    </div>\n",
              "  </div>\n",
              "  "
            ]
          },
          "metadata": {},
          "execution_count": 17
        }
      ],
      "source": [
        "pca = PCA(n_components=2) \n",
        "principalComponents = pca.fit_transform(kmeans_df_transformed)\n",
        "\n",
        "pca_df2 = pd.DataFrame(data = principalComponents, columns = ['principal component 1', 'principal component 2'])\n",
        "pca_df2.head()"
      ]
    },
    {
      "cell_type": "markdown",
      "metadata": {
        "id": "upIBLmlVwm_v"
      },
      "source": [
        "### Elbow Method"
      ]
    },
    {
      "cell_type": "markdown",
      "metadata": {
        "id": "dNFsaIY108ua"
      },
      "source": [
        "This set of calculations is done with the number of principal components equivaluent to kNN."
      ]
    },
    {
      "cell_type": "code",
      "execution_count": null,
      "metadata": {
        "id": "hJI_fnzbjVH5"
      },
      "outputs": [],
      "source": [
        "warnings.simplefilter(action='ignore', category=FutureWarning)\n",
        "\n",
        "K=np.arange(1, 73,2) #To avoid having an even number of neighbours\n",
        "wss = []\n",
        "for k in K:\n",
        "    kmeans=cluster.KMeans(n_clusters=k)\n",
        "    kmeans=kmeans.fit(pca_df)\n",
        "    wss_iter = kmeans.inertia_\n",
        "    wss.append(wss_iter)\n",
        "\n",
        "#Reference: https://scikit-learn.org/stable/modules/generated/sklearn.cluster.KMeans.html\n",
        "#Reference: https://stackoverflow.com/questions/15777951/how-to-suppress-pandas-future-warning"
      ]
    },
    {
      "cell_type": "code",
      "execution_count": null,
      "metadata": {
        "colab": {
          "base_uri": "https://localhost:8080/",
          "height": 307
        },
        "id": "TlSSy39slNGP",
        "outputId": "22bc6628-1fcd-48ed-fcea-e454bbd3587d"
      },
      "outputs": [
        {
          "data": {
            "text/plain": [
              "[<matplotlib.lines.Line2D at 0x7f4fb71dcbe0>]"
            ]
          },
          "execution_count": 41,
          "metadata": {},
          "output_type": "execute_result"
        },
        {
          "data": {
            "image/png": "[encoded data removed]",
            "text/plain": [
              "<Figure size 432x288 with 1 Axes>"
            ]
          },
          "metadata": {},
          "output_type": "display_data"
        }
      ],
      "source": [
        "plt.xlabel('K')\n",
        "plt.ylabel('Within-Cluster-Sum of Squared Errors (WCSS)')\n",
        "plt.plot(K,wss)"
      ]
    },
    {
      "cell_type": "markdown",
      "source": [
        "It appears the elbow is around K=11. "
      ],
      "metadata": {
        "id": "Ji_tyuZKEzuW"
      }
    },
    {
      "cell_type": "code",
      "execution_count": 18,
      "metadata": {
        "id": "z-DYzsq30Hw4"
      },
      "outputs": [],
      "source": [
        "warnings.simplefilter(action='ignore', category=FutureWarning)\n",
        "\n",
        "kmeans = cluster.KMeans(n_clusters=11)\n",
        "kmeans = kmeans.fit(pca_df)"
      ]
    },
    {
      "cell_type": "code",
      "source": [
        "H_kM1 = hamming_loss(AudioData['Emotion'],kmeans.labels_)\n",
        "AccScore_kM1 = accuracy_score(AudioData['Emotion'],kmeans.labels_)\n",
        "MSE_kM1 = mean_squared_error(AudioData['Emotion'],kmeans.labels_)\n",
        "print(\"The Hamming Loss is: \" + str(round(H_kM1,4))) #Rounding the output to 4 decimal places for easier presentation\n",
        "print(\"The accuracy score is: \" + str(round(AccScore_kM1*100,2)))\n",
        "print(\"THE MSE is: \" + str(round(MSE_kM1,4)))"
      ],
      "metadata": {
        "colab": {
          "base_uri": "https://localhost:8080/"
        },
        "id": "gMVzn8rTJa70",
        "outputId": "603af7d3-810d-418a-e0b4-aa24b5b532b9"
      },
      "execution_count": 19,
      "outputs": [
        {
          "output_type": "stream",
          "name": "stdout",
          "text": [
            "The Hamming Loss is: 0.8121\n",
            "The accuracy score is: 18.79\n",
            "THE MSE is: 8.8804\n"
          ]
        }
      ]
    },
    {
      "cell_type": "markdown",
      "metadata": {
        "id": "scrEkSJb1Ef4"
      },
      "source": [
        "This set of calculations is done with 2 principal components, for ease of visualization."
      ]
    },
    {
      "cell_type": "code",
      "execution_count": null,
      "metadata": {
        "id": "-UY_4AmP06vC"
      },
      "outputs": [],
      "source": [
        "warnings.simplefilter(action='ignore', category=FutureWarning)\n",
        "\n",
        "K=np.arange(1, 73,2) #To avoid having an even number of neighbours\n",
        "wss = []\n",
        "for k in K:\n",
        "    kmeans=cluster.KMeans(n_clusters=k)\n",
        "    kmeans=kmeans.fit(pca_df2)\n",
        "    wss_iter = kmeans.inertia_\n",
        "    wss.append(wss_iter)"
      ]
    },
    {
      "cell_type": "code",
      "execution_count": null,
      "metadata": {
        "colab": {
          "base_uri": "https://localhost:8080/",
          "height": 296
        },
        "id": "UU_BxFoK06vD",
        "outputId": "8d27bc0d-6880-4524-a036-b3fd26060ccf"
      },
      "outputs": [
        {
          "data": {
            "text/plain": [
              "[<matplotlib.lines.Line2D at 0x7f4fb7143be0>]"
            ]
          },
          "execution_count": 45,
          "metadata": {},
          "output_type": "execute_result"
        },
        {
          "data": {
            "image/png": "[encoded data removed]",
            "text/plain": [
              "<Figure size 432x288 with 1 Axes>"
            ]
          },
          "metadata": {},
          "output_type": "display_data"
        }
      ],
      "source": [
        "plt.xlabel('K')\n",
        "plt.ylabel('Within-Cluster-Sum of Squared Errors (WCSS) for 2 PCs')\n",
        "plt.plot(K,wss)"
      ]
    },
    {
      "cell_type": "markdown",
      "source": [
        "It appears the elbow is at K=9."
      ],
      "metadata": {
        "id": "xQh4pEM8FFcM"
      }
    },
    {
      "cell_type": "code",
      "execution_count": 20,
      "metadata": {
        "id": "6xd1Qu6306vD"
      },
      "outputs": [],
      "source": [
        "warnings.simplefilter(action='ignore', category=FutureWarning)\n",
        "\n",
        "kmeans = cluster.KMeans(n_clusters=9)\n",
        "kmeans = kmeans.fit(pca_df2)"
      ]
    },
    {
      "cell_type": "code",
      "source": [
        "H_kM2 = hamming_loss(AudioData['Emotion'],kmeans.labels_)\n",
        "AccScore_kM2 = accuracy_score(AudioData['Emotion'],kmeans.labels_)\n",
        "MSE_kM2 = mean_squared_error(AudioData['Emotion'],kmeans.labels_)\n",
        "print(\"The Hamming Loss is: \" + str(round(H_kM2,4))) #Rounding the output to 4 decimal places for easier presentation\n",
        "print(\"The accuracy score is: \" + str(round(AccScore_kM2*100,2)))\n",
        "print(\"THE MSE is: \" + str(round(MSE_kM2,4)))"
      ],
      "metadata": {
        "colab": {
          "base_uri": "https://localhost:8080/"
        },
        "id": "7XdPPUHOJ2Vk",
        "outputId": "b42f38bc-64f0-4bda-d3f0-51af90c0a36a"
      },
      "execution_count": 21,
      "outputs": [
        {
          "output_type": "stream",
          "name": "stdout",
          "text": [
            "The Hamming Loss is: 0.8318\n",
            "The accuracy score is: 16.82\n",
            "THE MSE is: 12.0323\n"
          ]
        }
      ]
    },
    {
      "cell_type": "code",
      "source": [
        "pca_df2['Clusters'] = kmeans.labels_\n",
        "display(pca_df2)"
      ],
      "metadata": {
        "colab": {
          "base_uri": "https://localhost:8080/",
          "height": 423
        },
        "id": "4EiOM9WCGsBk",
        "outputId": "87972347-8af6-4683-a071-905a8b24797f"
      },
      "execution_count": null,
      "outputs": [
        {
          "output_type": "display_data",
          "data": {
            "text/plain": [
              "      principal component 1  principal component 2  Clusters\n",
              "0                 -0.393929              -0.635656         0\n",
              "1                 -2.499599              -1.052783         1\n",
              "2                  2.358469               0.673154         5\n",
              "3                 -0.100417              -0.634700         0\n",
              "4                 -2.763262              -1.155769         1\n",
              "...                     ...                    ...       ...\n",
              "6350              -1.671247              -1.135957         1\n",
              "6351              -3.154187              -1.607842         1\n",
              "6352              -2.568002              -2.026343         1\n",
              "6353              -1.375727              -0.732463         0\n",
              "6354              -2.847910              -1.220226         1\n",
              "\n",
              "[6355 rows x 3 columns]"
            ],
            "text/html": [
              "\n",
              "  <div id=\"df-a88caa80-48f3-4adc-97ff-3e77dbd4cade\">\n",
              "    <div class=\"colab-df-container\">\n",
              "      <div>\n",
              "<style scoped>\n",
              "    .dataframe tbody tr th:only-of-type {\n",
              "        vertical-align: middle;\n",
              "    }\n",
              "\n",
              "    .dataframe tbody tr th {\n",
              "        vertical-align: top;\n",
              "    }\n",
              "\n",
              "    .dataframe thead th {\n",
              "        text-align: right;\n",
              "    }\n",
              "</style>\n",
              "<table border=\"1\" class=\"dataframe\">\n",
              "  <thead>\n",
              "    <tr style=\"text-align: right;\">\n",
              "      <th></th>\n",
              "      <th>principal component 1</th>\n",
              "      <th>principal component 2</th>\n",
              "      <th>Clusters</th>\n",
              "    </tr>\n",
              "  </thead>\n",
              "  <tbody>\n",
              "    <tr>\n",
              "      <th>0</th>\n",
              "      <td>-0.393929</td>\n",
              "      <td>-0.635656</td>\n",
              "      <td>0</td>\n",
              "    </tr>\n",
              "    <tr>\n",
              "      <th>1</th>\n",
              "      <td>-2.499599</td>\n",
              "      <td>-1.052783</td>\n",
              "      <td>1</td>\n",
              "    </tr>\n",
              "    <tr>\n",
              "      <th>2</th>\n",
              "      <td>2.358469</td>\n",
              "      <td>0.673154</td>\n",
              "      <td>5</td>\n",
              "    </tr>\n",
              "    <tr>\n",
              "      <th>3</th>\n",
              "      <td>-0.100417</td>\n",
              "      <td>-0.634700</td>\n",
              "      <td>0</td>\n",
              "    </tr>\n",
              "    <tr>\n",
              "      <th>4</th>\n",
              "      <td>-2.763262</td>\n",
              "      <td>-1.155769</td>\n",
              "      <td>1</td>\n",
              "    </tr>\n",
              "    <tr>\n",
              "      <th>...</th>\n",
              "      <td>...</td>\n",
              "      <td>...</td>\n",
              "      <td>...</td>\n",
              "    </tr>\n",
              "    <tr>\n",
              "      <th>6350</th>\n",
              "      <td>-1.671247</td>\n",
              "      <td>-1.135957</td>\n",
              "      <td>1</td>\n",
              "    </tr>\n",
              "    <tr>\n",
              "      <th>6351</th>\n",
              "      <td>-3.154187</td>\n",
              "      <td>-1.607842</td>\n",
              "      <td>1</td>\n",
              "    </tr>\n",
              "    <tr>\n",
              "      <th>6352</th>\n",
              "      <td>-2.568002</td>\n",
              "      <td>-2.026343</td>\n",
              "      <td>1</td>\n",
              "    </tr>\n",
              "    <tr>\n",
              "      <th>6353</th>\n",
              "      <td>-1.375727</td>\n",
              "      <td>-0.732463</td>\n",
              "      <td>0</td>\n",
              "    </tr>\n",
              "    <tr>\n",
              "      <th>6354</th>\n",
              "      <td>-2.847910</td>\n",
              "      <td>-1.220226</td>\n",
              "      <td>1</td>\n",
              "    </tr>\n",
              "  </tbody>\n",
              "</table>\n",
              "<p>6355 rows × 3 columns</p>\n",
              "</div>\n",
              "      <button class=\"colab-df-convert\" onclick=\"convertToInteractive('df-a88caa80-48f3-4adc-97ff-3e77dbd4cade')\"\n",
              "              title=\"Convert this dataframe to an interactive table.\"\n",
              "              style=\"display:none;\">\n",
              "        \n",
              "  <svg xmlns=\"http://www.w3.org/2000/svg\" height=\"24px\"viewBox=\"0 0 24 24\"\n",
              "       width=\"24px\">\n",
              "    <path d=\"M0 0h24v24H0V0z\" fill=\"none\"/>\n",
              "    <path d=\"M18.56 5.44l.94 2.06.94-2.06 2.06-.94-2.06-.94-.94-2.06-.94 2.06-2.06.94zm-11 1L8.5 8.5l.94-2.06 2.06-.94-2.06-.94L8.5 2.5l-.94 2.06-2.06.94zm10 10l.94 2.06.94-2.06 2.06-.94-2.06-.94-.94-2.06-.94 2.06-2.06.94z\"/><path d=\"M17.41 7.96l-1.37-1.37c-.4-.4-.92-.59-1.43-.59-.52 0-1.04.2-1.43.59L10.3 9.45l-7.72 7.72c-.78.78-.78 2.05 0 2.83L4 21.41c.39.39.9.59 1.41.59.51 0 1.02-.2 1.41-.59l7.78-7.78 2.81-2.81c.8-.78.8-2.07 0-2.86zM5.41 20L4 18.59l7.72-7.72 1.47 1.35L5.41 20z\"/>\n",
              "  </svg>\n",
              "      </button>\n",
              "      \n",
              "  <style>\n",
              "    .colab-df-container {\n",
              "      display:flex;\n",
              "      flex-wrap:wrap;\n",
              "      gap: 12px;\n",
              "    }\n",
              "\n",
              "    .colab-df-convert {\n",
              "      background-color: #E8F0FE;\n",
              "      border: none;\n",
              "      border-radius: 50%;\n",
              "      cursor: pointer;\n",
              "      display: none;\n",
              "      fill: #1967D2;\n",
              "      height: 32px;\n",
              "      padding: 0 0 0 0;\n",
              "      width: 32px;\n",
              "    }\n",
              "\n",
              "    .colab-df-convert:hover {\n",
              "      background-color: #E2EBFA;\n",
              "      box-shadow: 0px 1px 2px rgba(60, 64, 67, 0.3), 0px 1px 3px 1px rgba(60, 64, 67, 0.15);\n",
              "      fill: #174EA6;\n",
              "    }\n",
              "\n",
              "    [theme=dark] .colab-df-convert {\n",
              "      background-color: #3B4455;\n",
              "      fill: #D2E3FC;\n",
              "    }\n",
              "\n",
              "    [theme=dark] .colab-df-convert:hover {\n",
              "      background-color: #434B5C;\n",
              "      box-shadow: 0px 1px 3px 1px rgba(0, 0, 0, 0.15);\n",
              "      filter: drop-shadow(0px 1px 2px rgba(0, 0, 0, 0.3));\n",
              "      fill: #FFFFFF;\n",
              "    }\n",
              "  </style>\n",
              "\n",
              "      <script>\n",
              "        const buttonEl =\n",
              "          document.querySelector('#df-a88caa80-48f3-4adc-97ff-3e77dbd4cade button.colab-df-convert');\n",
              "        buttonEl.style.display =\n",
              "          google.colab.kernel.accessAllowed ? 'block' : 'none';\n",
              "\n",
              "        async function convertToInteractive(key) {\n",
              "          const element = document.querySelector('#df-a88caa80-48f3-4adc-97ff-3e77dbd4cade');\n",
              "          const dataTable =\n",
              "            await google.colab.kernel.invokeFunction('convertToInteractive',\n",
              "                                                     [key], {});\n",
              "          if (!dataTable) return;\n",
              "\n",
              "          const docLinkHtml = 'Like what you see? Visit the ' +\n",
              "            '<a target=\"_blank\" href=https://colab.research.google.com/notebooks/data_table.ipynb>data table notebook</a>'\n",
              "            + ' to learn more about interactive tables.';\n",
              "          element.innerHTML = '';\n",
              "          dataTable['output_type'] = 'display_data';\n",
              "          await google.colab.output.renderOutput(dataTable, element);\n",
              "          const docLink = document.createElement('div');\n",
              "          docLink.innerHTML = docLinkHtml;\n",
              "          element.appendChild(docLink);\n",
              "        }\n",
              "      </script>\n",
              "    </div>\n",
              "  </div>\n",
              "  "
            ]
          },
          "metadata": {}
        }
      ]
    },
    {
      "cell_type": "code",
      "source": [
        "np.unique(pca_df2['Clusters'])"
      ],
      "metadata": {
        "colab": {
          "base_uri": "https://localhost:8080/"
        },
        "id": "sWbIXrq5Gw9_",
        "outputId": "09994976-75a0-4a06-c3cb-732614c3065b"
      },
      "execution_count": null,
      "outputs": [
        {
          "output_type": "execute_result",
          "data": {
            "text/plain": [
              "array([0, 1, 2, 3, 4, 5, 6, 7, 8], dtype=int32)"
            ]
          },
          "metadata": {},
          "execution_count": 30
        }
      ]
    },
    {
      "cell_type": "code",
      "source": [
        "pca_df2['Clusters'].value_counts()"
      ],
      "metadata": {
        "colab": {
          "base_uri": "https://localhost:8080/"
        },
        "id": "HiSMIFXfFGdh",
        "outputId": "aef4e2d5-342c-441f-991d-eda6a5eae536"
      },
      "execution_count": null,
      "outputs": [
        {
          "output_type": "execute_result",
          "data": {
            "text/plain": [
              "1    2684\n",
              "0    2236\n",
              "5     801\n",
              "3     336\n",
              "6     152\n",
              "8      54\n",
              "2      54\n",
              "7      26\n",
              "4      12\n",
              "Name: Clusters, dtype: int64"
            ]
          },
          "metadata": {},
          "execution_count": 31
        }
      ]
    },
    {
      "cell_type": "code",
      "execution_count": null,
      "metadata": {
        "colab": {
          "base_uri": "https://localhost:8080/",
          "height": 466
        },
        "id": "vhSZ9VOJ06vE",
        "outputId": "44359701-234c-4331-ffac-46343226d30c"
      },
      "outputs": [
        {
          "output_type": "execute_result",
          "data": {
            "text/plain": [
              "<Axes: xlabel='principal component 1', ylabel='principal component 2'>"
            ]
          },
          "metadata": {},
          "execution_count": 32
        },
        {
          "output_type": "display_data",
          "data": {
            "text/plain": [
              "<Figure size 640x480 with 1 Axes>"
            ],
            "image/png": "[encoded data removed]"
          },
          "metadata": {}
        }
      ],
      "source": [
        "sns.scatterplot(x=\"principal component 1\", y=\"principal component 2\", hue = \"Clusters\",  data=pca_df2, palette='viridis')"
      ]
    },
    {
      "cell_type": "markdown",
      "metadata": {
        "id": "fxjbjxlSwpFq"
      },
      "source": [
        "### Silhouette Method"
      ]
    },
    {
      "cell_type": "markdown",
      "metadata": {
        "id": "pP0UIxA71eLN"
      },
      "source": [
        "This set of calculations is done with the number of principal components equivaluent to kNN."
      ]
    },
    {
      "cell_type": "code",
      "execution_count": null,
      "metadata": {
        "colab": {
          "base_uri": "https://localhost:8080/"
        },
        "id": "p4I-HEC3wokQ",
        "outputId": "35e86514-31f4-4404-b133-9d0fda59369d"
      },
      "outputs": [
        {
          "name": "stdout",
          "output_type": "stream",
          "text": [
            "{2: 0.6985321778130188, 4: 0.1948013109948024, 6: 0.1410690396869771, 8: 0.11436562240844074, 10: 0.07604031580507374, 12: 0.06535459599503615, 14: 0.058803190361448196, 16: 0.0573480376447993, 18: 0.0625571159013468, 20: 0.054481109109319935, 22: 0.05420545562457902, 24: 0.0515693644126555, 26: 0.0601970603596073, 28: 0.05686164589618455, 30: 0.04165413384125227, 32: 0.036400573328153246, 34: 0.031927690791238514, 36: 0.055186032783498706, 38: 0.030421544510831355, 40: 0.049369870075670716, 42: 0.053048662132129096, 44: 0.033257836477240024, 46: 0.0281025854966809, 48: 0.02664264050086953, 50: 0.028469855046393214, 52: 0.0322362853530578, 54: 0.037014914848336467, 56: 0.030015324339724692, 58: 0.04591562680860136, 60: 0.027665120022693127, 62: 0.0353760375241255, 64: 0.02877152588594157, 66: 0.029845818246782882, 68: 0.03256284112733752, 70: 0.03099589278653969, 72: 0.03390660450019532}\n"
          ]
        }
      ],
      "source": [
        "warnings.simplefilter(action='ignore', category=FutureWarning)\n",
        "\n",
        "dicts = {}\n",
        "\n",
        "for i in range(2,73,2):\n",
        "  labels=cluster.KMeans(n_clusters=i,random_state=8).fit(pca_df).labels_\n",
        "  score = metrics.silhouette_score(pca_df,labels,metric=\"euclidean\",random_state=8)\n",
        "  dicts[i] = score\n",
        "\n",
        "print(dicts)\n",
        "\n",
        "#Reference: https://scikit-learn.org/stable/modules/generated/sklearn.metrics.silhouette_score.html"
      ]
    },
    {
      "cell_type": "code",
      "execution_count": null,
      "metadata": {
        "colab": {
          "base_uri": "https://localhost:8080/"
        },
        "id": "ARhOXUhDzwnI",
        "outputId": "bee5dd5b-1f3c-4f2c-ae27-41783a255e21"
      },
      "outputs": [
        {
          "name": "stdout",
          "output_type": "stream",
          "text": [
            "0.6985321778130188\n"
          ]
        }
      ],
      "source": [
        "best_silvalue = max(dicts.values())\n",
        "print(best_silvalue)"
      ]
    },
    {
      "cell_type": "code",
      "execution_count": null,
      "metadata": {
        "colab": {
          "base_uri": "https://localhost:8080/"
        },
        "id": "C3wfLVNVyCpH",
        "outputId": "fd37d39e-55a2-4cd2-80c2-451c7dd093a5"
      },
      "outputs": [
        {
          "name": "stdout",
          "output_type": "stream",
          "text": [
            "[2]\n"
          ]
        }
      ],
      "source": [
        "keys = [k for k, v in dicts.items() if v == best_silvalue]\n",
        "print(keys)"
      ]
    },
    {
      "cell_type": "code",
      "execution_count": 22,
      "metadata": {
        "id": "E5ZnRPTl1o4E"
      },
      "outputs": [],
      "source": [
        "kmeans = cluster.KMeans(n_clusters=2)\n",
        "kmeans = kmeans.fit(pca_df)"
      ]
    },
    {
      "cell_type": "code",
      "source": [
        "H_kM3 = hamming_loss(AudioData['Emotion'],kmeans.labels_)\n",
        "AccScore_kM3 = accuracy_score(AudioData['Emotion'],kmeans.labels_)\n",
        "MSE_kM3 = mean_squared_error(AudioData['Emotion'],kmeans.labels_)\n",
        "print(\"The Hamming Loss is: \" + str(round(H_kM3,4))) #Rounding the output to 4 decimal places for easier presentation\n",
        "print(\"The accuracy score is: \" + str(round(AccScore_kM3*100,2)))\n",
        "print(\"THE MSE is: \" + str(round(MSE_kM3,4)))"
      ],
      "metadata": {
        "colab": {
          "base_uri": "https://localhost:8080/"
        },
        "id": "ImFzfQuPKR2x",
        "outputId": "05e1e7fe-89bd-414e-fddd-da006264aa24"
      },
      "execution_count": 23,
      "outputs": [
        {
          "output_type": "stream",
          "name": "stdout",
          "text": [
            "The Hamming Loss is: 0.7608\n",
            "The accuracy score is: 23.92\n",
            "THE MSE is: 3.0022\n"
          ]
        }
      ]
    },
    {
      "cell_type": "markdown",
      "metadata": {
        "id": "i5prJXBF1laF"
      },
      "source": [
        "This set of calculations is done with 2 principal components, for ease of visualization."
      ]
    },
    {
      "cell_type": "code",
      "execution_count": null,
      "metadata": {
        "colab": {
          "base_uri": "https://localhost:8080/"
        },
        "id": "dAp8hYLM1t5Z",
        "outputId": "4916f313-c9e6-4280-f3af-f9010808362a"
      },
      "outputs": [
        {
          "name": "stdout",
          "output_type": "stream",
          "text": [
            "{2: 0.82144963595753, 4: 0.743445438340418, 6: 0.47896778732381834, 8: 0.47251131015483977, 10: 0.4311159925238126, 12: 0.4142965274051637, 14: 0.4200655025648136, 16: 0.41317475280759886, 18: 0.3916877650644152, 20: 0.3931209485786409, 22: 0.3782561562372735, 24: 0.39688925376131906, 26: 0.3748968502548843, 28: 0.3670125041612622, 30: 0.36521452545914157, 32: 0.3609083709273042, 34: 0.3547849394414034, 36: 0.3682871701195878, 38: 0.3382857475982259, 40: 0.3660951395893152, 42: 0.3362459621778222, 44: 0.34818458324755613, 46: 0.3601138493863791, 48: 0.3624004787902487, 50: 0.35289070391684896, 52: 0.36574704618214887, 54: 0.3522089394424808, 56: 0.35320587240169005, 58: 0.3312222807984572, 60: 0.35024835051944453, 62: 0.36488524535196937, 64: 0.33951632914059426, 66: 0.34289897233340694, 68: 0.3474085917245882, 70: 0.3506757280639995, 72: 0.3410768599058292}\n"
          ]
        }
      ],
      "source": [
        "warnings.simplefilter(action='ignore', category=FutureWarning)\n",
        "\n",
        "dicts = {}\n",
        "\n",
        "for i in range(2,73,2):\n",
        "  labels=cluster.KMeans(n_clusters=i,random_state=8).fit(pca_df2).labels_\n",
        "  score = metrics.silhouette_score(pca_df2,labels,metric=\"euclidean\",random_state=8)\n",
        "  dicts[i] = score\n",
        "\n",
        "print(dicts)\n",
        "\n",
        "#Reference: https://scikit-learn.org/stable/modules/generated/sklearn.metrics.silhouette_score.html"
      ]
    },
    {
      "cell_type": "code",
      "execution_count": null,
      "metadata": {
        "colab": {
          "base_uri": "https://localhost:8080/"
        },
        "id": "O33ckHsZ1t5a",
        "outputId": "967f945f-8309-4ffb-d6d6-249b297fc52a"
      },
      "outputs": [
        {
          "name": "stdout",
          "output_type": "stream",
          "text": [
            "0.82144963595753\n"
          ]
        }
      ],
      "source": [
        "best_silvalue = max(dicts.values())\n",
        "print(best_silvalue)"
      ]
    },
    {
      "cell_type": "code",
      "execution_count": null,
      "metadata": {
        "colab": {
          "base_uri": "https://localhost:8080/"
        },
        "id": "quyli_jUxBYv",
        "outputId": "5c9d8ce7-fd52-4bfe-a030-fadc8c4d1f9c"
      },
      "outputs": [
        {
          "name": "stdout",
          "output_type": "stream",
          "text": [
            "[2]\n"
          ]
        }
      ],
      "source": [
        "keys = [k for k, v in dicts.items() if v == best_silvalue]\n",
        "print(keys)\n",
        "#Reference: https://note.nkmk.me/en/python-dict-get-key-from-value/"
      ]
    },
    {
      "cell_type": "code",
      "execution_count": 24,
      "metadata": {
        "id": "kxL5iksP1t5a"
      },
      "outputs": [],
      "source": [
        "kmeans = cluster.KMeans(n_clusters=2)\n",
        "kmeans = kmeans.fit(pca_df2)"
      ]
    },
    {
      "cell_type": "code",
      "source": [
        "H_kM4 = hamming_loss(AudioData['Emotion'],kmeans.labels_)\n",
        "AccScore_kM4 = accuracy_score(AudioData['Emotion'],kmeans.labels_)\n",
        "MSE_kM4 = mean_squared_error(AudioData['Emotion'],kmeans.labels_)\n",
        "print(\"The Hamming Loss is: \" + str(round(H_kM4,4))) #Rounding the output to 4 decimal places for easier presentation\n",
        "print(\"The accuracy score is: \" + str(round(AccScore_kM4*100,2)))\n",
        "print(\"THE MSE is: \" + str(round(MSE_kM4,4)))"
      ],
      "metadata": {
        "colab": {
          "base_uri": "https://localhost:8080/"
        },
        "id": "HNmirs63KZG2",
        "outputId": "dfbb1925-c3c5-46fa-dd7c-191e13a3a32a"
      },
      "execution_count": 25,
      "outputs": [
        {
          "output_type": "stream",
          "name": "stdout",
          "text": [
            "The Hamming Loss is: 0.8397\n",
            "The accuracy score is: 16.03\n",
            "THE MSE is: 5.998\n"
          ]
        }
      ]
    },
    {
      "cell_type": "code",
      "execution_count": null,
      "metadata": {
        "colab": {
          "base_uri": "https://localhost:8080/",
          "height": 296
        },
        "id": "VGiKEcV81t5b",
        "outputId": "6e42234a-63d9-477d-d930-318e16a62aa1"
      },
      "outputs": [
        {
          "data": {
            "text/plain": [
              "<Axes: xlabel='principal component 1', ylabel='principal component 2'>"
            ]
          },
          "execution_count": 33,
          "metadata": {},
          "output_type": "execute_result"
        },
        {
          "data": {
            "image/png": "[encoded data removed]",
            "text/plain": [
              "<Figure size 432x288 with 1 Axes>"
            ]
          },
          "metadata": {},
          "output_type": "display_data"
        }
      ],
      "source": [
        "pca_df2['Clusters'] = kmeans.labels_\n",
        "\n",
        "sns.scatterplot(x=\"principal component 1\", y=\"principal component 2\",hue = 'Clusters',  data=pca_df2,palette='viridis')"
      ]
    },
    {
      "cell_type": "markdown",
      "metadata": {
        "id": "g8yVgU7OyYY9"
      },
      "source": [
        "The below applies a sample size of 1000 - to see if this alters the outcome. "
      ]
    },
    {
      "cell_type": "code",
      "execution_count": null,
      "metadata": {
        "colab": {
          "base_uri": "https://localhost:8080/"
        },
        "id": "mTKkP19IyVwq",
        "outputId": "9c2507ab-11a8-4bbd-f909-dcee7cc0f2e8"
      },
      "outputs": [
        {
          "name": "stdout",
          "output_type": "stream",
          "text": [
            "{2: 0.8094300158753506, 4: 0.7390270588792698, 6: 0.4863792386323171, 8: 0.47191942465649306, 10: 0.43210697080496935, 12: 0.40757864824796797, 14: 0.41697080972130746, 16: 0.3987761199110656, 18: 0.40162174310357207, 20: 0.39446850541210116, 22: 0.3897913837985693, 24: 0.38994161248503123, 26: 0.3744527063468697, 28: 0.33761522428870344, 30: 0.3436964564927085, 32: 0.3680931288712214, 34: 0.34931655759184244, 36: 0.3928372658063486, 38: 0.36770943502848447, 40: 0.35422166193796933, 42: 0.38886542845096767, 44: 0.36125127989761774, 46: 0.35568955854990086, 48: 0.343255077952419, 50: 0.3416827703889088, 52: 0.3554211506459298, 54: 0.34349564089246776, 56: 0.35610120870626033, 58: 0.35913883633066734, 60: 0.33009018645730476, 62: 0.361146639441772, 64: 0.3502955959570392, 66: 0.3455441298149219, 68: 0.36051105750235796, 70: 0.34678121127758516, 72: 0.3519995775683111}\n"
          ]
        }
      ],
      "source": [
        "warnings.simplefilter(action='ignore', category=FutureWarning)\n",
        "\n",
        "dicts = {}\n",
        "\n",
        "for i in range(2,73,2):\n",
        "  labels=cluster.KMeans(n_clusters=i,random_state=8).fit(pca_df2).labels_\n",
        "  score = metrics.silhouette_score(pca_df2,labels,metric=\"euclidean\",sample_size=1000,random_state=8)\n",
        "  dicts[i] = score\n",
        "\n",
        "print(dicts)"
      ]
    },
    {
      "cell_type": "code",
      "execution_count": null,
      "metadata": {
        "colab": {
          "base_uri": "https://localhost:8080/"
        },
        "id": "TYeCszRZyeHQ",
        "outputId": "5e79a98c-5bbb-41bb-a978-f807b07a3e5a"
      },
      "outputs": [
        {
          "name": "stdout",
          "output_type": "stream",
          "text": [
            "0.8094300158753506\n"
          ]
        }
      ],
      "source": [
        "best_silvalue = max(dicts.values())\n",
        "print(best_silvalue)"
      ]
    },
    {
      "cell_type": "markdown",
      "metadata": {
        "id": "H4yA6wvgy5zQ"
      },
      "source": [
        "It appears it does not alter the outcome, but alters the values slightly. Since there are obvious differences between the values for each cluster, the effect of sample size of 1000 is negligible."
      ]
    },
    {
      "cell_type": "markdown",
      "metadata": {
        "id": "-x0L5BRlfUXt"
      },
      "source": [
        "# Tree Based Modelling"
      ]
    },
    {
      "cell_type": "markdown",
      "metadata": {
        "id": "0hBLl_Up7fTZ"
      },
      "source": [
        "## Random Forest Model Building"
      ]
    },
    {
      "cell_type": "code",
      "execution_count": null,
      "metadata": {
        "colab": {
          "base_uri": "https://localhost:8080/"
        },
        "id": "IEYAqqiwfXA6",
        "outputId": "14dcb464-c987-4464-d0b9-2cc162a8a794"
      },
      "outputs": [
        {
          "name": "stdout",
          "output_type": "stream",
          "text": [
            "1.2.2\n"
          ]
        }
      ],
      "source": [
        "import sklearn\n",
        "print(sklearn.__version__)\n",
        "\n",
        "#log_loss available: https://stackoverflow.com/questions/74164123/decision-tree-classifier-throws-keyerror-log-loss"
      ]
    },
    {
      "cell_type": "code",
      "execution_count": null,
      "metadata": {
        "colab": {
          "base_uri": "https://localhost:8080/"
        },
        "id": "EsgSBFQQfaJV",
        "outputId": "99fa90ba-ba31-4eec-e19e-3cc98bb65343"
      },
      "outputs": [
        {
          "name": "stdout",
          "output_type": "stream",
          "text": [
            "{'memory': None, 'steps': [('pca', PCA(n_components=86)), ('randomforestclassifier', RandomForestClassifier(criterion='entropy', max_features='log2',\n",
            "                       min_samples_split=5, n_estimators=260, random_state=8))], 'verbose': False, 'pca': PCA(n_components=86), 'randomforestclassifier': RandomForestClassifier(criterion='entropy', max_features='log2',\n",
            "                       min_samples_split=5, n_estimators=260, random_state=8), 'pca__copy': True, 'pca__iterated_power': 'auto', 'pca__n_components': 86, 'pca__n_oversamples': 10, 'pca__power_iteration_normalizer': 'auto', 'pca__random_state': None, 'pca__svd_solver': 'auto', 'pca__tol': 0.0, 'pca__whiten': False, 'randomforestclassifier__bootstrap': True, 'randomforestclassifier__ccp_alpha': 0.0, 'randomforestclassifier__class_weight': None, 'randomforestclassifier__criterion': 'entropy', 'randomforestclassifier__max_depth': None, 'randomforestclassifier__max_features': 'log2', 'randomforestclassifier__max_leaf_nodes': None, 'randomforestclassifier__max_samples': None, 'randomforestclassifier__min_impurity_decrease': 0.0, 'randomforestclassifier__min_samples_leaf': 1, 'randomforestclassifier__min_samples_split': 5, 'randomforestclassifier__min_weight_fraction_leaf': 0.0, 'randomforestclassifier__n_estimators': 260, 'randomforestclassifier__n_jobs': None, 'randomforestclassifier__oob_score': False, 'randomforestclassifier__random_state': 8, 'randomforestclassifier__verbose': 0, 'randomforestclassifier__warm_start': False}\n"
          ]
        }
      ],
      "source": [
        "#Reference - function: https://scikit-learn.org/stable/modules/generated/sklearn.ensemble.RandomForestClassifier.html\n",
        "#Reference - Bayesian Optimization: https://scikit-optimize.github.io/stable/auto_examples/sklearn-gridsearchcv-replacement.html\n",
        "#and: https://bayes-skopt.readthedocs.io/en/latest/_modules/bask/searchcv.html\n",
        "\n",
        "randomforestclass = make_pipeline(PCA(), RandomForestClassifier(random_state=8, min_samples_split=5))\n",
        "\n",
        "grid_param = {\n",
        "    \"pca__n_components\": np.arange(1, 100, 1),\n",
        "    \"randomforestclassifier__n_estimators\": np.arange(100, 300, 20),\n",
        "    \"randomforestclassifier__criterion\": [\"gini\", \"entropy\",\"log_loss\"],\n",
        "    \"randomforestclassifier__max_features\": [\"sqrt\", \"log2\"]\n",
        "}\n",
        "\n",
        "search = BayesSearchCV(randomforestclass, grid_param, cv=10, n_iter=10, random_state=8)\n",
        "search.fit(X_tr, Y_tr) #scaling is not necessary\n",
        "print(search.best_estimator_.get_params())"
      ]
    },
    {
      "cell_type": "markdown",
      "metadata": {
        "id": "ol4VHFnPyVzh"
      },
      "source": [
        "The output from the above cell are:\n",
        "\n",
        "1.   PCA components = 86\n",
        "2.   Random forest estimators = 260\n",
        "3. Random forest criterion = entropy \n",
        "4. Max features = log2\n",
        "\n",
        "Another iteration will be run to ensure it gets closer to the parameter estimates. The criterion and max features will be included in the rerun in case updates to the number of estimators changes both of these attributes. "
      ]
    },
    {
      "cell_type": "code",
      "execution_count": null,
      "metadata": {
        "colab": {
          "base_uri": "https://localhost:8080/"
        },
        "id": "ml_YxR1ntyBF",
        "outputId": "bcc8b6f0-0632-4d7f-b55f-0c5f43837019"
      },
      "outputs": [
        {
          "name": "stdout",
          "output_type": "stream",
          "text": [
            "Fitting 10 folds for each of 1 candidates, totalling 10 fits\n",
            "Fitting 10 folds for each of 1 candidates, totalling 10 fits\n",
            "Fitting 10 folds for each of 1 candidates, totalling 10 fits\n",
            "Fitting 10 folds for each of 1 candidates, totalling 10 fits\n",
            "Fitting 10 folds for each of 1 candidates, totalling 10 fits\n",
            "Fitting 10 folds for each of 1 candidates, totalling 10 fits\n",
            "Fitting 10 folds for each of 1 candidates, totalling 10 fits\n",
            "Fitting 10 folds for each of 1 candidates, totalling 10 fits\n",
            "Fitting 10 folds for each of 1 candidates, totalling 10 fits\n",
            "Fitting 10 folds for each of 1 candidates, totalling 10 fits\n",
            "{'memory': None, 'steps': [('pca', PCA(n_components=86)), ('randomforestclassifier', RandomForestClassifier(criterion='log_loss', max_features='log2',\n",
            "                       min_samples_split=5, n_estimators=250, random_state=8))], 'verbose': False, 'pca': PCA(n_components=86), 'randomforestclassifier': RandomForestClassifier(criterion='log_loss', max_features='log2',\n",
            "                       min_samples_split=5, n_estimators=250, random_state=8), 'pca__copy': True, 'pca__iterated_power': 'auto', 'pca__n_components': 86, 'pca__n_oversamples': 10, 'pca__power_iteration_normalizer': 'auto', 'pca__random_state': None, 'pca__svd_solver': 'auto', 'pca__tol': 0.0, 'pca__whiten': False, 'randomforestclassifier__bootstrap': True, 'randomforestclassifier__ccp_alpha': 0.0, 'randomforestclassifier__class_weight': None, 'randomforestclassifier__criterion': 'log_loss', 'randomforestclassifier__max_depth': None, 'randomforestclassifier__max_features': 'log2', 'randomforestclassifier__max_leaf_nodes': None, 'randomforestclassifier__max_samples': None, 'randomforestclassifier__min_impurity_decrease': 0.0, 'randomforestclassifier__min_samples_leaf': 1, 'randomforestclassifier__min_samples_split': 5, 'randomforestclassifier__min_weight_fraction_leaf': 0.0, 'randomforestclassifier__n_estimators': 250, 'randomforestclassifier__n_jobs': None, 'randomforestclassifier__oob_score': False, 'randomforestclassifier__random_state': 8, 'randomforestclassifier__verbose': 0, 'randomforestclassifier__warm_start': False}\n"
          ]
        }
      ],
      "source": [
        "randomforestclass = make_pipeline(PCA(n_components=86), RandomForestClassifier(random_state=8, min_samples_split=5))\n",
        "\n",
        "grid_param = {\n",
        "    \"randomforestclassifier__n_estimators\": np.arange(240, 280, 1), #Range = 240 to 280\n",
        "    \"randomforestclassifier__criterion\": [\"gini\", \"entropy\",\"log_loss\"],\n",
        "    \"randomforestclassifier__max_features\": [\"sqrt\", \"log2\"]\n",
        "}\n",
        "\n",
        "search = BayesSearchCV(randomforestclass, grid_param, cv=10, n_iter=10, random_state=8, verbose = 1) #Updated verbose to see progress\n",
        "search.fit(X_tr, Y_tr) #scaling is not necessary\n",
        "print(search.best_estimator_.get_params())"
      ]
    },
    {
      "cell_type": "code",
      "execution_count": 26,
      "metadata": {
        "colab": {
          "base_uri": "https://localhost:8080/"
        },
        "id": "R9ISYx3Z5FPv",
        "outputId": "b7fe0fdd-3188-4218-f8ff-0ffc52c02b2a"
      },
      "outputs": [
        {
          "output_type": "stream",
          "name": "stdout",
          "text": [
            "The Hamming Loss is: 0.4945\n",
            "The accuracy score is: 50.55\n",
            "THE MSE is: 2.3063\n"
          ]
        }
      ],
      "source": [
        "randomforestclass_updated = make_pipeline(PCA(n_components=86), RandomForestClassifier(random_state=8, min_samples_split=5, max_features = \"log2\", criterion=\"log_loss\",n_estimators = 250))\n",
        "randomforestclass_updated.fit(X_tr, Y_tr)\n",
        "Y_predictedrf = randomforestclass_updated.predict(X_te)\n",
        "H_rf = hamming_loss(Y_te,Y_predictedrf)\n",
        "AccScore_rf = randomforestclass_updated.score(X_te, Y_te)\n",
        "MSE_rf = mean_squared_error(Y_te,Y_predictedrf)\n",
        "print(\"The Hamming Loss is: \" + str(round(H_rf,4))) #Rounding the output to 4 decimal places for easier presentation\n",
        "print(\"The accuracy score is: \" + str(round(AccScore_rf*100,2)))\n",
        "print(\"THE MSE is: \" + str(round(MSE_rf,4)))"
      ]
    },
    {
      "cell_type": "markdown",
      "metadata": {
        "id": "gccfOP8I7g67"
      },
      "source": [
        "## Boosting Structure"
      ]
    },
    {
      "cell_type": "code",
      "execution_count": null,
      "metadata": {
        "colab": {
          "background_save": true
        },
        "id": "VDxTKIq87pZ1",
        "outputId": "a7f2ac11-d46e-4f39-8e37-bef926105907"
      },
      "outputs": [
        {
          "name": "stdout",
          "output_type": "stream",
          "text": [
            "{'memory': None, 'steps': [('pca', PCA(n_components=90)), ('gradientboostingclassifier', GradientBoostingClassifier(learning_rate=0.30000000000000004, max_depth=4,\n",
            "                           min_samples_split=5, n_estimators=400,\n",
            "                           random_state=8))], 'verbose': False, 'pca': PCA(n_components=90), 'gradientboostingclassifier': GradientBoostingClassifier(learning_rate=0.30000000000000004, max_depth=4,\n",
            "                           min_samples_split=5, n_estimators=400,\n",
            "                           random_state=8), 'pca__copy': True, 'pca__iterated_power': 'auto', 'pca__n_components': 90, 'pca__n_oversamples': 10, 'pca__power_iteration_normalizer': 'auto', 'pca__random_state': None, 'pca__svd_solver': 'auto', 'pca__tol': 0.0, 'pca__whiten': False, 'gradientboostingclassifier__ccp_alpha': 0.0, 'gradientboostingclassifier__criterion': 'friedman_mse', 'gradientboostingclassifier__init': None, 'gradientboostingclassifier__learning_rate': 0.30000000000000004, 'gradientboostingclassifier__loss': 'log_loss', 'gradientboostingclassifier__max_depth': 4, 'gradientboostingclassifier__max_features': None, 'gradientboostingclassifier__max_leaf_nodes': None, 'gradientboostingclassifier__min_impurity_decrease': 0.0, 'gradientboostingclassifier__min_samples_leaf': 1, 'gradientboostingclassifier__min_samples_split': 5, 'gradientboostingclassifier__min_weight_fraction_leaf': 0.0, 'gradientboostingclassifier__n_estimators': 400, 'gradientboostingclassifier__n_iter_no_change': None, 'gradientboostingclassifier__random_state': 8, 'gradientboostingclassifier__subsample': 1.0, 'gradientboostingclassifier__tol': 0.0001, 'gradientboostingclassifier__validation_fraction': 0.1, 'gradientboostingclassifier__verbose': 0, 'gradientboostingclassifier__warm_start': False}\n"
          ]
        }
      ],
      "source": [
        "regr_boost = make_pipeline(PCA(), GradientBoostingClassifier(min_samples_split=5, random_state=8))\n",
        "\n",
        "grid_param = {\n",
        "    \"pca__n_components\": np.arange(1, 100, 1),\n",
        "    \"gradientboostingclassifier__n_estimators\": np.arange(300, 500, 50), #Larger range than random forest - if lower range indicated, a repeat will be done\n",
        "    \"gradientboostingclassifier__learning_rate\": np.arange(0.1, 0.4, 0.1),\n",
        "    \"gradientboostingclassifier__max_depth\": np.arange(1, 5, 1)\n",
        "}\n",
        "\n",
        "search = BayesSearchCV(regr_boost, grid_param, cv=10, n_iter=10, random_state=8) \n",
        "search.fit(X_tr, Y_tr) #scaling is not necessary\n",
        "print(search.best_estimator_.get_params())\n",
        "\n",
        "#Reference: https://stats.stackexchange.com/questions/518532/does-it-make-sense-to-do-pca-before-a-tree-boosting-model\n",
        "#Reference: https://scikit-learn.org/stable/modules/generated/sklearn.ensemble.GradientBoostingClassifier.html\n",
        "#Reference: https://towardsdatascience.com/battle-of-the-ensemble-random-forest-vs-gradient-boosting-6fbfed14cb7#:~:text=As%20we%20can%20see%2C%20the,more%20trees%20than%20random%20forest. \n",
        "#Above reference indicates shallower trees but more estimators for boosting"
      ]
    },
    {
      "cell_type": "markdown",
      "source": [
        "The output from the above cell are:\n",
        "\n",
        "1.   PCA components = 90\n",
        "2.   Estimators = 400\n",
        "3. Learning rate = 0.3\n",
        "4. Max depth = 4\n",
        "\n",
        "Another iteration will be run to ensure it gets closer to the parameter estimates for the number of estimators. "
      ],
      "metadata": {
        "id": "TcdqdWzfTlEr"
      }
    },
    {
      "cell_type": "code",
      "source": [
        "regr_boost = make_pipeline(PCA(n_components=90), GradientBoostingClassifier(min_samples_split=5, random_state=8, max_depth=4, learning_rate=0.3))\n",
        "\n",
        "grid_param = {\n",
        "    \"gradientboostingclassifier__n_estimators\": np.arange(350, 450, 20), #Range from 350 to 450\n",
        "}\n",
        "\n",
        "search = BayesSearchCV(regr_boost, grid_param, cv=10, n_iter=2, random_state=8) \n",
        "search.fit(X_tr, Y_tr) #scaling is not necessary\n",
        "print(search.best_estimator_.get_params())"
      ],
      "metadata": {
        "colab": {
          "base_uri": "https://localhost:8080/"
        },
        "id": "d4eBe9jOTkdg",
        "outputId": "5c48a2c2-0212-41ef-a756-3a3ff76ceac8"
      },
      "execution_count": null,
      "outputs": [
        {
          "output_type": "stream",
          "name": "stdout",
          "text": [
            "{'memory': None, 'steps': [('pca', PCA(n_components=90)), ('gradientboostingclassifier', GradientBoostingClassifier(learning_rate=0.3, max_depth=4, min_samples_split=5,\n",
            "                           n_estimators=350, random_state=8))], 'verbose': False, 'pca': PCA(n_components=90), 'gradientboostingclassifier': GradientBoostingClassifier(learning_rate=0.3, max_depth=4, min_samples_split=5,\n",
            "                           n_estimators=350, random_state=8), 'pca__copy': True, 'pca__iterated_power': 'auto', 'pca__n_components': 90, 'pca__n_oversamples': 10, 'pca__power_iteration_normalizer': 'auto', 'pca__random_state': None, 'pca__svd_solver': 'auto', 'pca__tol': 0.0, 'pca__whiten': False, 'gradientboostingclassifier__ccp_alpha': 0.0, 'gradientboostingclassifier__criterion': 'friedman_mse', 'gradientboostingclassifier__init': None, 'gradientboostingclassifier__learning_rate': 0.3, 'gradientboostingclassifier__loss': 'log_loss', 'gradientboostingclassifier__max_depth': 4, 'gradientboostingclassifier__max_features': None, 'gradientboostingclassifier__max_leaf_nodes': None, 'gradientboostingclassifier__min_impurity_decrease': 0.0, 'gradientboostingclassifier__min_samples_leaf': 1, 'gradientboostingclassifier__min_samples_split': 5, 'gradientboostingclassifier__min_weight_fraction_leaf': 0.0, 'gradientboostingclassifier__n_estimators': 350, 'gradientboostingclassifier__n_iter_no_change': None, 'gradientboostingclassifier__random_state': 8, 'gradientboostingclassifier__subsample': 1.0, 'gradientboostingclassifier__tol': 0.0001, 'gradientboostingclassifier__validation_fraction': 0.1, 'gradientboostingclassifier__verbose': 0, 'gradientboostingclassifier__warm_start': False}\n"
          ]
        }
      ]
    },
    {
      "cell_type": "code",
      "source": [
        "boosting=make_pipeline(PCA(n_components=90), GradientBoostingClassifier(min_samples_split=5, random_state=8, max_depth=4, learning_rate=0.3, n_estimators=350))\n",
        "boosting.fit(X_tr, Y_tr)\n",
        "Y_predictedboost = boosting.predict(X_te)\n",
        "H_boost = hamming_loss(Y_te,Y_predictedboost)\n",
        "AccScore_boost = boosting.score(X_te, Y_te)\n",
        "MSE_boost = mean_squared_error(Y_te,Y_predictedboost)\n",
        "print(\"The Hamming Loss is: \" + str(round(H_boost,4))) #Rounding the output to 4 decimal places for easier presentation\n",
        "print(\"The accuracy score is: \" + str(round(AccScore_boost*100,2)))\n",
        "print(\"THE MSE is: \" + str(round(MSE_boost,4)))"
      ],
      "metadata": {
        "id": "03DlZuFbTMo1",
        "colab": {
          "base_uri": "https://localhost:8080/"
        },
        "outputId": "8f9469ea-0e7c-4145-de00-57a7e713dff1"
      },
      "execution_count": 27,
      "outputs": [
        {
          "output_type": "stream",
          "name": "stdout",
          "text": [
            "The Hamming Loss is: 0.4709\n",
            "The accuracy score is: 52.91\n",
            "THE MSE is: 2.0606\n"
          ]
        }
      ]
    },
    {
      "cell_type": "markdown",
      "metadata": {
        "id": "3CVSe8rN4bHL"
      },
      "source": [
        "# SVM Model Building"
      ]
    },
    {
      "cell_type": "code",
      "execution_count": null,
      "metadata": {
        "colab": {
          "base_uri": "https://localhost:8080/"
        },
        "id": "BJ751D6-zCD3",
        "outputId": "94b3bd80-7c63-4447-bf96-316ab8ec9bfd"
      },
      "outputs": [
        {
          "name": "stdout",
          "output_type": "stream",
          "text": [
            "{'memory': None, 'steps': [('pca', PCA(n_components=65)), ('svc', SVC(C=9.1))], 'verbose': False, 'pca': PCA(n_components=65), 'svc': SVC(C=9.1), 'pca__copy': True, 'pca__iterated_power': 'auto', 'pca__n_components': 65, 'pca__n_oversamples': 10, 'pca__power_iteration_normalizer': 'auto', 'pca__random_state': None, 'pca__svd_solver': 'auto', 'pca__tol': 0.0, 'pca__whiten': False, 'svc__C': 9.1, 'svc__break_ties': False, 'svc__cache_size': 200, 'svc__class_weight': None, 'svc__coef0': 0.0, 'svc__decision_function_shape': 'ovr', 'svc__degree': 3, 'svc__gamma': 'scale', 'svc__kernel': 'rbf', 'svc__max_iter': -1, 'svc__probability': False, 'svc__random_state': None, 'svc__shrinking': True, 'svc__tol': 0.001, 'svc__verbose': False}\n"
          ]
        }
      ],
      "source": [
        "SVM_model = make_pipeline(PCA(), SVC()) #Default probability = None, therefore random state will be ignored (input omitted)\n",
        "\n",
        "grid_param = {\n",
        "    \"pca__n_components\": np.arange(1, 100, 1),\n",
        "    \"svc__C\": np.arange(0.1,10,0.1),\n",
        "    \"svc__kernel\": [\"linear\", \"poly\", \"rbf\", \"sigmoid\"] #Depending on the outcome, gamma and degree will be varied, if appropriate\n",
        "}\n",
        "\n",
        "search = BayesSearchCV(SVM_model, grid_param, cv=10, n_iter=10, random_state=8)\n",
        "search.fit(X_tr_transformed, Y_tr) \n",
        "print(search.best_estimator_.get_params())\n",
        "#Reference: https://scikit-learn.org/stable/modules/generated/sklearn.svm.SVC.html"
      ]
    },
    {
      "cell_type": "markdown",
      "metadata": {
        "id": "V7Q9j7PQHSjZ"
      },
      "source": [
        "Since the kernel is \"rbf\", the gamma parameter can be optimized as well. "
      ]
    },
    {
      "cell_type": "code",
      "execution_count": null,
      "metadata": {
        "colab": {
          "base_uri": "https://localhost:8080/"
        },
        "id": "nCg_EtRNCOaL",
        "outputId": "53895565-258b-4901-f954-c325e138246e"
      },
      "outputs": [
        {
          "output_type": "stream",
          "name": "stdout",
          "text": [
            "{'memory': None, 'steps': [('pca', PCA(n_components=65)), ('svc', SVC(C=5.0, gamma='auto'))], 'verbose': False, 'pca': PCA(n_components=65), 'svc': SVC(C=5.0, gamma='auto'), 'pca__copy': True, 'pca__iterated_power': 'auto', 'pca__n_components': 65, 'pca__n_oversamples': 10, 'pca__power_iteration_normalizer': 'auto', 'pca__random_state': None, 'pca__svd_solver': 'auto', 'pca__tol': 0.0, 'pca__whiten': False, 'svc__C': 5.0, 'svc__break_ties': False, 'svc__cache_size': 200, 'svc__class_weight': None, 'svc__coef0': 0.0, 'svc__decision_function_shape': 'ovr', 'svc__degree': 3, 'svc__gamma': 'auto', 'svc__kernel': 'rbf', 'svc__max_iter': -1, 'svc__probability': False, 'svc__random_state': None, 'svc__shrinking': True, 'svc__tol': 0.001, 'svc__verbose': False}\n"
          ]
        }
      ],
      "source": [
        "SVM_model = make_pipeline(PCA(n_components=65), SVC(kernel='rbf'))\n",
        "\n",
        "grid_param = {\n",
        "    \"svc__C\": np.arange(0.1,9.1,0.1), #Attempt to see if this iteration will result in a lower C\n",
        "    \"svc__gamma\": [\"scale\", \"auto\"]  #since kernel = rbf\n",
        "}\n",
        "\n",
        "search = BayesSearchCV(SVM_model, grid_param, cv=10, n_iter=10, random_state=8)\n",
        "search.fit(X_tr_transformed, Y_tr) \n",
        "print(search.best_estimator_.get_params())"
      ]
    },
    {
      "cell_type": "code",
      "execution_count": 28,
      "metadata": {
        "colab": {
          "base_uri": "https://localhost:8080/"
        },
        "id": "OnxYYr9oDDD1",
        "outputId": "687e88e2-ba2b-45d9-8545-d7a34df8ae74"
      },
      "outputs": [
        {
          "output_type": "stream",
          "name": "stdout",
          "text": [
            "The Hamming Loss is: 0.4323\n",
            "The accuracy score is: 56.77\n",
            "THE MSE is: 1.9299\n"
          ]
        }
      ],
      "source": [
        "SVM_model= make_pipeline(PCA(n_components=65), SVC(kernel='rbf', C=3.9, gamma='auto'))\n",
        "SVM_model.fit(X_tr_transformed, Y_tr)\n",
        "Y_predictedsvm = SVM_model.predict(X_te_transformed)\n",
        "H_svm = hamming_loss(Y_te,Y_predictedsvm)\n",
        "AccScore_svm = SVM_model.score(X_te_transformed, Y_te)\n",
        "MSE_svm = mean_squared_error(Y_te,Y_predictedsvm)\n",
        "print(\"The Hamming Loss is: \" + str(round(H_svm,4))) #Rounding the output to 4 decimal places for easier presentation\n",
        "print(\"The accuracy score is: \" + str(round(AccScore_svm*100,2)))\n",
        "print(\"THE MSE is: \" + str(round(MSE_svm,4)))"
      ]
    },
    {
      "cell_type": "code",
      "source": [
        "joblib.dump(SVM_model, 'SVM_model.joblib')\n",
        "#Reference: https://www.analyticsvidhya.com/blog/2021/08/quick-hacks-to-save-machine-learning-model-using-pickle-and-joblib/"
      ],
      "metadata": {
        "colab": {
          "base_uri": "https://localhost:8080/"
        },
        "id": "4dXACfvB3oNN",
        "outputId": "dd0147a0-56cb-4e86-e9e6-f0c73757c2a1"
      },
      "execution_count": 29,
      "outputs": [
        {
          "output_type": "execute_result",
          "data": {
            "text/plain": [
              "['SVM_model.joblib']"
            ]
          },
          "metadata": {},
          "execution_count": 29
        }
      ]
    },
    {
      "cell_type": "markdown",
      "source": [
        "# Appendix - Misc Attempts"
      ],
      "metadata": {
        "id": "jR0gYyjeKnQT"
      }
    },
    {
      "cell_type": "markdown",
      "metadata": {
        "id": "7VmiGYLo-L9d"
      },
      "source": [
        "Update to 2 PCs and K=9 as per k-Means outcome using elbow method."
      ]
    },
    {
      "cell_type": "code",
      "execution_count": null,
      "metadata": {
        "colab": {
          "base_uri": "https://localhost:8080/"
        },
        "id": "N8XyVExP-OgV",
        "outputId": "f3ae1c63-f24d-46ec-ff17-b7c58d5f3c01"
      },
      "outputs": [
        {
          "output_type": "stream",
          "name": "stdout",
          "text": [
            "3.0843\n",
            "0.3575\n"
          ]
        }
      ],
      "source": [
        "model_updated = make_pipeline(PCA(n_components=2), KNeighborsClassifier(n_neighbors=9, weights='distance'))\n",
        "#Euclidean_distance used in k-Means -> therefore, p=2\n",
        "model_updated.fit(X_tr_transformed, Y_tr)\n",
        "Y_predictedkNN = model_updated.predict(X_te_transformed)\n",
        "MSE_kNN = mean_squared_error(Y_te,Y_predictedkNN)\n",
        "AccScore_kNN = accuracy_score(Y_te, Y_predictedkNN)\n",
        "print(round(MSE_kNN,4)) #Rounding the output to 4 decimal places for easier presentation\n",
        "print(round(AccScore_kNN,4))"
      ]
    },
    {
      "cell_type": "markdown",
      "source": [
        "Update to 91 PCs and K=11 as per k-Means outcome using elbow method."
      ],
      "metadata": {
        "id": "qlkhZ1xAFXt3"
      }
    },
    {
      "cell_type": "code",
      "source": [
        "model_updated = make_pipeline(PCA(n_components=91), KNeighborsClassifier(n_neighbors=11, weights='distance'))\n",
        "#Euclidean_distance used in k-Means -> therefore, p=2\n",
        "model_updated.fit(X_tr_transformed, Y_tr)\n",
        "Y_predictedkNN = model_updated.predict(X_te_transformed)\n",
        "MSE_kNN = mean_squared_error(Y_te,Y_predictedkNN)\n",
        "AccScore_kNN = accuracy_score(Y_te, Y_predictedkNN)\n",
        "print(round(MSE_kNN,4)) #Rounding the output to 4 decimal places for easier presentation\n",
        "print(round(AccScore_kNN,4))"
      ],
      "metadata": {
        "colab": {
          "base_uri": "https://localhost:8080/"
        },
        "id": "guGjtfCMFWfC",
        "outputId": "090ebce9-744f-4adf-cf08-2af32950b9c5"
      },
      "execution_count": null,
      "outputs": [
        {
          "output_type": "stream",
          "name": "stdout",
          "text": [
            "2.3433\n",
            "0.4953\n"
          ]
        }
      ]
    },
    {
      "cell_type": "markdown",
      "metadata": {
        "id": "KxMtWY2iHPWs"
      },
      "source": [
        "Update to 2 PCs and K=2 as per k-Means outcome using Silhouette Method."
      ]
    },
    {
      "cell_type": "code",
      "execution_count": null,
      "metadata": {
        "colab": {
          "base_uri": "https://localhost:8080/"
        },
        "outputId": "a7ac36cc-c042-4864-9010-17898edaefa5",
        "id": "r-6yZJrvHPWt"
      },
      "outputs": [
        {
          "output_type": "stream",
          "name": "stdout",
          "text": [
            "3.2402\n",
            "0.3016\n"
          ]
        }
      ],
      "source": [
        "model_updated = make_pipeline(PCA(n_components=2), KNeighborsClassifier(n_neighbors=2, weights='distance'))\n",
        "#Euclidean_distance used in k-Means -> therefore, p=2\n",
        "model_updated.fit(X_tr_transformed, Y_tr)\n",
        "Y_predictedkNN = model_updated.predict(X_te_transformed)\n",
        "MSE_kNN = mean_squared_error(Y_te,Y_predictedkNN)\n",
        "AccScore_kNN = accuracy_score(Y_te, Y_predictedkNN)\n",
        "print(round(MSE_kNN,4)) #Rounding the output to 4 decimal places for easier presentation\n",
        "print(round(AccScore_kNN,4))"
      ]
    },
    {
      "cell_type": "markdown",
      "source": [
        "Update to 91 PCs and K=2 as per k-Means outcome using Silhouette Method."
      ],
      "metadata": {
        "id": "f9FAmL_pHPWu"
      }
    },
    {
      "cell_type": "code",
      "source": [
        "model_updated = make_pipeline(PCA(n_components=91), KNeighborsClassifier(n_neighbors=2, weights='distance'))\n",
        "#Euclidean_distance used in k-Means -> therefore, p=2\n",
        "model_updated.fit(X_tr_transformed, Y_tr)\n",
        "Y_predictedkNN = model_updated.predict(X_te_transformed)\n",
        "MSE_kNN = mean_squared_error(Y_te,Y_predictedkNN)\n",
        "AccScore_kNN = accuracy_score(Y_te, Y_predictedkNN)\n",
        "print(round(MSE_kNN,4)) #Rounding the output to 4 decimal places for easier presentation\n",
        "print(round(AccScore_kNN,4))"
      ],
      "metadata": {
        "colab": {
          "base_uri": "https://localhost:8080/"
        },
        "outputId": "6647e234-8c4a-408c-c248-761f2feab5dc",
        "id": "2E82APCtHPWv"
      },
      "execution_count": null,
      "outputs": [
        {
          "output_type": "stream",
          "name": "stdout",
          "text": [
            "2.5205\n",
            "0.4283\n"
          ]
        }
      ]
    }
  ],
  "metadata": {
    "colab": {
      "provenance": []
    },
    "gpuClass": "standard",
    "kernelspec": {
      "display_name": "Python 3",
      "name": "python3"
    },
    "language_info": {
      "name": "python"
    },
    "widgets": {
      "application/vnd.jupyter.widget-state+json": {
        "08e1c547ebe349adab52329025349022": {
          "model_module": "@jupyter-widgets/controls",
          "model_module_version": "1.5.0",
          "model_name": "HTMLModel",
          "state": {
            "_dom_classes": [],
            "_model_module": "@jupyter-widgets/controls",
            "_model_module_version": "1.5.0",
            "_model_name": "HTMLModel",
            "_view_count": null,
            "_view_module": "@jupyter-widgets/controls",
            "_view_module_version": "1.5.0",
            "_view_name": "HTMLView",
            "description": "",
            "description_tooltip": null,
            "layout": "IPY_MODEL_b37134d2314a42d18fe32aa30f9609b0",
            "placeholder": "​",
            "style": "IPY_MODEL_dccdc687a339497797251dfe632b1f4b",
            "value": " 200/200 [14:29&lt;00:00,  3.83s/it]"
          }
        },
        "6e39b68e61764241bcc8904558b7d354": {
          "model_module": "@jupyter-widgets/base",
          "model_module_version": "1.2.0",
          "model_name": "LayoutModel",
          "state": {
            "_model_module": "@jupyter-widgets/base",
            "_model_module_version": "1.2.0",
            "_model_name": "LayoutModel",
            "_view_count": null,
            "_view_module": "@jupyter-widgets/base",
            "_view_module_version": "1.2.0",
            "_view_name": "LayoutView",
            "align_content": null,
            "align_items": null,
            "align_self": null,
            "border": null,
            "bottom": null,
            "display": null,
            "flex": null,
            "flex_flow": null,
            "grid_area": null,
            "grid_auto_columns": null,
            "grid_auto_flow": null,
            "grid_auto_rows": null,
            "grid_column": null,
            "grid_gap": null,
            "grid_row": null,
            "grid_template_areas": null,
            "grid_template_columns": null,
            "grid_template_rows": null,
            "height": null,
            "justify_content": null,
            "justify_items": null,
            "left": null,
            "margin": null,
            "max_height": null,
            "max_width": null,
            "min_height": null,
            "min_width": null,
            "object_fit": null,
            "object_position": null,
            "order": null,
            "overflow": null,
            "overflow_x": null,
            "overflow_y": null,
            "padding": null,
            "right": null,
            "top": null,
            "visibility": null,
            "width": null
          }
        },
        "777ad917d3984b20abc559e5e8aa67e2": {
          "model_module": "@jupyter-widgets/controls",
          "model_module_version": "1.5.0",
          "model_name": "FloatProgressModel",
          "state": {
            "_dom_classes": [],
            "_model_module": "@jupyter-widgets/controls",
            "_model_module_version": "1.5.0",
            "_model_name": "FloatProgressModel",
            "_view_count": null,
            "_view_module": "@jupyter-widgets/controls",
            "_view_module_version": "1.5.0",
            "_view_name": "ProgressView",
            "bar_style": "success",
            "description": "",
            "description_tooltip": null,
            "layout": "IPY_MODEL_cfb030e999e842e1a4085ba4c39405aa",
            "max": 200,
            "min": 0,
            "orientation": "horizontal",
            "style": "IPY_MODEL_92458eb322304b668277062d50d8f48d",
            "value": 200
          }
        },
        "7e90b6c96e454077ac709cc654da211a": {
          "model_module": "@jupyter-widgets/controls",
          "model_module_version": "1.5.0",
          "model_name": "DescriptionStyleModel",
          "state": {
            "_model_module": "@jupyter-widgets/controls",
            "_model_module_version": "1.5.0",
            "_model_name": "DescriptionStyleModel",
            "_view_count": null,
            "_view_module": "@jupyter-widgets/base",
            "_view_module_version": "1.2.0",
            "_view_name": "StyleView",
            "description_width": ""
          }
        },
        "92458eb322304b668277062d50d8f48d": {
          "model_module": "@jupyter-widgets/controls",
          "model_module_version": "1.5.0",
          "model_name": "ProgressStyleModel",
          "state": {
            "_model_module": "@jupyter-widgets/controls",
            "_model_module_version": "1.5.0",
            "_model_name": "ProgressStyleModel",
            "_view_count": null,
            "_view_module": "@jupyter-widgets/base",
            "_view_module_version": "1.2.0",
            "_view_name": "StyleView",
            "bar_color": null,
            "description_width": ""
          }
        },
        "a1adb9d81185493a9cc28be9d29593cb": {
          "model_module": "@jupyter-widgets/base",
          "model_module_version": "1.2.0",
          "model_name": "LayoutModel",
          "state": {
            "_model_module": "@jupyter-widgets/base",
            "_model_module_version": "1.2.0",
            "_model_name": "LayoutModel",
            "_view_count": null,
            "_view_module": "@jupyter-widgets/base",
            "_view_module_version": "1.2.0",
            "_view_name": "LayoutView",
            "align_content": null,
            "align_items": null,
            "align_self": null,
            "border": null,
            "bottom": null,
            "display": null,
            "flex": null,
            "flex_flow": null,
            "grid_area": null,
            "grid_auto_columns": null,
            "grid_auto_flow": null,
            "grid_auto_rows": null,
            "grid_column": null,
            "grid_gap": null,
            "grid_row": null,
            "grid_template_areas": null,
            "grid_template_columns": null,
            "grid_template_rows": null,
            "height": null,
            "justify_content": null,
            "justify_items": null,
            "left": null,
            "margin": null,
            "max_height": null,
            "max_width": null,
            "min_height": null,
            "min_width": null,
            "object_fit": null,
            "object_position": null,
            "order": null,
            "overflow": null,
            "overflow_x": null,
            "overflow_y": null,
            "padding": null,
            "right": null,
            "top": null,
            "visibility": null,
            "width": null
          }
        },
        "b37134d2314a42d18fe32aa30f9609b0": {
          "model_module": "@jupyter-widgets/base",
          "model_module_version": "1.2.0",
          "model_name": "LayoutModel",
          "state": {
            "_model_module": "@jupyter-widgets/base",
            "_model_module_version": "1.2.0",
            "_model_name": "LayoutModel",
            "_view_count": null,
            "_view_module": "@jupyter-widgets/base",
            "_view_module_version": "1.2.0",
            "_view_name": "LayoutView",
            "align_content": null,
            "align_items": null,
            "align_self": null,
            "border": null,
            "bottom": null,
            "display": null,
            "flex": null,
            "flex_flow": null,
            "grid_area": null,
            "grid_auto_columns": null,
            "grid_auto_flow": null,
            "grid_auto_rows": null,
            "grid_column": null,
            "grid_gap": null,
            "grid_row": null,
            "grid_template_areas": null,
            "grid_template_columns": null,
            "grid_template_rows": null,
            "height": null,
            "justify_content": null,
            "justify_items": null,
            "left": null,
            "margin": null,
            "max_height": null,
            "max_width": null,
            "min_height": null,
            "min_width": null,
            "object_fit": null,
            "object_position": null,
            "order": null,
            "overflow": null,
            "overflow_x": null,
            "overflow_y": null,
            "padding": null,
            "right": null,
            "top": null,
            "visibility": null,
            "width": null
          }
        },
        "cfb030e999e842e1a4085ba4c39405aa": {
          "model_module": "@jupyter-widgets/base",
          "model_module_version": "1.2.0",
          "model_name": "LayoutModel",
          "state": {
            "_model_module": "@jupyter-widgets/base",
            "_model_module_version": "1.2.0",
            "_model_name": "LayoutModel",
            "_view_count": null,
            "_view_module": "@jupyter-widgets/base",
            "_view_module_version": "1.2.0",
            "_view_name": "LayoutView",
            "align_content": null,
            "align_items": null,
            "align_self": null,
            "border": null,
            "bottom": null,
            "display": null,
            "flex": null,
            "flex_flow": null,
            "grid_area": null,
            "grid_auto_columns": null,
            "grid_auto_flow": null,
            "grid_auto_rows": null,
            "grid_column": null,
            "grid_gap": null,
            "grid_row": null,
            "grid_template_areas": null,
            "grid_template_columns": null,
            "grid_template_rows": null,
            "height": null,
            "justify_content": null,
            "justify_items": null,
            "left": null,
            "margin": null,
            "max_height": null,
            "max_width": null,
            "min_height": null,
            "min_width": null,
            "object_fit": null,
            "object_position": null,
            "order": null,
            "overflow": null,
            "overflow_x": null,
            "overflow_y": null,
            "padding": null,
            "right": null,
            "top": null,
            "visibility": null,
            "width": null
          }
        },
        "dccdc687a339497797251dfe632b1f4b": {
          "model_module": "@jupyter-widgets/controls",
          "model_module_version": "1.5.0",
          "model_name": "DescriptionStyleModel",
          "state": {
            "_model_module": "@jupyter-widgets/controls",
            "_model_module_version": "1.5.0",
            "_model_name": "DescriptionStyleModel",
            "_view_count": null,
            "_view_module": "@jupyter-widgets/base",
            "_view_module_version": "1.2.0",
            "_view_name": "StyleView",
            "description_width": ""
          }
        },
        "e374e6183fde4200a584a91a944aaaae": {
          "model_module": "@jupyter-widgets/controls",
          "model_module_version": "1.5.0",
          "model_name": "HBoxModel",
          "state": {
            "_dom_classes": [],
            "_model_module": "@jupyter-widgets/controls",
            "_model_module_version": "1.5.0",
            "_model_name": "HBoxModel",
            "_view_count": null,
            "_view_module": "@jupyter-widgets/controls",
            "_view_module_version": "1.5.0",
            "_view_name": "HBoxView",
            "box_style": "",
            "children": [
              "IPY_MODEL_eb493dcab1ee41199e077873d8c90c47",
              "IPY_MODEL_777ad917d3984b20abc559e5e8aa67e2",
              "IPY_MODEL_08e1c547ebe349adab52329025349022"
            ],
            "layout": "IPY_MODEL_a1adb9d81185493a9cc28be9d29593cb"
          }
        },
        "eb493dcab1ee41199e077873d8c90c47": {
          "model_module": "@jupyter-widgets/controls",
          "model_module_version": "1.5.0",
          "model_name": "HTMLModel",
          "state": {
            "_dom_classes": [],
            "_model_module": "@jupyter-widgets/controls",
            "_model_module_version": "1.5.0",
            "_model_name": "HTMLModel",
            "_view_count": null,
            "_view_module": "@jupyter-widgets/controls",
            "_view_module_version": "1.5.0",
            "_view_name": "HTMLView",
            "description": "",
            "description_tooltip": null,
            "layout": "IPY_MODEL_6e39b68e61764241bcc8904558b7d354",
            "placeholder": "​",
            "style": "IPY_MODEL_7e90b6c96e454077ac709cc654da211a",
            "value": "100%"
          }
        }
      }
    }
  },
  "nbformat": 4,
  "nbformat_minor": 0
}