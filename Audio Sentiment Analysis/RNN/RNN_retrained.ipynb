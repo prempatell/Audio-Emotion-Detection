{
  "cells": [
    {
      "cell_type": "code",
      "execution_count": 1,
      "metadata": {
        "id": "1021f6ce"
      },
      "outputs": [],
      "source": [
        "#Reading in libraries\n",
        "\n",
        "import pandas as pd\n",
        "import numpy as np\n",
        "from matplotlib import pyplot as plt\n",
        "\n",
        "#from sklearn.neighbors import KNeighborsClassifier\n",
        "from sklearn.metrics import mean_squared_error, accuracy_score, r2_score, confusion_matrix, ConfusionMatrixDisplay\n",
        "#from sklearn.model_selection import train_test_split\n",
        "#from tqdm.notebook import tqdm\n",
        "from sklearn.preprocessing import StandardScaler, LabelEncoder, OneHotEncoder\n",
        "#from sklearn.pipeline import make_pipeline\n",
        "#from sklearn.model_selection import GridSearchCV\n",
        "#from sklearn.decomposition import PCA\n",
        "\n",
        "#from sklearn.tree import DecisionTreeClassifier, export_graphviz, DecisionTreeRegressor, plot_tree\n",
        "#from sklearn.ensemble import RandomForestClassifier, GradientBoostingRegressor\n",
        "#from sklearn import tree\n",
        "#import matplotlib.pyplot as plt\n",
        "#import math\n",
        "#from skopt import BayesSearchCV\n",
        "\n",
        "import tensorflow as tf\n",
        "from tensorflow import keras\n",
        "#import keras_tuner\n",
        "from tensorflow.keras import layers\n",
        "from keras.models import Sequential\n",
        "from keras.models import Model\n",
        "from tensorflow.keras import initializers\n",
        "\n",
        "from keras.utils.np_utils import to_categorical\n",
        "from keras.regularizers import l1, l2\n",
        "#from keras.preprocessing.image import load_img, img_to_array\n",
        "from keras.preprocessing import sequence\n",
        "\n",
        "import seaborn as sns\n",
        "\n",
        "from numpy.testing import assert_allclose\n",
        "from keras.models import Sequential, load_model\n",
        "from keras.callbacks import ModelCheckpoint\n",
        "\n",
        "from joblib import dump, load\n",
        "import joblib\n",
        "\n",
        "import warnings\n",
        "\n",
        "#import sys"
      ],
      "id": "1021f6ce"
    },
    {
      "cell_type": "markdown",
      "metadata": {
        "id": "488ee2ce"
      },
      "source": [
        "# Reading in Data"
      ],
      "id": "488ee2ce"
    },
    {
      "cell_type": "code",
      "execution_count": 3,
      "metadata": {
        "colab": {
          "base_uri": "https://localhost:8080/",
          "height": 73
        },
        "id": "rK-VmXotBl1e",
        "outputId": "d02fdee3-730d-490b-f9c1-340c245b2cd3"
      },
      "outputs": [
        {
          "output_type": "display_data",
          "data": {
            "text/plain": [
              "<IPython.core.display.HTML object>"
            ],
            "text/html": [
              "\n",
              "     <input type=\"file\" id=\"files-1f438428-03a0-4487-bc85-757880e2bffb\" name=\"files[]\" multiple disabled\n",
              "        style=\"border:none\" />\n",
              "     <output id=\"result-1f438428-03a0-4487-bc85-757880e2bffb\">\n",
              "      Upload widget is only available when the cell has been executed in the\n",
              "      current browser session. Please rerun this cell to enable.\n",
              "      </output>\n",
              "      <script>// Copyright 2017 Google LLC\n",
              "//\n",
              "// Licensed under the Apache License, Version 2.0 (the \"License\");\n",
              "// you may not use this file except in compliance with the License.\n",
              "// You may obtain a copy of the License at\n",
              "//\n",
              "//      http://www.apache.org/licenses/LICENSE-2.0\n",
              "//\n",
              "// Unless required by applicable law or agreed to in writing, software\n",
              "// distributed under the License is distributed on an \"AS IS\" BASIS,\n",
              "// WITHOUT WARRANTIES OR CONDITIONS OF ANY KIND, either express or implied.\n",
              "// See the License for the specific language governing permissions and\n",
              "// limitations under the License.\n",
              "\n",
              "/**\n",
              " * @fileoverview Helpers for google.colab Python module.\n",
              " */\n",
              "(function(scope) {\n",
              "function span(text, styleAttributes = {}) {\n",
              "  const element = document.createElement('span');\n",
              "  element.textContent = text;\n",
              "  for (const key of Object.keys(styleAttributes)) {\n",
              "    element.style[key] = styleAttributes[key];\n",
              "  }\n",
              "  return element;\n",
              "}\n",
              "\n",
              "// Max number of bytes which will be uploaded at a time.\n",
              "const MAX_PAYLOAD_SIZE = 100 * 1024;\n",
              "\n",
              "function _uploadFiles(inputId, outputId) {\n",
              "  const steps = uploadFilesStep(inputId, outputId);\n",
              "  const outputElement = document.getElementById(outputId);\n",
              "  // Cache steps on the outputElement to make it available for the next call\n",
              "  // to uploadFilesContinue from Python.\n",
              "  outputElement.steps = steps;\n",
              "\n",
              "  return _uploadFilesContinue(outputId);\n",
              "}\n",
              "\n",
              "// This is roughly an async generator (not supported in the browser yet),\n",
              "// where there are multiple asynchronous steps and the Python side is going\n",
              "// to poll for completion of each step.\n",
              "// This uses a Promise to block the python side on completion of each step,\n",
              "// then passes the result of the previous step as the input to the next step.\n",
              "function _uploadFilesContinue(outputId) {\n",
              "  const outputElement = document.getElementById(outputId);\n",
              "  const steps = outputElement.steps;\n",
              "\n",
              "  const next = steps.next(outputElement.lastPromiseValue);\n",
              "  return Promise.resolve(next.value.promise).then((value) => {\n",
              "    // Cache the last promise value to make it available to the next\n",
              "    // step of the generator.\n",
              "    outputElement.lastPromiseValue = value;\n",
              "    return next.value.response;\n",
              "  });\n",
              "}\n",
              "\n",
              "/**\n",
              " * Generator function which is called between each async step of the upload\n",
              " * process.\n",
              " * @param {string} inputId Element ID of the input file picker element.\n",
              " * @param {string} outputId Element ID of the output display.\n",
              " * @return {!Iterable<!Object>} Iterable of next steps.\n",
              " */\n",
              "function* uploadFilesStep(inputId, outputId) {\n",
              "  const inputElement = document.getElementById(inputId);\n",
              "  inputElement.disabled = false;\n",
              "\n",
              "  const outputElement = document.getElementById(outputId);\n",
              "  outputElement.innerHTML = '';\n",
              "\n",
              "  const pickedPromise = new Promise((resolve) => {\n",
              "    inputElement.addEventListener('change', (e) => {\n",
              "      resolve(e.target.files);\n",
              "    });\n",
              "  });\n",
              "\n",
              "  const cancel = document.createElement('button');\n",
              "  inputElement.parentElement.appendChild(cancel);\n",
              "  cancel.textContent = 'Cancel upload';\n",
              "  const cancelPromise = new Promise((resolve) => {\n",
              "    cancel.onclick = () => {\n",
              "      resolve(null);\n",
              "    };\n",
              "  });\n",
              "\n",
              "  // Wait for the user to pick the files.\n",
              "  const files = yield {\n",
              "    promise: Promise.race([pickedPromise, cancelPromise]),\n",
              "    response: {\n",
              "      action: 'starting',\n",
              "    }\n",
              "  };\n",
              "\n",
              "  cancel.remove();\n",
              "\n",
              "  // Disable the input element since further picks are not allowed.\n",
              "  inputElement.disabled = true;\n",
              "\n",
              "  if (!files) {\n",
              "    return {\n",
              "      response: {\n",
              "        action: 'complete',\n",
              "      }\n",
              "    };\n",
              "  }\n",
              "\n",
              "  for (const file of files) {\n",
              "    const li = document.createElement('li');\n",
              "    li.append(span(file.name, {fontWeight: 'bold'}));\n",
              "    li.append(span(\n",
              "        `(${file.type || 'n/a'}) - ${file.size} bytes, ` +\n",
              "        `last modified: ${\n",
              "            file.lastModifiedDate ? file.lastModifiedDate.toLocaleDateString() :\n",
              "                                    'n/a'} - `));\n",
              "    const percent = span('0% done');\n",
              "    li.appendChild(percent);\n",
              "\n",
              "    outputElement.appendChild(li);\n",
              "\n",
              "    const fileDataPromise = new Promise((resolve) => {\n",
              "      const reader = new FileReader();\n",
              "      reader.onload = (e) => {\n",
              "        resolve(e.target.result);\n",
              "      };\n",
              "      reader.readAsArrayBuffer(file);\n",
              "    });\n",
              "    // Wait for the data to be ready.\n",
              "    let fileData = yield {\n",
              "      promise: fileDataPromise,\n",
              "      response: {\n",
              "        action: 'continue',\n",
              "      }\n",
              "    };\n",
              "\n",
              "    // Use a chunked sending to avoid message size limits. See b/62115660.\n",
              "    let position = 0;\n",
              "    do {\n",
              "      const length = Math.min(fileData.byteLength - position, MAX_PAYLOAD_SIZE);\n",
              "      const chunk = new Uint8Array(fileData, position, length);\n",
              "      position += length;\n",
              "\n",
              "      const base64 = btoa(String.fromCharCode.apply(null, chunk));\n",
              "      yield {\n",
              "        response: {\n",
              "          action: 'append',\n",
              "          file: file.name,\n",
              "          data: base64,\n",
              "        },\n",
              "      };\n",
              "\n",
              "      let percentDone = fileData.byteLength === 0 ?\n",
              "          100 :\n",
              "          Math.round((position / fileData.byteLength) * 100);\n",
              "      percent.textContent = `${percentDone}% done`;\n",
              "\n",
              "    } while (position < fileData.byteLength);\n",
              "  }\n",
              "\n",
              "  // All done.\n",
              "  yield {\n",
              "    response: {\n",
              "      action: 'complete',\n",
              "    }\n",
              "  };\n",
              "}\n",
              "\n",
              "scope.google = scope.google || {};\n",
              "scope.google.colab = scope.google.colab || {};\n",
              "scope.google.colab._files = {\n",
              "  _uploadFiles,\n",
              "  _uploadFilesContinue,\n",
              "};\n",
              "})(self);\n",
              "</script> "
            ]
          },
          "metadata": {}
        },
        {
          "output_type": "stream",
          "name": "stdout",
          "text": [
            "Saving features.csv to features.csv\n"
          ]
        }
      ],
      "source": [
        "from google.colab import files\n",
        "uploaded = files.upload()"
      ],
      "id": "rK-VmXotBl1e"
    },
    {
      "cell_type": "code",
      "execution_count": 4,
      "metadata": {
        "colab": {
          "base_uri": "https://localhost:8080/",
          "height": 629
        },
        "id": "a4ff5a23",
        "outputId": "9fa38bb3-b759-4cea-910f-867d79384b1f"
      },
      "outputs": [
        {
          "output_type": "execute_result",
          "data": {
            "text/plain": [
              "          0         1         2         3         4         5         6  \\\n",
              "0  0.038891  0.470762  0.580041  0.556164  0.485299  0.460506  0.484227   \n",
              "1  0.074024  0.564610  0.669950  0.660861  0.596096  0.573729  0.565783   \n",
              "2  0.036010  0.337834  0.433951  0.576598  0.553174  0.446085  0.431478   \n",
              "3  0.033904  0.662605  0.704369  0.623005  0.550529  0.483566  0.450042   \n",
              "4  0.033868  0.671452  0.723635  0.643924  0.571611  0.498932  0.456688   \n",
              "5  0.040469  0.563049  0.704122  0.741899  0.642924  0.571590  0.481145   \n",
              "6  0.034050  0.499493  0.402782  0.447793  0.501329  0.508590  0.535210   \n",
              "7  0.034538  0.500710  0.490847  0.569935  0.615811  0.624793  0.628846   \n",
              "8  0.036499  0.560245  0.433140  0.386937  0.454244  0.539771  0.567325   \n",
              "9  0.046594  0.555459  0.539101  0.544937  0.591256  0.627941  0.670136   \n",
              "\n",
              "          7         8         9  ...           160           161        162  \\\n",
              "0  0.506228  0.460546  0.536092  ...  6.204343e-07  1.810680e-07  30.325378   \n",
              "1  0.569342  0.542778  0.600784  ...  2.699842e-02  2.621805e-02  24.214328   \n",
              "2  0.449681  0.458042  0.448164  ...  3.287237e-07  6.452242e-08  33.409295   \n",
              "3  0.422957  0.463125  0.555203  ...  3.427215e-05  8.903367e-06  30.483110   \n",
              "4  0.431968  0.472708  0.568428  ...  7.383929e-05  4.553373e-05  30.263579   \n",
              "5  0.444777  0.412684  0.437085  ...  1.821190e-05  3.769441e-06  33.857414   \n",
              "6  0.544416  0.581536  0.531757  ...  1.710315e-06  2.970754e-07  30.814880   \n",
              "7  0.593419  0.622426  0.573399  ...  2.765613e-04  2.666047e-04  29.796519   \n",
              "8  0.590524  0.593385  0.635575  ...  5.399469e-07  9.045515e-08  32.716027   \n",
              "9  0.564776  0.471759  0.531354  ...  7.056893e-06  2.328165e-06  28.746856   \n",
              "\n",
              "         163        164        165        166        167        168  Emotion  \n",
              "0  19.403687  21.866991  19.155308  22.740866  19.702703  50.953309  Disgust  \n",
              "1  18.093431  19.081227  14.339408  15.280328  13.821124  13.617951  Disgust  \n",
              "2  19.594216  22.811201  20.137145  22.575847  20.587578  52.658367  Disgust  \n",
              "3  19.709231  20.306943  18.802990  21.573450  19.994558  50.950351  Disgust  \n",
              "4  19.300359  20.366364  18.683943  20.774781  16.853630  15.156141  Disgust  \n",
              "5  19.335322  20.615470  19.371393  21.827227  21.043356  52.027111  Disgust  \n",
              "6  19.242934  20.753847  18.205382  18.287174  18.151676  49.278799  Disgust  \n",
              "7  18.047761  19.932631  16.866437  17.129580  14.747024  14.806323  Disgust  \n",
              "8  19.868795  22.158762  19.493096  20.126953  20.446834  49.239741  Disgust  \n",
              "9  17.487574  20.140419  17.893547  21.686273  18.704486  50.437594  Disgust  \n",
              "\n",
              "[10 rows x 170 columns]"
            ],
            "text/html": [
              "\n",
              "  <div id=\"df-051af02f-8545-4d00-b883-211c43540184\">\n",
              "    <div class=\"colab-df-container\">\n",
              "      <div>\n",
              "<style scoped>\n",
              "    .dataframe tbody tr th:only-of-type {\n",
              "        vertical-align: middle;\n",
              "    }\n",
              "\n",
              "    .dataframe tbody tr th {\n",
              "        vertical-align: top;\n",
              "    }\n",
              "\n",
              "    .dataframe thead th {\n",
              "        text-align: right;\n",
              "    }\n",
              "</style>\n",
              "<table border=\"1\" class=\"dataframe\">\n",
              "  <thead>\n",
              "    <tr style=\"text-align: right;\">\n",
              "      <th></th>\n",
              "      <th>0</th>\n",
              "      <th>1</th>\n",
              "      <th>2</th>\n",
              "      <th>3</th>\n",
              "      <th>4</th>\n",
              "      <th>5</th>\n",
              "      <th>6</th>\n",
              "      <th>7</th>\n",
              "      <th>8</th>\n",
              "      <th>9</th>\n",
              "      <th>...</th>\n",
              "      <th>160</th>\n",
              "      <th>161</th>\n",
              "      <th>162</th>\n",
              "      <th>163</th>\n",
              "      <th>164</th>\n",
              "      <th>165</th>\n",
              "      <th>166</th>\n",
              "      <th>167</th>\n",
              "      <th>168</th>\n",
              "      <th>Emotion</th>\n",
              "    </tr>\n",
              "  </thead>\n",
              "  <tbody>\n",
              "    <tr>\n",
              "      <th>0</th>\n",
              "      <td>0.038891</td>\n",
              "      <td>0.470762</td>\n",
              "      <td>0.580041</td>\n",
              "      <td>0.556164</td>\n",
              "      <td>0.485299</td>\n",
              "      <td>0.460506</td>\n",
              "      <td>0.484227</td>\n",
              "      <td>0.506228</td>\n",
              "      <td>0.460546</td>\n",
              "      <td>0.536092</td>\n",
              "      <td>...</td>\n",
              "      <td>6.204343e-07</td>\n",
              "      <td>1.810680e-07</td>\n",
              "      <td>30.325378</td>\n",
              "      <td>19.403687</td>\n",
              "      <td>21.866991</td>\n",
              "      <td>19.155308</td>\n",
              "      <td>22.740866</td>\n",
              "      <td>19.702703</td>\n",
              "      <td>50.953309</td>\n",
              "      <td>Disgust</td>\n",
              "    </tr>\n",
              "    <tr>\n",
              "      <th>1</th>\n",
              "      <td>0.074024</td>\n",
              "      <td>0.564610</td>\n",
              "      <td>0.669950</td>\n",
              "      <td>0.660861</td>\n",
              "      <td>0.596096</td>\n",
              "      <td>0.573729</td>\n",
              "      <td>0.565783</td>\n",
              "      <td>0.569342</td>\n",
              "      <td>0.542778</td>\n",
              "      <td>0.600784</td>\n",
              "      <td>...</td>\n",
              "      <td>2.699842e-02</td>\n",
              "      <td>2.621805e-02</td>\n",
              "      <td>24.214328</td>\n",
              "      <td>18.093431</td>\n",
              "      <td>19.081227</td>\n",
              "      <td>14.339408</td>\n",
              "      <td>15.280328</td>\n",
              "      <td>13.821124</td>\n",
              "      <td>13.617951</td>\n",
              "      <td>Disgust</td>\n",
              "    </tr>\n",
              "    <tr>\n",
              "      <th>2</th>\n",
              "      <td>0.036010</td>\n",
              "      <td>0.337834</td>\n",
              "      <td>0.433951</td>\n",
              "      <td>0.576598</td>\n",
              "      <td>0.553174</td>\n",
              "      <td>0.446085</td>\n",
              "      <td>0.431478</td>\n",
              "      <td>0.449681</td>\n",
              "      <td>0.458042</td>\n",
              "      <td>0.448164</td>\n",
              "      <td>...</td>\n",
              "      <td>3.287237e-07</td>\n",
              "      <td>6.452242e-08</td>\n",
              "      <td>33.409295</td>\n",
              "      <td>19.594216</td>\n",
              "      <td>22.811201</td>\n",
              "      <td>20.137145</td>\n",
              "      <td>22.575847</td>\n",
              "      <td>20.587578</td>\n",
              "      <td>52.658367</td>\n",
              "      <td>Disgust</td>\n",
              "    </tr>\n",
              "    <tr>\n",
              "      <th>3</th>\n",
              "      <td>0.033904</td>\n",
              "      <td>0.662605</td>\n",
              "      <td>0.704369</td>\n",
              "      <td>0.623005</td>\n",
              "      <td>0.550529</td>\n",
              "      <td>0.483566</td>\n",
              "      <td>0.450042</td>\n",
              "      <td>0.422957</td>\n",
              "      <td>0.463125</td>\n",
              "      <td>0.555203</td>\n",
              "      <td>...</td>\n",
              "      <td>3.427215e-05</td>\n",
              "      <td>8.903367e-06</td>\n",
              "      <td>30.483110</td>\n",
              "      <td>19.709231</td>\n",
              "      <td>20.306943</td>\n",
              "      <td>18.802990</td>\n",
              "      <td>21.573450</td>\n",
              "      <td>19.994558</td>\n",
              "      <td>50.950351</td>\n",
              "      <td>Disgust</td>\n",
              "    </tr>\n",
              "    <tr>\n",
              "      <th>4</th>\n",
              "      <td>0.033868</td>\n",
              "      <td>0.671452</td>\n",
              "      <td>0.723635</td>\n",
              "      <td>0.643924</td>\n",
              "      <td>0.571611</td>\n",
              "      <td>0.498932</td>\n",
              "      <td>0.456688</td>\n",
              "      <td>0.431968</td>\n",
              "      <td>0.472708</td>\n",
              "      <td>0.568428</td>\n",
              "      <td>...</td>\n",
              "      <td>7.383929e-05</td>\n",
              "      <td>4.553373e-05</td>\n",
              "      <td>30.263579</td>\n",
              "      <td>19.300359</td>\n",
              "      <td>20.366364</td>\n",
              "      <td>18.683943</td>\n",
              "      <td>20.774781</td>\n",
              "      <td>16.853630</td>\n",
              "      <td>15.156141</td>\n",
              "      <td>Disgust</td>\n",
              "    </tr>\n",
              "    <tr>\n",
              "      <th>5</th>\n",
              "      <td>0.040469</td>\n",
              "      <td>0.563049</td>\n",
              "      <td>0.704122</td>\n",
              "      <td>0.741899</td>\n",
              "      <td>0.642924</td>\n",
              "      <td>0.571590</td>\n",
              "      <td>0.481145</td>\n",
              "      <td>0.444777</td>\n",
              "      <td>0.412684</td>\n",
              "      <td>0.437085</td>\n",
              "      <td>...</td>\n",
              "      <td>1.821190e-05</td>\n",
              "      <td>3.769441e-06</td>\n",
              "      <td>33.857414</td>\n",
              "      <td>19.335322</td>\n",
              "      <td>20.615470</td>\n",
              "      <td>19.371393</td>\n",
              "      <td>21.827227</td>\n",
              "      <td>21.043356</td>\n",
              "      <td>52.027111</td>\n",
              "      <td>Disgust</td>\n",
              "    </tr>\n",
              "    <tr>\n",
              "      <th>6</th>\n",
              "      <td>0.034050</td>\n",
              "      <td>0.499493</td>\n",
              "      <td>0.402782</td>\n",
              "      <td>0.447793</td>\n",
              "      <td>0.501329</td>\n",
              "      <td>0.508590</td>\n",
              "      <td>0.535210</td>\n",
              "      <td>0.544416</td>\n",
              "      <td>0.581536</td>\n",
              "      <td>0.531757</td>\n",
              "      <td>...</td>\n",
              "      <td>1.710315e-06</td>\n",
              "      <td>2.970754e-07</td>\n",
              "      <td>30.814880</td>\n",
              "      <td>19.242934</td>\n",
              "      <td>20.753847</td>\n",
              "      <td>18.205382</td>\n",
              "      <td>18.287174</td>\n",
              "      <td>18.151676</td>\n",
              "      <td>49.278799</td>\n",
              "      <td>Disgust</td>\n",
              "    </tr>\n",
              "    <tr>\n",
              "      <th>7</th>\n",
              "      <td>0.034538</td>\n",
              "      <td>0.500710</td>\n",
              "      <td>0.490847</td>\n",
              "      <td>0.569935</td>\n",
              "      <td>0.615811</td>\n",
              "      <td>0.624793</td>\n",
              "      <td>0.628846</td>\n",
              "      <td>0.593419</td>\n",
              "      <td>0.622426</td>\n",
              "      <td>0.573399</td>\n",
              "      <td>...</td>\n",
              "      <td>2.765613e-04</td>\n",
              "      <td>2.666047e-04</td>\n",
              "      <td>29.796519</td>\n",
              "      <td>18.047761</td>\n",
              "      <td>19.932631</td>\n",
              "      <td>16.866437</td>\n",
              "      <td>17.129580</td>\n",
              "      <td>14.747024</td>\n",
              "      <td>14.806323</td>\n",
              "      <td>Disgust</td>\n",
              "    </tr>\n",
              "    <tr>\n",
              "      <th>8</th>\n",
              "      <td>0.036499</td>\n",
              "      <td>0.560245</td>\n",
              "      <td>0.433140</td>\n",
              "      <td>0.386937</td>\n",
              "      <td>0.454244</td>\n",
              "      <td>0.539771</td>\n",
              "      <td>0.567325</td>\n",
              "      <td>0.590524</td>\n",
              "      <td>0.593385</td>\n",
              "      <td>0.635575</td>\n",
              "      <td>...</td>\n",
              "      <td>5.399469e-07</td>\n",
              "      <td>9.045515e-08</td>\n",
              "      <td>32.716027</td>\n",
              "      <td>19.868795</td>\n",
              "      <td>22.158762</td>\n",
              "      <td>19.493096</td>\n",
              "      <td>20.126953</td>\n",
              "      <td>20.446834</td>\n",
              "      <td>49.239741</td>\n",
              "      <td>Disgust</td>\n",
              "    </tr>\n",
              "    <tr>\n",
              "      <th>9</th>\n",
              "      <td>0.046594</td>\n",
              "      <td>0.555459</td>\n",
              "      <td>0.539101</td>\n",
              "      <td>0.544937</td>\n",
              "      <td>0.591256</td>\n",
              "      <td>0.627941</td>\n",
              "      <td>0.670136</td>\n",
              "      <td>0.564776</td>\n",
              "      <td>0.471759</td>\n",
              "      <td>0.531354</td>\n",
              "      <td>...</td>\n",
              "      <td>7.056893e-06</td>\n",
              "      <td>2.328165e-06</td>\n",
              "      <td>28.746856</td>\n",
              "      <td>17.487574</td>\n",
              "      <td>20.140419</td>\n",
              "      <td>17.893547</td>\n",
              "      <td>21.686273</td>\n",
              "      <td>18.704486</td>\n",
              "      <td>50.437594</td>\n",
              "      <td>Disgust</td>\n",
              "    </tr>\n",
              "  </tbody>\n",
              "</table>\n",
              "<p>10 rows × 170 columns</p>\n",
              "</div>\n",
              "      <button class=\"colab-df-convert\" onclick=\"convertToInteractive('df-051af02f-8545-4d00-b883-211c43540184')\"\n",
              "              title=\"Convert this dataframe to an interactive table.\"\n",
              "              style=\"display:none;\">\n",
              "        \n",
              "  <svg xmlns=\"http://www.w3.org/2000/svg\" height=\"24px\"viewBox=\"0 0 24 24\"\n",
              "       width=\"24px\">\n",
              "    <path d=\"M0 0h24v24H0V0z\" fill=\"none\"/>\n",
              "    <path d=\"M18.56 5.44l.94 2.06.94-2.06 2.06-.94-2.06-.94-.94-2.06-.94 2.06-2.06.94zm-11 1L8.5 8.5l.94-2.06 2.06-.94-2.06-.94L8.5 2.5l-.94 2.06-2.06.94zm10 10l.94 2.06.94-2.06 2.06-.94-2.06-.94-.94-2.06-.94 2.06-2.06.94z\"/><path d=\"M17.41 7.96l-1.37-1.37c-.4-.4-.92-.59-1.43-.59-.52 0-1.04.2-1.43.59L10.3 9.45l-7.72 7.72c-.78.78-.78 2.05 0 2.83L4 21.41c.39.39.9.59 1.41.59.51 0 1.02-.2 1.41-.59l7.78-7.78 2.81-2.81c.8-.78.8-2.07 0-2.86zM5.41 20L4 18.59l7.72-7.72 1.47 1.35L5.41 20z\"/>\n",
              "  </svg>\n",
              "      </button>\n",
              "      \n",
              "  <style>\n",
              "    .colab-df-container {\n",
              "      display:flex;\n",
              "      flex-wrap:wrap;\n",
              "      gap: 12px;\n",
              "    }\n",
              "\n",
              "    .colab-df-convert {\n",
              "      background-color: #E8F0FE;\n",
              "      border: none;\n",
              "      border-radius: 50%;\n",
              "      cursor: pointer;\n",
              "      display: none;\n",
              "      fill: #1967D2;\n",
              "      height: 32px;\n",
              "      padding: 0 0 0 0;\n",
              "      width: 32px;\n",
              "    }\n",
              "\n",
              "    .colab-df-convert:hover {\n",
              "      background-color: #E2EBFA;\n",
              "      box-shadow: 0px 1px 2px rgba(60, 64, 67, 0.3), 0px 1px 3px 1px rgba(60, 64, 67, 0.15);\n",
              "      fill: #174EA6;\n",
              "    }\n",
              "\n",
              "    [theme=dark] .colab-df-convert {\n",
              "      background-color: #3B4455;\n",
              "      fill: #D2E3FC;\n",
              "    }\n",
              "\n",
              "    [theme=dark] .colab-df-convert:hover {\n",
              "      background-color: #434B5C;\n",
              "      box-shadow: 0px 1px 3px 1px rgba(0, 0, 0, 0.15);\n",
              "      filter: drop-shadow(0px 1px 2px rgba(0, 0, 0, 0.3));\n",
              "      fill: #FFFFFF;\n",
              "    }\n",
              "  </style>\n",
              "\n",
              "      <script>\n",
              "        const buttonEl =\n",
              "          document.querySelector('#df-051af02f-8545-4d00-b883-211c43540184 button.colab-df-convert');\n",
              "        buttonEl.style.display =\n",
              "          google.colab.kernel.accessAllowed ? 'block' : 'none';\n",
              "\n",
              "        async function convertToInteractive(key) {\n",
              "          const element = document.querySelector('#df-051af02f-8545-4d00-b883-211c43540184');\n",
              "          const dataTable =\n",
              "            await google.colab.kernel.invokeFunction('convertToInteractive',\n",
              "                                                     [key], {});\n",
              "          if (!dataTable) return;\n",
              "\n",
              "          const docLinkHtml = 'Like what you see? Visit the ' +\n",
              "            '<a target=\"_blank\" href=https://colab.research.google.com/notebooks/data_table.ipynb>data table notebook</a>'\n",
              "            + ' to learn more about interactive tables.';\n",
              "          element.innerHTML = '';\n",
              "          dataTable['output_type'] = 'display_data';\n",
              "          await google.colab.output.renderOutput(dataTable, element);\n",
              "          const docLink = document.createElement('div');\n",
              "          docLink.innerHTML = docLinkHtml;\n",
              "          element.appendChild(docLink);\n",
              "        }\n",
              "      </script>\n",
              "    </div>\n",
              "  </div>\n",
              "  "
            ]
          },
          "metadata": {},
          "execution_count": 4
        }
      ],
      "source": [
        "AudioData = pd.read_csv('features.csv')\n",
        "AudioData.head(10)"
      ],
      "id": "a4ff5a23"
    },
    {
      "cell_type": "code",
      "execution_count": null,
      "metadata": {
        "colab": {
          "base_uri": "https://localhost:8080/"
        },
        "id": "HTHCehOWoBmv",
        "outputId": "8ae4f457-45ae-4130-a8d5-8470aa39ea2f"
      },
      "outputs": [
        {
          "output_type": "execute_result",
          "data": {
            "text/plain": [
              "array(['Angry', 'Disgust', 'Fear', 'Happy', 'Neutral', 'Sad', 'Surprise',\n",
              "       'Surprising'], dtype=object)"
            ]
          },
          "metadata": {},
          "execution_count": 4
        }
      ],
      "source": [
        "np.unique(AudioData['Emotion'])"
      ],
      "id": "HTHCehOWoBmv"
    },
    {
      "cell_type": "markdown",
      "metadata": {
        "id": "64cc58a4"
      },
      "source": [
        "## RNN"
      ],
      "id": "64cc58a4"
    },
    {
      "cell_type": "markdown",
      "metadata": {
        "id": "9543f6cb"
      },
      "source": [
        "Checking Keras and Python version to determine if the tuner can be used. Requirements: Python 3.6+ and TensorFlow 2.0+"
      ],
      "id": "9543f6cb"
    },
    {
      "cell_type": "markdown",
      "metadata": {
        "id": "e932ff34"
      },
      "source": [
        "As per lecture material - data split will be updated to 60% testing, 20% training, and 20% validation."
      ],
      "id": "e932ff34"
    },
    {
      "cell_type": "code",
      "execution_count": 5,
      "metadata": {
        "colab": {
          "base_uri": "https://localhost:8080/",
          "height": 661
        },
        "id": "1809541f",
        "outputId": "affca843-225f-4368-9b9b-001f86e37b15",
        "scrolled": true
      },
      "outputs": [
        {
          "output_type": "display_data",
          "data": {
            "text/plain": [
              "              0         1         2         3         4         5         6  \\\n",
              "3985   0.209022  0.615930  0.629533  0.537422  0.539763  0.646221  0.564628   \n",
              "17465  0.069415  0.602191  0.458399  0.461018  0.415263  0.593954  0.664165   \n",
              "28176  0.068537  0.588538  0.651782  0.640202  0.603821  0.551318  0.615094   \n",
              "22233  0.053627  0.583351  0.653151  0.656826  0.638719  0.621396  0.669126   \n",
              "29358  0.100923  0.562470  0.533881  0.507609  0.527478  0.600896  0.614688   \n",
              "...         ...       ...       ...       ...       ...       ...       ...   \n",
              "301    0.027555  0.620602  0.611620  0.622188  0.652557  0.587676  0.550081   \n",
              "626    0.037558  0.568094  0.524892  0.385427  0.319149  0.336000  0.426416   \n",
              "603    0.070421  0.606136  0.579121  0.527542  0.423288  0.428320  0.453846   \n",
              "901    0.095274  0.544987  0.542799  0.557157  0.542854  0.528467  0.496271   \n",
              "285    0.028326  0.429094  0.363666  0.409174  0.461417  0.420574  0.425758   \n",
              "\n",
              "              7         8         9  ...           160           161  \\\n",
              "3985   0.492218  0.528131  0.540121  ...  4.459659e-03  4.467287e-03   \n",
              "17465  0.540903  0.526180  0.540711  ...  1.146035e-06  4.474630e-07   \n",
              "28176  0.654251  0.736365  0.726728  ...  4.204036e-06  4.162336e-06   \n",
              "22233  0.599697  0.578763  0.633889  ...  1.732381e-06  1.717884e-06   \n",
              "29358  0.655558  0.620358  0.643287  ...  1.948537e-06  1.925934e-06   \n",
              "...         ...       ...       ...  ...           ...           ...   \n",
              "301    0.526583  0.547161  0.597673  ...  6.226604e-04  6.206081e-04   \n",
              "626    0.542300  0.544863  0.515762  ...  7.018638e-08  1.248153e-08   \n",
              "603    0.463117  0.425449  0.484910  ...  1.285681e-06  8.609435e-07   \n",
              "901    0.433527  0.445179  0.482204  ...  2.113032e-03  2.019561e-03   \n",
              "285    0.435394  0.559865  0.713143  ...  1.824258e-06  8.951568e-07   \n",
              "\n",
              "             162        163        164        165        166        167  \\\n",
              "3985   12.264729  19.750778  20.293469  17.807346  16.729766  17.472308   \n",
              "17465  15.999148  18.047755  21.464543  21.493378  20.090109  22.086128   \n",
              "28176  18.538895  15.891366  19.443295  14.670579  18.829608  20.033528   \n",
              "22233  13.501847  14.589915  17.284163  18.868818  20.905453  19.297238   \n",
              "29358  14.485351  16.040351  16.460947  17.908396  18.975610  18.980028   \n",
              "...          ...        ...        ...        ...        ...        ...   \n",
              "301    30.444714  16.897466  19.021750  15.484793  17.081293  14.845213   \n",
              "626    32.942853  20.636904  22.298685  21.102678  20.503427  20.299775   \n",
              "603    27.962814  18.215190  19.701425  20.570814  18.143109  18.870005   \n",
              "901    25.839607  18.800310  20.008626  17.076948  16.662271  16.830862   \n",
              "285    30.543254  17.539688  22.012847  19.505214  20.386206  19.357088   \n",
              "\n",
              "             168     Emotion  \n",
              "3985   13.668810       Angry  \n",
              "17465  64.949354       Angry  \n",
              "28176  63.984221       Angry  \n",
              "22233  61.996385       Angry  \n",
              "29358  64.477006       Angry  \n",
              "...          ...         ...  \n",
              "301    14.500237  Surprising  \n",
              "626    59.133929  Surprising  \n",
              "603    57.555808  Surprising  \n",
              "901    14.796245  Surprising  \n",
              "285    51.128675  Surprising  \n",
              "\n",
              "[27124 rows x 170 columns]"
            ],
            "text/html": [
              "\n",
              "  <div id=\"df-1153795e-ff8a-46e4-a540-7da31fa627c2\">\n",
              "    <div class=\"colab-df-container\">\n",
              "      <div>\n",
              "<style scoped>\n",
              "    .dataframe tbody tr th:only-of-type {\n",
              "        vertical-align: middle;\n",
              "    }\n",
              "\n",
              "    .dataframe tbody tr th {\n",
              "        vertical-align: top;\n",
              "    }\n",
              "\n",
              "    .dataframe thead th {\n",
              "        text-align: right;\n",
              "    }\n",
              "</style>\n",
              "<table border=\"1\" class=\"dataframe\">\n",
              "  <thead>\n",
              "    <tr style=\"text-align: right;\">\n",
              "      <th></th>\n",
              "      <th>0</th>\n",
              "      <th>1</th>\n",
              "      <th>2</th>\n",
              "      <th>3</th>\n",
              "      <th>4</th>\n",
              "      <th>5</th>\n",
              "      <th>6</th>\n",
              "      <th>7</th>\n",
              "      <th>8</th>\n",
              "      <th>9</th>\n",
              "      <th>...</th>\n",
              "      <th>160</th>\n",
              "      <th>161</th>\n",
              "      <th>162</th>\n",
              "      <th>163</th>\n",
              "      <th>164</th>\n",
              "      <th>165</th>\n",
              "      <th>166</th>\n",
              "      <th>167</th>\n",
              "      <th>168</th>\n",
              "      <th>Emotion</th>\n",
              "    </tr>\n",
              "  </thead>\n",
              "  <tbody>\n",
              "    <tr>\n",
              "      <th>3985</th>\n",
              "      <td>0.209022</td>\n",
              "      <td>0.615930</td>\n",
              "      <td>0.629533</td>\n",
              "      <td>0.537422</td>\n",
              "      <td>0.539763</td>\n",
              "      <td>0.646221</td>\n",
              "      <td>0.564628</td>\n",
              "      <td>0.492218</td>\n",
              "      <td>0.528131</td>\n",
              "      <td>0.540121</td>\n",
              "      <td>...</td>\n",
              "      <td>4.459659e-03</td>\n",
              "      <td>4.467287e-03</td>\n",
              "      <td>12.264729</td>\n",
              "      <td>19.750778</td>\n",
              "      <td>20.293469</td>\n",
              "      <td>17.807346</td>\n",
              "      <td>16.729766</td>\n",
              "      <td>17.472308</td>\n",
              "      <td>13.668810</td>\n",
              "      <td>Angry</td>\n",
              "    </tr>\n",
              "    <tr>\n",
              "      <th>17465</th>\n",
              "      <td>0.069415</td>\n",
              "      <td>0.602191</td>\n",
              "      <td>0.458399</td>\n",
              "      <td>0.461018</td>\n",
              "      <td>0.415263</td>\n",
              "      <td>0.593954</td>\n",
              "      <td>0.664165</td>\n",
              "      <td>0.540903</td>\n",
              "      <td>0.526180</td>\n",
              "      <td>0.540711</td>\n",
              "      <td>...</td>\n",
              "      <td>1.146035e-06</td>\n",
              "      <td>4.474630e-07</td>\n",
              "      <td>15.999148</td>\n",
              "      <td>18.047755</td>\n",
              "      <td>21.464543</td>\n",
              "      <td>21.493378</td>\n",
              "      <td>20.090109</td>\n",
              "      <td>22.086128</td>\n",
              "      <td>64.949354</td>\n",
              "      <td>Angry</td>\n",
              "    </tr>\n",
              "    <tr>\n",
              "      <th>28176</th>\n",
              "      <td>0.068537</td>\n",
              "      <td>0.588538</td>\n",
              "      <td>0.651782</td>\n",
              "      <td>0.640202</td>\n",
              "      <td>0.603821</td>\n",
              "      <td>0.551318</td>\n",
              "      <td>0.615094</td>\n",
              "      <td>0.654251</td>\n",
              "      <td>0.736365</td>\n",
              "      <td>0.726728</td>\n",
              "      <td>...</td>\n",
              "      <td>4.204036e-06</td>\n",
              "      <td>4.162336e-06</td>\n",
              "      <td>18.538895</td>\n",
              "      <td>15.891366</td>\n",
              "      <td>19.443295</td>\n",
              "      <td>14.670579</td>\n",
              "      <td>18.829608</td>\n",
              "      <td>20.033528</td>\n",
              "      <td>63.984221</td>\n",
              "      <td>Angry</td>\n",
              "    </tr>\n",
              "    <tr>\n",
              "      <th>22233</th>\n",
              "      <td>0.053627</td>\n",
              "      <td>0.583351</td>\n",
              "      <td>0.653151</td>\n",
              "      <td>0.656826</td>\n",
              "      <td>0.638719</td>\n",
              "      <td>0.621396</td>\n",
              "      <td>0.669126</td>\n",
              "      <td>0.599697</td>\n",
              "      <td>0.578763</td>\n",
              "      <td>0.633889</td>\n",
              "      <td>...</td>\n",
              "      <td>1.732381e-06</td>\n",
              "      <td>1.717884e-06</td>\n",
              "      <td>13.501847</td>\n",
              "      <td>14.589915</td>\n",
              "      <td>17.284163</td>\n",
              "      <td>18.868818</td>\n",
              "      <td>20.905453</td>\n",
              "      <td>19.297238</td>\n",
              "      <td>61.996385</td>\n",
              "      <td>Angry</td>\n",
              "    </tr>\n",
              "    <tr>\n",
              "      <th>29358</th>\n",
              "      <td>0.100923</td>\n",
              "      <td>0.562470</td>\n",
              "      <td>0.533881</td>\n",
              "      <td>0.507609</td>\n",
              "      <td>0.527478</td>\n",
              "      <td>0.600896</td>\n",
              "      <td>0.614688</td>\n",
              "      <td>0.655558</td>\n",
              "      <td>0.620358</td>\n",
              "      <td>0.643287</td>\n",
              "      <td>...</td>\n",
              "      <td>1.948537e-06</td>\n",
              "      <td>1.925934e-06</td>\n",
              "      <td>14.485351</td>\n",
              "      <td>16.040351</td>\n",
              "      <td>16.460947</td>\n",
              "      <td>17.908396</td>\n",
              "      <td>18.975610</td>\n",
              "      <td>18.980028</td>\n",
              "      <td>64.477006</td>\n",
              "      <td>Angry</td>\n",
              "    </tr>\n",
              "    <tr>\n",
              "      <th>...</th>\n",
              "      <td>...</td>\n",
              "      <td>...</td>\n",
              "      <td>...</td>\n",
              "      <td>...</td>\n",
              "      <td>...</td>\n",
              "      <td>...</td>\n",
              "      <td>...</td>\n",
              "      <td>...</td>\n",
              "      <td>...</td>\n",
              "      <td>...</td>\n",
              "      <td>...</td>\n",
              "      <td>...</td>\n",
              "      <td>...</td>\n",
              "      <td>...</td>\n",
              "      <td>...</td>\n",
              "      <td>...</td>\n",
              "      <td>...</td>\n",
              "      <td>...</td>\n",
              "      <td>...</td>\n",
              "      <td>...</td>\n",
              "      <td>...</td>\n",
              "    </tr>\n",
              "    <tr>\n",
              "      <th>301</th>\n",
              "      <td>0.027555</td>\n",
              "      <td>0.620602</td>\n",
              "      <td>0.611620</td>\n",
              "      <td>0.622188</td>\n",
              "      <td>0.652557</td>\n",
              "      <td>0.587676</td>\n",
              "      <td>0.550081</td>\n",
              "      <td>0.526583</td>\n",
              "      <td>0.547161</td>\n",
              "      <td>0.597673</td>\n",
              "      <td>...</td>\n",
              "      <td>6.226604e-04</td>\n",
              "      <td>6.206081e-04</td>\n",
              "      <td>30.444714</td>\n",
              "      <td>16.897466</td>\n",
              "      <td>19.021750</td>\n",
              "      <td>15.484793</td>\n",
              "      <td>17.081293</td>\n",
              "      <td>14.845213</td>\n",
              "      <td>14.500237</td>\n",
              "      <td>Surprising</td>\n",
              "    </tr>\n",
              "    <tr>\n",
              "      <th>626</th>\n",
              "      <td>0.037558</td>\n",
              "      <td>0.568094</td>\n",
              "      <td>0.524892</td>\n",
              "      <td>0.385427</td>\n",
              "      <td>0.319149</td>\n",
              "      <td>0.336000</td>\n",
              "      <td>0.426416</td>\n",
              "      <td>0.542300</td>\n",
              "      <td>0.544863</td>\n",
              "      <td>0.515762</td>\n",
              "      <td>...</td>\n",
              "      <td>7.018638e-08</td>\n",
              "      <td>1.248153e-08</td>\n",
              "      <td>32.942853</td>\n",
              "      <td>20.636904</td>\n",
              "      <td>22.298685</td>\n",
              "      <td>21.102678</td>\n",
              "      <td>20.503427</td>\n",
              "      <td>20.299775</td>\n",
              "      <td>59.133929</td>\n",
              "      <td>Surprising</td>\n",
              "    </tr>\n",
              "    <tr>\n",
              "      <th>603</th>\n",
              "      <td>0.070421</td>\n",
              "      <td>0.606136</td>\n",
              "      <td>0.579121</td>\n",
              "      <td>0.527542</td>\n",
              "      <td>0.423288</td>\n",
              "      <td>0.428320</td>\n",
              "      <td>0.453846</td>\n",
              "      <td>0.463117</td>\n",
              "      <td>0.425449</td>\n",
              "      <td>0.484910</td>\n",
              "      <td>...</td>\n",
              "      <td>1.285681e-06</td>\n",
              "      <td>8.609435e-07</td>\n",
              "      <td>27.962814</td>\n",
              "      <td>18.215190</td>\n",
              "      <td>19.701425</td>\n",
              "      <td>20.570814</td>\n",
              "      <td>18.143109</td>\n",
              "      <td>18.870005</td>\n",
              "      <td>57.555808</td>\n",
              "      <td>Surprising</td>\n",
              "    </tr>\n",
              "    <tr>\n",
              "      <th>901</th>\n",
              "      <td>0.095274</td>\n",
              "      <td>0.544987</td>\n",
              "      <td>0.542799</td>\n",
              "      <td>0.557157</td>\n",
              "      <td>0.542854</td>\n",
              "      <td>0.528467</td>\n",
              "      <td>0.496271</td>\n",
              "      <td>0.433527</td>\n",
              "      <td>0.445179</td>\n",
              "      <td>0.482204</td>\n",
              "      <td>...</td>\n",
              "      <td>2.113032e-03</td>\n",
              "      <td>2.019561e-03</td>\n",
              "      <td>25.839607</td>\n",
              "      <td>18.800310</td>\n",
              "      <td>20.008626</td>\n",
              "      <td>17.076948</td>\n",
              "      <td>16.662271</td>\n",
              "      <td>16.830862</td>\n",
              "      <td>14.796245</td>\n",
              "      <td>Surprising</td>\n",
              "    </tr>\n",
              "    <tr>\n",
              "      <th>285</th>\n",
              "      <td>0.028326</td>\n",
              "      <td>0.429094</td>\n",
              "      <td>0.363666</td>\n",
              "      <td>0.409174</td>\n",
              "      <td>0.461417</td>\n",
              "      <td>0.420574</td>\n",
              "      <td>0.425758</td>\n",
              "      <td>0.435394</td>\n",
              "      <td>0.559865</td>\n",
              "      <td>0.713143</td>\n",
              "      <td>...</td>\n",
              "      <td>1.824258e-06</td>\n",
              "      <td>8.951568e-07</td>\n",
              "      <td>30.543254</td>\n",
              "      <td>17.539688</td>\n",
              "      <td>22.012847</td>\n",
              "      <td>19.505214</td>\n",
              "      <td>20.386206</td>\n",
              "      <td>19.357088</td>\n",
              "      <td>51.128675</td>\n",
              "      <td>Surprising</td>\n",
              "    </tr>\n",
              "  </tbody>\n",
              "</table>\n",
              "<p>27124 rows × 170 columns</p>\n",
              "</div>\n",
              "      <button class=\"colab-df-convert\" onclick=\"convertToInteractive('df-1153795e-ff8a-46e4-a540-7da31fa627c2')\"\n",
              "              title=\"Convert this dataframe to an interactive table.\"\n",
              "              style=\"display:none;\">\n",
              "        \n",
              "  <svg xmlns=\"http://www.w3.org/2000/svg\" height=\"24px\"viewBox=\"0 0 24 24\"\n",
              "       width=\"24px\">\n",
              "    <path d=\"M0 0h24v24H0V0z\" fill=\"none\"/>\n",
              "    <path d=\"M18.56 5.44l.94 2.06.94-2.06 2.06-.94-2.06-.94-.94-2.06-.94 2.06-2.06.94zm-11 1L8.5 8.5l.94-2.06 2.06-.94-2.06-.94L8.5 2.5l-.94 2.06-2.06.94zm10 10l.94 2.06.94-2.06 2.06-.94-2.06-.94-.94-2.06-.94 2.06-2.06.94z\"/><path d=\"M17.41 7.96l-1.37-1.37c-.4-.4-.92-.59-1.43-.59-.52 0-1.04.2-1.43.59L10.3 9.45l-7.72 7.72c-.78.78-.78 2.05 0 2.83L4 21.41c.39.39.9.59 1.41.59.51 0 1.02-.2 1.41-.59l7.78-7.78 2.81-2.81c.8-.78.8-2.07 0-2.86zM5.41 20L4 18.59l7.72-7.72 1.47 1.35L5.41 20z\"/>\n",
              "  </svg>\n",
              "      </button>\n",
              "      \n",
              "  <style>\n",
              "    .colab-df-container {\n",
              "      display:flex;\n",
              "      flex-wrap:wrap;\n",
              "      gap: 12px;\n",
              "    }\n",
              "\n",
              "    .colab-df-convert {\n",
              "      background-color: #E8F0FE;\n",
              "      border: none;\n",
              "      border-radius: 50%;\n",
              "      cursor: pointer;\n",
              "      display: none;\n",
              "      fill: #1967D2;\n",
              "      height: 32px;\n",
              "      padding: 0 0 0 0;\n",
              "      width: 32px;\n",
              "    }\n",
              "\n",
              "    .colab-df-convert:hover {\n",
              "      background-color: #E2EBFA;\n",
              "      box-shadow: 0px 1px 2px rgba(60, 64, 67, 0.3), 0px 1px 3px 1px rgba(60, 64, 67, 0.15);\n",
              "      fill: #174EA6;\n",
              "    }\n",
              "\n",
              "    [theme=dark] .colab-df-convert {\n",
              "      background-color: #3B4455;\n",
              "      fill: #D2E3FC;\n",
              "    }\n",
              "\n",
              "    [theme=dark] .colab-df-convert:hover {\n",
              "      background-color: #434B5C;\n",
              "      box-shadow: 0px 1px 3px 1px rgba(0, 0, 0, 0.15);\n",
              "      filter: drop-shadow(0px 1px 2px rgba(0, 0, 0, 0.3));\n",
              "      fill: #FFFFFF;\n",
              "    }\n",
              "  </style>\n",
              "\n",
              "      <script>\n",
              "        const buttonEl =\n",
              "          document.querySelector('#df-1153795e-ff8a-46e4-a540-7da31fa627c2 button.colab-df-convert');\n",
              "        buttonEl.style.display =\n",
              "          google.colab.kernel.accessAllowed ? 'block' : 'none';\n",
              "\n",
              "        async function convertToInteractive(key) {\n",
              "          const element = document.querySelector('#df-1153795e-ff8a-46e4-a540-7da31fa627c2');\n",
              "          const dataTable =\n",
              "            await google.colab.kernel.invokeFunction('convertToInteractive',\n",
              "                                                     [key], {});\n",
              "          if (!dataTable) return;\n",
              "\n",
              "          const docLinkHtml = 'Like what you see? Visit the ' +\n",
              "            '<a target=\"_blank\" href=https://colab.research.google.com/notebooks/data_table.ipynb>data table notebook</a>'\n",
              "            + ' to learn more about interactive tables.';\n",
              "          element.innerHTML = '';\n",
              "          dataTable['output_type'] = 'display_data';\n",
              "          await google.colab.output.renderOutput(dataTable, element);\n",
              "          const docLink = document.createElement('div');\n",
              "          docLink.innerHTML = docLinkHtml;\n",
              "          element.appendChild(docLink);\n",
              "        }\n",
              "      </script>\n",
              "    </div>\n",
              "  </div>\n",
              "  "
            ]
          },
          "metadata": {}
        }
      ],
      "source": [
        "trainingdataNN = AudioData.groupby('Emotion', group_keys=False).apply(lambda x: x.sample(frac=0.8, random_state = 8))\n",
        "\n",
        "X_trNN = trainingdataNN.drop(['Emotion'],axis=1)\n",
        "Y_trNN = trainingdataNN['Emotion']\n",
        "display(trainingdataNN)"
      ],
      "id": "1809541f"
    },
    {
      "cell_type": "code",
      "execution_count": 6,
      "metadata": {
        "id": "595fbab4"
      },
      "outputs": [],
      "source": [
        "TestVal = AudioData[~AudioData.index.isin(trainingdataNN.index)]\n",
        "testingdataNN = TestVal.groupby('Emotion', group_keys=False).apply(lambda x: x.sample(frac=0.5, random_state = 8))\n",
        "valdataNN = TestVal[~TestVal.index.isin(testingdataNN.index)]\n",
        "\n",
        "X_teNN = testingdataNN.drop(['Emotion'],axis=1)\n",
        "Y_teNN = testingdataNN['Emotion']\n",
        "\n",
        "X_valNN = valdataNN.drop(['Emotion'],axis=1)\n",
        "Y_valNN = valdataNN['Emotion']"
      ],
      "id": "595fbab4"
    },
    {
      "cell_type": "code",
      "execution_count": null,
      "metadata": {
        "colab": {
          "base_uri": "https://localhost:8080/",
          "height": 661
        },
        "id": "76662e9b",
        "outputId": "886f43de-aa20-4a2b-cf9b-e86044943953"
      },
      "outputs": [
        {
          "output_type": "display_data",
          "data": {
            "text/plain": [
              "              0         1         2         3         4         5         6  \\\n",
              "16953  0.053900  0.588831  0.596698  0.529117  0.538768  0.641880  0.654099   \n",
              "31118  0.140958  0.674408  0.645613  0.621940  0.602149  0.589005  0.508954   \n",
              "4136   0.200039  0.669320  0.534526  0.528261  0.464555  0.346594  0.329524   \n",
              "21382  0.207611  0.641933  0.607900  0.620715  0.674392  0.658862  0.622954   \n",
              "1755   0.072180  0.632452  0.589594  0.417647  0.401400  0.376450  0.345953   \n",
              "...         ...       ...       ...       ...       ...       ...       ...   \n",
              "1248   0.038732  0.571092  0.606256  0.536806  0.462412  0.454300  0.553975   \n",
              "1223   0.030859  0.562794  0.489666  0.480386  0.536043  0.483916  0.523068   \n",
              "1240   0.217854  0.712459  0.709250  0.705634  0.711931  0.713874  0.721854   \n",
              "593    0.032262  0.490456  0.475262  0.477518  0.492470  0.530871  0.569853   \n",
              "624    0.043430  0.597971  0.504064  0.413698  0.383749  0.414589  0.502348   \n",
              "\n",
              "              7         8         9  ...           159           160  \\\n",
              "16953  0.725864  0.618889  0.615994  ...  7.588385e-06  7.496659e-06   \n",
              "31118  0.518937  0.597902  0.642033  ...  1.231558e-04  3.334791e-05   \n",
              "4136   0.457425  0.445445  0.442891  ...  2.487865e-03  1.803925e-03   \n",
              "21382  0.568593  0.595905  0.557012  ...  1.308373e-02  1.351006e-02   \n",
              "1755   0.434198  0.522286  0.481242  ...  4.074976e-05  2.279345e-05   \n",
              "...         ...       ...       ...  ...           ...           ...   \n",
              "1248   0.575210  0.601603  0.565401  ...  1.291397e-08  8.214259e-09   \n",
              "1223   0.522732  0.526267  0.557006  ...  1.992869e-09  9.981770e-10   \n",
              "1240   0.672270  0.664393  0.666444  ...  2.961709e-04  3.042304e-04   \n",
              "593    0.627045  0.655295  0.700390  ...  2.950105e-08  1.646953e-08   \n",
              "624    0.555680  0.574789  0.538359  ...  5.038717e-07  4.260237e-07   \n",
              "\n",
              "                161        162        163        164        165        166  \\\n",
              "16953  7.439717e-06  15.276055  15.393027  16.950271  18.119597  17.502405   \n",
              "31118  2.855021e-06  22.159346  17.886426  22.139420  19.390207  19.920732   \n",
              "4136   1.259302e-04  20.372215  20.029145  22.265654  20.944219  22.585991   \n",
              "21382  1.366414e-02  11.992381  15.964872  17.687555  15.710683  14.577986   \n",
              "1755   2.002413e-06  23.495339  20.769010  24.013420  23.188309  22.892827   \n",
              "...             ...        ...        ...        ...        ...        ...   \n",
              "1248   1.570213e-09  27.991942  15.738137  19.768009  19.735930  20.242813   \n",
              "1223   1.003269e-10  30.359259  17.098860  19.575940  20.824147  20.561347   \n",
              "1240   3.324691e-04  20.875578  14.744852  16.336007  14.663711  13.291318   \n",
              "593    1.838378e-09  27.786871  15.640828  17.710909  19.308112  21.001096   \n",
              "624    2.088892e-07  30.075893  18.370468  21.364356  19.498636  18.665142   \n",
              "\n",
              "             167        168  \n",
              "16953  17.197361  63.233099  \n",
              "31118  22.018232  50.697274  \n",
              "4136   23.175508  51.005349  \n",
              "21382  13.911348  13.639906  \n",
              "1755   18.492977  45.041485  \n",
              "...          ...        ...  \n",
              "1248   20.363803  48.040793  \n",
              "1223   22.332985  49.773345  \n",
              "1240   13.498762  13.409688  \n",
              "593    18.371720  51.952687  \n",
              "624    19.257150  57.656801  \n",
              "\n",
              "[3391 rows x 169 columns]"
            ],
            "text/html": [
              "\n",
              "  <div id=\"df-7f320e4c-bcf8-487c-b774-12c621e24b6d\">\n",
              "    <div class=\"colab-df-container\">\n",
              "      <div>\n",
              "<style scoped>\n",
              "    .dataframe tbody tr th:only-of-type {\n",
              "        vertical-align: middle;\n",
              "    }\n",
              "\n",
              "    .dataframe tbody tr th {\n",
              "        vertical-align: top;\n",
              "    }\n",
              "\n",
              "    .dataframe thead th {\n",
              "        text-align: right;\n",
              "    }\n",
              "</style>\n",
              "<table border=\"1\" class=\"dataframe\">\n",
              "  <thead>\n",
              "    <tr style=\"text-align: right;\">\n",
              "      <th></th>\n",
              "      <th>0</th>\n",
              "      <th>1</th>\n",
              "      <th>2</th>\n",
              "      <th>3</th>\n",
              "      <th>4</th>\n",
              "      <th>5</th>\n",
              "      <th>6</th>\n",
              "      <th>7</th>\n",
              "      <th>8</th>\n",
              "      <th>9</th>\n",
              "      <th>...</th>\n",
              "      <th>159</th>\n",
              "      <th>160</th>\n",
              "      <th>161</th>\n",
              "      <th>162</th>\n",
              "      <th>163</th>\n",
              "      <th>164</th>\n",
              "      <th>165</th>\n",
              "      <th>166</th>\n",
              "      <th>167</th>\n",
              "      <th>168</th>\n",
              "    </tr>\n",
              "  </thead>\n",
              "  <tbody>\n",
              "    <tr>\n",
              "      <th>16953</th>\n",
              "      <td>0.053900</td>\n",
              "      <td>0.588831</td>\n",
              "      <td>0.596698</td>\n",
              "      <td>0.529117</td>\n",
              "      <td>0.538768</td>\n",
              "      <td>0.641880</td>\n",
              "      <td>0.654099</td>\n",
              "      <td>0.725864</td>\n",
              "      <td>0.618889</td>\n",
              "      <td>0.615994</td>\n",
              "      <td>...</td>\n",
              "      <td>7.588385e-06</td>\n",
              "      <td>7.496659e-06</td>\n",
              "      <td>7.439717e-06</td>\n",
              "      <td>15.276055</td>\n",
              "      <td>15.393027</td>\n",
              "      <td>16.950271</td>\n",
              "      <td>18.119597</td>\n",
              "      <td>17.502405</td>\n",
              "      <td>17.197361</td>\n",
              "      <td>63.233099</td>\n",
              "    </tr>\n",
              "    <tr>\n",
              "      <th>31118</th>\n",
              "      <td>0.140958</td>\n",
              "      <td>0.674408</td>\n",
              "      <td>0.645613</td>\n",
              "      <td>0.621940</td>\n",
              "      <td>0.602149</td>\n",
              "      <td>0.589005</td>\n",
              "      <td>0.508954</td>\n",
              "      <td>0.518937</td>\n",
              "      <td>0.597902</td>\n",
              "      <td>0.642033</td>\n",
              "      <td>...</td>\n",
              "      <td>1.231558e-04</td>\n",
              "      <td>3.334791e-05</td>\n",
              "      <td>2.855021e-06</td>\n",
              "      <td>22.159346</td>\n",
              "      <td>17.886426</td>\n",
              "      <td>22.139420</td>\n",
              "      <td>19.390207</td>\n",
              "      <td>19.920732</td>\n",
              "      <td>22.018232</td>\n",
              "      <td>50.697274</td>\n",
              "    </tr>\n",
              "    <tr>\n",
              "      <th>4136</th>\n",
              "      <td>0.200039</td>\n",
              "      <td>0.669320</td>\n",
              "      <td>0.534526</td>\n",
              "      <td>0.528261</td>\n",
              "      <td>0.464555</td>\n",
              "      <td>0.346594</td>\n",
              "      <td>0.329524</td>\n",
              "      <td>0.457425</td>\n",
              "      <td>0.445445</td>\n",
              "      <td>0.442891</td>\n",
              "      <td>...</td>\n",
              "      <td>2.487865e-03</td>\n",
              "      <td>1.803925e-03</td>\n",
              "      <td>1.259302e-04</td>\n",
              "      <td>20.372215</td>\n",
              "      <td>20.029145</td>\n",
              "      <td>22.265654</td>\n",
              "      <td>20.944219</td>\n",
              "      <td>22.585991</td>\n",
              "      <td>23.175508</td>\n",
              "      <td>51.005349</td>\n",
              "    </tr>\n",
              "    <tr>\n",
              "      <th>21382</th>\n",
              "      <td>0.207611</td>\n",
              "      <td>0.641933</td>\n",
              "      <td>0.607900</td>\n",
              "      <td>0.620715</td>\n",
              "      <td>0.674392</td>\n",
              "      <td>0.658862</td>\n",
              "      <td>0.622954</td>\n",
              "      <td>0.568593</td>\n",
              "      <td>0.595905</td>\n",
              "      <td>0.557012</td>\n",
              "      <td>...</td>\n",
              "      <td>1.308373e-02</td>\n",
              "      <td>1.351006e-02</td>\n",
              "      <td>1.366414e-02</td>\n",
              "      <td>11.992381</td>\n",
              "      <td>15.964872</td>\n",
              "      <td>17.687555</td>\n",
              "      <td>15.710683</td>\n",
              "      <td>14.577986</td>\n",
              "      <td>13.911348</td>\n",
              "      <td>13.639906</td>\n",
              "    </tr>\n",
              "    <tr>\n",
              "      <th>1755</th>\n",
              "      <td>0.072180</td>\n",
              "      <td>0.632452</td>\n",
              "      <td>0.589594</td>\n",
              "      <td>0.417647</td>\n",
              "      <td>0.401400</td>\n",
              "      <td>0.376450</td>\n",
              "      <td>0.345953</td>\n",
              "      <td>0.434198</td>\n",
              "      <td>0.522286</td>\n",
              "      <td>0.481242</td>\n",
              "      <td>...</td>\n",
              "      <td>4.074976e-05</td>\n",
              "      <td>2.279345e-05</td>\n",
              "      <td>2.002413e-06</td>\n",
              "      <td>23.495339</td>\n",
              "      <td>20.769010</td>\n",
              "      <td>24.013420</td>\n",
              "      <td>23.188309</td>\n",
              "      <td>22.892827</td>\n",
              "      <td>18.492977</td>\n",
              "      <td>45.041485</td>\n",
              "    </tr>\n",
              "    <tr>\n",
              "      <th>...</th>\n",
              "      <td>...</td>\n",
              "      <td>...</td>\n",
              "      <td>...</td>\n",
              "      <td>...</td>\n",
              "      <td>...</td>\n",
              "      <td>...</td>\n",
              "      <td>...</td>\n",
              "      <td>...</td>\n",
              "      <td>...</td>\n",
              "      <td>...</td>\n",
              "      <td>...</td>\n",
              "      <td>...</td>\n",
              "      <td>...</td>\n",
              "      <td>...</td>\n",
              "      <td>...</td>\n",
              "      <td>...</td>\n",
              "      <td>...</td>\n",
              "      <td>...</td>\n",
              "      <td>...</td>\n",
              "      <td>...</td>\n",
              "      <td>...</td>\n",
              "    </tr>\n",
              "    <tr>\n",
              "      <th>1248</th>\n",
              "      <td>0.038732</td>\n",
              "      <td>0.571092</td>\n",
              "      <td>0.606256</td>\n",
              "      <td>0.536806</td>\n",
              "      <td>0.462412</td>\n",
              "      <td>0.454300</td>\n",
              "      <td>0.553975</td>\n",
              "      <td>0.575210</td>\n",
              "      <td>0.601603</td>\n",
              "      <td>0.565401</td>\n",
              "      <td>...</td>\n",
              "      <td>1.291397e-08</td>\n",
              "      <td>8.214259e-09</td>\n",
              "      <td>1.570213e-09</td>\n",
              "      <td>27.991942</td>\n",
              "      <td>15.738137</td>\n",
              "      <td>19.768009</td>\n",
              "      <td>19.735930</td>\n",
              "      <td>20.242813</td>\n",
              "      <td>20.363803</td>\n",
              "      <td>48.040793</td>\n",
              "    </tr>\n",
              "    <tr>\n",
              "      <th>1223</th>\n",
              "      <td>0.030859</td>\n",
              "      <td>0.562794</td>\n",
              "      <td>0.489666</td>\n",
              "      <td>0.480386</td>\n",
              "      <td>0.536043</td>\n",
              "      <td>0.483916</td>\n",
              "      <td>0.523068</td>\n",
              "      <td>0.522732</td>\n",
              "      <td>0.526267</td>\n",
              "      <td>0.557006</td>\n",
              "      <td>...</td>\n",
              "      <td>1.992869e-09</td>\n",
              "      <td>9.981770e-10</td>\n",
              "      <td>1.003269e-10</td>\n",
              "      <td>30.359259</td>\n",
              "      <td>17.098860</td>\n",
              "      <td>19.575940</td>\n",
              "      <td>20.824147</td>\n",
              "      <td>20.561347</td>\n",
              "      <td>22.332985</td>\n",
              "      <td>49.773345</td>\n",
              "    </tr>\n",
              "    <tr>\n",
              "      <th>1240</th>\n",
              "      <td>0.217854</td>\n",
              "      <td>0.712459</td>\n",
              "      <td>0.709250</td>\n",
              "      <td>0.705634</td>\n",
              "      <td>0.711931</td>\n",
              "      <td>0.713874</td>\n",
              "      <td>0.721854</td>\n",
              "      <td>0.672270</td>\n",
              "      <td>0.664393</td>\n",
              "      <td>0.666444</td>\n",
              "      <td>...</td>\n",
              "      <td>2.961709e-04</td>\n",
              "      <td>3.042304e-04</td>\n",
              "      <td>3.324691e-04</td>\n",
              "      <td>20.875578</td>\n",
              "      <td>14.744852</td>\n",
              "      <td>16.336007</td>\n",
              "      <td>14.663711</td>\n",
              "      <td>13.291318</td>\n",
              "      <td>13.498762</td>\n",
              "      <td>13.409688</td>\n",
              "    </tr>\n",
              "    <tr>\n",
              "      <th>593</th>\n",
              "      <td>0.032262</td>\n",
              "      <td>0.490456</td>\n",
              "      <td>0.475262</td>\n",
              "      <td>0.477518</td>\n",
              "      <td>0.492470</td>\n",
              "      <td>0.530871</td>\n",
              "      <td>0.569853</td>\n",
              "      <td>0.627045</td>\n",
              "      <td>0.655295</td>\n",
              "      <td>0.700390</td>\n",
              "      <td>...</td>\n",
              "      <td>2.950105e-08</td>\n",
              "      <td>1.646953e-08</td>\n",
              "      <td>1.838378e-09</td>\n",
              "      <td>27.786871</td>\n",
              "      <td>15.640828</td>\n",
              "      <td>17.710909</td>\n",
              "      <td>19.308112</td>\n",
              "      <td>21.001096</td>\n",
              "      <td>18.371720</td>\n",
              "      <td>51.952687</td>\n",
              "    </tr>\n",
              "    <tr>\n",
              "      <th>624</th>\n",
              "      <td>0.043430</td>\n",
              "      <td>0.597971</td>\n",
              "      <td>0.504064</td>\n",
              "      <td>0.413698</td>\n",
              "      <td>0.383749</td>\n",
              "      <td>0.414589</td>\n",
              "      <td>0.502348</td>\n",
              "      <td>0.555680</td>\n",
              "      <td>0.574789</td>\n",
              "      <td>0.538359</td>\n",
              "      <td>...</td>\n",
              "      <td>5.038717e-07</td>\n",
              "      <td>4.260237e-07</td>\n",
              "      <td>2.088892e-07</td>\n",
              "      <td>30.075893</td>\n",
              "      <td>18.370468</td>\n",
              "      <td>21.364356</td>\n",
              "      <td>19.498636</td>\n",
              "      <td>18.665142</td>\n",
              "      <td>19.257150</td>\n",
              "      <td>57.656801</td>\n",
              "    </tr>\n",
              "  </tbody>\n",
              "</table>\n",
              "<p>3391 rows × 169 columns</p>\n",
              "</div>\n",
              "      <button class=\"colab-df-convert\" onclick=\"convertToInteractive('df-7f320e4c-bcf8-487c-b774-12c621e24b6d')\"\n",
              "              title=\"Convert this dataframe to an interactive table.\"\n",
              "              style=\"display:none;\">\n",
              "        \n",
              "  <svg xmlns=\"http://www.w3.org/2000/svg\" height=\"24px\"viewBox=\"0 0 24 24\"\n",
              "       width=\"24px\">\n",
              "    <path d=\"M0 0h24v24H0V0z\" fill=\"none\"/>\n",
              "    <path d=\"M18.56 5.44l.94 2.06.94-2.06 2.06-.94-2.06-.94-.94-2.06-.94 2.06-2.06.94zm-11 1L8.5 8.5l.94-2.06 2.06-.94-2.06-.94L8.5 2.5l-.94 2.06-2.06.94zm10 10l.94 2.06.94-2.06 2.06-.94-2.06-.94-.94-2.06-.94 2.06-2.06.94z\"/><path d=\"M17.41 7.96l-1.37-1.37c-.4-.4-.92-.59-1.43-.59-.52 0-1.04.2-1.43.59L10.3 9.45l-7.72 7.72c-.78.78-.78 2.05 0 2.83L4 21.41c.39.39.9.59 1.41.59.51 0 1.02-.2 1.41-.59l7.78-7.78 2.81-2.81c.8-.78.8-2.07 0-2.86zM5.41 20L4 18.59l7.72-7.72 1.47 1.35L5.41 20z\"/>\n",
              "  </svg>\n",
              "      </button>\n",
              "      \n",
              "  <style>\n",
              "    .colab-df-container {\n",
              "      display:flex;\n",
              "      flex-wrap:wrap;\n",
              "      gap: 12px;\n",
              "    }\n",
              "\n",
              "    .colab-df-convert {\n",
              "      background-color: #E8F0FE;\n",
              "      border: none;\n",
              "      border-radius: 50%;\n",
              "      cursor: pointer;\n",
              "      display: none;\n",
              "      fill: #1967D2;\n",
              "      height: 32px;\n",
              "      padding: 0 0 0 0;\n",
              "      width: 32px;\n",
              "    }\n",
              "\n",
              "    .colab-df-convert:hover {\n",
              "      background-color: #E2EBFA;\n",
              "      box-shadow: 0px 1px 2px rgba(60, 64, 67, 0.3), 0px 1px 3px 1px rgba(60, 64, 67, 0.15);\n",
              "      fill: #174EA6;\n",
              "    }\n",
              "\n",
              "    [theme=dark] .colab-df-convert {\n",
              "      background-color: #3B4455;\n",
              "      fill: #D2E3FC;\n",
              "    }\n",
              "\n",
              "    [theme=dark] .colab-df-convert:hover {\n",
              "      background-color: #434B5C;\n",
              "      box-shadow: 0px 1px 3px 1px rgba(0, 0, 0, 0.15);\n",
              "      filter: drop-shadow(0px 1px 2px rgba(0, 0, 0, 0.3));\n",
              "      fill: #FFFFFF;\n",
              "    }\n",
              "  </style>\n",
              "\n",
              "      <script>\n",
              "        const buttonEl =\n",
              "          document.querySelector('#df-7f320e4c-bcf8-487c-b774-12c621e24b6d button.colab-df-convert');\n",
              "        buttonEl.style.display =\n",
              "          google.colab.kernel.accessAllowed ? 'block' : 'none';\n",
              "\n",
              "        async function convertToInteractive(key) {\n",
              "          const element = document.querySelector('#df-7f320e4c-bcf8-487c-b774-12c621e24b6d');\n",
              "          const dataTable =\n",
              "            await google.colab.kernel.invokeFunction('convertToInteractive',\n",
              "                                                     [key], {});\n",
              "          if (!dataTable) return;\n",
              "\n",
              "          const docLinkHtml = 'Like what you see? Visit the ' +\n",
              "            '<a target=\"_blank\" href=https://colab.research.google.com/notebooks/data_table.ipynb>data table notebook</a>'\n",
              "            + ' to learn more about interactive tables.';\n",
              "          element.innerHTML = '';\n",
              "          dataTable['output_type'] = 'display_data';\n",
              "          await google.colab.output.renderOutput(dataTable, element);\n",
              "          const docLink = document.createElement('div');\n",
              "          docLink.innerHTML = docLinkHtml;\n",
              "          element.appendChild(docLink);\n",
              "        }\n",
              "      </script>\n",
              "    </div>\n",
              "  </div>\n",
              "  "
            ]
          },
          "metadata": {}
        }
      ],
      "source": [
        "display(X_teNN)"
      ],
      "id": "76662e9b"
    },
    {
      "cell_type": "code",
      "execution_count": null,
      "metadata": {
        "colab": {
          "base_uri": "https://localhost:8080/",
          "height": 661
        },
        "id": "655b0a26",
        "outputId": "eead955e-7750-4bb0-b376-9e3b5b64a2dd"
      },
      "outputs": [
        {
          "output_type": "display_data",
          "data": {
            "text/plain": [
              "              0         1         2         3         4         5         6  \\\n",
              "13     0.220975  0.616789  0.618518  0.663071  0.679455  0.702730  0.641532   \n",
              "17     0.036542  0.475608  0.565633  0.561396  0.549132  0.552064  0.588044   \n",
              "25     0.113525  0.578972  0.620618  0.668756  0.694648  0.616924  0.568921   \n",
              "28     0.176505  0.553408  0.619100  0.641671  0.607506  0.604142  0.620096   \n",
              "58     0.087678  0.648332  0.437435  0.397505  0.393379  0.408274  0.432546   \n",
              "...         ...       ...       ...       ...       ...       ...       ...   \n",
              "33869  0.206995  0.615107  0.565086  0.546249  0.606146  0.598008  0.517979   \n",
              "33877  0.241618  0.573325  0.572063  0.610565  0.617225  0.574593  0.492307   \n",
              "33880  0.246826  0.721360  0.673401  0.597299  0.517307  0.479596  0.435075   \n",
              "33881  0.191714  0.561032  0.714673  0.654064  0.518269  0.387520  0.352157   \n",
              "33900  0.198342  0.605548  0.612416  0.600922  0.596780  0.612236  0.640384   \n",
              "\n",
              "              7         8         9  ...       159       160           161  \\\n",
              "13     0.545158  0.532574  0.619460  ...  0.068078  0.070176  6.870682e-02   \n",
              "17     0.647026  0.632294  0.461842  ...  0.000003  0.000002  3.811731e-07   \n",
              "25     0.522068  0.495153  0.468491  ...  0.012214  0.011749  1.157748e-02   \n",
              "28     0.629670  0.560522  0.556620  ...  0.051261  0.051220  5.173044e-02   \n",
              "58     0.438718  0.395679  0.381121  ...  0.052437  0.054365  5.435863e-02   \n",
              "...         ...       ...       ...  ...       ...       ...           ...   \n",
              "33869  0.576818  0.605899  0.668630  ...  0.000069  0.000045  7.667932e-06   \n",
              "33877  0.448980  0.449045  0.507886  ...  0.002869  0.002302  2.546831e-04   \n",
              "33880  0.480149  0.514665  0.545389  ...  0.002830  0.001695  2.691437e-04   \n",
              "33881  0.333408  0.405707  0.456508  ...  0.000550  0.000446  1.951150e-05   \n",
              "33900  0.598422  0.534371  0.542707  ...  0.006955  0.003789  2.553134e-04   \n",
              "\n",
              "             162        163        164        165        166        167  \\\n",
              "13     20.950055  16.741848  19.818415  15.306642  15.544656  13.409330   \n",
              "17     32.281563  18.992116  21.106172  19.587295  21.567115  20.337062   \n",
              "25     23.618486  17.249304  19.686181  15.615449  16.309500  13.499425   \n",
              "28     21.289769  18.336902  18.630364  14.445908  14.962407  13.533671   \n",
              "58     24.347521  20.072363  22.404784  16.116327  15.542586  13.561118   \n",
              "...          ...        ...        ...        ...        ...        ...   \n",
              "33869  23.950033  17.866463  19.465928  19.242724  21.608808  23.096265   \n",
              "33877  11.386844  19.989124  21.436037  18.763191  18.719489  17.142278   \n",
              "33880   9.996083  19.436807  21.297982  18.321674  18.159448  17.087898   \n",
              "33881  16.968951  22.541263  24.834023  21.960768  22.386276  21.821803   \n",
              "33900  15.135755  18.678312  18.621739  17.122998  18.789285  18.141704   \n",
              "\n",
              "             168  \n",
              "13     13.562461  \n",
              "17     54.223106  \n",
              "25     13.376966  \n",
              "28     13.576823  \n",
              "58     13.521466  \n",
              "...          ...  \n",
              "33869  47.303042  \n",
              "33877  15.732208  \n",
              "33880  15.302359  \n",
              "33881  50.306544  \n",
              "33900  44.228414  \n",
              "\n",
              "[3391 rows x 169 columns]"
            ],
            "text/html": [
              "\n",
              "  <div id=\"df-092761f4-ce12-49af-893d-848b04ec000b\">\n",
              "    <div class=\"colab-df-container\">\n",
              "      <div>\n",
              "<style scoped>\n",
              "    .dataframe tbody tr th:only-of-type {\n",
              "        vertical-align: middle;\n",
              "    }\n",
              "\n",
              "    .dataframe tbody tr th {\n",
              "        vertical-align: top;\n",
              "    }\n",
              "\n",
              "    .dataframe thead th {\n",
              "        text-align: right;\n",
              "    }\n",
              "</style>\n",
              "<table border=\"1\" class=\"dataframe\">\n",
              "  <thead>\n",
              "    <tr style=\"text-align: right;\">\n",
              "      <th></th>\n",
              "      <th>0</th>\n",
              "      <th>1</th>\n",
              "      <th>2</th>\n",
              "      <th>3</th>\n",
              "      <th>4</th>\n",
              "      <th>5</th>\n",
              "      <th>6</th>\n",
              "      <th>7</th>\n",
              "      <th>8</th>\n",
              "      <th>9</th>\n",
              "      <th>...</th>\n",
              "      <th>159</th>\n",
              "      <th>160</th>\n",
              "      <th>161</th>\n",
              "      <th>162</th>\n",
              "      <th>163</th>\n",
              "      <th>164</th>\n",
              "      <th>165</th>\n",
              "      <th>166</th>\n",
              "      <th>167</th>\n",
              "      <th>168</th>\n",
              "    </tr>\n",
              "  </thead>\n",
              "  <tbody>\n",
              "    <tr>\n",
              "      <th>13</th>\n",
              "      <td>0.220975</td>\n",
              "      <td>0.616789</td>\n",
              "      <td>0.618518</td>\n",
              "      <td>0.663071</td>\n",
              "      <td>0.679455</td>\n",
              "      <td>0.702730</td>\n",
              "      <td>0.641532</td>\n",
              "      <td>0.545158</td>\n",
              "      <td>0.532574</td>\n",
              "      <td>0.619460</td>\n",
              "      <td>...</td>\n",
              "      <td>0.068078</td>\n",
              "      <td>0.070176</td>\n",
              "      <td>6.870682e-02</td>\n",
              "      <td>20.950055</td>\n",
              "      <td>16.741848</td>\n",
              "      <td>19.818415</td>\n",
              "      <td>15.306642</td>\n",
              "      <td>15.544656</td>\n",
              "      <td>13.409330</td>\n",
              "      <td>13.562461</td>\n",
              "    </tr>\n",
              "    <tr>\n",
              "      <th>17</th>\n",
              "      <td>0.036542</td>\n",
              "      <td>0.475608</td>\n",
              "      <td>0.565633</td>\n",
              "      <td>0.561396</td>\n",
              "      <td>0.549132</td>\n",
              "      <td>0.552064</td>\n",
              "      <td>0.588044</td>\n",
              "      <td>0.647026</td>\n",
              "      <td>0.632294</td>\n",
              "      <td>0.461842</td>\n",
              "      <td>...</td>\n",
              "      <td>0.000003</td>\n",
              "      <td>0.000002</td>\n",
              "      <td>3.811731e-07</td>\n",
              "      <td>32.281563</td>\n",
              "      <td>18.992116</td>\n",
              "      <td>21.106172</td>\n",
              "      <td>19.587295</td>\n",
              "      <td>21.567115</td>\n",
              "      <td>20.337062</td>\n",
              "      <td>54.223106</td>\n",
              "    </tr>\n",
              "    <tr>\n",
              "      <th>25</th>\n",
              "      <td>0.113525</td>\n",
              "      <td>0.578972</td>\n",
              "      <td>0.620618</td>\n",
              "      <td>0.668756</td>\n",
              "      <td>0.694648</td>\n",
              "      <td>0.616924</td>\n",
              "      <td>0.568921</td>\n",
              "      <td>0.522068</td>\n",
              "      <td>0.495153</td>\n",
              "      <td>0.468491</td>\n",
              "      <td>...</td>\n",
              "      <td>0.012214</td>\n",
              "      <td>0.011749</td>\n",
              "      <td>1.157748e-02</td>\n",
              "      <td>23.618486</td>\n",
              "      <td>17.249304</td>\n",
              "      <td>19.686181</td>\n",
              "      <td>15.615449</td>\n",
              "      <td>16.309500</td>\n",
              "      <td>13.499425</td>\n",
              "      <td>13.376966</td>\n",
              "    </tr>\n",
              "    <tr>\n",
              "      <th>28</th>\n",
              "      <td>0.176505</td>\n",
              "      <td>0.553408</td>\n",
              "      <td>0.619100</td>\n",
              "      <td>0.641671</td>\n",
              "      <td>0.607506</td>\n",
              "      <td>0.604142</td>\n",
              "      <td>0.620096</td>\n",
              "      <td>0.629670</td>\n",
              "      <td>0.560522</td>\n",
              "      <td>0.556620</td>\n",
              "      <td>...</td>\n",
              "      <td>0.051261</td>\n",
              "      <td>0.051220</td>\n",
              "      <td>5.173044e-02</td>\n",
              "      <td>21.289769</td>\n",
              "      <td>18.336902</td>\n",
              "      <td>18.630364</td>\n",
              "      <td>14.445908</td>\n",
              "      <td>14.962407</td>\n",
              "      <td>13.533671</td>\n",
              "      <td>13.576823</td>\n",
              "    </tr>\n",
              "    <tr>\n",
              "      <th>58</th>\n",
              "      <td>0.087678</td>\n",
              "      <td>0.648332</td>\n",
              "      <td>0.437435</td>\n",
              "      <td>0.397505</td>\n",
              "      <td>0.393379</td>\n",
              "      <td>0.408274</td>\n",
              "      <td>0.432546</td>\n",
              "      <td>0.438718</td>\n",
              "      <td>0.395679</td>\n",
              "      <td>0.381121</td>\n",
              "      <td>...</td>\n",
              "      <td>0.052437</td>\n",
              "      <td>0.054365</td>\n",
              "      <td>5.435863e-02</td>\n",
              "      <td>24.347521</td>\n",
              "      <td>20.072363</td>\n",
              "      <td>22.404784</td>\n",
              "      <td>16.116327</td>\n",
              "      <td>15.542586</td>\n",
              "      <td>13.561118</td>\n",
              "      <td>13.521466</td>\n",
              "    </tr>\n",
              "    <tr>\n",
              "      <th>...</th>\n",
              "      <td>...</td>\n",
              "      <td>...</td>\n",
              "      <td>...</td>\n",
              "      <td>...</td>\n",
              "      <td>...</td>\n",
              "      <td>...</td>\n",
              "      <td>...</td>\n",
              "      <td>...</td>\n",
              "      <td>...</td>\n",
              "      <td>...</td>\n",
              "      <td>...</td>\n",
              "      <td>...</td>\n",
              "      <td>...</td>\n",
              "      <td>...</td>\n",
              "      <td>...</td>\n",
              "      <td>...</td>\n",
              "      <td>...</td>\n",
              "      <td>...</td>\n",
              "      <td>...</td>\n",
              "      <td>...</td>\n",
              "      <td>...</td>\n",
              "    </tr>\n",
              "    <tr>\n",
              "      <th>33869</th>\n",
              "      <td>0.206995</td>\n",
              "      <td>0.615107</td>\n",
              "      <td>0.565086</td>\n",
              "      <td>0.546249</td>\n",
              "      <td>0.606146</td>\n",
              "      <td>0.598008</td>\n",
              "      <td>0.517979</td>\n",
              "      <td>0.576818</td>\n",
              "      <td>0.605899</td>\n",
              "      <td>0.668630</td>\n",
              "      <td>...</td>\n",
              "      <td>0.000069</td>\n",
              "      <td>0.000045</td>\n",
              "      <td>7.667932e-06</td>\n",
              "      <td>23.950033</td>\n",
              "      <td>17.866463</td>\n",
              "      <td>19.465928</td>\n",
              "      <td>19.242724</td>\n",
              "      <td>21.608808</td>\n",
              "      <td>23.096265</td>\n",
              "      <td>47.303042</td>\n",
              "    </tr>\n",
              "    <tr>\n",
              "      <th>33877</th>\n",
              "      <td>0.241618</td>\n",
              "      <td>0.573325</td>\n",
              "      <td>0.572063</td>\n",
              "      <td>0.610565</td>\n",
              "      <td>0.617225</td>\n",
              "      <td>0.574593</td>\n",
              "      <td>0.492307</td>\n",
              "      <td>0.448980</td>\n",
              "      <td>0.449045</td>\n",
              "      <td>0.507886</td>\n",
              "      <td>...</td>\n",
              "      <td>0.002869</td>\n",
              "      <td>0.002302</td>\n",
              "      <td>2.546831e-04</td>\n",
              "      <td>11.386844</td>\n",
              "      <td>19.989124</td>\n",
              "      <td>21.436037</td>\n",
              "      <td>18.763191</td>\n",
              "      <td>18.719489</td>\n",
              "      <td>17.142278</td>\n",
              "      <td>15.732208</td>\n",
              "    </tr>\n",
              "    <tr>\n",
              "      <th>33880</th>\n",
              "      <td>0.246826</td>\n",
              "      <td>0.721360</td>\n",
              "      <td>0.673401</td>\n",
              "      <td>0.597299</td>\n",
              "      <td>0.517307</td>\n",
              "      <td>0.479596</td>\n",
              "      <td>0.435075</td>\n",
              "      <td>0.480149</td>\n",
              "      <td>0.514665</td>\n",
              "      <td>0.545389</td>\n",
              "      <td>...</td>\n",
              "      <td>0.002830</td>\n",
              "      <td>0.001695</td>\n",
              "      <td>2.691437e-04</td>\n",
              "      <td>9.996083</td>\n",
              "      <td>19.436807</td>\n",
              "      <td>21.297982</td>\n",
              "      <td>18.321674</td>\n",
              "      <td>18.159448</td>\n",
              "      <td>17.087898</td>\n",
              "      <td>15.302359</td>\n",
              "    </tr>\n",
              "    <tr>\n",
              "      <th>33881</th>\n",
              "      <td>0.191714</td>\n",
              "      <td>0.561032</td>\n",
              "      <td>0.714673</td>\n",
              "      <td>0.654064</td>\n",
              "      <td>0.518269</td>\n",
              "      <td>0.387520</td>\n",
              "      <td>0.352157</td>\n",
              "      <td>0.333408</td>\n",
              "      <td>0.405707</td>\n",
              "      <td>0.456508</td>\n",
              "      <td>...</td>\n",
              "      <td>0.000550</td>\n",
              "      <td>0.000446</td>\n",
              "      <td>1.951150e-05</td>\n",
              "      <td>16.968951</td>\n",
              "      <td>22.541263</td>\n",
              "      <td>24.834023</td>\n",
              "      <td>21.960768</td>\n",
              "      <td>22.386276</td>\n",
              "      <td>21.821803</td>\n",
              "      <td>50.306544</td>\n",
              "    </tr>\n",
              "    <tr>\n",
              "      <th>33900</th>\n",
              "      <td>0.198342</td>\n",
              "      <td>0.605548</td>\n",
              "      <td>0.612416</td>\n",
              "      <td>0.600922</td>\n",
              "      <td>0.596780</td>\n",
              "      <td>0.612236</td>\n",
              "      <td>0.640384</td>\n",
              "      <td>0.598422</td>\n",
              "      <td>0.534371</td>\n",
              "      <td>0.542707</td>\n",
              "      <td>...</td>\n",
              "      <td>0.006955</td>\n",
              "      <td>0.003789</td>\n",
              "      <td>2.553134e-04</td>\n",
              "      <td>15.135755</td>\n",
              "      <td>18.678312</td>\n",
              "      <td>18.621739</td>\n",
              "      <td>17.122998</td>\n",
              "      <td>18.789285</td>\n",
              "      <td>18.141704</td>\n",
              "      <td>44.228414</td>\n",
              "    </tr>\n",
              "  </tbody>\n",
              "</table>\n",
              "<p>3391 rows × 169 columns</p>\n",
              "</div>\n",
              "      <button class=\"colab-df-convert\" onclick=\"convertToInteractive('df-092761f4-ce12-49af-893d-848b04ec000b')\"\n",
              "              title=\"Convert this dataframe to an interactive table.\"\n",
              "              style=\"display:none;\">\n",
              "        \n",
              "  <svg xmlns=\"http://www.w3.org/2000/svg\" height=\"24px\"viewBox=\"0 0 24 24\"\n",
              "       width=\"24px\">\n",
              "    <path d=\"M0 0h24v24H0V0z\" fill=\"none\"/>\n",
              "    <path d=\"M18.56 5.44l.94 2.06.94-2.06 2.06-.94-2.06-.94-.94-2.06-.94 2.06-2.06.94zm-11 1L8.5 8.5l.94-2.06 2.06-.94-2.06-.94L8.5 2.5l-.94 2.06-2.06.94zm10 10l.94 2.06.94-2.06 2.06-.94-2.06-.94-.94-2.06-.94 2.06-2.06.94z\"/><path d=\"M17.41 7.96l-1.37-1.37c-.4-.4-.92-.59-1.43-.59-.52 0-1.04.2-1.43.59L10.3 9.45l-7.72 7.72c-.78.78-.78 2.05 0 2.83L4 21.41c.39.39.9.59 1.41.59.51 0 1.02-.2 1.41-.59l7.78-7.78 2.81-2.81c.8-.78.8-2.07 0-2.86zM5.41 20L4 18.59l7.72-7.72 1.47 1.35L5.41 20z\"/>\n",
              "  </svg>\n",
              "      </button>\n",
              "      \n",
              "  <style>\n",
              "    .colab-df-container {\n",
              "      display:flex;\n",
              "      flex-wrap:wrap;\n",
              "      gap: 12px;\n",
              "    }\n",
              "\n",
              "    .colab-df-convert {\n",
              "      background-color: #E8F0FE;\n",
              "      border: none;\n",
              "      border-radius: 50%;\n",
              "      cursor: pointer;\n",
              "      display: none;\n",
              "      fill: #1967D2;\n",
              "      height: 32px;\n",
              "      padding: 0 0 0 0;\n",
              "      width: 32px;\n",
              "    }\n",
              "\n",
              "    .colab-df-convert:hover {\n",
              "      background-color: #E2EBFA;\n",
              "      box-shadow: 0px 1px 2px rgba(60, 64, 67, 0.3), 0px 1px 3px 1px rgba(60, 64, 67, 0.15);\n",
              "      fill: #174EA6;\n",
              "    }\n",
              "\n",
              "    [theme=dark] .colab-df-convert {\n",
              "      background-color: #3B4455;\n",
              "      fill: #D2E3FC;\n",
              "    }\n",
              "\n",
              "    [theme=dark] .colab-df-convert:hover {\n",
              "      background-color: #434B5C;\n",
              "      box-shadow: 0px 1px 3px 1px rgba(0, 0, 0, 0.15);\n",
              "      filter: drop-shadow(0px 1px 2px rgba(0, 0, 0, 0.3));\n",
              "      fill: #FFFFFF;\n",
              "    }\n",
              "  </style>\n",
              "\n",
              "      <script>\n",
              "        const buttonEl =\n",
              "          document.querySelector('#df-092761f4-ce12-49af-893d-848b04ec000b button.colab-df-convert');\n",
              "        buttonEl.style.display =\n",
              "          google.colab.kernel.accessAllowed ? 'block' : 'none';\n",
              "\n",
              "        async function convertToInteractive(key) {\n",
              "          const element = document.querySelector('#df-092761f4-ce12-49af-893d-848b04ec000b');\n",
              "          const dataTable =\n",
              "            await google.colab.kernel.invokeFunction('convertToInteractive',\n",
              "                                                     [key], {});\n",
              "          if (!dataTable) return;\n",
              "\n",
              "          const docLinkHtml = 'Like what you see? Visit the ' +\n",
              "            '<a target=\"_blank\" href=https://colab.research.google.com/notebooks/data_table.ipynb>data table notebook</a>'\n",
              "            + ' to learn more about interactive tables.';\n",
              "          element.innerHTML = '';\n",
              "          dataTable['output_type'] = 'display_data';\n",
              "          await google.colab.output.renderOutput(dataTable, element);\n",
              "          const docLink = document.createElement('div');\n",
              "          docLink.innerHTML = docLinkHtml;\n",
              "          element.appendChild(docLink);\n",
              "        }\n",
              "      </script>\n",
              "    </div>\n",
              "  </div>\n",
              "  "
            ]
          },
          "metadata": {}
        }
      ],
      "source": [
        "display(X_valNN)"
      ],
      "id": "655b0a26"
    },
    {
      "cell_type": "code",
      "execution_count": null,
      "metadata": {
        "id": "bac9cbcf"
      },
      "outputs": [],
      "source": [
        "encoder = OneHotEncoder()\n",
        "Y_trHE = encoder.fit_transform(np.array(Y_trNN).reshape(-1,1)).toarray()\n",
        "Y_valHE = encoder.transform(np.array(Y_valNN).reshape(-1,1)).toarray() #updated so only fitting training then using that for validation"
      ],
      "id": "bac9cbcf"
    },
    {
      "cell_type": "code",
      "source": [
        "#For reuploading the Encoder\n",
        "enc = joblib.load('RNNencoder.joblib')\n",
        "\n",
        "Y_trHE = enc.transform(np.array(Y_trNN).reshape(-1,1)).toarray()\n",
        "Y_valHE = enc.transform(np.array(Y_valNN).reshape(-1,1)).toarray()\n",
        "\n",
        "#Reference: https://stackoverflow.com/questions/59511198/save-and-load-one-hot-encoding-for-ml"
      ],
      "metadata": {
        "id": "92adAZP-Qu6k"
      },
      "id": "92adAZP-Qu6k",
      "execution_count": 7,
      "outputs": []
    },
    {
      "cell_type": "code",
      "source": [
        "#Using uploaded encoder - checking for shape\n",
        "print(Y_valHE.shape)\n",
        "print(Y_trHE.shape)"
      ],
      "metadata": {
        "colab": {
          "base_uri": "https://localhost:8080/"
        },
        "id": "vzN2lYcBTBsY",
        "outputId": "c8906c79-cad6-48bf-bcd6-6ffb418a5d64"
      },
      "id": "vzN2lYcBTBsY",
      "execution_count": null,
      "outputs": [
        {
          "output_type": "stream",
          "name": "stdout",
          "text": [
            "(3391, 8)\n",
            "(27124, 8)\n"
          ]
        }
      ]
    },
    {
      "cell_type": "code",
      "source": [
        "#Checking if the encoding was successful\n",
        "Y_valHE"
      ],
      "metadata": {
        "colab": {
          "base_uri": "https://localhost:8080/"
        },
        "id": "xT7QN9zfU5uL",
        "outputId": "6b2ccdb5-f890-43be-b89f-cbc7012fa6f7"
      },
      "id": "xT7QN9zfU5uL",
      "execution_count": null,
      "outputs": [
        {
          "output_type": "execute_result",
          "data": {
            "text/plain": [
              "array([[0., 1., 0., ..., 0., 0., 0.],\n",
              "       [0., 1., 0., ..., 0., 0., 0.],\n",
              "       [0., 1., 0., ..., 0., 0., 0.],\n",
              "       ...,\n",
              "       [0., 1., 0., ..., 0., 0., 0.],\n",
              "       [0., 1., 0., ..., 0., 0., 0.],\n",
              "       [0., 0., 0., ..., 0., 1., 0.]])"
            ]
          },
          "metadata": {},
          "execution_count": 12
        }
      ]
    },
    {
      "cell_type": "code",
      "execution_count": null,
      "metadata": {
        "colab": {
          "base_uri": "https://localhost:8080/"
        },
        "id": "b750183f",
        "outputId": "60980b6d-2596-429e-cda0-4f7617dfae74"
      },
      "outputs": [
        {
          "name": "stdout",
          "output_type": "stream",
          "text": [
            "(3391, 8)\n",
            "(27124, 8)\n"
          ]
        }
      ],
      "source": [
        "print(Y_valHE.shape)\n",
        "print(Y_trHE.shape)"
      ],
      "id": "b750183f"
    },
    {
      "cell_type": "code",
      "execution_count": 8,
      "metadata": {
        "id": "0de95a22"
      },
      "outputs": [],
      "source": [
        "scaler = StandardScaler()\n",
        "\n",
        "X_trNN_transformed = scaler.fit_transform(X_trNN)\n",
        "X_teNN_transformed = scaler.transform(X_teNN) #Updated again under similar logic to above for OneHotEncoder\n",
        "X_valNN_transformed = scaler.transform(X_valNN) #Updated again under similar logic to above for OneHotEncoder"
      ],
      "id": "0de95a22"
    },
    {
      "cell_type": "code",
      "execution_count": 9,
      "metadata": {
        "colab": {
          "base_uri": "https://localhost:8080/"
        },
        "id": "8b405e09",
        "outputId": "ba96a5d4-fec4-476f-84ee-7967f6caa3f4"
      },
      "outputs": [
        {
          "output_type": "stream",
          "name": "stdout",
          "text": [
            "(27124, 169, 1)\n",
            "(3391, 169, 1)\n"
          ]
        }
      ],
      "source": [
        "X_trHE = np.expand_dims(X_trNN_transformed, axis=2)\n",
        "X_valHE = np.expand_dims(X_valNN_transformed, axis=2)\n",
        "print(X_trHE.shape)\n",
        "print(X_valHE.shape)"
      ],
      "id": "8b405e09"
    },
    {
      "cell_type": "code",
      "execution_count": 10,
      "metadata": {
        "id": "7Y2L_WReB77N",
        "colab": {
          "base_uri": "https://localhost:8080/"
        },
        "outputId": "675a6dfd-6222-4e78-f74c-061d4029b1ff"
      },
      "outputs": [
        {
          "output_type": "stream",
          "name": "stderr",
          "text": [
            "WARNING:tensorflow:Layer lstm will not use cuDNN kernels since it doesn't meet the criteria. It will use a generic GPU kernel as fallback when running on GPU.\n",
            "WARNING:tensorflow:Layer lstm will not use cuDNN kernels since it doesn't meet the criteria. It will use a generic GPU kernel as fallback when running on GPU.\n",
            "WARNING:tensorflow:Layer lstm will not use cuDNN kernels since it doesn't meet the criteria. It will use a generic GPU kernel as fallback when running on GPU.\n",
            "WARNING:tensorflow:Layer lstm_1 will not use cuDNN kernels since it doesn't meet the criteria. It will use a generic GPU kernel as fallback when running on GPU.\n",
            "WARNING:tensorflow:Layer lstm_1 will not use cuDNN kernels since it doesn't meet the criteria. It will use a generic GPU kernel as fallback when running on GPU.\n",
            "WARNING:tensorflow:Layer lstm_1 will not use cuDNN kernels since it doesn't meet the criteria. It will use a generic GPU kernel as fallback when running on GPU.\n",
            "WARNING:tensorflow:Layer lstm_2 will not use cuDNN kernels since it doesn't meet the criteria. It will use a generic GPU kernel as fallback when running on GPU.\n",
            "WARNING:tensorflow:Layer lstm_2 will not use cuDNN kernels since it doesn't meet the criteria. It will use a generic GPU kernel as fallback when running on GPU.\n",
            "WARNING:tensorflow:Layer lstm_2 will not use cuDNN kernels since it doesn't meet the criteria. It will use a generic GPU kernel as fallback when running on GPU.\n",
            "WARNING:tensorflow:Layer lstm_3 will not use cuDNN kernels since it doesn't meet the criteria. It will use a generic GPU kernel as fallback when running on GPU.\n",
            "WARNING:tensorflow:Layer lstm_3 will not use cuDNN kernels since it doesn't meet the criteria. It will use a generic GPU kernel as fallback when running on GPU.\n",
            "WARNING:tensorflow:Layer lstm_3 will not use cuDNN kernels since it doesn't meet the criteria. It will use a generic GPU kernel as fallback when running on GPU.\n"
          ]
        }
      ],
      "source": [
        "model = keras.Sequential()\n",
        "\n",
        "model.add(layers.Bidirectional(layers.LSTM(units =250, activation='sigmoid',return_sequences=True, dropout = 0.05,kernel_initializer=initializers.RandomNormal(stddev=0.2)), \n",
        "                               input_shape=(X_trNN_transformed.shape[1],1)))\n",
        "\n",
        "model.add(layers.Bidirectional(layers.LSTM(units = 180,activation='sigmoid',return_sequences=True, dropout = 0.14,kernel_initializer=initializers.RandomNormal(stddev=0.2))))\n",
        "\n",
        "model.add(layers.Bidirectional(layers.LSTM(units = 50, activation='sigmoid',return_sequences=True, dropout = 0.1,kernel_initializer=initializers.RandomNormal(stddev=0.2))))\n",
        "\n",
        "model.add(layers.Bidirectional(layers.LSTM(units = 110,activation='sigmoid',dropout = 0.14,kernel_initializer=initializers.RandomNormal(stddev=0.2))))\n",
        "\n",
        "model.add(tf.keras.layers.Dense(8,activation=\"softmax\"))\n",
        "\n",
        "model.compile(loss='categorical_crossentropy', optimizer='Nadam', metrics=['accuracy']) "
      ],
      "id": "7Y2L_WReB77N"
    },
    {
      "cell_type": "code",
      "source": [
        "model.save(\"RNN_model.h5\", save_format='h5')"
      ],
      "metadata": {
        "id": "ROeWu2ABpeIz"
      },
      "id": "ROeWu2ABpeIz",
      "execution_count": null,
      "outputs": []
    },
    {
      "cell_type": "code",
      "source": [
        "files.download(\"RNN_model.h5\")"
      ],
      "metadata": {
        "colab": {
          "base_uri": "https://localhost:8080/",
          "height": 17
        },
        "id": "boS-b0c3AjTH",
        "outputId": "5e625989-4649-49f9-85f9-b21186bb564e"
      },
      "id": "boS-b0c3AjTH",
      "execution_count": null,
      "outputs": [
        {
          "output_type": "display_data",
          "data": {
            "text/plain": [
              "<IPython.core.display.Javascript object>"
            ],
            "application/javascript": [
              "\n",
              "    async function download(id, filename, size) {\n",
              "      if (!google.colab.kernel.accessAllowed) {\n",
              "        return;\n",
              "      }\n",
              "      const div = document.createElement('div');\n",
              "      const label = document.createElement('label');\n",
              "      label.textContent = `Downloading \"${filename}\": `;\n",
              "      div.appendChild(label);\n",
              "      const progress = document.createElement('progress');\n",
              "      progress.max = size;\n",
              "      div.appendChild(progress);\n",
              "      document.body.appendChild(div);\n",
              "\n",
              "      const buffers = [];\n",
              "      let downloaded = 0;\n",
              "\n",
              "      const channel = await google.colab.kernel.comms.open(id);\n",
              "      // Send a message to notify the kernel that we're ready.\n",
              "      channel.send({})\n",
              "\n",
              "      for await (const message of channel.messages) {\n",
              "        // Send a message to notify the kernel that we're ready.\n",
              "        channel.send({})\n",
              "        if (message.buffers) {\n",
              "          for (const buffer of message.buffers) {\n",
              "            buffers.push(buffer);\n",
              "            downloaded += buffer.byteLength;\n",
              "            progress.value = downloaded;\n",
              "          }\n",
              "        }\n",
              "      }\n",
              "      const blob = new Blob(buffers, {type: 'application/binary'});\n",
              "      const a = document.createElement('a');\n",
              "      a.href = window.URL.createObjectURL(blob);\n",
              "      a.download = filename;\n",
              "      div.appendChild(a);\n",
              "      a.click();\n",
              "      div.remove();\n",
              "    }\n",
              "  "
            ]
          },
          "metadata": {}
        },
        {
          "output_type": "display_data",
          "data": {
            "text/plain": [
              "<IPython.core.display.Javascript object>"
            ],
            "application/javascript": [
              "download(\"download_843fa652-e316-4dad-9174-d10ee0da335a\", \"RNN_model.h5\", 7395400)"
            ]
          },
          "metadata": {}
        }
      ]
    },
    {
      "cell_type": "code",
      "source": [
        "joblib.dump(encoder, 'RNNencoder.joblib')"
      ],
      "metadata": {
        "colab": {
          "base_uri": "https://localhost:8080/"
        },
        "id": "jltoc493eUW6",
        "outputId": "c1151606-72d5-4047-ca5b-a4454ea0bb5f"
      },
      "id": "jltoc493eUW6",
      "execution_count": null,
      "outputs": [
        {
          "output_type": "execute_result",
          "data": {
            "text/plain": [
              "['RNNencoder.joblib']"
            ]
          },
          "metadata": {},
          "execution_count": 37
        }
      ]
    },
    {
      "cell_type": "code",
      "execution_count": null,
      "metadata": {
        "colab": {
          "base_uri": "https://localhost:8080/"
        },
        "id": "1s42AMj2DqJG",
        "outputId": "f416ca14-2281-4745-ad32-bcc510a4b275"
      },
      "outputs": [
        {
          "name": "stdout",
          "output_type": "stream",
          "text": [
            "Model: \"sequential\"\n",
            "_________________________________________________________________\n",
            " Layer (type)                Output Shape              Param #   \n",
            "=================================================================\n",
            " bidirectional (Bidirectiona  (None, 169, 500)         504000    \n",
            " l)                                                              \n",
            "                                                                 \n",
            " bidirectional_1 (Bidirectio  (None, 169, 360)         980640    \n",
            " nal)                                                            \n",
            "                                                                 \n",
            " bidirectional_2 (Bidirectio  (None, 169, 100)         164400    \n",
            " nal)                                                            \n",
            "                                                                 \n",
            " bidirectional_3 (Bidirectio  (None, 220)              185680    \n",
            " nal)                                                            \n",
            "                                                                 \n",
            " dense (Dense)               (None, 8)                 1768      \n",
            "                                                                 \n",
            "=================================================================\n",
            "Total params: 1,836,488\n",
            "Trainable params: 1,836,488\n",
            "Non-trainable params: 0\n",
            "_________________________________________________________________\n"
          ]
        }
      ],
      "source": [
        "model.summary()"
      ],
      "id": "1s42AMj2DqJG"
    },
    {
      "cell_type": "code",
      "execution_count": null,
      "metadata": {
        "colab": {
          "base_uri": "https://localhost:8080/"
        },
        "id": "KEmP_nOfDnSf",
        "outputId": "2c3d1bee-eae6-43f8-e62d-af71498e7912"
      },
      "outputs": [
        {
          "name": "stdout",
          "output_type": "stream",
          "text": [
            "Epoch 1/7\n",
            "109/109 [==============================] - ETA: 0s - loss: 1.8746 - accuracy: 0.1907 "
          ]
        },
        {
          "name": "stderr",
          "output_type": "stream",
          "text": [
            "WARNING:absl:Found untraced functions such as _update_step_xla while saving (showing 1 of 1). These functions will not be directly callable after loading.\n"
          ]
        },
        {
          "name": "stdout",
          "output_type": "stream",
          "text": [
            "\b\b\b\b\b\b\b\b\b\b\b\b\b\b\b\b\b\b\b\b\b\b\b\b\b\b\b\b\b\b\b\b\b\b\b\b\b\b\b\b\b\b\b\b\b\b\b\b\b\b\b\b\b\b\b\b\b\b\b\b\b\b\b\b\b\b\b\b\b\b\b\b\b\b\b\b\b\b\b\b\b\b\b\b\r109/109 [==============================] - 1610s 15s/step - loss: 1.8746 - accuracy: 0.1907 - val_loss: 1.8569 - val_accuracy: 0.1929\n",
            "Epoch 2/7\n",
            "109/109 [==============================] - ETA: 0s - loss: 1.7697 - accuracy: 0.2663 "
          ]
        },
        {
          "name": "stderr",
          "output_type": "stream",
          "text": [
            "WARNING:absl:Found untraced functions such as _update_step_xla while saving (showing 1 of 1). These functions will not be directly callable after loading.\n"
          ]
        },
        {
          "name": "stdout",
          "output_type": "stream",
          "text": [
            "\b\b\b\b\b\b\b\b\b\b\b\b\b\b\b\b\b\b\b\b\b\b\b\b\b\b\b\b\b\b\b\b\b\b\b\b\b\b\b\b\b\b\b\b\b\b\b\b\b\b\b\b\b\b\b\b\b\b\b\b\b\b\b\b\b\b\b\b\b\b\b\b\b\b\b\b\b\b\b\b\b\b\b\b\r109/109 [==============================] - 1589s 15s/step - loss: 1.7697 - accuracy: 0.2663 - val_loss: 1.7527 - val_accuracy: 0.2580\n",
            "Epoch 3/7\n",
            "109/109 [==============================] - ETA: 0s - loss: 1.7085 - accuracy: 0.2930 "
          ]
        },
        {
          "name": "stderr",
          "output_type": "stream",
          "text": [
            "WARNING:absl:Found untraced functions such as _update_step_xla while saving (showing 1 of 1). These functions will not be directly callable after loading.\n"
          ]
        },
        {
          "name": "stdout",
          "output_type": "stream",
          "text": [
            "\b\b\b\b\b\b\b\b\b\b\b\b\b\b\b\b\b\b\b\b\b\b\b\b\b\b\b\b\b\b\b\b\b\b\b\b\b\b\b\b\b\b\b\b\b\b\b\b\b\b\b\b\b\b\b\b\b\b\b\b\b\b\b\b\b\b\b\b\b\b\b\b\b\b\b\b\b\b\b\b\b\b\b\b\r109/109 [==============================] - 1562s 14s/step - loss: 1.7085 - accuracy: 0.2930 - val_loss: 1.6723 - val_accuracy: 0.3150\n",
            "Epoch 4/7\n",
            "109/109 [==============================] - ETA: 0s - loss: 1.6707 - accuracy: 0.3047 "
          ]
        },
        {
          "name": "stderr",
          "output_type": "stream",
          "text": [
            "WARNING:absl:Found untraced functions such as _update_step_xla while saving (showing 1 of 1). These functions will not be directly callable after loading.\n"
          ]
        },
        {
          "name": "stdout",
          "output_type": "stream",
          "text": [
            "\b\b\b\b\b\b\b\b\b\b\b\b\b\b\b\b\b\b\b\b\b\b\b\b\b\b\b\b\b\b\b\b\b\b\b\b\b\b\b\b\b\b\b\b\b\b\b\b\b\b\b\b\b\b\b\b\b\b\b\b\b\b\b\b\b\b\b\b\b\b\b\b\b\b\b\b\b\b\b\b\b\b\b\b\r109/109 [==============================] - 1619s 15s/step - loss: 1.6707 - accuracy: 0.3047 - val_loss: 1.6650 - val_accuracy: 0.3197\n",
            "Epoch 5/7\n",
            "109/109 [==============================] - ETA: 0s - loss: 1.6342 - accuracy: 0.3234 "
          ]
        },
        {
          "name": "stderr",
          "output_type": "stream",
          "text": [
            "WARNING:absl:Found untraced functions such as _update_step_xla while saving (showing 1 of 1). These functions will not be directly callable after loading.\n"
          ]
        },
        {
          "name": "stdout",
          "output_type": "stream",
          "text": [
            "\b\b\b\b\b\b\b\b\b\b\b\b\b\b\b\b\b\b\b\b\b\b\b\b\b\b\b\b\b\b\b\b\b\b\b\b\b\b\b\b\b\b\b\b\b\b\b\b\b\b\b\b\b\b\b\b\b\b\b\b\b\b\b\b\b\b\b\b\b\b\b\b\b\b\b\b\b\b\b\b\b\b\b\b\r109/109 [==============================] - 1618s 15s/step - loss: 1.6342 - accuracy: 0.3234 - val_loss: 1.5968 - val_accuracy: 0.3427\n",
            "Epoch 6/7\n",
            "109/109 [==============================] - ETA: 0s - loss: 1.6128 - accuracy: 0.3371 "
          ]
        },
        {
          "name": "stderr",
          "output_type": "stream",
          "text": [
            "WARNING:absl:Found untraced functions such as _update_step_xla while saving (showing 1 of 1). These functions will not be directly callable after loading.\n"
          ]
        },
        {
          "name": "stdout",
          "output_type": "stream",
          "text": [
            "\b\b\b\b\b\b\b\b\b\b\b\b\b\b\b\b\b\b\b\b\b\b\b\b\b\b\b\b\b\b\b\b\b\b\b\b\b\b\b\b\b\b\b\b\b\b\b\b\b\b\b\b\b\b\b\b\b\b\b\b\b\b\b\b\b\b\b\b\b\b\b\b\b\b\b\b\b\b\b\b\b\b\b\b\r109/109 [==============================] - 1658s 15s/step - loss: 1.6128 - accuracy: 0.3371 - val_loss: 1.5987 - val_accuracy: 0.3424\n",
            "Epoch 7/7\n",
            "109/109 [==============================] - ETA: 0s - loss: 1.5851 - accuracy: 0.3483 "
          ]
        },
        {
          "name": "stderr",
          "output_type": "stream",
          "text": [
            "WARNING:absl:Found untraced functions such as _update_step_xla while saving (showing 1 of 1). These functions will not be directly callable after loading.\n"
          ]
        },
        {
          "name": "stdout",
          "output_type": "stream",
          "text": [
            "\b\b\b\b\b\b\b\b\b\b\b\b\b\b\b\b\b\b\b\b\b\b\b\b\b\b\b\b\b\b\b\b\b\b\b\b\b\b\b\b\b\b\b\b\b\b\b\b\b\b\b\b\b\b\b\b\b\b\b\b\b\b\b\b\b\b\b\b\b\b\b\b\b\b\b\b\b\b\b\b\b\b\b\b\r109/109 [==============================] - 1750s 16s/step - loss: 1.5851 - accuracy: 0.3483 - val_loss: 1.5494 - val_accuracy: 0.3725\n"
          ]
        }
      ],
      "source": [
        "filepath = \"model.tf\"\n",
        "checkpoint = ModelCheckpoint(filepath, monitor='loss', save_best_only=True, mode='min', save_format='tf')\n",
        "callbacks_list = [checkpoint]\n",
        "\n",
        "history = model.fit(X_trHE, Y_trHE, validation_data=(X_valHE, Y_valHE), batch_size=250, epochs=7, callbacks=callbacks_list)\n",
        "\n",
        "#Reference: https://www.tensorflow.org/api_docs/python/tf/keras/callbacks/ModelCheckpoint"
      ],
      "id": "KEmP_nOfDnSf"
    },
    {
      "cell_type": "code",
      "execution_count": null,
      "metadata": {
        "colab": {
          "base_uri": "https://localhost:8080/"
        },
        "id": "RCPonNOxJDnF",
        "outputId": "a54612a7-b119-433b-ed98-0505934d04c6"
      },
      "outputs": [
        {
          "name": "stdout",
          "output_type": "stream",
          "text": [
            "  adding: content/model.tf/ (stored 0%)\n",
            "  adding: content/model.tf/fingerprint.pb (stored 0%)\n",
            "  adding: content/model.tf/saved_model.pb (deflated 91%)\n",
            "  adding: content/model.tf/keras_metadata.pb (deflated 94%)\n",
            "  adding: content/model.tf/assets/ (stored 0%)\n",
            "  adding: content/model.tf/variables/ (stored 0%)\n",
            "  adding: content/model.tf/variables/variables.index (deflated 68%)\n",
            "  adding: content/model.tf/variables/variables.data-00000-of-00001 (deflated 6%)\n"
          ]
        }
      ],
      "source": [
        "!zip -r /content/model.tf.zip /content/model.tf\n",
        "#Reference: https://stackoverflow.com/questions/50453428/how-do-i-download-multiple-files-or-an-entire-folder-from-google-colab"
      ],
      "id": "RCPonNOxJDnF"
    },
    {
      "cell_type": "code",
      "execution_count": null,
      "metadata": {
        "colab": {
          "base_uri": "https://localhost:8080/"
        },
        "id": "OaGQTJZ12xFm",
        "outputId": "19b48814-6abb-4b89-9c41-d290e8075cbf"
      },
      "outputs": [
        {
          "name": "stderr",
          "output_type": "stream",
          "text": [
            "WARNING:absl:Found untraced functions such as _update_step_xla while saving (showing 1 of 1). These functions will not be directly callable after loading.\n"
          ]
        }
      ],
      "source": [
        "model.save(\"my_model\") #Appears to have the same outcome as the model.tf file"
      ],
      "id": "OaGQTJZ12xFm"
    },
    {
      "cell_type": "code",
      "execution_count": null,
      "metadata": {
        "id": "N4SaCDBvI3ui"
      },
      "outputs": [],
      "source": [
        "model.save('my_model.h5') "
      ],
      "id": "N4SaCDBvI3ui"
    },
    {
      "cell_type": "markdown",
      "metadata": {
        "id": "Se7SNQZv_Lk_"
      },
      "source": [
        "Start of next iteration of training #1"
      ],
      "id": "Se7SNQZv_Lk_"
    },
    {
      "cell_type": "code",
      "execution_count": null,
      "metadata": {
        "colab": {
          "base_uri": "https://localhost:8080/"
        },
        "id": "-xGMjyXbs4kK",
        "outputId": "9c4594be-f6f3-4895-a8d2-3314f4b1e8b0"
      },
      "outputs": [
        {
          "output_type": "stream",
          "name": "stdout",
          "text": [
            "Archive:  /content/model.tf.zip\n",
            "   creating: /content/model.tf/content/model.tf/\n",
            " extracting: /content/model.tf/content/model.tf/fingerprint.pb  \n",
            "  inflating: /content/model.tf/content/model.tf/saved_model.pb  \n",
            "  inflating: /content/model.tf/content/model.tf/keras_metadata.pb  \n",
            "   creating: /content/model.tf/content/model.tf/assets/\n",
            "   creating: /content/model.tf/content/model.tf/variables/\n",
            "  inflating: /content/model.tf/content/model.tf/variables/variables.index  \n",
            "  inflating: /content/model.tf/content/model.tf/variables/variables.data-00000-of-00001  \n"
          ]
        }
      ],
      "source": [
        "!unzip /content/model.tf.zip -d /content/model.tf"
      ],
      "id": "-xGMjyXbs4kK"
    },
    {
      "cell_type": "code",
      "execution_count": null,
      "metadata": {
        "colab": {
          "base_uri": "https://localhost:8080/"
        },
        "id": "-MQ4xc4T1yAx",
        "outputId": "d0f37a5d-f040-43cd-f946-5c1a516df80b"
      },
      "outputs": [
        {
          "output_type": "stream",
          "name": "stdout",
          "text": [
            "Epoch 1/7\n",
            "109/109 [==============================] - ETA: 0s - loss: 1.5513 - accuracy: 0.3672"
          ]
        },
        {
          "output_type": "stream",
          "name": "stderr",
          "text": [
            "WARNING:absl:Found untraced functions such as _update_step_xla while saving (showing 1 of 1). These functions will not be directly callable after loading.\n"
          ]
        },
        {
          "output_type": "stream",
          "name": "stdout",
          "text": [
            "\b\b\b\b\b\b\b\b\b\b\b\b\b\b\b\b\b\b\b\b\b\b\b\b\b\b\b\b\b\b\b\b\b\b\b\b\b\b\b\b\b\b\b\b\b\b\b\b\b\b\b\b\b\b\b\b\b\b\b\b\b\b\b\b\b\b\b\b\b\b\b\b\b\b\b\b\b\b\b\b\b\b\b\b\r109/109 [==============================] - 1120s 10s/step - loss: 1.5513 - accuracy: 0.3672 - val_loss: 1.5407 - val_accuracy: 0.3719\n",
            "Epoch 2/7\n",
            "109/109 [==============================] - ETA: 0s - loss: 1.5237 - accuracy: 0.3781"
          ]
        },
        {
          "output_type": "stream",
          "name": "stderr",
          "text": [
            "WARNING:absl:Found untraced functions such as _update_step_xla while saving (showing 1 of 1). These functions will not be directly callable after loading.\n"
          ]
        },
        {
          "output_type": "stream",
          "name": "stdout",
          "text": [
            "\b\b\b\b\b\b\b\b\b\b\b\b\b\b\b\b\b\b\b\b\b\b\b\b\b\b\b\b\b\b\b\b\b\b\b\b\b\b\b\b\b\b\b\b\b\b\b\b\b\b\b\b\b\b\b\b\b\b\b\b\b\b\b\b\b\b\b\b\b\b\b\b\b\b\b\b\b\b\b\b\b\b\b\b\r109/109 [==============================] - 1114s 10s/step - loss: 1.5237 - accuracy: 0.3781 - val_loss: 1.5216 - val_accuracy: 0.3748\n",
            "Epoch 3/7\n",
            "109/109 [==============================] - ETA: 0s - loss: 1.4974 - accuracy: 0.3959"
          ]
        },
        {
          "output_type": "stream",
          "name": "stderr",
          "text": [
            "WARNING:absl:Found untraced functions such as _update_step_xla while saving (showing 1 of 1). These functions will not be directly callable after loading.\n"
          ]
        },
        {
          "output_type": "stream",
          "name": "stdout",
          "text": [
            "\b\b\b\b\b\b\b\b\b\b\b\b\b\b\b\b\b\b\b\b\b\b\b\b\b\b\b\b\b\b\b\b\b\b\b\b\b\b\b\b\b\b\b\b\b\b\b\b\b\b\b\b\b\b\b\b\b\b\b\b\b\b\b\b\b\b\b\b\b\b\b\b\b\b\b\b\b\b\b\b\b\b\b\b\r109/109 [==============================] - 1145s 11s/step - loss: 1.4974 - accuracy: 0.3959 - val_loss: 1.4851 - val_accuracy: 0.3960\n",
            "Epoch 4/7\n",
            "109/109 [==============================] - ETA: 0s - loss: 1.4770 - accuracy: 0.3989"
          ]
        },
        {
          "output_type": "stream",
          "name": "stderr",
          "text": [
            "WARNING:absl:Found untraced functions such as _update_step_xla while saving (showing 1 of 1). These functions will not be directly callable after loading.\n"
          ]
        },
        {
          "output_type": "stream",
          "name": "stdout",
          "text": [
            "\b\b\b\b\b\b\b\b\b\b\b\b\b\b\b\b\b\b\b\b\b\b\b\b\b\b\b\b\b\b\b\b\b\b\b\b\b\b\b\b\b\b\b\b\b\b\b\b\b\b\b\b\b\b\b\b\b\b\b\b\b\b\b\b\b\b\b\b\b\b\b\b\b\b\b\b\b\b\b\b\b\b\b\b\r109/109 [==============================] - 1184s 11s/step - loss: 1.4770 - accuracy: 0.3989 - val_loss: 1.5202 - val_accuracy: 0.3854\n",
            "Epoch 5/7\n",
            "109/109 [==============================] - ETA: 0s - loss: 1.4582 - accuracy: 0.4076"
          ]
        },
        {
          "output_type": "stream",
          "name": "stderr",
          "text": [
            "WARNING:absl:Found untraced functions such as _update_step_xla while saving (showing 1 of 1). These functions will not be directly callable after loading.\n"
          ]
        },
        {
          "output_type": "stream",
          "name": "stdout",
          "text": [
            "\b\b\b\b\b\b\b\b\b\b\b\b\b\b\b\b\b\b\b\b\b\b\b\b\b\b\b\b\b\b\b\b\b\b\b\b\b\b\b\b\b\b\b\b\b\b\b\b\b\b\b\b\b\b\b\b\b\b\b\b\b\b\b\b\b\b\b\b\b\b\b\b\b\b\b\b\b\b\b\b\b\b\b\b\r109/109 [==============================] - 1118s 10s/step - loss: 1.4582 - accuracy: 0.4076 - val_loss: 1.4668 - val_accuracy: 0.3987\n",
            "Epoch 6/7\n",
            "109/109 [==============================] - ETA: 0s - loss: 1.4436 - accuracy: 0.4158"
          ]
        },
        {
          "output_type": "stream",
          "name": "stderr",
          "text": [
            "WARNING:absl:Found untraced functions such as _update_step_xla while saving (showing 1 of 1). These functions will not be directly callable after loading.\n"
          ]
        },
        {
          "output_type": "stream",
          "name": "stdout",
          "text": [
            "\b\b\b\b\b\b\b\b\b\b\b\b\b\b\b\b\b\b\b\b\b\b\b\b\b\b\b\b\b\b\b\b\b\b\b\b\b\b\b\b\b\b\b\b\b\b\b\b\b\b\b\b\b\b\b\b\b\b\b\b\b\b\b\b\b\b\b\b\b\b\b\b\b\b\b\b\b\b\b\b\b\b\b\b\r109/109 [==============================] - 1169s 11s/step - loss: 1.4436 - accuracy: 0.4158 - val_loss: 1.4726 - val_accuracy: 0.4008\n",
            "Epoch 7/7\n",
            "109/109 [==============================] - ETA: 0s - loss: 1.4294 - accuracy: 0.4228"
          ]
        },
        {
          "output_type": "stream",
          "name": "stderr",
          "text": [
            "WARNING:absl:Found untraced functions such as _update_step_xla while saving (showing 1 of 1). These functions will not be directly callable after loading.\n"
          ]
        },
        {
          "output_type": "stream",
          "name": "stdout",
          "text": [
            "\b\b\b\b\b\b\b\b\b\b\b\b\b\b\b\b\b\b\b\b\b\b\b\b\b\b\b\b\b\b\b\b\b\b\b\b\b\b\b\b\b\b\b\b\b\b\b\b\b\b\b\b\b\b\b\b\b\b\b\b\b\b\b\b\b\b\b\b\b\b\b\b\b\b\b\b\b\b\b\b\b\b\b\b\r109/109 [==============================] - 1161s 11s/step - loss: 1.4294 - accuracy: 0.4228 - val_loss: 1.4754 - val_accuracy: 0.3949\n"
          ]
        }
      ],
      "source": [
        "model_1 = load_model(\"/content/model.tf/content/model.tf\")\n",
        "\n",
        "filepath = \"model1.tf\"\n",
        "checkpoint = ModelCheckpoint(filepath, monitor='loss', save_best_only=True, mode='min', save_format='tf')\n",
        "callbacks_list = [checkpoint]\n",
        "history = model_1.fit(X_trHE, Y_trHE, validation_data=(X_valHE, Y_valHE), batch_size=250, epochs=7, callbacks=callbacks_list)"
      ],
      "id": "-MQ4xc4T1yAx"
    },
    {
      "cell_type": "code",
      "source": [
        "!zip -r /content/model1.tf.zip /content/model1.tf"
      ],
      "metadata": {
        "colab": {
          "base_uri": "https://localhost:8080/"
        },
        "id": "nY0rtQJheQCv",
        "outputId": "e4c33d2b-a281-47c8-c558-d7520c6e627d"
      },
      "id": "nY0rtQJheQCv",
      "execution_count": null,
      "outputs": [
        {
          "output_type": "stream",
          "name": "stdout",
          "text": [
            "  adding: content/model1.tf/ (stored 0%)\n",
            "  adding: content/model1.tf/keras_metadata.pb (deflated 94%)\n",
            "  adding: content/model1.tf/fingerprint.pb (stored 0%)\n",
            "  adding: content/model1.tf/assets/ (stored 0%)\n",
            "  adding: content/model1.tf/saved_model.pb (deflated 91%)\n",
            "  adding: content/model1.tf/variables/ (stored 0%)\n",
            "  adding: content/model1.tf/variables/variables.data-00000-of-00001 (deflated 6%)\n",
            "  adding: content/model1.tf/variables/variables.index (deflated 68%)\n"
          ]
        }
      ]
    },
    {
      "cell_type": "code",
      "execution_count": null,
      "metadata": {
        "colab": {
          "base_uri": "https://localhost:8080/",
          "height": 489
        },
        "id": "P061WRND2SHp",
        "outputId": "bed02909-afdc-4bef-ec4b-e4404d24410e"
      },
      "outputs": [
        {
          "output_type": "display_data",
          "data": {
            "text/plain": [
              "<Figure size 640x480 with 2 Axes>"
            ],
            "image/png": "[encoded data removed]"
          },
          "metadata": {}
        },
        {
          "output_type": "display_data",
          "data": {
            "text/plain": [
              "<Figure size 1000x600 with 0 Axes>"
            ]
          },
          "metadata": {}
        }
      ],
      "source": [
        "plt.subplot(1, 2, 1)\n",
        "plt.plot(history.history['accuracy'])\n",
        "plt.plot(history.history['val_accuracy'])\n",
        "plt.title('Accuracy')\n",
        "plt.ylabel('Accuracy')\n",
        "plt.xlabel('Epoch')\n",
        "plt.legend(['Train', 'Val'], loc='upper left')\n",
        "\n",
        "plt.subplot(1, 2, 2)\n",
        "plt.plot(history.history['loss'])\n",
        "plt.plot(history.history['val_loss'])\n",
        "plt.title('Loss')\n",
        "plt.ylabel('Loss')\n",
        "plt.xlabel('Epoch')\n",
        "plt.legend(['Train', 'Val'], loc='upper left')\n",
        "\n",
        "plt.figure(figsize=(10,6))\n",
        "#plt.tight_layout()\n",
        "\n",
        "plt.show()"
      ],
      "id": "P061WRND2SHp"
    },
    {
      "cell_type": "code",
      "source": [
        "model.save_weights(\"initial_weights.h5\", save_format='h5')"
      ],
      "metadata": {
        "id": "hx7hxYLRyEzv"
      },
      "id": "hx7hxYLRyEzv",
      "execution_count": null,
      "outputs": []
    },
    {
      "cell_type": "code",
      "source": [
        "files.download(\"initial_weights.h5\")"
      ],
      "metadata": {
        "colab": {
          "base_uri": "https://localhost:8080/",
          "height": 17
        },
        "id": "ZDqW-_2MAeoN",
        "outputId": "b95417e5-6ff4-4565-89c5-c2511f23c1b2"
      },
      "id": "ZDqW-_2MAeoN",
      "execution_count": null,
      "outputs": [
        {
          "output_type": "display_data",
          "data": {
            "text/plain": [
              "<IPython.core.display.Javascript object>"
            ],
            "application/javascript": [
              "\n",
              "    async function download(id, filename, size) {\n",
              "      if (!google.colab.kernel.accessAllowed) {\n",
              "        return;\n",
              "      }\n",
              "      const div = document.createElement('div');\n",
              "      const label = document.createElement('label');\n",
              "      label.textContent = `Downloading \"${filename}\": `;\n",
              "      div.appendChild(label);\n",
              "      const progress = document.createElement('progress');\n",
              "      progress.max = size;\n",
              "      div.appendChild(progress);\n",
              "      document.body.appendChild(div);\n",
              "\n",
              "      const buffers = [];\n",
              "      let downloaded = 0;\n",
              "\n",
              "      const channel = await google.colab.kernel.comms.open(id);\n",
              "      // Send a message to notify the kernel that we're ready.\n",
              "      channel.send({})\n",
              "\n",
              "      for await (const message of channel.messages) {\n",
              "        // Send a message to notify the kernel that we're ready.\n",
              "        channel.send({})\n",
              "        if (message.buffers) {\n",
              "          for (const buffer of message.buffers) {\n",
              "            buffers.push(buffer);\n",
              "            downloaded += buffer.byteLength;\n",
              "            progress.value = downloaded;\n",
              "          }\n",
              "        }\n",
              "      }\n",
              "      const blob = new Blob(buffers, {type: 'application/binary'});\n",
              "      const a = document.createElement('a');\n",
              "      a.href = window.URL.createObjectURL(blob);\n",
              "      a.download = filename;\n",
              "      div.appendChild(a);\n",
              "      a.click();\n",
              "      div.remove();\n",
              "    }\n",
              "  "
            ]
          },
          "metadata": {}
        },
        {
          "output_type": "display_data",
          "data": {
            "text/plain": [
              "<IPython.core.display.Javascript object>"
            ],
            "application/javascript": [
              "download(\"download_706f990c-36a4-4abe-97c1-318ab717221b\", \"initial_weights.h5\", 7388512)"
            ]
          },
          "metadata": {}
        }
      ]
    },
    {
      "cell_type": "markdown",
      "source": [
        "Starting the next iteration of training #2."
      ],
      "metadata": {
        "id": "xOSY9c-YrMiS"
      },
      "id": "xOSY9c-YrMiS"
    },
    {
      "cell_type": "code",
      "source": [
        "model_2 = load_model(\"/content/model1.tf\")\n",
        "\n",
        "filepath = \"model2.tf\"\n",
        "checkpoint = ModelCheckpoint(filepath, monitor='loss', save_best_only=True, mode='min', save_format='tf')\n",
        "callbacks_list = [checkpoint]\n",
        "history = model_2.fit(X_trHE, Y_trHE, validation_data=(X_valHE, Y_valHE), batch_size=250, epochs=3, callbacks=callbacks_list)"
      ],
      "metadata": {
        "colab": {
          "base_uri": "https://localhost:8080/"
        },
        "id": "30zuWwUn_TfW",
        "outputId": "8d38eae6-2778-4aa1-e4d3-c4af5eca58d3"
      },
      "id": "30zuWwUn_TfW",
      "execution_count": null,
      "outputs": [
        {
          "output_type": "stream",
          "name": "stdout",
          "text": [
            "Epoch 1/3\n",
            "109/109 [==============================] - ETA: 0s - loss: 1.4162 - accuracy: 0.4286"
          ]
        },
        {
          "output_type": "stream",
          "name": "stderr",
          "text": [
            "WARNING:absl:Found untraced functions such as _update_step_xla while saving (showing 1 of 1). These functions will not be directly callable after loading.\n"
          ]
        },
        {
          "output_type": "stream",
          "name": "stdout",
          "text": [
            "\b\b\b\b\b\b\b\b\b\b\b\b\b\b\b\b\b\b\b\b\b\b\b\b\b\b\b\b\b\b\b\b\b\b\b\b\b\b\b\b\b\b\b\b\b\b\b\b\b\b\b\b\b\b\b\b\b\b\b\b\b\b\b\b\b\b\b\b\b\b\b\b\b\b\b\b\b\b\b\b\b\b\b\b\r109/109 [==============================] - 1134s 10s/step - loss: 1.4162 - accuracy: 0.4286 - val_loss: 1.4117 - val_accuracy: 0.4244\n",
            "Epoch 2/3\n",
            "109/109 [==============================] - ETA: 0s - loss: 1.3995 - accuracy: 0.4336"
          ]
        },
        {
          "output_type": "stream",
          "name": "stderr",
          "text": [
            "WARNING:absl:Found untraced functions such as _update_step_xla while saving (showing 1 of 1). These functions will not be directly callable after loading.\n"
          ]
        },
        {
          "output_type": "stream",
          "name": "stdout",
          "text": [
            "\b\b\b\b\b\b\b\b\b\b\b\b\b\b\b\b\b\b\b\b\b\b\b\b\b\b\b\b\b\b\b\b\b\b\b\b\b\b\b\b\b\b\b\b\b\b\b\b\b\b\b\b\b\b\b\b\b\b\b\b\b\b\b\b\b\b\b\b\b\b\b\b\b\b\b\b\b\b\b\b\b\b\b\b\r109/109 [==============================] - 1112s 10s/step - loss: 1.3995 - accuracy: 0.4336 - val_loss: 1.4157 - val_accuracy: 0.4244\n",
            "Epoch 3/3\n",
            "109/109 [==============================] - ETA: 0s - loss: 1.3942 - accuracy: 0.4357"
          ]
        },
        {
          "output_type": "stream",
          "name": "stderr",
          "text": [
            "WARNING:absl:Found untraced functions such as _update_step_xla while saving (showing 1 of 1). These functions will not be directly callable after loading.\n"
          ]
        },
        {
          "output_type": "stream",
          "name": "stdout",
          "text": [
            "\b\b\b\b\b\b\b\b\b\b\b\b\b\b\b\b\b\b\b\b\b\b\b\b\b\b\b\b\b\b\b\b\b\b\b\b\b\b\b\b\b\b\b\b\b\b\b\b\b\b\b\b\b\b\b\b\b\b\b\b\b\b\b\b\b\b\b\b\b\b\b\b\b\b\b\b\b\b\b\b\b\b\b\b\r109/109 [==============================] - 1165s 11s/step - loss: 1.3942 - accuracy: 0.4357 - val_loss: 1.3901 - val_accuracy: 0.4347\n"
          ]
        }
      ]
    },
    {
      "cell_type": "code",
      "source": [
        "!zip -r /content/model2.tf.zip /content/model2.tf"
      ],
      "metadata": {
        "colab": {
          "base_uri": "https://localhost:8080/"
        },
        "id": "yMpopv_oAGXh",
        "outputId": "790a7c20-e2da-45e5-b2b8-189db0816fc0"
      },
      "id": "yMpopv_oAGXh",
      "execution_count": null,
      "outputs": [
        {
          "output_type": "stream",
          "name": "stdout",
          "text": [
            "  adding: content/model2.tf/ (stored 0%)\n",
            "  adding: content/model2.tf/keras_metadata.pb (deflated 94%)\n",
            "  adding: content/model2.tf/fingerprint.pb (stored 0%)\n",
            "  adding: content/model2.tf/assets/ (stored 0%)\n",
            "  adding: content/model2.tf/saved_model.pb (deflated 91%)\n",
            "  adding: content/model2.tf/variables/ (stored 0%)\n",
            "  adding: content/model2.tf/variables/variables.data-00000-of-00001 (deflated 6%)\n",
            "  adding: content/model2.tf/variables/variables.index (deflated 68%)\n"
          ]
        }
      ]
    },
    {
      "cell_type": "markdown",
      "source": [
        "Starting the next iteration of training #3"
      ],
      "metadata": {
        "id": "ef6NbTUQ_6Lu"
      },
      "id": "ef6NbTUQ_6Lu"
    },
    {
      "cell_type": "code",
      "execution_count": null,
      "metadata": {
        "colab": {
          "base_uri": "https://localhost:8080/"
        },
        "outputId": "69a3bb2d-2c10-4b2b-bb5a-d426669b37a2",
        "id": "c6TNl6PQur4C"
      },
      "outputs": [
        {
          "output_type": "stream",
          "name": "stdout",
          "text": [
            "Epoch 1/7\n",
            "109/109 [==============================] - ETA: 0s - loss: 1.3864 - accuracy: 0.4411"
          ]
        },
        {
          "output_type": "stream",
          "name": "stderr",
          "text": [
            "WARNING:absl:Found untraced functions such as _update_step_xla while saving (showing 1 of 1). These functions will not be directly callable after loading.\n"
          ]
        },
        {
          "output_type": "stream",
          "name": "stdout",
          "text": [
            "\b\b\b\b\b\b\b\b\b\b\b\b\b\b\b\b\b\b\b\b\b\b\b\b\b\b\b\b\b\b\b\b\b\b\b\b\b\b\b\b\b\b\b\b\b\b\b\b\b\b\b\b\b\b\b\b\b\b\b\b\b\b\b\b\b\b\b\b\b\b\b\b\b\b\b\b\b\b\b\b\b\b\b\b\r109/109 [==============================] - 1133s 10s/step - loss: 1.3864 - accuracy: 0.4411 - val_loss: 1.3723 - val_accuracy: 0.4347\n",
            "Epoch 2/7\n",
            "109/109 [==============================] - ETA: 0s - loss: 1.3705 - accuracy: 0.4467"
          ]
        },
        {
          "output_type": "stream",
          "name": "stderr",
          "text": [
            "WARNING:absl:Found untraced functions such as _update_step_xla while saving (showing 1 of 1). These functions will not be directly callable after loading.\n"
          ]
        },
        {
          "output_type": "stream",
          "name": "stdout",
          "text": [
            "\b\b\b\b\b\b\b\b\b\b\b\b\b\b\b\b\b\b\b\b\b\b\b\b\b\b\b\b\b\b\b\b\b\b\b\b\b\b\b\b\b\b\b\b\b\b\b\b\b\b\b\b\b\b\b\b\b\b\b\b\b\b\b\b\b\b\b\b\b\b\b\b\b\b\b\b\b\b\b\b\b\b\b\b\r109/109 [==============================] - 1098s 10s/step - loss: 1.3705 - accuracy: 0.4467 - val_loss: 1.4603 - val_accuracy: 0.4022\n",
            "Epoch 3/7\n",
            "109/109 [==============================] - ETA: 0s - loss: 1.3672 - accuracy: 0.4456"
          ]
        },
        {
          "output_type": "stream",
          "name": "stderr",
          "text": [
            "WARNING:absl:Found untraced functions such as _update_step_xla while saving (showing 1 of 1). These functions will not be directly callable after loading.\n"
          ]
        },
        {
          "output_type": "stream",
          "name": "stdout",
          "text": [
            "\b\b\b\b\b\b\b\b\b\b\b\b\b\b\b\b\b\b\b\b\b\b\b\b\b\b\b\b\b\b\b\b\b\b\b\b\b\b\b\b\b\b\b\b\b\b\b\b\b\b\b\b\b\b\b\b\b\b\b\b\b\b\b\b\b\b\b\b\b\b\b\b\b\b\b\b\b\b\b\b\b\b\b\b\r109/109 [==============================] - 1102s 10s/step - loss: 1.3672 - accuracy: 0.4456 - val_loss: 1.3452 - val_accuracy: 0.4544\n",
            "Epoch 4/7\n",
            "109/109 [==============================] - ETA: 0s - loss: 1.3535 - accuracy: 0.4545"
          ]
        },
        {
          "output_type": "stream",
          "name": "stderr",
          "text": [
            "WARNING:absl:Found untraced functions such as _update_step_xla while saving (showing 1 of 1). These functions will not be directly callable after loading.\n"
          ]
        },
        {
          "output_type": "stream",
          "name": "stdout",
          "text": [
            "\b\b\b\b\b\b\b\b\b\b\b\b\b\b\b\b\b\b\b\b\b\b\b\b\b\b\b\b\b\b\b\b\b\b\b\b\b\b\b\b\b\b\b\b\b\b\b\b\b\b\b\b\b\b\b\b\b\b\b\b\b\b\b\b\b\b\b\b\b\b\b\b\b\b\b\b\b\b\b\b\b\b\b\b\r109/109 [==============================] - 1178s 11s/step - loss: 1.3535 - accuracy: 0.4545 - val_loss: 1.3535 - val_accuracy: 0.4468\n",
            "Epoch 5/7\n",
            "109/109 [==============================] - ETA: 0s - loss: 1.3448 - accuracy: 0.4575"
          ]
        },
        {
          "output_type": "stream",
          "name": "stderr",
          "text": [
            "WARNING:absl:Found untraced functions such as _update_step_xla while saving (showing 1 of 1). These functions will not be directly callable after loading.\n"
          ]
        },
        {
          "output_type": "stream",
          "name": "stdout",
          "text": [
            "\b\b\b\b\b\b\b\b\b\b\b\b\b\b\b\b\b\b\b\b\b\b\b\b\b\b\b\b\b\b\b\b\b\b\b\b\b\b\b\b\b\b\b\b\b\b\b\b\b\b\b\b\b\b\b\b\b\b\b\b\b\b\b\b\b\b\b\b\b\b\b\b\b\b\b\b\b\b\b\b\b\b\b\b\r109/109 [==============================] - 1101s 10s/step - loss: 1.3448 - accuracy: 0.4575 - val_loss: 1.3432 - val_accuracy: 0.4583\n",
            "Epoch 6/7\n",
            "109/109 [==============================] - ETA: 0s - loss: 1.3409 - accuracy: 0.4604"
          ]
        },
        {
          "output_type": "stream",
          "name": "stderr",
          "text": [
            "WARNING:absl:Found untraced functions such as _update_step_xla while saving (showing 1 of 1). These functions will not be directly callable after loading.\n"
          ]
        },
        {
          "output_type": "stream",
          "name": "stdout",
          "text": [
            "\b\b\b\b\b\b\b\b\b\b\b\b\b\b\b\b\b\b\b\b\b\b\b\b\b\b\b\b\b\b\b\b\b\b\b\b\b\b\b\b\b\b\b\b\b\b\b\b\b\b\b\b\b\b\b\b\b\b\b\b\b\b\b\b\b\b\b\b\b\b\b\b\b\b\b\b\b\b\b\b\b\b\b\b\r109/109 [==============================] - 1114s 10s/step - loss: 1.3409 - accuracy: 0.4604 - val_loss: 1.3429 - val_accuracy: 0.4600\n",
            "Epoch 7/7\n",
            "109/109 [==============================] - ETA: 0s - loss: 1.3306 - accuracy: 0.4655"
          ]
        },
        {
          "output_type": "stream",
          "name": "stderr",
          "text": [
            "WARNING:absl:Found untraced functions such as _update_step_xla while saving (showing 1 of 1). These functions will not be directly callable after loading.\n"
          ]
        },
        {
          "output_type": "stream",
          "name": "stdout",
          "text": [
            "\b\b\b\b\b\b\b\b\b\b\b\b\b\b\b\b\b\b\b\b\b\b\b\b\b\b\b\b\b\b\b\b\b\b\b\b\b\b\b\b\b\b\b\b\b\b\b\b\b\b\b\b\b\b\b\b\b\b\b\b\b\b\b\b\b\b\b\b\b\b\b\b\b\b\b\b\b\b\b\b\b\b\b\b\r109/109 [==============================] - 1104s 10s/step - loss: 1.3306 - accuracy: 0.4655 - val_loss: 1.3105 - val_accuracy: 0.4718\n"
          ]
        }
      ],
      "source": [
        "model_3 = load_model(\"/content/model2.tf\")\n",
        "\n",
        "filepath = \"model3.tf\"\n",
        "checkpoint = ModelCheckpoint(filepath, monitor='loss', save_best_only=True, mode='min', save_format='tf')\n",
        "callbacks_list = [checkpoint]\n",
        "history = model_3.fit(X_trHE, Y_trHE, validation_data=(X_valHE, Y_valHE), batch_size=250, epochs=7, callbacks=callbacks_list)"
      ],
      "id": "c6TNl6PQur4C"
    },
    {
      "cell_type": "code",
      "execution_count": null,
      "metadata": {
        "colab": {
          "base_uri": "https://localhost:8080/",
          "height": 489
        },
        "outputId": "1e219a8b-c6a0-4630-f08f-a48c3fb179f2",
        "id": "oLlUp_Ojur4D"
      },
      "outputs": [
        {
          "output_type": "display_data",
          "data": {
            "text/plain": [
              "<Figure size 640x480 with 2 Axes>"
            ],
            "image/png": "[encoded data removed]"
          },
          "metadata": {}
        },
        {
          "output_type": "display_data",
          "data": {
            "text/plain": [
              "<Figure size 1000x600 with 0 Axes>"
            ]
          },
          "metadata": {}
        }
      ],
      "source": [
        "plt.subplot(1, 2, 1)\n",
        "plt.plot(history.history['accuracy'])\n",
        "plt.plot(history.history['val_accuracy'])\n",
        "plt.title('Accuracy')\n",
        "plt.ylabel('Accuracy')\n",
        "plt.xlabel('Epoch')\n",
        "plt.legend(['Train', 'Val'], loc='upper left')\n",
        "\n",
        "plt.subplot(1, 2, 2)\n",
        "plt.plot(history.history['loss'])\n",
        "plt.plot(history.history['val_loss'])\n",
        "plt.title('Loss')\n",
        "plt.ylabel('Loss')\n",
        "plt.xlabel('Epoch')\n",
        "plt.legend(['Train', 'Val'], loc='upper left')\n",
        "\n",
        "plt.figure(figsize=(10,6))\n",
        "#plt.tight_layout()\n",
        "\n",
        "plt.show()"
      ],
      "id": "oLlUp_Ojur4D"
    },
    {
      "cell_type": "code",
      "source": [
        "!zip -r /content/model3.tf.zip /content/model3.tf"
      ],
      "metadata": {
        "colab": {
          "base_uri": "https://localhost:8080/"
        },
        "id": "AiVHAU-Sur4D",
        "outputId": "1b6fd4a3-6492-400b-8b92-1ead1575027a"
      },
      "execution_count": null,
      "outputs": [
        {
          "output_type": "stream",
          "name": "stdout",
          "text": [
            "  adding: content/model3.tf/ (stored 0%)\n",
            "  adding: content/model3.tf/keras_metadata.pb (deflated 94%)\n",
            "  adding: content/model3.tf/fingerprint.pb (stored 0%)\n",
            "  adding: content/model3.tf/assets/ (stored 0%)\n",
            "  adding: content/model3.tf/saved_model.pb (deflated 91%)\n",
            "  adding: content/model3.tf/variables/ (stored 0%)\n",
            "  adding: content/model3.tf/variables/variables.data-00000-of-00001 (deflated 6%)\n",
            "  adding: content/model3.tf/variables/variables.index (deflated 68%)\n"
          ]
        }
      ],
      "id": "AiVHAU-Sur4D"
    },
    {
      "cell_type": "code",
      "source": [
        "#Checking predict \n",
        "\n",
        "X_teHE = np.expand_dims(X_teNN_transformed, axis=2)\n",
        "Predicted_outcomes = model.predict(X_teHE)\n",
        "\n",
        "y_pred = encoder.inverse_transform(Predicted_outcomes)"
      ],
      "metadata": {
        "colab": {
          "base_uri": "https://localhost:8080/"
        },
        "id": "CDFsprV4uXJm",
        "outputId": "d20db039-070a-47f2-d884-68669a0ff851"
      },
      "id": "CDFsprV4uXJm",
      "execution_count": null,
      "outputs": [
        {
          "output_type": "stream",
          "name": "stdout",
          "text": [
            "106/106 [==============================] - 65s 607ms/step\n"
          ]
        }
      ]
    },
    {
      "cell_type": "markdown",
      "source": [
        "Starting the next iteration of training #4"
      ],
      "metadata": {
        "id": "NtaKucW2-_D-"
      },
      "id": "NtaKucW2-_D-"
    },
    {
      "cell_type": "code",
      "execution_count": null,
      "metadata": {
        "colab": {
          "base_uri": "https://localhost:8080/"
        },
        "outputId": "ba002df3-748c-436d-db9f-4f2ca2d7c44b",
        "id": "ytrXFhsI-_EJ"
      },
      "outputs": [
        {
          "output_type": "stream",
          "name": "stdout",
          "text": [
            "Epoch 1/5\n",
            "109/109 [==============================] - ETA: 0s - loss: 1.3269 - accuracy: 0.4632 "
          ]
        },
        {
          "output_type": "stream",
          "name": "stderr",
          "text": [
            "WARNING:absl:Found untraced functions such as _update_step_xla while saving (showing 1 of 1). These functions will not be directly callable after loading.\n"
          ]
        },
        {
          "output_type": "stream",
          "name": "stdout",
          "text": [
            "\b\b\b\b\b\b\b\b\b\b\b\b\b\b\b\b\b\b\b\b\b\b\b\b\b\b\b\b\b\b\b\b\b\b\b\b\b\b\b\b\b\b\b\b\b\b\b\b\b\b\b\b\b\b\b\b\b\b\b\b\b\b\b\b\b\b\b\b\b\b\b\b\b\b\b\b\b\b\b\b\b\b\b\b\r109/109 [==============================] - 1214s 11s/step - loss: 1.3269 - accuracy: 0.4632 - val_loss: 1.3543 - val_accuracy: 0.4482\n",
            "Epoch 2/5\n",
            "109/109 [==============================] - ETA: 0s - loss: 1.3191 - accuracy: 0.4689"
          ]
        },
        {
          "output_type": "stream",
          "name": "stderr",
          "text": [
            "WARNING:absl:Found untraced functions such as _update_step_xla while saving (showing 1 of 1). These functions will not be directly callable after loading.\n"
          ]
        },
        {
          "output_type": "stream",
          "name": "stdout",
          "text": [
            "\b\b\b\b\b\b\b\b\b\b\b\b\b\b\b\b\b\b\b\b\b\b\b\b\b\b\b\b\b\b\b\b\b\b\b\b\b\b\b\b\b\b\b\b\b\b\b\b\b\b\b\b\b\b\b\b\b\b\b\b\b\b\b\b\b\b\b\b\b\b\b\b\b\b\b\b\b\b\b\b\b\b\b\b\r109/109 [==============================] - 1120s 10s/step - loss: 1.3191 - accuracy: 0.4689 - val_loss: 1.3175 - val_accuracy: 0.4721\n",
            "Epoch 3/5\n",
            "109/109 [==============================] - ETA: 0s - loss: 1.3084 - accuracy: 0.4732"
          ]
        },
        {
          "output_type": "stream",
          "name": "stderr",
          "text": [
            "WARNING:absl:Found untraced functions such as _update_step_xla while saving (showing 1 of 1). These functions will not be directly callable after loading.\n"
          ]
        },
        {
          "output_type": "stream",
          "name": "stdout",
          "text": [
            "\b\b\b\b\b\b\b\b\b\b\b\b\b\b\b\b\b\b\b\b\b\b\b\b\b\b\b\b\b\b\b\b\b\b\b\b\b\b\b\b\b\b\b\b\b\b\b\b\b\b\b\b\b\b\b\b\b\b\b\b\b\b\b\b\b\b\b\b\b\b\b\b\b\b\b\b\b\b\b\b\b\b\b\b\r109/109 [==============================] - 1154s 11s/step - loss: 1.3084 - accuracy: 0.4732 - val_loss: 1.3138 - val_accuracy: 0.4671\n",
            "Epoch 4/5\n",
            "109/109 [==============================] - ETA: 0s - loss: 1.3048 - accuracy: 0.4746 "
          ]
        },
        {
          "output_type": "stream",
          "name": "stderr",
          "text": [
            "WARNING:absl:Found untraced functions such as _update_step_xla while saving (showing 1 of 1). These functions will not be directly callable after loading.\n"
          ]
        },
        {
          "output_type": "stream",
          "name": "stdout",
          "text": [
            "\b\b\b\b\b\b\b\b\b\b\b\b\b\b\b\b\b\b\b\b\b\b\b\b\b\b\b\b\b\b\b\b\b\b\b\b\b\b\b\b\b\b\b\b\b\b\b\b\b\b\b\b\b\b\b\b\b\b\b\b\b\b\b\b\b\b\b\b\b\b\b\b\b\b\b\b\b\b\b\b\b\b\b\b\r109/109 [==============================] - 1202s 11s/step - loss: 1.3048 - accuracy: 0.4746 - val_loss: 1.3018 - val_accuracy: 0.4739\n",
            "Epoch 5/5\n",
            "109/109 [==============================] - ETA: 0s - loss: 1.2954 - accuracy: 0.4781"
          ]
        },
        {
          "output_type": "stream",
          "name": "stderr",
          "text": [
            "WARNING:absl:Found untraced functions such as _update_step_xla while saving (showing 1 of 1). These functions will not be directly callable after loading.\n"
          ]
        },
        {
          "output_type": "stream",
          "name": "stdout",
          "text": [
            "\b\b\b\b\b\b\b\b\b\b\b\b\b\b\b\b\b\b\b\b\b\b\b\b\b\b\b\b\b\b\b\b\b\b\b\b\b\b\b\b\b\b\b\b\b\b\b\b\b\b\b\b\b\b\b\b\b\b\b\b\b\b\b\b\b\b\b\b\b\b\b\b\b\b\b\b\b\b\b\b\b\b\b\b\r109/109 [==============================] - 1174s 11s/step - loss: 1.2954 - accuracy: 0.4781 - val_loss: 1.2874 - val_accuracy: 0.4810\n"
          ]
        }
      ],
      "source": [
        "model_4 = load_model(\"/content/model3.tf\")\n",
        "\n",
        "filepath = \"model4.tf\"\n",
        "checkpoint = ModelCheckpoint(filepath, monitor='loss', save_best_only=True, mode='min', save_format='tf')\n",
        "callbacks_list = [checkpoint]\n",
        "history = model_4.fit(X_trHE, Y_trHE, validation_data=(X_valHE, Y_valHE), batch_size=250, epochs=5, callbacks=callbacks_list)"
      ],
      "id": "ytrXFhsI-_EJ"
    },
    {
      "cell_type": "code",
      "execution_count": null,
      "metadata": {
        "colab": {
          "base_uri": "https://localhost:8080/",
          "height": 489
        },
        "outputId": "56e79d50-9663-4fbc-d663-c716d29b75c2",
        "id": "MDETp1L9-_EK"
      },
      "outputs": [
        {
          "output_type": "display_data",
          "data": {
            "text/plain": [
              "<Figure size 640x480 with 2 Axes>"
            ],
            "image/png": "[encoded data removed]"
          },
          "metadata": {}
        },
        {
          "output_type": "display_data",
          "data": {
            "text/plain": [
              "<Figure size 1000x600 with 0 Axes>"
            ]
          },
          "metadata": {}
        }
      ],
      "source": [
        "plt.subplot(1, 2, 1)\n",
        "plt.plot(history.history['accuracy'])\n",
        "plt.plot(history.history['val_accuracy'])\n",
        "plt.title('Accuracy')\n",
        "plt.ylabel('Accuracy')\n",
        "plt.xlabel('Epoch')\n",
        "plt.legend(['Train', 'Val'], loc='upper left')\n",
        "\n",
        "plt.subplot(1, 2, 2)\n",
        "plt.plot(history.history['loss'])\n",
        "plt.plot(history.history['val_loss'])\n",
        "plt.title('Loss')\n",
        "plt.ylabel('Loss')\n",
        "plt.xlabel('Epoch')\n",
        "plt.legend(['Train', 'Val'], loc='upper left')\n",
        "\n",
        "plt.figure(figsize=(10,6))\n",
        "#plt.tight_layout()\n",
        "\n",
        "plt.show()"
      ],
      "id": "MDETp1L9-_EK"
    },
    {
      "cell_type": "code",
      "source": [
        "!zip -r /content/model4.tf.zip /content/model4.tf"
      ],
      "metadata": {
        "colab": {
          "base_uri": "https://localhost:8080/"
        },
        "outputId": "bfe56546-108a-4a38-c582-58ca6d6fdcff",
        "id": "-InqGapd-_EK"
      },
      "execution_count": null,
      "outputs": [
        {
          "output_type": "stream",
          "name": "stdout",
          "text": [
            "  adding: content/model4.tf/ (stored 0%)\n",
            "  adding: content/model4.tf/keras_metadata.pb (deflated 94%)\n",
            "  adding: content/model4.tf/fingerprint.pb (stored 0%)\n",
            "  adding: content/model4.tf/assets/ (stored 0%)\n",
            "  adding: content/model4.tf/saved_model.pb (deflated 91%)\n",
            "  adding: content/model4.tf/variables/ (stored 0%)\n",
            "  adding: content/model4.tf/variables/variables.data-00000-of-00001 (deflated 6%)\n",
            "  adding: content/model4.tf/variables/variables.index (deflated 68%)\n"
          ]
        }
      ],
      "id": "-InqGapd-_EK"
    },
    {
      "cell_type": "markdown",
      "source": [
        "Starting the next iteration of training #5\n",
        "\n"
      ],
      "metadata": {
        "id": "5DwglNxEMrdO"
      },
      "id": "5DwglNxEMrdO"
    },
    {
      "cell_type": "code",
      "execution_count": null,
      "metadata": {
        "colab": {
          "base_uri": "https://localhost:8080/"
        },
        "outputId": "d0dfe465-b9e4-4a7a-e81a-fff6c3565fba",
        "id": "pXzJQv-QMrdZ"
      },
      "outputs": [
        {
          "output_type": "stream",
          "name": "stdout",
          "text": [
            "Epoch 1/2\n",
            "109/109 [==============================] - ETA: 0s - loss: 1.2886 - accuracy: 0.4834"
          ]
        },
        {
          "output_type": "stream",
          "name": "stderr",
          "text": [
            "WARNING:absl:Found untraced functions such as _update_step_xla while saving (showing 1 of 1). These functions will not be directly callable after loading.\n"
          ]
        },
        {
          "output_type": "stream",
          "name": "stdout",
          "text": [
            "\b\b\b\b\b\b\b\b\b\b\b\b\b\b\b\b\b\b\b\b\b\b\b\b\b\b\b\b\b\b\b\b\b\b\b\b\b\b\b\b\b\b\b\b\b\b\b\b\b\b\b\b\b\b\b\b\b\b\b\b\b\b\b\b\b\b\b\b\b\b\b\b\b\b\b\b\b\b\b\b\b\b\b\b\r109/109 [==============================] - 1125s 10s/step - loss: 1.2886 - accuracy: 0.4834 - val_loss: 1.2749 - val_accuracy: 0.4860\n",
            "Epoch 2/2\n",
            "109/109 [==============================] - ETA: 0s - loss: 1.2856 - accuracy: 0.4825"
          ]
        },
        {
          "output_type": "stream",
          "name": "stderr",
          "text": [
            "WARNING:absl:Found untraced functions such as _update_step_xla while saving (showing 1 of 1). These functions will not be directly callable after loading.\n"
          ]
        },
        {
          "output_type": "stream",
          "name": "stdout",
          "text": [
            "\b\b\b\b\b\b\b\b\b\b\b\b\b\b\b\b\b\b\b\b\b\b\b\b\b\b\b\b\b\b\b\b\b\b\b\b\b\b\b\b\b\b\b\b\b\b\b\b\b\b\b\b\b\b\b\b\b\b\b\b\b\b\b\b\b\b\b\b\b\b\b\b\b\b\b\b\b\b\b\b\b\b\b\b\r109/109 [==============================] - 1156s 11s/step - loss: 1.2856 - accuracy: 0.4825 - val_loss: 1.3324 - val_accuracy: 0.4659\n"
          ]
        }
      ],
      "source": [
        "model_5 = load_model(\"/content/model4.tf\")\n",
        "\n",
        "filepath = \"model5.tf\"\n",
        "checkpoint = ModelCheckpoint(filepath, monitor='loss', save_best_only=True, mode='min', save_format='tf')\n",
        "callbacks_list = [checkpoint]\n",
        "history = model_5.fit(X_trHE, Y_trHE, validation_data=(X_valHE, Y_valHE), batch_size=250, epochs=2, callbacks=callbacks_list)"
      ],
      "id": "pXzJQv-QMrdZ"
    },
    {
      "cell_type": "code",
      "source": [
        "!zip -r /content/model5.tf.zip /content/model5.tf"
      ],
      "metadata": {
        "colab": {
          "base_uri": "https://localhost:8080/"
        },
        "outputId": "de85d3af-db76-47cf-b050-4de2c6591bdd",
        "id": "kV_iSeFTMrdb"
      },
      "execution_count": null,
      "outputs": [
        {
          "output_type": "stream",
          "name": "stdout",
          "text": [
            "  adding: content/model5.tf/ (stored 0%)\n",
            "  adding: content/model5.tf/keras_metadata.pb (deflated 94%)\n",
            "  adding: content/model5.tf/fingerprint.pb (stored 0%)\n",
            "  adding: content/model5.tf/assets/ (stored 0%)\n",
            "  adding: content/model5.tf/saved_model.pb (deflated 91%)\n",
            "  adding: content/model5.tf/variables/ (stored 0%)\n",
            "  adding: content/model5.tf/variables/variables.data-00000-of-00001 (deflated 6%)\n",
            "  adding: content/model5.tf/variables/variables.index (deflated 68%)\n"
          ]
        }
      ],
      "id": "kV_iSeFTMrdb"
    },
    {
      "cell_type": "markdown",
      "source": [
        "Starting the next iteration of training #6\n",
        "\n"
      ],
      "metadata": {
        "id": "KOr8rrwmdOxq"
      },
      "id": "KOr8rrwmdOxq"
    },
    {
      "cell_type": "code",
      "source": [
        "!unzip /content/model5.tf.zip -d /content/model5.tf"
      ],
      "metadata": {
        "colab": {
          "base_uri": "https://localhost:8080/"
        },
        "id": "9Kw79k1rSjjK",
        "outputId": "e84b0e45-b65a-459b-e494-3549fcd68560"
      },
      "id": "9Kw79k1rSjjK",
      "execution_count": null,
      "outputs": [
        {
          "output_type": "stream",
          "name": "stdout",
          "text": [
            "Archive:  /content/model5.tf.zip\n",
            "   creating: /content/model5.tf/content/model5.tf/\n",
            "  inflating: /content/model5.tf/content/model5.tf/keras_metadata.pb  \n",
            " extracting: /content/model5.tf/content/model5.tf/fingerprint.pb  \n",
            "   creating: /content/model5.tf/content/model5.tf/assets/\n",
            "  inflating: /content/model5.tf/content/model5.tf/saved_model.pb  \n",
            "   creating: /content/model5.tf/content/model5.tf/variables/\n",
            "  inflating: /content/model5.tf/content/model5.tf/variables/variables.data-00000-of-00001  \n",
            "  inflating: /content/model5.tf/content/model5.tf/variables/variables.index  \n"
          ]
        }
      ]
    },
    {
      "cell_type": "code",
      "execution_count": null,
      "metadata": {
        "colab": {
          "base_uri": "https://localhost:8080/"
        },
        "outputId": "649f98b8-a628-424e-e1a7-60c2dc93dbba",
        "id": "0PhHcDaldOxr"
      },
      "outputs": [
        {
          "output_type": "stream",
          "name": "stderr",
          "text": [
            "WARNING:tensorflow:Layer lstm_4 will not use cuDNN kernels since it doesn't meet the criteria. It will use a generic GPU kernel as fallback when running on GPU.\n",
            "WARNING:tensorflow:Layer lstm_4 will not use cuDNN kernels since it doesn't meet the criteria. It will use a generic GPU kernel as fallback when running on GPU.\n",
            "WARNING:tensorflow:Layer lstm_4 will not use cuDNN kernels since it doesn't meet the criteria. It will use a generic GPU kernel as fallback when running on GPU.\n",
            "WARNING:tensorflow:Layer lstm_5 will not use cuDNN kernels since it doesn't meet the criteria. It will use a generic GPU kernel as fallback when running on GPU.\n",
            "WARNING:tensorflow:Layer lstm_5 will not use cuDNN kernels since it doesn't meet the criteria. It will use a generic GPU kernel as fallback when running on GPU.\n",
            "WARNING:tensorflow:Layer lstm_5 will not use cuDNN kernels since it doesn't meet the criteria. It will use a generic GPU kernel as fallback when running on GPU.\n",
            "WARNING:tensorflow:Layer lstm_6 will not use cuDNN kernels since it doesn't meet the criteria. It will use a generic GPU kernel as fallback when running on GPU.\n",
            "WARNING:tensorflow:Layer lstm_6 will not use cuDNN kernels since it doesn't meet the criteria. It will use a generic GPU kernel as fallback when running on GPU.\n",
            "WARNING:tensorflow:Layer lstm_6 will not use cuDNN kernels since it doesn't meet the criteria. It will use a generic GPU kernel as fallback when running on GPU.\n",
            "WARNING:tensorflow:Layer lstm_7 will not use cuDNN kernels since it doesn't meet the criteria. It will use a generic GPU kernel as fallback when running on GPU.\n",
            "WARNING:tensorflow:Layer lstm_7 will not use cuDNN kernels since it doesn't meet the criteria. It will use a generic GPU kernel as fallback when running on GPU.\n",
            "WARNING:tensorflow:Layer lstm_7 will not use cuDNN kernels since it doesn't meet the criteria. It will use a generic GPU kernel as fallback when running on GPU.\n"
          ]
        },
        {
          "output_type": "stream",
          "name": "stdout",
          "text": [
            "Epoch 1/30\n",
            "109/109 [==============================] - ETA: 0s - loss: 1.2820 - accuracy: 0.4858"
          ]
        },
        {
          "output_type": "stream",
          "name": "stderr",
          "text": [
            "WARNING:absl:Found untraced functions such as _update_step_xla while saving (showing 1 of 1). These functions will not be directly callable after loading.\n"
          ]
        },
        {
          "output_type": "stream",
          "name": "stdout",
          "text": [
            "\b\b\b\b\b\b\b\b\b\b\b\b\b\b\b\b\b\b\b\b\b\b\b\b\b\b\b\b\b\b\b\b\b\b\b\b\b\b\b\b\b\b\b\b\b\b\b\b\b\b\b\b\b\b\b\b\b\b\b\b\b\b\b\b\b\b\b\b\b\b\b\b\b\b\b\b\b\b\b\b\b\b\b\b\r109/109 [==============================] - 315s 3s/step - loss: 1.2820 - accuracy: 0.4858 - val_loss: 1.2924 - val_accuracy: 0.4875\n",
            "Epoch 2/30\n",
            "109/109 [==============================] - ETA: 0s - loss: 1.2739 - accuracy: 0.4891"
          ]
        },
        {
          "output_type": "stream",
          "name": "stderr",
          "text": [
            "WARNING:absl:Found untraced functions such as _update_step_xla while saving (showing 1 of 1). These functions will not be directly callable after loading.\n"
          ]
        },
        {
          "output_type": "stream",
          "name": "stdout",
          "text": [
            "\b\b\b\b\b\b\b\b\b\b\b\b\b\b\b\b\b\b\b\b\b\b\b\b\b\b\b\b\b\b\b\b\b\b\b\b\b\b\b\b\b\b\b\b\b\b\b\b\b\b\b\b\b\b\b\b\b\b\b\b\b\b\b\b\b\b\b\b\b\b\b\b\b\b\b\b\b\b\b\b\b\b\b\b\r109/109 [==============================] - 300s 3s/step - loss: 1.2739 - accuracy: 0.4891 - val_loss: 1.2617 - val_accuracy: 0.4942\n",
            "Epoch 3/30\n",
            "109/109 [==============================] - ETA: 0s - loss: 1.2663 - accuracy: 0.4933"
          ]
        },
        {
          "output_type": "stream",
          "name": "stderr",
          "text": [
            "WARNING:absl:Found untraced functions such as _update_step_xla while saving (showing 1 of 1). These functions will not be directly callable after loading.\n"
          ]
        },
        {
          "output_type": "stream",
          "name": "stdout",
          "text": [
            "\b\b\b\b\b\b\b\b\b\b\b\b\b\b\b\b\b\b\b\b\b\b\b\b\b\b\b\b\b\b\b\b\b\b\b\b\b\b\b\b\b\b\b\b\b\b\b\b\b\b\b\b\b\b\b\b\b\b\b\b\b\b\b\b\b\b\b\b\b\b\b\b\b\b\b\b\b\b\b\b\b\b\b\b\r109/109 [==============================] - 298s 3s/step - loss: 1.2663 - accuracy: 0.4933 - val_loss: 1.3566 - val_accuracy: 0.4559\n",
            "Epoch 4/30\n",
            "109/109 [==============================] - ETA: 0s - loss: 1.2605 - accuracy: 0.4944"
          ]
        },
        {
          "output_type": "stream",
          "name": "stderr",
          "text": [
            "WARNING:absl:Found untraced functions such as _update_step_xla while saving (showing 1 of 1). These functions will not be directly callable after loading.\n"
          ]
        },
        {
          "output_type": "stream",
          "name": "stdout",
          "text": [
            "\b\b\b\b\b\b\b\b\b\b\b\b\b\b\b\b\b\b\b\b\b\b\b\b\b\b\b\b\b\b\b\b\b\b\b\b\b\b\b\b\b\b\b\b\b\b\b\b\b\b\b\b\b\b\b\b\b\b\b\b\b\b\b\b\b\b\b\b\b\b\b\b\b\b\b\b\b\b\b\b\b\b\b\b\r109/109 [==============================] - 302s 3s/step - loss: 1.2605 - accuracy: 0.4944 - val_loss: 1.2678 - val_accuracy: 0.4869\n",
            "Epoch 5/30\n",
            "109/109 [==============================] - ETA: 0s - loss: 1.2546 - accuracy: 0.4986"
          ]
        },
        {
          "output_type": "stream",
          "name": "stderr",
          "text": [
            "WARNING:absl:Found untraced functions such as _update_step_xla while saving (showing 1 of 1). These functions will not be directly callable after loading.\n"
          ]
        },
        {
          "output_type": "stream",
          "name": "stdout",
          "text": [
            "\b\b\b\b\b\b\b\b\b\b\b\b\b\b\b\b\b\b\b\b\b\b\b\b\b\b\b\b\b\b\b\b\b\b\b\b\b\b\b\b\b\b\b\b\b\b\b\b\b\b\b\b\b\b\b\b\b\b\b\b\b\b\b\b\b\b\b\b\b\b\b\b\b\b\b\b\b\b\b\b\b\b\b\b\r109/109 [==============================] - 296s 3s/step - loss: 1.2546 - accuracy: 0.4986 - val_loss: 1.2579 - val_accuracy: 0.4948\n",
            "Epoch 6/30\n",
            "109/109 [==============================] - ETA: 0s - loss: 1.2523 - accuracy: 0.4977"
          ]
        },
        {
          "output_type": "stream",
          "name": "stderr",
          "text": [
            "WARNING:absl:Found untraced functions such as _update_step_xla while saving (showing 1 of 1). These functions will not be directly callable after loading.\n"
          ]
        },
        {
          "output_type": "stream",
          "name": "stdout",
          "text": [
            "\b\b\b\b\b\b\b\b\b\b\b\b\b\b\b\b\b\b\b\b\b\b\b\b\b\b\b\b\b\b\b\b\b\b\b\b\b\b\b\b\b\b\b\b\b\b\b\b\b\b\b\b\b\b\b\b\b\b\b\b\b\b\b\b\b\b\b\b\b\b\b\b\b\b\b\b\b\b\b\b\b\b\b\b\r109/109 [==============================] - 297s 3s/step - loss: 1.2523 - accuracy: 0.4977 - val_loss: 1.2738 - val_accuracy: 0.4884\n",
            "Epoch 7/30\n",
            "109/109 [==============================] - ETA: 0s - loss: 1.2460 - accuracy: 0.5001"
          ]
        },
        {
          "output_type": "stream",
          "name": "stderr",
          "text": [
            "WARNING:absl:Found untraced functions such as _update_step_xla while saving (showing 1 of 1). These functions will not be directly callable after loading.\n"
          ]
        },
        {
          "output_type": "stream",
          "name": "stdout",
          "text": [
            "\b\b\b\b\b\b\b\b\b\b\b\b\b\b\b\b\b\b\b\b\b\b\b\b\b\b\b\b\b\b\b\b\b\b\b\b\b\b\b\b\b\b\b\b\b\b\b\b\b\b\b\b\b\b\b\b\b\b\b\b\b\b\b\b\b\b\b\b\b\b\b\b\b\b\b\b\b\b\b\b\b\b\b\b\r109/109 [==============================] - 298s 3s/step - loss: 1.2460 - accuracy: 0.5001 - val_loss: 1.2455 - val_accuracy: 0.4931\n",
            "Epoch 8/30\n",
            "109/109 [==============================] - ETA: 0s - loss: 1.2358 - accuracy: 0.5042"
          ]
        },
        {
          "output_type": "stream",
          "name": "stderr",
          "text": [
            "WARNING:absl:Found untraced functions such as _update_step_xla while saving (showing 1 of 1). These functions will not be directly callable after loading.\n"
          ]
        },
        {
          "output_type": "stream",
          "name": "stdout",
          "text": [
            "\b\b\b\b\b\b\b\b\b\b\b\b\b\b\b\b\b\b\b\b\b\b\b\b\b\b\b\b\b\b\b\b\b\b\b\b\b\b\b\b\b\b\b\b\b\b\b\b\b\b\b\b\b\b\b\b\b\b\b\b\b\b\b\b\b\b\b\b\b\b\b\b\b\b\b\b\b\b\b\b\b\b\b\b\r109/109 [==============================] - 300s 3s/step - loss: 1.2358 - accuracy: 0.5042 - val_loss: 1.2456 - val_accuracy: 0.4984\n",
            "Epoch 9/30\n",
            "109/109 [==============================] - ETA: 0s - loss: 1.2326 - accuracy: 0.5088"
          ]
        },
        {
          "output_type": "stream",
          "name": "stderr",
          "text": [
            "WARNING:absl:Found untraced functions such as _update_step_xla while saving (showing 1 of 1). These functions will not be directly callable after loading.\n"
          ]
        },
        {
          "output_type": "stream",
          "name": "stdout",
          "text": [
            "\b\b\b\b\b\b\b\b\b\b\b\b\b\b\b\b\b\b\b\b\b\b\b\b\b\b\b\b\b\b\b\b\b\b\b\b\b\b\b\b\b\b\b\b\b\b\b\b\b\b\b\b\b\b\b\b\b\b\b\b\b\b\b\b\b\b\b\b\b\b\b\b\b\b\b\b\b\b\b\b\b\b\b\b\r109/109 [==============================] - 296s 3s/step - loss: 1.2326 - accuracy: 0.5088 - val_loss: 1.2556 - val_accuracy: 0.4978\n",
            "Epoch 10/30\n",
            "109/109 [==============================] - ETA: 0s - loss: 1.2268 - accuracy: 0.5088"
          ]
        },
        {
          "output_type": "stream",
          "name": "stderr",
          "text": [
            "WARNING:absl:Found untraced functions such as _update_step_xla while saving (showing 1 of 1). These functions will not be directly callable after loading.\n"
          ]
        },
        {
          "output_type": "stream",
          "name": "stdout",
          "text": [
            "\b\b\b\b\b\b\b\b\b\b\b\b\b\b\b\b\b\b\b\b\b\b\b\b\b\b\b\b\b\b\b\b\b\b\b\b\b\b\b\b\b\b\b\b\b\b\b\b\b\b\b\b\b\b\b\b\b\b\b\b\b\b\b\b\b\b\b\b\b\b\b\b\b\b\b\b\b\b\b\b\b\b\b\b\r109/109 [==============================] - 305s 3s/step - loss: 1.2268 - accuracy: 0.5088 - val_loss: 1.2422 - val_accuracy: 0.4931\n",
            "Epoch 11/30\n",
            "109/109 [==============================] - ETA: 0s - loss: 1.2216 - accuracy: 0.5115"
          ]
        },
        {
          "output_type": "stream",
          "name": "stderr",
          "text": [
            "WARNING:absl:Found untraced functions such as _update_step_xla while saving (showing 1 of 1). These functions will not be directly callable after loading.\n"
          ]
        },
        {
          "output_type": "stream",
          "name": "stdout",
          "text": [
            "\b\b\b\b\b\b\b\b\b\b\b\b\b\b\b\b\b\b\b\b\b\b\b\b\b\b\b\b\b\b\b\b\b\b\b\b\b\b\b\b\b\b\b\b\b\b\b\b\b\b\b\b\b\b\b\b\b\b\b\b\b\b\b\b\b\b\b\b\b\b\b\b\b\b\b\b\b\b\b\b\b\b\b\b\r109/109 [==============================] - 299s 3s/step - loss: 1.2216 - accuracy: 0.5115 - val_loss: 1.2369 - val_accuracy: 0.4937\n",
            "Epoch 12/30\n",
            "109/109 [==============================] - ETA: 0s - loss: 1.2184 - accuracy: 0.5125"
          ]
        },
        {
          "output_type": "stream",
          "name": "stderr",
          "text": [
            "WARNING:absl:Found untraced functions such as _update_step_xla while saving (showing 1 of 1). These functions will not be directly callable after loading.\n"
          ]
        },
        {
          "output_type": "stream",
          "name": "stdout",
          "text": [
            "\b\b\b\b\b\b\b\b\b\b\b\b\b\b\b\b\b\b\b\b\b\b\b\b\b\b\b\b\b\b\b\b\b\b\b\b\b\b\b\b\b\b\b\b\b\b\b\b\b\b\b\b\b\b\b\b\b\b\b\b\b\b\b\b\b\b\b\b\b\b\b\b\b\b\b\b\b\b\b\b\b\b\b\b\r109/109 [==============================] - 303s 3s/step - loss: 1.2184 - accuracy: 0.5125 - val_loss: 1.2306 - val_accuracy: 0.4993\n",
            "Epoch 13/30\n",
            "109/109 [==============================] - ETA: 0s - loss: 1.2142 - accuracy: 0.5142"
          ]
        },
        {
          "output_type": "stream",
          "name": "stderr",
          "text": [
            "WARNING:absl:Found untraced functions such as _update_step_xla while saving (showing 1 of 1). These functions will not be directly callable after loading.\n"
          ]
        },
        {
          "output_type": "stream",
          "name": "stdout",
          "text": [
            "\b\b\b\b\b\b\b\b\b\b\b\b\b\b\b\b\b\b\b\b\b\b\b\b\b\b\b\b\b\b\b\b\b\b\b\b\b\b\b\b\b\b\b\b\b\b\b\b\b\b\b\b\b\b\b\b\b\b\b\b\b\b\b\b\b\b\b\b\b\b\b\b\b\b\b\b\b\b\b\b\b\b\b\b\r109/109 [==============================] - 306s 3s/step - loss: 1.2142 - accuracy: 0.5142 - val_loss: 1.2424 - val_accuracy: 0.4981\n",
            "Epoch 14/30\n",
            "109/109 [==============================] - ETA: 0s - loss: 1.2110 - accuracy: 0.5136"
          ]
        },
        {
          "output_type": "stream",
          "name": "stderr",
          "text": [
            "WARNING:absl:Found untraced functions such as _update_step_xla while saving (showing 1 of 1). These functions will not be directly callable after loading.\n"
          ]
        },
        {
          "output_type": "stream",
          "name": "stdout",
          "text": [
            "\b\b\b\b\b\b\b\b\b\b\b\b\b\b\b\b\b\b\b\b\b\b\b\b\b\b\b\b\b\b\b\b\b\b\b\b\b\b\b\b\b\b\b\b\b\b\b\b\b\b\b\b\b\b\b\b\b\b\b\b\b\b\b\b\b\b\b\b\b\b\b\b\b\b\b\b\b\b\b\b\b\b\b\b\r109/109 [==============================] - 298s 3s/step - loss: 1.2110 - accuracy: 0.5136 - val_loss: 1.2619 - val_accuracy: 0.4919\n",
            "Epoch 15/30\n",
            "109/109 [==============================] - ETA: 0s - loss: 1.2082 - accuracy: 0.5184"
          ]
        },
        {
          "output_type": "stream",
          "name": "stderr",
          "text": [
            "WARNING:absl:Found untraced functions such as _update_step_xla while saving (showing 1 of 1). These functions will not be directly callable after loading.\n"
          ]
        },
        {
          "output_type": "stream",
          "name": "stdout",
          "text": [
            "\b\b\b\b\b\b\b\b\b\b\b\b\b\b\b\b\b\b\b\b\b\b\b\b\b\b\b\b\b\b\b\b\b\b\b\b\b\b\b\b\b\b\b\b\b\b\b\b\b\b\b\b\b\b\b\b\b\b\b\b\b\b\b\b\b\b\b\b\b\b\b\b\b\b\b\b\b\b\b\b\b\b\b\b\r109/109 [==============================] - 299s 3s/step - loss: 1.2082 - accuracy: 0.5184 - val_loss: 1.2107 - val_accuracy: 0.5087\n",
            "Epoch 16/30\n",
            "109/109 [==============================] - ETA: 0s - loss: 1.2026 - accuracy: 0.5177"
          ]
        },
        {
          "output_type": "stream",
          "name": "stderr",
          "text": [
            "WARNING:absl:Found untraced functions such as _update_step_xla while saving (showing 1 of 1). These functions will not be directly callable after loading.\n"
          ]
        },
        {
          "output_type": "stream",
          "name": "stdout",
          "text": [
            "\b\b\b\b\b\b\b\b\b\b\b\b\b\b\b\b\b\b\b\b\b\b\b\b\b\b\b\b\b\b\b\b\b\b\b\b\b\b\b\b\b\b\b\b\b\b\b\b\b\b\b\b\b\b\b\b\b\b\b\b\b\b\b\b\b\b\b\b\b\b\b\b\b\b\b\b\b\b\b\b\b\b\b\b\r109/109 [==============================] - 303s 3s/step - loss: 1.2026 - accuracy: 0.5177 - val_loss: 1.2107 - val_accuracy: 0.5116\n",
            "Epoch 17/30\n",
            "109/109 [==============================] - ETA: 0s - loss: 1.1985 - accuracy: 0.5212"
          ]
        },
        {
          "output_type": "stream",
          "name": "stderr",
          "text": [
            "WARNING:absl:Found untraced functions such as _update_step_xla while saving (showing 1 of 1). These functions will not be directly callable after loading.\n"
          ]
        },
        {
          "output_type": "stream",
          "name": "stdout",
          "text": [
            "\b\b\b\b\b\b\b\b\b\b\b\b\b\b\b\b\b\b\b\b\b\b\b\b\b\b\b\b\b\b\b\b\b\b\b\b\b\b\b\b\b\b\b\b\b\b\b\b\b\b\b\b\b\b\b\b\b\b\b\b\b\b\b\b\b\b\b\b\b\b\b\b\b\b\b\b\b\b\b\b\b\b\b\b\r109/109 [==============================] - 302s 3s/step - loss: 1.1985 - accuracy: 0.5212 - val_loss: 1.2299 - val_accuracy: 0.4990\n",
            "Epoch 18/30\n",
            "109/109 [==============================] - ETA: 0s - loss: 1.1923 - accuracy: 0.5216"
          ]
        },
        {
          "output_type": "stream",
          "name": "stderr",
          "text": [
            "WARNING:absl:Found untraced functions such as _update_step_xla while saving (showing 1 of 1). These functions will not be directly callable after loading.\n"
          ]
        },
        {
          "output_type": "stream",
          "name": "stdout",
          "text": [
            "\b\b\b\b\b\b\b\b\b\b\b\b\b\b\b\b\b\b\b\b\b\b\b\b\b\b\b\b\b\b\b\b\b\b\b\b\b\b\b\b\b\b\b\b\b\b\b\b\b\b\b\b\b\b\b\b\b\b\b\b\b\b\b\b\b\b\b\b\b\b\b\b\b\b\b\b\b\b\b\b\b\b\b\b\r109/109 [==============================] - 303s 3s/step - loss: 1.1923 - accuracy: 0.5216 - val_loss: 1.2076 - val_accuracy: 0.5099\n",
            "Epoch 19/30\n",
            "109/109 [==============================] - ETA: 0s - loss: 1.1868 - accuracy: 0.5226"
          ]
        },
        {
          "output_type": "stream",
          "name": "stderr",
          "text": [
            "WARNING:absl:Found untraced functions such as _update_step_xla while saving (showing 1 of 1). These functions will not be directly callable after loading.\n"
          ]
        },
        {
          "output_type": "stream",
          "name": "stdout",
          "text": [
            "\b\b\b\b\b\b\b\b\b\b\b\b\b\b\b\b\b\b\b\b\b\b\b\b\b\b\b\b\b\b\b\b\b\b\b\b\b\b\b\b\b\b\b\b\b\b\b\b\b\b\b\b\b\b\b\b\b\b\b\b\b\b\b\b\b\b\b\b\b\b\b\b\b\b\b\b\b\b\b\b\b\b\b\b\r109/109 [==============================] - 301s 3s/step - loss: 1.1868 - accuracy: 0.5226 - val_loss: 1.1972 - val_accuracy: 0.5170\n",
            "Epoch 20/30\n",
            "109/109 [==============================] - ETA: 0s - loss: 1.1785 - accuracy: 0.5286"
          ]
        },
        {
          "output_type": "stream",
          "name": "stderr",
          "text": [
            "WARNING:absl:Found untraced functions such as _update_step_xla while saving (showing 1 of 1). These functions will not be directly callable after loading.\n"
          ]
        },
        {
          "output_type": "stream",
          "name": "stdout",
          "text": [
            "\b\b\b\b\b\b\b\b\b\b\b\b\b\b\b\b\b\b\b\b\b\b\b\b\b\b\b\b\b\b\b\b\b\b\b\b\b\b\b\b\b\b\b\b\b\b\b\b\b\b\b\b\b\b\b\b\b\b\b\b\b\b\b\b\b\b\b\b\b\b\b\b\b\b\b\b\b\b\b\b\b\b\b\b\r109/109 [==============================] - 305s 3s/step - loss: 1.1785 - accuracy: 0.5286 - val_loss: 1.2078 - val_accuracy: 0.5096\n",
            "Epoch 21/30\n",
            "109/109 [==============================] - ETA: 0s - loss: 1.1773 - accuracy: 0.5281"
          ]
        },
        {
          "output_type": "stream",
          "name": "stderr",
          "text": [
            "WARNING:absl:Found untraced functions such as _update_step_xla while saving (showing 1 of 1). These functions will not be directly callable after loading.\n"
          ]
        },
        {
          "output_type": "stream",
          "name": "stdout",
          "text": [
            "\b\b\b\b\b\b\b\b\b\b\b\b\b\b\b\b\b\b\b\b\b\b\b\b\b\b\b\b\b\b\b\b\b\b\b\b\b\b\b\b\b\b\b\b\b\b\b\b\b\b\b\b\b\b\b\b\b\b\b\b\b\b\b\b\b\b\b\b\b\b\b\b\b\b\b\b\b\b\b\b\b\b\b\b\r109/109 [==============================] - 302s 3s/step - loss: 1.1773 - accuracy: 0.5281 - val_loss: 1.1930 - val_accuracy: 0.5234\n",
            "Epoch 22/30\n",
            "109/109 [==============================] - 283s 3s/step - loss: 1.1777 - accuracy: 0.5305 - val_loss: 1.2042 - val_accuracy: 0.5081\n",
            "Epoch 23/30\n",
            "109/109 [==============================] - ETA: 0s - loss: 1.1728 - accuracy: 0.5296"
          ]
        },
        {
          "output_type": "stream",
          "name": "stderr",
          "text": [
            "WARNING:absl:Found untraced functions such as _update_step_xla while saving (showing 1 of 1). These functions will not be directly callable after loading.\n"
          ]
        },
        {
          "output_type": "stream",
          "name": "stdout",
          "text": [
            "\b\b\b\b\b\b\b\b\b\b\b\b\b\b\b\b\b\b\b\b\b\b\b\b\b\b\b\b\b\b\b\b\b\b\b\b\b\b\b\b\b\b\b\b\b\b\b\b\b\b\b\b\b\b\b\b\b\b\b\b\b\b\b\b\b\b\b\b\b\b\b\b\b\b\b\b\b\b\b\b\b\b\b\b\r109/109 [==============================] - 304s 3s/step - loss: 1.1728 - accuracy: 0.5296 - val_loss: 1.2159 - val_accuracy: 0.5069\n",
            "Epoch 24/30\n",
            "109/109 [==============================] - ETA: 0s - loss: 1.1667 - accuracy: 0.5336"
          ]
        },
        {
          "output_type": "stream",
          "name": "stderr",
          "text": [
            "WARNING:absl:Found untraced functions such as _update_step_xla while saving (showing 1 of 1). These functions will not be directly callable after loading.\n"
          ]
        },
        {
          "output_type": "stream",
          "name": "stdout",
          "text": [
            "\b\b\b\b\b\b\b\b\b\b\b\b\b\b\b\b\b\b\b\b\b\b\b\b\b\b\b\b\b\b\b\b\b\b\b\b\b\b\b\b\b\b\b\b\b\b\b\b\b\b\b\b\b\b\b\b\b\b\b\b\b\b\b\b\b\b\b\b\b\b\b\b\b\b\b\b\b\b\b\b\b\b\b\b\r109/109 [==============================] - 305s 3s/step - loss: 1.1667 - accuracy: 0.5336 - val_loss: 1.1836 - val_accuracy: 0.5223\n",
            "Epoch 25/30\n",
            "109/109 [==============================] - ETA: 0s - loss: 1.1632 - accuracy: 0.5339"
          ]
        },
        {
          "output_type": "stream",
          "name": "stderr",
          "text": [
            "WARNING:absl:Found untraced functions such as _update_step_xla while saving (showing 1 of 1). These functions will not be directly callable after loading.\n"
          ]
        },
        {
          "output_type": "stream",
          "name": "stdout",
          "text": [
            "\b\b\b\b\b\b\b\b\b\b\b\b\b\b\b\b\b\b\b\b\b\b\b\b\b\b\b\b\b\b\b\b\b\b\b\b\b\b\b\b\b\b\b\b\b\b\b\b\b\b\b\b\b\b\b\b\b\b\b\b\b\b\b\b\b\b\b\b\b\b\b\b\b\b\b\b\b\b\b\b\b\b\b\b\r109/109 [==============================] - 302s 3s/step - loss: 1.1632 - accuracy: 0.5339 - val_loss: 1.1785 - val_accuracy: 0.5229\n",
            "Epoch 26/30\n",
            "109/109 [==============================] - ETA: 0s - loss: 1.1604 - accuracy: 0.5354"
          ]
        },
        {
          "output_type": "stream",
          "name": "stderr",
          "text": [
            "WARNING:absl:Found untraced functions such as _update_step_xla while saving (showing 1 of 1). These functions will not be directly callable after loading.\n"
          ]
        },
        {
          "output_type": "stream",
          "name": "stdout",
          "text": [
            "\b\b\b\b\b\b\b\b\b\b\b\b\b\b\b\b\b\b\b\b\b\b\b\b\b\b\b\b\b\b\b\b\b\b\b\b\b\b\b\b\b\b\b\b\b\b\b\b\b\b\b\b\b\b\b\b\b\b\b\b\b\b\b\b\b\b\b\b\b\b\b\b\b\b\b\b\b\b\b\b\b\b\b\b\r109/109 [==============================] - 299s 3s/step - loss: 1.1604 - accuracy: 0.5354 - val_loss: 1.1918 - val_accuracy: 0.5158\n",
            "Epoch 27/30\n",
            "109/109 [==============================] - ETA: 0s - loss: 1.1563 - accuracy: 0.5388"
          ]
        },
        {
          "output_type": "stream",
          "name": "stderr",
          "text": [
            "WARNING:absl:Found untraced functions such as _update_step_xla while saving (showing 1 of 1). These functions will not be directly callable after loading.\n"
          ]
        },
        {
          "output_type": "stream",
          "name": "stdout",
          "text": [
            "\b\b\b\b\b\b\b\b\b\b\b\b\b\b\b\b\b\b\b\b\b\b\b\b\b\b\b\b\b\b\b\b\b\b\b\b\b\b\b\b\b\b\b\b\b\b\b\b\b\b\b\b\b\b\b\b\b\b\b\b\b\b\b\b\b\b\b\b\b\b\b\b\b\b\b\b\b\b\b\b\b\b\b\b\r109/109 [==============================] - 300s 3s/step - loss: 1.1563 - accuracy: 0.5388 - val_loss: 1.1685 - val_accuracy: 0.5243\n",
            "Epoch 28/30\n",
            "109/109 [==============================] - ETA: 0s - loss: 1.1510 - accuracy: 0.5403"
          ]
        },
        {
          "output_type": "stream",
          "name": "stderr",
          "text": [
            "WARNING:absl:Found untraced functions such as _update_step_xla while saving (showing 1 of 1). These functions will not be directly callable after loading.\n"
          ]
        },
        {
          "output_type": "stream",
          "name": "stdout",
          "text": [
            "\b\b\b\b\b\b\b\b\b\b\b\b\b\b\b\b\b\b\b\b\b\b\b\b\b\b\b\b\b\b\b\b\b\b\b\b\b\b\b\b\b\b\b\b\b\b\b\b\b\b\b\b\b\b\b\b\b\b\b\b\b\b\b\b\b\b\b\b\b\b\b\b\b\b\b\b\b\b\b\b\b\b\b\b\r109/109 [==============================] - 304s 3s/step - loss: 1.1510 - accuracy: 0.5403 - val_loss: 1.1778 - val_accuracy: 0.5288\n",
            "Epoch 29/30\n",
            "109/109 [==============================] - ETA: 0s - loss: 1.1485 - accuracy: 0.5417"
          ]
        },
        {
          "output_type": "stream",
          "name": "stderr",
          "text": [
            "WARNING:absl:Found untraced functions such as _update_step_xla while saving (showing 1 of 1). These functions will not be directly callable after loading.\n"
          ]
        },
        {
          "output_type": "stream",
          "name": "stdout",
          "text": [
            "\b\b\b\b\b\b\b\b\b\b\b\b\b\b\b\b\b\b\b\b\b\b\b\b\b\b\b\b\b\b\b\b\b\b\b\b\b\b\b\b\b\b\b\b\b\b\b\b\b\b\b\b\b\b\b\b\b\b\b\b\b\b\b\b\b\b\b\b\b\b\b\b\b\b\b\b\b\b\b\b\b\b\b\b\r109/109 [==============================] - 299s 3s/step - loss: 1.1485 - accuracy: 0.5417 - val_loss: 1.2149 - val_accuracy: 0.5052\n",
            "Epoch 30/30\n",
            "109/109 [==============================] - ETA: 0s - loss: 1.1447 - accuracy: 0.5458"
          ]
        },
        {
          "output_type": "stream",
          "name": "stderr",
          "text": [
            "WARNING:absl:Found untraced functions such as _update_step_xla while saving (showing 1 of 1). These functions will not be directly callable after loading.\n"
          ]
        },
        {
          "output_type": "stream",
          "name": "stdout",
          "text": [
            "\b\b\b\b\b\b\b\b\b\b\b\b\b\b\b\b\b\b\b\b\b\b\b\b\b\b\b\b\b\b\b\b\b\b\b\b\b\b\b\b\b\b\b\b\b\b\b\b\b\b\b\b\b\b\b\b\b\b\b\b\b\b\b\b\b\b\b\b\b\b\b\b\b\b\b\b\b\b\b\b\b\b\b\b\r109/109 [==============================] - 302s 3s/step - loss: 1.1447 - accuracy: 0.5458 - val_loss: 1.1711 - val_accuracy: 0.5252\n"
          ]
        }
      ],
      "source": [
        "import os\n",
        "os.environ['TF_CPP_MIN_LOG_LEVEL'] = '2'\n",
        "\n",
        "model_6 = load_model(\"/content/model5.tf/content/model5.tf\")\n",
        "\n",
        "filepath = \"model6.tf\"\n",
        "checkpoint = ModelCheckpoint(filepath, monitor='loss', save_best_only=True, mode='min', save_format='tf')\n",
        "callbacks_list = [checkpoint]\n",
        "history = model_6.fit(X_trHE, Y_trHE, validation_data=(X_valHE, Y_valHE), batch_size=250, epochs=30, callbacks=callbacks_list)"
      ],
      "id": "0PhHcDaldOxr"
    },
    {
      "cell_type": "code",
      "execution_count": null,
      "metadata": {
        "id": "M54B8C4YdEAt",
        "colab": {
          "base_uri": "https://localhost:8080/",
          "height": 489
        },
        "outputId": "d2289f5c-d565-4e2b-9785-169cf5433a97"
      },
      "outputs": [
        {
          "output_type": "display_data",
          "data": {
            "text/plain": [
              "<Figure size 640x480 with 2 Axes>"
            ],
            "image/png": "[encoded data removed]"
          },
          "metadata": {}
        },
        {
          "output_type": "display_data",
          "data": {
            "text/plain": [
              "<Figure size 1000x600 with 0 Axes>"
            ]
          },
          "metadata": {}
        }
      ],
      "source": [
        "plt.subplot(1, 2, 1)\n",
        "plt.plot(history.history['accuracy'])\n",
        "plt.plot(history.history['val_accuracy'])\n",
        "plt.title('Accuracy')\n",
        "plt.ylabel('Accuracy')\n",
        "plt.xlabel('Epoch')\n",
        "plt.legend(['Train', 'Val'], loc='upper left')\n",
        "\n",
        "plt.subplot(1, 2, 2)\n",
        "plt.plot(history.history['loss'])\n",
        "plt.plot(history.history['val_loss'])\n",
        "plt.title('Loss')\n",
        "plt.ylabel('Loss')\n",
        "plt.xlabel('Epoch')\n",
        "plt.legend(['Train', 'Val'], loc='upper left')\n",
        "\n",
        "plt.figure(figsize=(10,6))\n",
        "#plt.tight_layout()\n",
        "\n",
        "plt.show()"
      ],
      "id": "M54B8C4YdEAt"
    },
    {
      "cell_type": "code",
      "source": [
        "!zip -r /content/model6.tf.zip /content/model6.tf"
      ],
      "metadata": {
        "colab": {
          "base_uri": "https://localhost:8080/"
        },
        "outputId": "8ad683b4-b995-47ec-f187-36d4f9a2783f",
        "id": "oyXCyXTvdEAu"
      },
      "execution_count": null,
      "outputs": [
        {
          "output_type": "stream",
          "name": "stdout",
          "text": [
            "  adding: content/model6.tf/ (stored 0%)\n",
            "  adding: content/model6.tf/assets/ (stored 0%)\n",
            "  adding: content/model6.tf/saved_model.pb (deflated 91%)\n",
            "  adding: content/model6.tf/fingerprint.pb (stored 0%)\n",
            "  adding: content/model6.tf/keras_metadata.pb (deflated 94%)\n",
            "  adding: content/model6.tf/variables/ (stored 0%)\n",
            "  adding: content/model6.tf/variables/variables.index (deflated 68%)\n",
            "  adding: content/model6.tf/variables/variables.data-00000-of-00001 (deflated 6%)\n"
          ]
        }
      ],
      "id": "oyXCyXTvdEAu"
    },
    {
      "cell_type": "code",
      "source": [
        "#Checking predict \n",
        "\n",
        "X_teHE = np.expand_dims(X_teNN_transformed, axis=2)\n",
        "Predicted_outcomes = model.predict(X_teHE)\n",
        "\n",
        "y_pred = enc.inverse_transform(Predicted_outcomes)"
      ],
      "metadata": {
        "colab": {
          "base_uri": "https://localhost:8080/"
        },
        "outputId": "f610382a-f3e6-4750-a94d-e473cbd9f60b",
        "id": "YB5IaqQQXAZP"
      },
      "execution_count": null,
      "outputs": [
        {
          "output_type": "stream",
          "name": "stdout",
          "text": [
            "106/106 [==============================] - 23s 213ms/step\n"
          ]
        }
      ],
      "id": "YB5IaqQQXAZP"
    },
    {
      "cell_type": "code",
      "source": [
        "np.unique(y_pred)"
      ],
      "metadata": {
        "colab": {
          "base_uri": "https://localhost:8080/"
        },
        "id": "e7g-VDr45zzn",
        "outputId": "fb1b1acc-1544-4dbe-b30f-ef11c36b1b39"
      },
      "id": "e7g-VDr45zzn",
      "execution_count": null,
      "outputs": [
        {
          "output_type": "execute_result",
          "data": {
            "text/plain": [
              "array(['Disgust'], dtype=object)"
            ]
          },
          "metadata": {},
          "execution_count": 25
        },
        {
          "output_type": "execute_result",
          "data": {
            "text/plain": [
              "array(['Disgust'], dtype=object)"
            ]
          },
          "metadata": {},
          "execution_count": 26
        }
      ]
    },
    {
      "cell_type": "markdown",
      "source": [
        "Starting the next iteration of training #7\n",
        "\n"
      ],
      "metadata": {
        "id": "51DDklQn5hgQ"
      },
      "id": "51DDklQn5hgQ"
    },
    {
      "cell_type": "code",
      "execution_count": null,
      "metadata": {
        "colab": {
          "base_uri": "https://localhost:8080/"
        },
        "outputId": "03dfe147-5ef7-4e40-ea78-5f4dd4402e1a",
        "id": "tIkcoC2P5hgS"
      },
      "outputs": [
        {
          "output_type": "stream",
          "name": "stderr",
          "text": [
            "WARNING:tensorflow:Layer lstm_4 will not use cuDNN kernels since it doesn't meet the criteria. It will use a generic GPU kernel as fallback when running on GPU.\n",
            "WARNING:tensorflow:Layer lstm_4 will not use cuDNN kernels since it doesn't meet the criteria. It will use a generic GPU kernel as fallback when running on GPU.\n",
            "WARNING:tensorflow:Layer lstm_4 will not use cuDNN kernels since it doesn't meet the criteria. It will use a generic GPU kernel as fallback when running on GPU.\n",
            "WARNING:tensorflow:Layer lstm_5 will not use cuDNN kernels since it doesn't meet the criteria. It will use a generic GPU kernel as fallback when running on GPU.\n",
            "WARNING:tensorflow:Layer lstm_5 will not use cuDNN kernels since it doesn't meet the criteria. It will use a generic GPU kernel as fallback when running on GPU.\n",
            "WARNING:tensorflow:Layer lstm_5 will not use cuDNN kernels since it doesn't meet the criteria. It will use a generic GPU kernel as fallback when running on GPU.\n",
            "WARNING:tensorflow:Layer lstm_6 will not use cuDNN kernels since it doesn't meet the criteria. It will use a generic GPU kernel as fallback when running on GPU.\n",
            "WARNING:tensorflow:Layer lstm_6 will not use cuDNN kernels since it doesn't meet the criteria. It will use a generic GPU kernel as fallback when running on GPU.\n",
            "WARNING:tensorflow:Layer lstm_6 will not use cuDNN kernels since it doesn't meet the criteria. It will use a generic GPU kernel as fallback when running on GPU.\n",
            "WARNING:tensorflow:Layer lstm_7 will not use cuDNN kernels since it doesn't meet the criteria. It will use a generic GPU kernel as fallback when running on GPU.\n",
            "WARNING:tensorflow:Layer lstm_7 will not use cuDNN kernels since it doesn't meet the criteria. It will use a generic GPU kernel as fallback when running on GPU.\n",
            "WARNING:tensorflow:Layer lstm_7 will not use cuDNN kernels since it doesn't meet the criteria. It will use a generic GPU kernel as fallback when running on GPU.\n"
          ]
        },
        {
          "output_type": "stream",
          "name": "stdout",
          "text": [
            "Epoch 1/12\n",
            "109/109 [==============================] - ETA: 0s - loss: 1.1447 - accuracy: 0.5429"
          ]
        },
        {
          "output_type": "stream",
          "name": "stderr",
          "text": [
            "WARNING:absl:Found untraced functions such as _update_step_xla while saving (showing 1 of 1). These functions will not be directly callable after loading.\n"
          ]
        },
        {
          "output_type": "stream",
          "name": "stdout",
          "text": [
            "\b\b\b\b\b\b\b\b\b\b\b\b\b\b\b\b\b\b\b\b\b\b\b\b\b\b\b\b\b\b\b\b\b\b\b\b\b\b\b\b\b\b\b\b\b\b\b\b\b\b\b\b\b\b\b\b\b\b\b\b\b\b\b\b\b\b\b\b\b\b\b\b\b\b\b\b\b\b\b\b\b\b\b\b\r109/109 [==============================] - 337s 3s/step - loss: 1.1447 - accuracy: 0.5429 - val_loss: 1.1705 - val_accuracy: 0.5314\n",
            "Epoch 2/12\n",
            "109/109 [==============================] - ETA: 0s - loss: 1.1367 - accuracy: 0.5460"
          ]
        },
        {
          "output_type": "stream",
          "name": "stderr",
          "text": [
            "WARNING:absl:Found untraced functions such as _update_step_xla while saving (showing 1 of 1). These functions will not be directly callable after loading.\n"
          ]
        },
        {
          "output_type": "stream",
          "name": "stdout",
          "text": [
            "\b\b\b\b\b\b\b\b\b\b\b\b\b\b\b\b\b\b\b\b\b\b\b\b\b\b\b\b\b\b\b\b\b\b\b\b\b\b\b\b\b\b\b\b\b\b\b\b\b\b\b\b\b\b\b\b\b\b\b\b\b\b\b\b\b\b\b\b\b\b\b\b\b\b\b\b\b\b\b\b\b\b\b\b\r109/109 [==============================] - 308s 3s/step - loss: 1.1367 - accuracy: 0.5460 - val_loss: 1.1619 - val_accuracy: 0.5264\n",
            "Epoch 3/12\n",
            "109/109 [==============================] - ETA: 0s - loss: 1.1332 - accuracy: 0.5474"
          ]
        },
        {
          "output_type": "stream",
          "name": "stderr",
          "text": [
            "WARNING:absl:Found untraced functions such as _update_step_xla while saving (showing 1 of 1). These functions will not be directly callable after loading.\n"
          ]
        },
        {
          "output_type": "stream",
          "name": "stdout",
          "text": [
            "\b\b\b\b\b\b\b\b\b\b\b\b\b\b\b\b\b\b\b\b\b\b\b\b\b\b\b\b\b\b\b\b\b\b\b\b\b\b\b\b\b\b\b\b\b\b\b\b\b\b\b\b\b\b\b\b\b\b\b\b\b\b\b\b\b\b\b\b\b\b\b\b\b\b\b\b\b\b\b\b\b\b\b\b\r109/109 [==============================] - 301s 3s/step - loss: 1.1332 - accuracy: 0.5474 - val_loss: 1.1802 - val_accuracy: 0.5170\n",
            "Epoch 4/12\n",
            "109/109 [==============================] - 282s 3s/step - loss: 1.1339 - accuracy: 0.5473 - val_loss: 1.1518 - val_accuracy: 0.5338\n",
            "Epoch 5/12\n",
            "109/109 [==============================] - ETA: 0s - loss: 1.1300 - accuracy: 0.5482"
          ]
        },
        {
          "output_type": "stream",
          "name": "stderr",
          "text": [
            "WARNING:absl:Found untraced functions such as _update_step_xla while saving (showing 1 of 1). These functions will not be directly callable after loading.\n"
          ]
        },
        {
          "output_type": "stream",
          "name": "stdout",
          "text": [
            "\b\b\b\b\b\b\b\b\b\b\b\b\b\b\b\b\b\b\b\b\b\b\b\b\b\b\b\b\b\b\b\b\b\b\b\b\b\b\b\b\b\b\b\b\b\b\b\b\b\b\b\b\b\b\b\b\b\b\b\b\b\b\b\b\b\b\b\b\b\b\b\b\b\b\b\b\b\b\b\b\b\b\b\b\r109/109 [==============================] - 302s 3s/step - loss: 1.1300 - accuracy: 0.5482 - val_loss: 1.1514 - val_accuracy: 0.5347\n",
            "Epoch 6/12\n",
            "109/109 [==============================] - ETA: 0s - loss: 1.1264 - accuracy: 0.5491"
          ]
        },
        {
          "output_type": "stream",
          "name": "stderr",
          "text": [
            "WARNING:absl:Found untraced functions such as _update_step_xla while saving (showing 1 of 1). These functions will not be directly callable after loading.\n"
          ]
        },
        {
          "output_type": "stream",
          "name": "stdout",
          "text": [
            "\b\b\b\b\b\b\b\b\b\b\b\b\b\b\b\b\b\b\b\b\b\b\b\b\b\b\b\b\b\b\b\b\b\b\b\b\b\b\b\b\b\b\b\b\b\b\b\b\b\b\b\b\b\b\b\b\b\b\b\b\b\b\b\b\b\b\b\b\b\b\b\b\b\b\b\b\b\b\b\b\b\b\b\b\r109/109 [==============================] - 304s 3s/step - loss: 1.1264 - accuracy: 0.5491 - val_loss: 1.1779 - val_accuracy: 0.5320\n",
            "Epoch 7/12\n",
            "109/109 [==============================] - ETA: 0s - loss: 1.1228 - accuracy: 0.5532"
          ]
        },
        {
          "output_type": "stream",
          "name": "stderr",
          "text": [
            "WARNING:absl:Found untraced functions such as _update_step_xla while saving (showing 1 of 1). These functions will not be directly callable after loading.\n"
          ]
        },
        {
          "output_type": "stream",
          "name": "stdout",
          "text": [
            "\b\b\b\b\b\b\b\b\b\b\b\b\b\b\b\b\b\b\b\b\b\b\b\b\b\b\b\b\b\b\b\b\b\b\b\b\b\b\b\b\b\b\b\b\b\b\b\b\b\b\b\b\b\b\b\b\b\b\b\b\b\b\b\b\b\b\b\b\b\b\b\b\b\b\b\b\b\b\b\b\b\b\b\b\r109/109 [==============================] - 303s 3s/step - loss: 1.1228 - accuracy: 0.5532 - val_loss: 1.2508 - val_accuracy: 0.4942\n",
            "Epoch 8/12\n",
            "109/109 [==============================] - ETA: 0s - loss: 1.1227 - accuracy: 0.5521"
          ]
        },
        {
          "output_type": "stream",
          "name": "stderr",
          "text": [
            "WARNING:absl:Found untraced functions such as _update_step_xla while saving (showing 1 of 1). These functions will not be directly callable after loading.\n"
          ]
        },
        {
          "output_type": "stream",
          "name": "stdout",
          "text": [
            "\b\b\b\b\b\b\b\b\b\b\b\b\b\b\b\b\b\b\b\b\b\b\b\b\b\b\b\b\b\b\b\b\b\b\b\b\b\b\b\b\b\b\b\b\b\b\b\b\b\b\b\b\b\b\b\b\b\b\b\b\b\b\b\b\b\b\b\b\b\b\b\b\b\b\b\b\b\b\b\b\b\b\b\b\r109/109 [==============================] - 305s 3s/step - loss: 1.1227 - accuracy: 0.5521 - val_loss: 1.1559 - val_accuracy: 0.5326\n",
            "Epoch 9/12\n",
            "109/109 [==============================] - ETA: 0s - loss: 1.1155 - accuracy: 0.5560"
          ]
        },
        {
          "output_type": "stream",
          "name": "stderr",
          "text": [
            "WARNING:absl:Found untraced functions such as _update_step_xla while saving (showing 1 of 1). These functions will not be directly callable after loading.\n"
          ]
        },
        {
          "output_type": "stream",
          "name": "stdout",
          "text": [
            "\b\b\b\b\b\b\b\b\b\b\b\b\b\b\b\b\b\b\b\b\b\b\b\b\b\b\b\b\b\b\b\b\b\b\b\b\b\b\b\b\b\b\b\b\b\b\b\b\b\b\b\b\b\b\b\b\b\b\b\b\b\b\b\b\b\b\b\b\b\b\b\b\b\b\b\b\b\b\b\b\b\b\b\b\r109/109 [==============================] - 304s 3s/step - loss: 1.1155 - accuracy: 0.5560 - val_loss: 1.1824 - val_accuracy: 0.5231\n",
            "Epoch 10/12\n",
            "109/109 [==============================] - ETA: 0s - loss: 1.1118 - accuracy: 0.5558"
          ]
        },
        {
          "output_type": "stream",
          "name": "stderr",
          "text": [
            "WARNING:absl:Found untraced functions such as _update_step_xla while saving (showing 1 of 1). These functions will not be directly callable after loading.\n"
          ]
        },
        {
          "output_type": "stream",
          "name": "stdout",
          "text": [
            "\b\b\b\b\b\b\b\b\b\b\b\b\b\b\b\b\b\b\b\b\b\b\b\b\b\b\b\b\b\b\b\b\b\b\b\b\b\b\b\b\b\b\b\b\b\b\b\b\b\b\b\b\b\b\b\b\b\b\b\b\b\b\b\b\b\b\b\b\b\b\b\b\b\b\b\b\b\b\b\b\b\b\b\b\r109/109 [==============================] - 302s 3s/step - loss: 1.1118 - accuracy: 0.5558 - val_loss: 1.1602 - val_accuracy: 0.5276\n",
            "Epoch 11/12\n",
            "109/109 [==============================] - ETA: 0s - loss: 1.1101 - accuracy: 0.5609"
          ]
        },
        {
          "output_type": "stream",
          "name": "stderr",
          "text": [
            "WARNING:absl:Found untraced functions such as _update_step_xla while saving (showing 1 of 1). These functions will not be directly callable after loading.\n"
          ]
        },
        {
          "output_type": "stream",
          "name": "stdout",
          "text": [
            "\b\b\b\b\b\b\b\b\b\b\b\b\b\b\b\b\b\b\b\b\b\b\b\b\b\b\b\b\b\b\b\b\b\b\b\b\b\b\b\b\b\b\b\b\b\b\b\b\b\b\b\b\b\b\b\b\b\b\b\b\b\b\b\b\b\b\b\b\b\b\b\b\b\b\b\b\b\b\b\b\b\b\b\b\r109/109 [==============================] - 303s 3s/step - loss: 1.1101 - accuracy: 0.5609 - val_loss: 1.1860 - val_accuracy: 0.5261\n",
            "Epoch 12/12\n",
            "109/109 [==============================] - ETA: 0s - loss: 1.1065 - accuracy: 0.5609"
          ]
        },
        {
          "output_type": "stream",
          "name": "stderr",
          "text": [
            "WARNING:absl:Found untraced functions such as _update_step_xla while saving (showing 1 of 1). These functions will not be directly callable after loading.\n"
          ]
        },
        {
          "output_type": "stream",
          "name": "stdout",
          "text": [
            "\b\b\b\b\b\b\b\b\b\b\b\b\b\b\b\b\b\b\b\b\b\b\b\b\b\b\b\b\b\b\b\b\b\b\b\b\b\b\b\b\b\b\b\b\b\b\b\b\b\b\b\b\b\b\b\b\b\b\b\b\b\b\b\b\b\b\b\b\b\b\b\b\b\b\b\b\b\b\b\b\b\b\b\b\r109/109 [==============================] - 301s 3s/step - loss: 1.1065 - accuracy: 0.5609 - val_loss: 1.1457 - val_accuracy: 0.5403\n"
          ]
        }
      ],
      "source": [
        "model_7 = load_model(\"/content/model6.tf\")\n",
        "\n",
        "filepath = \"model7.tf\"\n",
        "checkpoint = ModelCheckpoint(filepath, monitor='loss', save_best_only=True, mode='min', save_format='tf')\n",
        "callbacks_list = [checkpoint]\n",
        "history = model_7.fit(X_trHE, Y_trHE, validation_data=(X_valHE, Y_valHE), batch_size=250, epochs=12, callbacks=callbacks_list)"
      ],
      "id": "tIkcoC2P5hgS"
    },
    {
      "cell_type": "code",
      "execution_count": null,
      "metadata": {
        "colab": {
          "base_uri": "https://localhost:8080/",
          "height": 489
        },
        "outputId": "d5dd4855-8f0c-4c00-a77a-fc241da6d4a4",
        "id": "AWxkWhLo5hgS"
      },
      "outputs": [
        {
          "output_type": "display_data",
          "data": {
            "text/plain": [
              "<Figure size 640x480 with 2 Axes>"
            ],
            "image/png": "[encoded data removed]"
          },
          "metadata": {}
        },
        {
          "output_type": "display_data",
          "data": {
            "text/plain": [
              "<Figure size 1000x600 with 0 Axes>"
            ]
          },
          "metadata": {}
        }
      ],
      "source": [
        "plt.subplot(1, 2, 1)\n",
        "plt.plot(history.history['accuracy'])\n",
        "plt.plot(history.history['val_accuracy'])\n",
        "plt.title('Accuracy')\n",
        "plt.ylabel('Accuracy')\n",
        "plt.xlabel('Epoch')\n",
        "plt.legend(['Train', 'Val'], loc='upper left')\n",
        "\n",
        "plt.subplot(1, 2, 2)\n",
        "plt.plot(history.history['loss'])\n",
        "plt.plot(history.history['val_loss'])\n",
        "plt.title('Loss')\n",
        "plt.ylabel('Loss')\n",
        "plt.xlabel('Epoch')\n",
        "plt.legend(['Train', 'Val'], loc='upper left')\n",
        "\n",
        "plt.figure(figsize=(10,6))\n",
        "#plt.tight_layout()\n",
        "\n",
        "plt.show()"
      ],
      "id": "AWxkWhLo5hgS"
    },
    {
      "cell_type": "code",
      "source": [
        "!zip -r /content/model7.tf.zip /content/model7.tf"
      ],
      "metadata": {
        "colab": {
          "base_uri": "https://localhost:8080/"
        },
        "outputId": "3de2075f-4e0b-4d92-f62a-9138fcf3d2cb",
        "id": "NbypC_Bc5hgT"
      },
      "execution_count": null,
      "outputs": [
        {
          "output_type": "stream",
          "name": "stdout",
          "text": [
            "updating: content/model7.tf/ (stored 0%)\n",
            "updating: content/model7.tf/assets/ (stored 0%)\n",
            "updating: content/model7.tf/saved_model.pb (deflated 91%)\n",
            "updating: content/model7.tf/fingerprint.pb (stored 0%)\n",
            "updating: content/model7.tf/keras_metadata.pb (deflated 94%)\n",
            "updating: content/model7.tf/variables/ (stored 0%)\n",
            "updating: content/model7.tf/variables/variables.index (deflated 68%)\n",
            "updating: content/model7.tf/variables/variables.data-00000-of-00001 (deflated 6%)\n"
          ]
        }
      ],
      "id": "NbypC_Bc5hgT"
    },
    {
      "cell_type": "code",
      "source": [
        "X_teHE = np.expand_dims(X_teNN_transformed, axis=2)\n",
        "Predicted_outcomes = model.predict(X_teHE)\n",
        "\n",
        "y_pred = enc.inverse_transform(Predicted_outcomes)\n",
        "\n",
        "np.unique(y_pred)"
      ],
      "metadata": {
        "colab": {
          "base_uri": "https://localhost:8080/"
        },
        "id": "42cOkIRkIr_x",
        "outputId": "2d06ed35-09c9-47b7-abd3-cba09ebf8477"
      },
      "id": "42cOkIRkIr_x",
      "execution_count": null,
      "outputs": [
        {
          "output_type": "stream",
          "name": "stdout",
          "text": [
            "106/106 [==============================] - 22s 199ms/step\n"
          ]
        },
        {
          "output_type": "execute_result",
          "data": {
            "text/plain": [
              "array(['Disgust'], dtype=object)"
            ]
          },
          "metadata": {},
          "execution_count": 32
        }
      ]
    },
    {
      "cell_type": "markdown",
      "source": [
        "Starting the next iteration of training #8\n",
        "\n"
      ],
      "metadata": {
        "id": "Xzenxq_aSXvk"
      },
      "id": "Xzenxq_aSXvk"
    },
    {
      "cell_type": "code",
      "source": [
        "!unzip /content/model7.tf.zip -d /content/model7.tf"
      ],
      "metadata": {
        "colab": {
          "base_uri": "https://localhost:8080/"
        },
        "id": "gY8P1pX1S9Ie",
        "outputId": "db95615b-e55c-40de-ffc9-355166691ee9"
      },
      "id": "gY8P1pX1S9Ie",
      "execution_count": null,
      "outputs": [
        {
          "output_type": "stream",
          "name": "stdout",
          "text": [
            "Archive:  /content/model7.tf.zip\n",
            "   creating: /content/model7.tf/content/model7.tf/\n",
            "   creating: /content/model7.tf/content/model7.tf/assets/\n",
            "  inflating: /content/model7.tf/content/model7.tf/saved_model.pb  \n",
            " extracting: /content/model7.tf/content/model7.tf/fingerprint.pb  \n",
            "  inflating: /content/model7.tf/content/model7.tf/keras_metadata.pb  \n",
            "   creating: /content/model7.tf/content/model7.tf/variables/\n",
            "  inflating: /content/model7.tf/content/model7.tf/variables/variables.index  \n",
            "  inflating: /content/model7.tf/content/model7.tf/variables/variables.data-00000-of-00001  \n"
          ]
        }
      ]
    },
    {
      "cell_type": "code",
      "source": [
        "np.unique(Y_trNN)"
      ],
      "metadata": {
        "colab": {
          "base_uri": "https://localhost:8080/"
        },
        "id": "sLfA3tf2VoQX",
        "outputId": "fb648824-ae12-4f0a-9474-79e739c5ba3a"
      },
      "id": "sLfA3tf2VoQX",
      "execution_count": null,
      "outputs": [
        {
          "output_type": "execute_result",
          "data": {
            "text/plain": [
              "array(['Angry', 'Disgust', 'Fear', 'Happy', 'Neutral', 'Sad', 'Surprise',\n",
              "       'Surprising'], dtype=object)"
            ]
          },
          "metadata": {},
          "execution_count": 16
        }
      ]
    },
    {
      "cell_type": "code",
      "execution_count": null,
      "metadata": {
        "colab": {
          "base_uri": "https://localhost:8080/"
        },
        "outputId": "2ce2344f-4e6c-465f-c542-eec841d1d028",
        "id": "Z5KMq2XJSXvk"
      },
      "outputs": [
        {
          "metadata": {
            "tags": null
          },
          "name": "stderr",
          "output_type": "stream",
          "text": [
            "WARNING:tensorflow:Layer lstm_4 will not use cuDNN kernels since it doesn't meet the criteria. It will use a generic GPU kernel as fallback when running on GPU.\n",
            "WARNING:tensorflow:Layer lstm_4 will not use cuDNN kernels since it doesn't meet the criteria. It will use a generic GPU kernel as fallback when running on GPU.\n",
            "WARNING:tensorflow:Layer lstm_4 will not use cuDNN kernels since it doesn't meet the criteria. It will use a generic GPU kernel as fallback when running on GPU.\n",
            "WARNING:tensorflow:Layer lstm_5 will not use cuDNN kernels since it doesn't meet the criteria. It will use a generic GPU kernel as fallback when running on GPU.\n",
            "WARNING:tensorflow:Layer lstm_5 will not use cuDNN kernels since it doesn't meet the criteria. It will use a generic GPU kernel as fallback when running on GPU.\n",
            "WARNING:tensorflow:Layer lstm_5 will not use cuDNN kernels since it doesn't meet the criteria. It will use a generic GPU kernel as fallback when running on GPU.\n",
            "WARNING:tensorflow:Layer lstm_6 will not use cuDNN kernels since it doesn't meet the criteria. It will use a generic GPU kernel as fallback when running on GPU.\n",
            "WARNING:tensorflow:Layer lstm_6 will not use cuDNN kernels since it doesn't meet the criteria. It will use a generic GPU kernel as fallback when running on GPU.\n",
            "WARNING:tensorflow:Layer lstm_6 will not use cuDNN kernels since it doesn't meet the criteria. It will use a generic GPU kernel as fallback when running on GPU.\n",
            "WARNING:tensorflow:Layer lstm_7 will not use cuDNN kernels since it doesn't meet the criteria. It will use a generic GPU kernel as fallback when running on GPU.\n",
            "WARNING:tensorflow:Layer lstm_7 will not use cuDNN kernels since it doesn't meet the criteria. It will use a generic GPU kernel as fallback when running on GPU.\n",
            "WARNING:tensorflow:Layer lstm_7 will not use cuDNN kernels since it doesn't meet the criteria. It will use a generic GPU kernel as fallback when running on GPU.\n"
          ]
        },
        {
          "metadata": {
            "tags": null
          },
          "name": "stdout",
          "output_type": "stream",
          "text": [
            "Epoch 1/17\n",
            "109/109 [==============================] - ETA: 0s - loss: 1.1048 - accuracy: 0.5597"
          ]
        },
        {
          "metadata": {
            "tags": null
          },
          "name": "stderr",
          "output_type": "stream",
          "text": [
            "WARNING:absl:Found untraced functions such as _update_step_xla while saving (showing 1 of 1). These functions will not be directly callable after loading.\n"
          ]
        },
        {
          "metadata": {
            "tags": null
          },
          "name": "stdout",
          "output_type": "stream",
          "text": [
            "109/109 [==============================] - 311s 3s/step - loss: 1.1048 - accuracy: 0.5597 - val_loss: 1.1330 - val_accuracy: 0.5429\n",
            "Epoch 2/17\n",
            "109/109 [==============================] - ETA: 0s - loss: 1.0968 - accuracy: 0.5630"
          ]
        },
        {
          "metadata": {
            "tags": null
          },
          "name": "stderr",
          "output_type": "stream",
          "text": [
            "WARNING:absl:Found untraced functions such as _update_step_xla while saving (showing 1 of 1). These functions will not be directly callable after loading.\n"
          ]
        },
        {
          "metadata": {
            "tags": null
          },
          "name": "stdout",
          "output_type": "stream",
          "text": [
            "109/109 [==============================] - 288s 3s/step - loss: 1.0968 - accuracy: 0.5630 - val_loss: 1.1649 - val_accuracy: 0.5308\n",
            "Epoch 3/17\n",
            "109/109 [==============================] - 266s 2s/step - loss: 1.1025 - accuracy: 0.5609 - val_loss: 1.1429 - val_accuracy: 0.5338\n",
            "Epoch 4/17\n",
            "109/109 [==============================] - ETA: 0s - loss: 1.0916 - accuracy: 0.5641"
          ]
        },
        {
          "metadata": {
            "tags": null
          },
          "name": "stderr",
          "output_type": "stream",
          "text": [
            "WARNING:absl:Found untraced functions such as _update_step_xla while saving (showing 1 of 1). These functions will not be directly callable after loading.\n"
          ]
        },
        {
          "metadata": {
            "tags": null
          },
          "name": "stdout",
          "output_type": "stream",
          "text": [
            "109/109 [==============================] - 286s 3s/step - loss: 1.0916 - accuracy: 0.5641 - val_loss: 1.1376 - val_accuracy: 0.5426\n",
            "Epoch 5/17\n",
            "109/109 [==============================] - 265s 2s/step - loss: 1.0975 - accuracy: 0.5609 - val_loss: 1.1374 - val_accuracy: 0.5459\n",
            "Epoch 6/17\n",
            "109/109 [==============================] - ETA: 0s - loss: 1.0893 - accuracy: 0.5644"
          ]
        },
        {
          "metadata": {
            "tags": null
          },
          "name": "stderr",
          "output_type": "stream",
          "text": [
            "WARNING:absl:Found untraced functions such as _update_step_xla while saving (showing 1 of 1). These functions will not be directly callable after loading.\n"
          ]
        },
        {
          "output_type": "stream",
          "name": "stdout",
          "text": [
            "109/109 [==============================] - 288s 3s/step - loss: 1.0893 - accuracy: 0.5644 - val_loss: 1.1348 - val_accuracy: 0.5358\n",
            "Epoch 7/17\n",
            "109/109 [==============================] - 267s 2s/step - loss: 1.0905 - accuracy: 0.5652 - val_loss: 1.1531 - val_accuracy: 0.5329\n",
            "Epoch 8/17\n",
            "109/109 [==============================] - ETA: 0s - loss: 1.0861 - accuracy: 0.5645"
          ]
        },
        {
          "output_type": "stream",
          "name": "stderr",
          "text": [
            "WARNING:absl:Found untraced functions such as _update_step_xla while saving (showing 1 of 1). These functions will not be directly callable after loading.\n"
          ]
        },
        {
          "output_type": "stream",
          "name": "stdout",
          "text": [
            "\b\b\b\b\b\b\b\b\b\b\b\b\b\b\b\b\b\b\b\b\b\b\b\b\b\b\b\b\b\b\b\b\b\b\b\b\b\b\b\b\b\b\b\b\b\b\b\b\b\b\b\b\b\b\b\b\b\b\b\b\b\b\b\b\b\b\b\b\b\b\b\b\b\b\b\b\b\b\b\b\b\b\b\b\r109/109 [==============================] - 286s 3s/step - loss: 1.0861 - accuracy: 0.5645 - val_loss: 1.1272 - val_accuracy: 0.5417\n",
            "Epoch 9/17\n",
            "109/109 [==============================] - ETA: 0s - loss: 1.0792 - accuracy: 0.5713"
          ]
        },
        {
          "output_type": "stream",
          "name": "stderr",
          "text": [
            "WARNING:absl:Found untraced functions such as _update_step_xla while saving (showing 1 of 1). These functions will not be directly callable after loading.\n"
          ]
        },
        {
          "output_type": "stream",
          "name": "stdout",
          "text": [
            "\b\b\b\b\b\b\b\b\b\b\b\b\b\b\b\b\b\b\b\b\b\b\b\b\b\b\b\b\b\b\b\b\b\b\b\b\b\b\b\b\b\b\b\b\b\b\b\b\b\b\b\b\b\b\b\b\b\b\b\b\b\b\b\b\b\b\b\b\b\b\b\b\b\b\b\b\b\b\b\b\b\b\b\b\r109/109 [==============================] - 286s 3s/step - loss: 1.0792 - accuracy: 0.5713 - val_loss: 1.1249 - val_accuracy: 0.5470\n",
            "Epoch 10/17\n",
            "109/109 [==============================] - 265s 2s/step - loss: 1.0793 - accuracy: 0.5710 - val_loss: 1.1355 - val_accuracy: 0.5405\n",
            "Epoch 11/17\n",
            "109/109 [==============================] - ETA: 0s - loss: 1.0748 - accuracy: 0.5727"
          ]
        },
        {
          "output_type": "stream",
          "name": "stderr",
          "text": [
            "WARNING:absl:Found untraced functions such as _update_step_xla while saving (showing 1 of 1). These functions will not be directly callable after loading.\n"
          ]
        },
        {
          "output_type": "stream",
          "name": "stdout",
          "text": [
            "\b\b\b\b\b\b\b\b\b\b\b\b\b\b\b\b\b\b\b\b\b\b\b\b\b\b\b\b\b\b\b\b\b\b\b\b\b\b\b\b\b\b\b\b\b\b\b\b\b\b\b\b\b\b\b\b\b\b\b\b\b\b\b\b\b\b\b\b\b\b\b\b\b\b\b\b\b\b\b\b\b\b\b\b\r109/109 [==============================] - 285s 3s/step - loss: 1.0748 - accuracy: 0.5727 - val_loss: 1.1222 - val_accuracy: 0.5509\n",
            "Epoch 12/17\n",
            "109/109 [==============================] - ETA: 0s - loss: 1.0733 - accuracy: 0.5694"
          ]
        },
        {
          "output_type": "stream",
          "name": "stderr",
          "text": [
            "WARNING:absl:Found untraced functions such as _update_step_xla while saving (showing 1 of 1). These functions will not be directly callable after loading.\n"
          ]
        },
        {
          "output_type": "stream",
          "name": "stdout",
          "text": [
            "\b\b\b\b\b\b\b\b\b\b\b\b\b\b\b\b\b\b\b\b\b\b\b\b\b\b\b\b\b\b\b\b\b\b\b\b\b\b\b\b\b\b\b\b\b\b\b\b\b\b\b\b\b\b\b\b\b\b\b\b\b\b\b\b\b\b\b\b\b\b\b\b\b\b\b\b\b\b\b\b\b\b\b\b\r109/109 [==============================] - 283s 3s/step - loss: 1.0733 - accuracy: 0.5694 - val_loss: 1.1419 - val_accuracy: 0.5438\n",
            "Epoch 13/17\n",
            "109/109 [==============================] - ETA: 0s - loss: 1.0707 - accuracy: 0.5727"
          ]
        },
        {
          "output_type": "stream",
          "name": "stderr",
          "text": [
            "WARNING:absl:Found untraced functions such as _update_step_xla while saving (showing 1 of 1). These functions will not be directly callable after loading.\n"
          ]
        },
        {
          "output_type": "stream",
          "name": "stdout",
          "text": [
            "\b\b\b\b\b\b\b\b\b\b\b\b\b\b\b\b\b\b\b\b\b\b\b\b\b\b\b\b\b\b\b\b\b\b\b\b\b\b\b\b\b\b\b\b\b\b\b\b\b\b\b\b\b\b\b\b\b\b\b\b\b\b\b\b\b\b\b\b\b\b\b\b\b\b\b\b\b\b\b\b\b\b\b\b\r109/109 [==============================] - 285s 3s/step - loss: 1.0707 - accuracy: 0.5727 - val_loss: 1.1328 - val_accuracy: 0.5473\n",
            "Epoch 14/17\n",
            "109/109 [==============================] - ETA: 0s - loss: 1.0644 - accuracy: 0.5765"
          ]
        },
        {
          "output_type": "stream",
          "name": "stderr",
          "text": [
            "WARNING:absl:Found untraced functions such as _update_step_xla while saving (showing 1 of 1). These functions will not be directly callable after loading.\n"
          ]
        },
        {
          "output_type": "stream",
          "name": "stdout",
          "text": [
            "\b\b\b\b\b\b\b\b\b\b\b\b\b\b\b\b\b\b\b\b\b\b\b\b\b\b\b\b\b\b\b\b\b\b\b\b\b\b\b\b\b\b\b\b\b\b\b\b\b\b\b\b\b\b\b\b\b\b\b\b\b\b\b\b\b\b\b\b\b\b\b\b\b\b\b\b\b\b\b\b\b\b\b\b\r109/109 [==============================] - 286s 3s/step - loss: 1.0644 - accuracy: 0.5765 - val_loss: 1.1331 - val_accuracy: 0.5485\n",
            "Epoch 15/17\n",
            "109/109 [==============================] - ETA: 0s - loss: 1.0632 - accuracy: 0.5758"
          ]
        },
        {
          "output_type": "stream",
          "name": "stderr",
          "text": [
            "WARNING:absl:Found untraced functions such as _update_step_xla while saving (showing 1 of 1). These functions will not be directly callable after loading.\n"
          ]
        },
        {
          "output_type": "stream",
          "name": "stdout",
          "text": [
            "\b\b\b\b\b\b\b\b\b\b\b\b\b\b\b\b\b\b\b\b\b\b\b\b\b\b\b\b\b\b\b\b\b\b\b\b\b\b\b\b\b\b\b\b\b\b\b\b\b\b\b\b\b\b\b\b\b\b\b\b\b\b\b\b\b\b\b\b\b\b\b\b\b\b\b\b\b\b\b\b\b\b\b\b\r109/109 [==============================] - 283s 3s/step - loss: 1.0632 - accuracy: 0.5758 - val_loss: 1.1197 - val_accuracy: 0.5464\n",
            "Epoch 16/17\n",
            "109/109 [==============================] - 266s 2s/step - loss: 1.0639 - accuracy: 0.5751 - val_loss: 1.1271 - val_accuracy: 0.5438\n",
            "Epoch 17/17\n",
            "109/109 [==============================] - ETA: 0s - loss: 1.0622 - accuracy: 0.5761"
          ]
        },
        {
          "output_type": "stream",
          "name": "stderr",
          "text": [
            "WARNING:absl:Found untraced functions such as _update_step_xla while saving (showing 1 of 1). These functions will not be directly callable after loading.\n"
          ]
        },
        {
          "output_type": "stream",
          "name": "stdout",
          "text": [
            "\b\b\b\b\b\b\b\b\b\b\b\b\b\b\b\b\b\b\b\b\b\b\b\b\b\b\b\b\b\b\b\b\b\b\b\b\b\b\b\b\b\b\b\b\b\b\b\b\b\b\b\b\b\b\b\b\b\b\b\b\b\b\b\b\b\b\b\b\b\b\b\b\b\b\b\b\b\b\b\b\b\b\b\b\r109/109 [==============================] - 284s 3s/step - loss: 1.0622 - accuracy: 0.5761 - val_loss: 1.1503 - val_accuracy: 0.5276\n"
          ]
        }
      ],
      "source": [
        "model_8 = load_model(\"/content/model7.tf/content/model7.tf\")\n",
        "\n",
        "filepath = \"model8.tf\"\n",
        "checkpoint = ModelCheckpoint(filepath, monitor='loss', save_best_only=True, mode='min', save_format='tf')\n",
        "callbacks_list = [checkpoint]\n",
        "history = model_8.fit(X_trHE, Y_trHE, validation_data=(X_valHE, Y_valHE), batch_size=250, epochs=17, callbacks=callbacks_list)"
      ],
      "id": "Z5KMq2XJSXvk"
    },
    {
      "cell_type": "code",
      "execution_count": null,
      "metadata": {
        "colab": {
          "base_uri": "https://localhost:8080/",
          "height": 490
        },
        "outputId": "d35cdc26-c910-4db1-9bb9-e15cd7508547",
        "id": "DlLo8iq2SXvl"
      },
      "outputs": [
        {
          "output_type": "display_data",
          "data": {
            "text/plain": [
              "<Figure size 640x480 with 2 Axes>"
            ],
            "image/png": "[encoded data removed]"
          },
          "metadata": {}
        },
        {
          "output_type": "display_data",
          "data": {
            "text/plain": [
              "<Figure size 1000x600 with 0 Axes>"
            ]
          },
          "metadata": {}
        }
      ],
      "source": [
        "plt.subplot(1, 2, 1)\n",
        "plt.plot(history.history['accuracy'])\n",
        "plt.plot(history.history['val_accuracy'])\n",
        "plt.title('Accuracy')\n",
        "plt.ylabel('Accuracy')\n",
        "plt.xlabel('Epoch')\n",
        "plt.legend(['Train', 'Val'], loc='upper left')\n",
        "\n",
        "plt.subplot(1, 2, 2)\n",
        "plt.plot(history.history['loss'])\n",
        "plt.plot(history.history['val_loss'])\n",
        "plt.title('Loss')\n",
        "plt.ylabel('Loss')\n",
        "plt.xlabel('Epoch')\n",
        "plt.legend(['Train', 'Val'], loc='upper left')\n",
        "\n",
        "plt.figure(figsize=(10,6))\n",
        "#plt.tight_layout()\n",
        "\n",
        "plt.show()"
      ],
      "id": "DlLo8iq2SXvl"
    },
    {
      "cell_type": "code",
      "source": [
        "!zip -r /content/model8.tf.zip /content/model8.tf"
      ],
      "metadata": {
        "colab": {
          "base_uri": "https://localhost:8080/"
        },
        "outputId": "b37972e7-2d4c-4920-b588-382f4b92b7b6",
        "id": "vy0IijfISXvl"
      },
      "execution_count": null,
      "outputs": [
        {
          "output_type": "stream",
          "name": "stdout",
          "text": [
            "  adding: content/model8.tf/ (stored 0%)\n",
            "  adding: content/model8.tf/keras_metadata.pb (deflated 94%)\n",
            "  adding: content/model8.tf/fingerprint.pb (stored 0%)\n",
            "  adding: content/model8.tf/assets/ (stored 0%)\n",
            "  adding: content/model8.tf/saved_model.pb (deflated 91%)\n",
            "  adding: content/model8.tf/variables/ (stored 0%)\n",
            "  adding: content/model8.tf/variables/variables.data-00000-of-00001 (deflated 6%)\n",
            "  adding: content/model8.tf/variables/variables.index (deflated 68%)\n"
          ]
        }
      ],
      "id": "vy0IijfISXvl"
    },
    {
      "cell_type": "code",
      "source": [
        "files.download(\"model8.tf.zip\")"
      ],
      "metadata": {
        "id": "NrF1JqfQ2uOu",
        "colab": {
          "base_uri": "https://localhost:8080/",
          "height": 34
        },
        "outputId": "6d264d3f-f4b3-4956-9f6f-7bb977a508e0"
      },
      "id": "NrF1JqfQ2uOu",
      "execution_count": null,
      "outputs": [
        {
          "output_type": "display_data",
          "data": {
            "text/plain": [
              "<IPython.core.display.Javascript object>"
            ],
            "application/javascript": [
              "\n",
              "    async function download(id, filename, size) {\n",
              "      if (!google.colab.kernel.accessAllowed) {\n",
              "        return;\n",
              "      }\n",
              "      const div = document.createElement('div');\n",
              "      const label = document.createElement('label');\n",
              "      label.textContent = `Downloading \"${filename}\": `;\n",
              "      div.appendChild(label);\n",
              "      const progress = document.createElement('progress');\n",
              "      progress.max = size;\n",
              "      div.appendChild(progress);\n",
              "      document.body.appendChild(div);\n",
              "\n",
              "      const buffers = [];\n",
              "      let downloaded = 0;\n",
              "\n",
              "      const channel = await google.colab.kernel.comms.open(id);\n",
              "      // Send a message to notify the kernel that we're ready.\n",
              "      channel.send({})\n",
              "\n",
              "      for await (const message of channel.messages) {\n",
              "        // Send a message to notify the kernel that we're ready.\n",
              "        channel.send({})\n",
              "        if (message.buffers) {\n",
              "          for (const buffer of message.buffers) {\n",
              "            buffers.push(buffer);\n",
              "            downloaded += buffer.byteLength;\n",
              "            progress.value = downloaded;\n",
              "          }\n",
              "        }\n",
              "      }\n",
              "      const blob = new Blob(buffers, {type: 'application/binary'});\n",
              "      const a = document.createElement('a');\n",
              "      a.href = window.URL.createObjectURL(blob);\n",
              "      a.download = filename;\n",
              "      div.appendChild(a);\n",
              "      a.click();\n",
              "      div.remove();\n",
              "    }\n",
              "  "
            ]
          },
          "metadata": {}
        },
        {
          "output_type": "display_data",
          "data": {
            "text/plain": [
              "<IPython.core.display.Javascript object>"
            ],
            "application/javascript": [
              "download(\"download_01f7011f-beca-497e-9563-e0f18e547f27\", \"model8.tf.zip\", 21173446)"
            ]
          },
          "metadata": {}
        }
      ]
    },
    {
      "cell_type": "markdown",
      "source": [
        "Starting the next iteration of training #8\n",
        "\n"
      ],
      "metadata": {
        "id": "Xz1D_uImLnfi"
      },
      "id": "Xz1D_uImLnfi"
    },
    {
      "cell_type": "code",
      "source": [
        "!unzip /content/model8.tf.zip -d /content/model8.tf"
      ],
      "metadata": {
        "colab": {
          "base_uri": "https://localhost:8080/"
        },
        "outputId": "a47eee87-734a-4355-dd6f-49a775696e1d",
        "id": "ct2fAZIULnfi"
      },
      "execution_count": null,
      "outputs": [
        {
          "output_type": "stream",
          "name": "stdout",
          "text": [
            "Archive:  /content/model8.tf.zip\n",
            "   creating: /content/model8.tf/content/model8.tf/\n",
            "  inflating: /content/model8.tf/content/model8.tf/keras_metadata.pb  \n",
            " extracting: /content/model8.tf/content/model8.tf/fingerprint.pb  \n",
            "   creating: /content/model8.tf/content/model8.tf/assets/\n",
            "  inflating: /content/model8.tf/content/model8.tf/saved_model.pb  \n",
            "   creating: /content/model8.tf/content/model8.tf/variables/\n",
            "  inflating: /content/model8.tf/content/model8.tf/variables/variables.data-00000-of-00001  \n",
            "  inflating: /content/model8.tf/content/model8.tf/variables/variables.index  \n"
          ]
        }
      ],
      "id": "ct2fAZIULnfi"
    },
    {
      "cell_type": "code",
      "execution_count": null,
      "metadata": {
        "colab": {
          "base_uri": "https://localhost:8080/"
        },
        "outputId": "f9a60a19-8256-44fb-ac1f-256ab6c2aae9",
        "id": "9mF7DpQFLnfj"
      },
      "outputs": [
        {
          "output_type": "stream",
          "name": "stdout",
          "text": [
            "Epoch 1/7\n",
            "109/109 [==============================] - ETA: 0s - loss: 1.0591 - accuracy: 0.5784 "
          ]
        },
        {
          "output_type": "stream",
          "name": "stderr",
          "text": [
            "WARNING:absl:Found untraced functions such as _update_step_xla while saving (showing 1 of 1). These functions will not be directly callable after loading.\n"
          ]
        },
        {
          "output_type": "stream",
          "name": "stdout",
          "text": [
            "\b\b\b\b\b\b\b\b\b\b\b\b\b\b\b\b\b\b\b\b\b\b\b\b\b\b\b\b\b\b\b\b\b\b\b\b\b\b\b\b\b\b\b\b\b\b\b\b\b\b\b\b\b\b\b\b\b\b\b\b\b\b\b\b\b\b\b\b\b\b\b\b\b\b\b\b\b\b\b\b\b\b\b\b\r109/109 [==============================] - 1807s 16s/step - loss: 1.0591 - accuracy: 0.5784 - val_loss: 1.1328 - val_accuracy: 0.5435\n",
            "Epoch 2/7\n",
            "109/109 [==============================] - ETA: 0s - loss: 1.0523 - accuracy: 0.5821 "
          ]
        },
        {
          "output_type": "stream",
          "name": "stderr",
          "text": [
            "WARNING:absl:Found untraced functions such as _update_step_xla while saving (showing 1 of 1). These functions will not be directly callable after loading.\n"
          ]
        },
        {
          "output_type": "stream",
          "name": "stdout",
          "text": [
            "\b\b\b\b\b\b\b\b\b\b\b\b\b\b\b\b\b\b\b\b\b\b\b\b\b\b\b\b\b\b\b\b\b\b\b\b\b\b\b\b\b\b\b\b\b\b\b\b\b\b\b\b\b\b\b\b\b\b\b\b\b\b\b\b\b\b\b\b\b\b\b\b\b\b\b\b\b\b\b\b\b\b\b\b\r109/109 [==============================] - 1814s 17s/step - loss: 1.0523 - accuracy: 0.5821 - val_loss: 1.1253 - val_accuracy: 0.5512\n",
            "Epoch 3/7\n",
            "109/109 [==============================] - 1767s 16s/step - loss: 1.0543 - accuracy: 0.5814 - val_loss: 1.1095 - val_accuracy: 0.5606\n",
            "Epoch 4/7\n",
            "109/109 [==============================] - ETA: 0s - loss: 1.0505 - accuracy: 0.5846 "
          ]
        },
        {
          "output_type": "stream",
          "name": "stderr",
          "text": [
            "WARNING:absl:Found untraced functions such as _update_step_xla while saving (showing 1 of 1). These functions will not be directly callable after loading.\n"
          ]
        },
        {
          "output_type": "stream",
          "name": "stdout",
          "text": [
            "\b\b\b\b\b\b\b\b\b\b\b\b\b\b\b\b\b\b\b\b\b\b\b\b\b\b\b\b\b\b\b\b\b\b\b\b\b\b\b\b\b\b\b\b\b\b\b\b\b\b\b\b\b\b\b\b\b\b\b\b\b\b\b\b\b\b\b\b\b\b\b\b\b\b\b\b\b\b\b\b\b\b\b\b\r109/109 [==============================] - 1750s 16s/step - loss: 1.0505 - accuracy: 0.5846 - val_loss: 1.0961 - val_accuracy: 0.5559\n",
            "Epoch 5/7\n",
            "109/109 [==============================] - ETA: 0s - loss: 1.0483 - accuracy: 0.5839 "
          ]
        },
        {
          "output_type": "stream",
          "name": "stderr",
          "text": [
            "WARNING:absl:Found untraced functions such as _update_step_xla while saving (showing 1 of 1). These functions will not be directly callable after loading.\n"
          ]
        },
        {
          "output_type": "stream",
          "name": "stdout",
          "text": [
            "\b\b\b\b\b\b\b\b\b\b\b\b\b\b\b\b\b\b\b\b\b\b\b\b\b\b\b\b\b\b\b\b\b\b\b\b\b\b\b\b\b\b\b\b\b\b\b\b\b\b\b\b\b\b\b\b\b\b\b\b\b\b\b\b\b\b\b\b\b\b\b\b\b\b\b\b\b\b\b\b\b\b\b\b\r109/109 [==============================] - 1766s 16s/step - loss: 1.0483 - accuracy: 0.5839 - val_loss: 1.1157 - val_accuracy: 0.5482\n",
            "Epoch 6/7\n",
            "109/109 [==============================] - ETA: 0s - loss: 1.0413 - accuracy: 0.5855 "
          ]
        },
        {
          "output_type": "stream",
          "name": "stderr",
          "text": [
            "WARNING:absl:Found untraced functions such as _update_step_xla while saving (showing 1 of 1). These functions will not be directly callable after loading.\n"
          ]
        },
        {
          "output_type": "stream",
          "name": "stdout",
          "text": [
            "\b\b\b\b\b\b\b\b\b\b\b\b\b\b\b\b\b\b\b\b\b\b\b\b\b\b\b\b\b\b\b\b\b\b\b\b\b\b\b\b\b\b\b\b\b\b\b\b\b\b\b\b\b\b\b\b\b\b\b\b\b\b\b\b\b\b\b\b\b\b\b\b\b\b\b\b\b\b\b\b\b\b\b\b\r109/109 [==============================] - 1757s 16s/step - loss: 1.0413 - accuracy: 0.5855 - val_loss: 1.1203 - val_accuracy: 0.5497\n",
            "Epoch 7/7\n",
            "109/109 [==============================] - ETA: 0s - loss: 1.0409 - accuracy: 0.5848 "
          ]
        },
        {
          "output_type": "stream",
          "name": "stderr",
          "text": [
            "WARNING:absl:Found untraced functions such as _update_step_xla while saving (showing 1 of 1). These functions will not be directly callable after loading.\n"
          ]
        },
        {
          "output_type": "stream",
          "name": "stdout",
          "text": [
            "\b\b\b\b\b\b\b\b\b\b\b\b\b\b\b\b\b\b\b\b\b\b\b\b\b\b\b\b\b\b\b\b\b\b\b\b\b\b\b\b\b\b\b\b\b\b\b\b\b\b\b\b\b\b\b\b\b\b\b\b\b\b\b\b\b\b\b\b\b\b\b\b\b\b\b\b\b\b\b\b\b\b\b\b\r109/109 [==============================] - 1776s 16s/step - loss: 1.0409 - accuracy: 0.5848 - val_loss: 1.1055 - val_accuracy: 0.5556\n"
          ]
        }
      ],
      "source": [
        "model_9 = load_model(\"/content/model8.tf/content/model8.tf\")\n",
        "\n",
        "filepath = \"model9.tf\"\n",
        "checkpoint = ModelCheckpoint(filepath, monitor='loss', save_best_only=True, mode='min', save_format='tf')\n",
        "callbacks_list = [checkpoint]\n",
        "history = model_9.fit(X_trHE, Y_trHE, validation_data=(X_valHE, Y_valHE), batch_size=250, epochs=7, callbacks=callbacks_list)"
      ],
      "id": "9mF7DpQFLnfj"
    },
    {
      "cell_type": "code",
      "source": [
        "!zip -r /content/model9.tf.zip /content/model9.tf"
      ],
      "metadata": {
        "colab": {
          "base_uri": "https://localhost:8080/"
        },
        "outputId": "5420c131-93dc-42e5-debe-bd62a64aced8",
        "id": "BS06YsjbLnfk"
      },
      "execution_count": null,
      "outputs": [
        {
          "output_type": "stream",
          "name": "stdout",
          "text": [
            "  adding: content/model9.tf/ (stored 0%)\n",
            "  adding: content/model9.tf/assets/ (stored 0%)\n",
            "  adding: content/model9.tf/saved_model.pb (deflated 91%)\n",
            "  adding: content/model9.tf/variables/ (stored 0%)\n",
            "  adding: content/model9.tf/variables/variables.data-00000-of-00001 (deflated 6%)\n",
            "  adding: content/model9.tf/variables/variables.index (deflated 68%)\n",
            "  adding: content/model9.tf/keras_metadata.pb (deflated 94%)\n",
            "  adding: content/model9.tf/fingerprint.pb (stored 0%)\n"
          ]
        }
      ],
      "id": "BS06YsjbLnfk"
    },
    {
      "cell_type": "code",
      "source": [
        "X_teHE = np.expand_dims(X_teNN_transformed, axis=2)\n",
        "Predicted_outcomes = model_9.predict(X_teHE)\n",
        "\n",
        "y_pred = enc.inverse_transform(Predicted_outcomes)\n",
        "\n",
        "np.unique(y_pred)"
      ],
      "metadata": {
        "colab": {
          "base_uri": "https://localhost:8080/"
        },
        "outputId": "32eda69f-3f48-46b8-8e76-31321ec8bb4c",
        "id": "YjydaK5nSXvm"
      },
      "execution_count": null,
      "outputs": [
        {
          "output_type": "stream",
          "name": "stdout",
          "text": [
            "106/106 [==============================] - 115s 1s/step\n"
          ]
        },
        {
          "output_type": "execute_result",
          "data": {
            "text/plain": [
              "array(['Angry', 'Disgust', 'Fear', 'Happy', 'Neutral', 'Sad', 'Surprise',\n",
              "       'Surprising'], dtype=object)"
            ]
          },
          "metadata": {},
          "execution_count": 13
        }
      ],
      "id": "YjydaK5nSXvm"
    },
    {
      "cell_type": "code",
      "source": [
        "cm = confusion_matrix(Y_teNN, y_pred)\n",
        "\n",
        "disp = ConfusionMatrixDisplay(confusion_matrix=cm, display_labels = np.unique(Y_teNN))\n",
        "disp.plot(cmap=plt.cm.Blues)\n",
        "plt.show()"
      ],
      "metadata": {
        "colab": {
          "base_uri": "https://localhost:8080/",
          "height": 449
        },
        "id": "_8Q-c8CA_zsk",
        "outputId": "e5496bb5-0688-4e2a-8765-44aa120fcbfb"
      },
      "id": "_8Q-c8CA_zsk",
      "execution_count": null,
      "outputs": [
        {
          "output_type": "display_data",
          "data": {
            "text/plain": [
              "<Figure size 640x480 with 2 Axes>"
            ],
            "image/png": "[encoded data removed]"
          },
          "metadata": {}
        }
      ]
    },
    {
      "cell_type": "code",
      "source": [
        "cm = confusion_matrix(Y_teNN, y_pred)\n",
        "cm = pd.DataFrame(cm , index = [i for i in enc.categories_] , columns = [i for i in enc.categories_])\n",
        "sns.heatmap(cm, linecolor='white', cmap='Blues', linewidth=1, annot=True, fmt='')\n",
        "plt.title('Confusion Matrix', size=20)\n",
        "plt.xlabel('Predicted Labels', size=14)\n",
        "plt.ylabel('Actual Labels', size=14)\n",
        "plt.show()"
      ],
      "metadata": {
        "colab": {
          "base_uri": "https://localhost:8080/",
          "height": 541
        },
        "id": "KG56_j1ZBT08",
        "outputId": "d67a75e3-77e2-42f7-a914-900326680a75"
      },
      "id": "KG56_j1ZBT08",
      "execution_count": null,
      "outputs": [
        {
          "output_type": "display_data",
          "data": {
            "text/plain": [
              "<Figure size 640x480 with 2 Axes>"
            ],
            "image/png": "[encoded data removed]"
          },
          "metadata": {}
        }
      ]
    },
    {
      "cell_type": "code",
      "source": [
        "model_9.save_weights(\"presentation_weights.h5\", save_format='h5')"
      ],
      "metadata": {
        "id": "Vwg-CNF_A1Rk"
      },
      "execution_count": null,
      "outputs": [],
      "id": "Vwg-CNF_A1Rk"
    },
    {
      "cell_type": "code",
      "source": [
        "files.download(\"presentation_weights.h5\")"
      ],
      "metadata": {
        "colab": {
          "base_uri": "https://localhost:8080/",
          "height": 17
        },
        "outputId": "dfd4754b-d45c-4086-f955-457261a61c88",
        "id": "EI9jAidCA1Rl"
      },
      "execution_count": null,
      "outputs": [
        {
          "output_type": "display_data",
          "data": {
            "text/plain": [
              "<IPython.core.display.Javascript object>"
            ],
            "application/javascript": [
              "\n",
              "    async function download(id, filename, size) {\n",
              "      if (!google.colab.kernel.accessAllowed) {\n",
              "        return;\n",
              "      }\n",
              "      const div = document.createElement('div');\n",
              "      const label = document.createElement('label');\n",
              "      label.textContent = `Downloading \"${filename}\": `;\n",
              "      div.appendChild(label);\n",
              "      const progress = document.createElement('progress');\n",
              "      progress.max = size;\n",
              "      div.appendChild(progress);\n",
              "      document.body.appendChild(div);\n",
              "\n",
              "      const buffers = [];\n",
              "      let downloaded = 0;\n",
              "\n",
              "      const channel = await google.colab.kernel.comms.open(id);\n",
              "      // Send a message to notify the kernel that we're ready.\n",
              "      channel.send({})\n",
              "\n",
              "      for await (const message of channel.messages) {\n",
              "        // Send a message to notify the kernel that we're ready.\n",
              "        channel.send({})\n",
              "        if (message.buffers) {\n",
              "          for (const buffer of message.buffers) {\n",
              "            buffers.push(buffer);\n",
              "            downloaded += buffer.byteLength;\n",
              "            progress.value = downloaded;\n",
              "          }\n",
              "        }\n",
              "      }\n",
              "      const blob = new Blob(buffers, {type: 'application/binary'});\n",
              "      const a = document.createElement('a');\n",
              "      a.href = window.URL.createObjectURL(blob);\n",
              "      a.download = filename;\n",
              "      div.appendChild(a);\n",
              "      a.click();\n",
              "      div.remove();\n",
              "    }\n",
              "  "
            ]
          },
          "metadata": {}
        },
        {
          "output_type": "display_data",
          "data": {
            "text/plain": [
              "<IPython.core.display.Javascript object>"
            ],
            "application/javascript": [
              "download(\"download_7b453f7e-b6ff-4b10-86d2-afcff5fced01\", \"presentation_weights.h5\", 7388512)"
            ]
          },
          "metadata": {}
        }
      ],
      "id": "EI9jAidCA1Rl"
    },
    {
      "cell_type": "markdown",
      "source": [
        "Starting the next iteration of training #10\n",
        "\n"
      ],
      "metadata": {
        "id": "OjRCLUIZRrjs"
      },
      "id": "OjRCLUIZRrjs"
    },
    {
      "cell_type": "code",
      "source": [
        "!unzip /content/model9.tf.zip -d /content/model9.tf"
      ],
      "metadata": {
        "colab": {
          "base_uri": "https://localhost:8080/"
        },
        "outputId": "cdff5e62-449e-440d-8a65-d625dec4b8fa",
        "id": "go0JbudSRrjt"
      },
      "execution_count": 11,
      "outputs": [
        {
          "output_type": "stream",
          "name": "stdout",
          "text": [
            "Archive:  /content/model9.tf.zip\n",
            "   creating: /content/model9.tf/content/model9.tf/\n",
            "   creating: /content/model9.tf/content/model9.tf/assets/\n",
            "  inflating: /content/model9.tf/content/model9.tf/saved_model.pb  \n",
            "   creating: /content/model9.tf/content/model9.tf/variables/\n",
            "  inflating: /content/model9.tf/content/model9.tf/variables/variables.data-00000-of-00001  \n",
            "  inflating: /content/model9.tf/content/model9.tf/variables/variables.index  \n",
            "  inflating: /content/model9.tf/content/model9.tf/keras_metadata.pb  \n",
            " extracting: /content/model9.tf/content/model9.tf/fingerprint.pb  \n"
          ]
        }
      ],
      "id": "go0JbudSRrjt"
    },
    {
      "cell_type": "code",
      "execution_count": null,
      "metadata": {
        "colab": {
          "base_uri": "https://localhost:8080/"
        },
        "outputId": "715fb0c4-7ecf-4542-9737-7c841614d01b",
        "id": "wfsqrayZRrjt"
      },
      "outputs": [
        {
          "output_type": "stream",
          "name": "stderr",
          "text": [
            "WARNING:tensorflow:Layer lstm_4 will not use cuDNN kernels since it doesn't meet the criteria. It will use a generic GPU kernel as fallback when running on GPU.\n",
            "WARNING:tensorflow:Layer lstm_4 will not use cuDNN kernels since it doesn't meet the criteria. It will use a generic GPU kernel as fallback when running on GPU.\n",
            "WARNING:tensorflow:Layer lstm_4 will not use cuDNN kernels since it doesn't meet the criteria. It will use a generic GPU kernel as fallback when running on GPU.\n",
            "WARNING:tensorflow:Layer lstm_5 will not use cuDNN kernels since it doesn't meet the criteria. It will use a generic GPU kernel as fallback when running on GPU.\n",
            "WARNING:tensorflow:Layer lstm_5 will not use cuDNN kernels since it doesn't meet the criteria. It will use a generic GPU kernel as fallback when running on GPU.\n",
            "WARNING:tensorflow:Layer lstm_5 will not use cuDNN kernels since it doesn't meet the criteria. It will use a generic GPU kernel as fallback when running on GPU.\n",
            "WARNING:tensorflow:Layer lstm_6 will not use cuDNN kernels since it doesn't meet the criteria. It will use a generic GPU kernel as fallback when running on GPU.\n",
            "WARNING:tensorflow:Layer lstm_6 will not use cuDNN kernels since it doesn't meet the criteria. It will use a generic GPU kernel as fallback when running on GPU.\n",
            "WARNING:tensorflow:Layer lstm_6 will not use cuDNN kernels since it doesn't meet the criteria. It will use a generic GPU kernel as fallback when running on GPU.\n",
            "WARNING:tensorflow:Layer lstm_7 will not use cuDNN kernels since it doesn't meet the criteria. It will use a generic GPU kernel as fallback when running on GPU.\n",
            "WARNING:tensorflow:Layer lstm_7 will not use cuDNN kernels since it doesn't meet the criteria. It will use a generic GPU kernel as fallback when running on GPU.\n",
            "WARNING:tensorflow:Layer lstm_7 will not use cuDNN kernels since it doesn't meet the criteria. It will use a generic GPU kernel as fallback when running on GPU.\n"
          ]
        },
        {
          "output_type": "stream",
          "name": "stdout",
          "text": [
            "Epoch 1/22\n",
            "109/109 [==============================] - ETA: 0s - loss: 1.0362 - accuracy: 0.5869"
          ]
        },
        {
          "output_type": "stream",
          "name": "stderr",
          "text": [
            "WARNING:absl:Found untraced functions such as _update_step_xla while saving (showing 1 of 1). These functions will not be directly callable after loading.\n"
          ]
        },
        {
          "output_type": "stream",
          "name": "stdout",
          "text": [
            "\b\b\b\b\b\b\b\b\b\b\b\b\b\b\b\b\b\b\b\b\b\b\b\b\b\b\b\b\b\b\b\b\b\b\b\b\b\b\b\b\b\b\b\b\b\b\b\b\b\b\b\b\b\b\b\b\b\b\b\b\b\b\b\b\b\b\b\b\b\b\b\b\b\b\b\b\b\b\b\b\b\b\b\b\r109/109 [==============================] - 319s 3s/step - loss: 1.0362 - accuracy: 0.5869 - val_loss: 1.1100 - val_accuracy: 0.5585\n",
            "Epoch 2/22\n",
            "109/109 [==============================] - ETA: 0s - loss: 1.0295 - accuracy: 0.5917"
          ]
        },
        {
          "output_type": "stream",
          "name": "stderr",
          "text": [
            "WARNING:absl:Found untraced functions such as _update_step_xla while saving (showing 1 of 1). These functions will not be directly callable after loading.\n"
          ]
        },
        {
          "output_type": "stream",
          "name": "stdout",
          "text": [
            "\b\b\b\b\b\b\b\b\b\b\b\b\b\b\b\b\b\b\b\b\b\b\b\b\b\b\b\b\b\b\b\b\b\b\b\b\b\b\b\b\b\b\b\b\b\b\b\b\b\b\b\b\b\b\b\b\b\b\b\b\b\b\b\b\b\b\b\b\b\b\b\b\b\b\b\b\b\b\b\b\b\b\b\b\r109/109 [==============================] - 302s 3s/step - loss: 1.0295 - accuracy: 0.5917 - val_loss: 1.1349 - val_accuracy: 0.5391\n",
            "Epoch 3/22\n",
            "109/109 [==============================] - 279s 3s/step - loss: 1.0346 - accuracy: 0.5925 - val_loss: 1.1570 - val_accuracy: 0.5358\n",
            "Epoch 4/22\n",
            "109/109 [==============================] - 279s 3s/step - loss: 1.0336 - accuracy: 0.5869 - val_loss: 1.0982 - val_accuracy: 0.5565\n",
            "Epoch 5/22\n",
            "109/109 [==============================] - ETA: 0s - loss: 1.0240 - accuracy: 0.5947"
          ]
        },
        {
          "output_type": "stream",
          "name": "stderr",
          "text": [
            "WARNING:absl:Found untraced functions such as _update_step_xla while saving (showing 1 of 1). These functions will not be directly callable after loading.\n"
          ]
        },
        {
          "output_type": "stream",
          "name": "stdout",
          "text": [
            "\b\b\b\b\b\b\b\b\b\b\b\b\b\b\b\b\b\b\b\b\b\b\b\b\b\b\b\b\b\b\b\b\b\b\b\b\b\b\b\b\b\b\b\b\b\b\b\b\b\b\b\b\b\b\b\b\b\b\b\b\b\b\b\b\b\b\b\b\b\b\b\b\b\b\b\b\b\b\b\b\b\b\b\b\r109/109 [==============================] - 299s 3s/step - loss: 1.0240 - accuracy: 0.5947 - val_loss: 1.1031 - val_accuracy: 0.5591\n",
            "Epoch 6/22\n",
            "109/109 [==============================] - ETA: 0s - loss: 1.0198 - accuracy: 0.5946"
          ]
        },
        {
          "output_type": "stream",
          "name": "stderr",
          "text": [
            "WARNING:absl:Found untraced functions such as _update_step_xla while saving (showing 1 of 1). These functions will not be directly callable after loading.\n"
          ]
        },
        {
          "output_type": "stream",
          "name": "stdout",
          "text": [
            "\b\b\b\b\b\b\b\b\b\b\b\b\b\b\b\b\b\b\b\b\b\b\b\b\b\b\b\b\b\b\b\b\b\b\b\b\b\b\b\b\b\b\b\b\b\b\b\b\b\b\b\b\b\b\b\b\b\b\b\b\b\b\b\b\b\b\b\b\b\b\b\b\b\b\b\b\b\b\b\b\b\b\b\b\r109/109 [==============================] - 299s 3s/step - loss: 1.0198 - accuracy: 0.5946 - val_loss: 1.1001 - val_accuracy: 0.5641\n",
            "Epoch 7/22\n",
            "109/109 [==============================] - 276s 3s/step - loss: 1.0202 - accuracy: 0.5925 - val_loss: 1.1189 - val_accuracy: 0.5538\n",
            "Epoch 8/22\n",
            "109/109 [==============================] - ETA: 0s - loss: 1.0158 - accuracy: 0.5964"
          ]
        },
        {
          "output_type": "stream",
          "name": "stderr",
          "text": [
            "WARNING:absl:Found untraced functions such as _update_step_xla while saving (showing 1 of 1). These functions will not be directly callable after loading.\n"
          ]
        },
        {
          "output_type": "stream",
          "name": "stdout",
          "text": [
            "\b\b\b\b\b\b\b\b\b\b\b\b\b\b\b\b\b\b\b\b\b\b\b\b\b\b\b\b\b\b\b\b\b\b\b\b\b\b\b\b\b\b\b\b\b\b\b\b\b\b\b\b\b\b\b\b\b\b\b\b\b\b\b\b\b\b\b\b\b\b\b\b\b\b\b\b\b\b\b\b\b\b\b\b\r109/109 [==============================] - 299s 3s/step - loss: 1.0158 - accuracy: 0.5964 - val_loss: 1.0937 - val_accuracy: 0.5627\n",
            "Epoch 9/22\n",
            "109/109 [==============================] - 276s 3s/step - loss: 1.0176 - accuracy: 0.5953 - val_loss: 1.1000 - val_accuracy: 0.5609\n",
            "Epoch 10/22\n",
            "109/109 [==============================] - ETA: 0s - loss: 1.0095 - accuracy: 0.5977"
          ]
        },
        {
          "output_type": "stream",
          "name": "stderr",
          "text": [
            "WARNING:absl:Found untraced functions such as _update_step_xla while saving (showing 1 of 1). These functions will not be directly callable after loading.\n"
          ]
        },
        {
          "output_type": "stream",
          "name": "stdout",
          "text": [
            "\b\b\b\b\b\b\b\b\b\b\b\b\b\b\b\b\b\b\b\b\b\b\b\b\b\b\b\b\b\b\b\b\b\b\b\b\b\b\b\b\b\b\b\b\b\b\b\b\b\b\b\b\b\b\b\b\b\b\b\b\b\b\b\b\b\b\b\b\b\b\b\b\b\b\b\b\b\b\b\b\b\b\b\b\r109/109 [==============================] - 296s 3s/step - loss: 1.0095 - accuracy: 0.5977 - val_loss: 1.0993 - val_accuracy: 0.5680\n",
            "Epoch 11/22\n",
            "109/109 [==============================] - ETA: 0s - loss: 1.0089 - accuracy: 0.6001"
          ]
        },
        {
          "output_type": "stream",
          "name": "stderr",
          "text": [
            "WARNING:absl:Found untraced functions such as _update_step_xla while saving (showing 1 of 1). These functions will not be directly callable after loading.\n"
          ]
        },
        {
          "output_type": "stream",
          "name": "stdout",
          "text": [
            "\b\b\b\b\b\b\b\b\b\b\b\b\b\b\b\b\b\b\b\b\b\b\b\b\b\b\b\b\b\b\b\b\b\b\b\b\b\b\b\b\b\b\b\b\b\b\b\b\b\b\b\b\b\b\b\b\b\b\b\b\b\b\b\b\b\b\b\b\b\b\b\b\b\b\b\b\b\b\b\b\b\b\b\b\r109/109 [==============================] - 296s 3s/step - loss: 1.0089 - accuracy: 0.6001 - val_loss: 1.1083 - val_accuracy: 0.5547\n",
            "Epoch 12/22\n",
            "109/109 [==============================] - ETA: 0s - loss: 1.0048 - accuracy: 0.5993"
          ]
        },
        {
          "output_type": "stream",
          "name": "stderr",
          "text": [
            "WARNING:absl:Found untraced functions such as _update_step_xla while saving (showing 1 of 1). These functions will not be directly callable after loading.\n"
          ]
        },
        {
          "output_type": "stream",
          "name": "stdout",
          "text": [
            "\b\b\b\b\b\b\b\b\b\b\b\b\b\b\b\b\b\b\b\b\b\b\b\b\b\b\b\b\b\b\b\b\b\b\b\b\b\b\b\b\b\b\b\b\b\b\b\b\b\b\b\b\b\b\b\b\b\b\b\b\b\b\b\b\b\b\b\b\b\b\b\b\b\b\b\b\b\b\b\b\b\b\b\b\r109/109 [==============================] - 297s 3s/step - loss: 1.0048 - accuracy: 0.5993 - val_loss: 1.0919 - val_accuracy: 0.5671\n",
            "Epoch 13/22\n",
            "109/109 [==============================] - 276s 3s/step - loss: 1.0066 - accuracy: 0.5997 - val_loss: 1.1001 - val_accuracy: 0.5650\n",
            "Epoch 14/22\n",
            "109/109 [==============================] - ETA: 0s - loss: 1.0039 - accuracy: 0.5999"
          ]
        },
        {
          "output_type": "stream",
          "name": "stderr",
          "text": [
            "WARNING:absl:Found untraced functions such as _update_step_xla while saving (showing 1 of 1). These functions will not be directly callable after loading.\n"
          ]
        },
        {
          "output_type": "stream",
          "name": "stdout",
          "text": [
            "\b\b\b\b\b\b\b\b\b\b\b\b\b\b\b\b\b\b\b\b\b\b\b\b\b\b\b\b\b\b\b\b\b\b\b\b\b\b\b\b\b\b\b\b\b\b\b\b\b\b\b\b\b\b\b\b\b\b\b\b\b\b\b\b\b\b\b\b\b\b\b\b\b\b\b\b\b\b\b\b\b\b\b\b\r109/109 [==============================] - 297s 3s/step - loss: 1.0039 - accuracy: 0.5999 - val_loss: 1.1182 - val_accuracy: 0.5470\n",
            "Epoch 15/22\n",
            "109/109 [==============================] - ETA: 0s - loss: 1.0020 - accuracy: 0.6037"
          ]
        },
        {
          "output_type": "stream",
          "name": "stderr",
          "text": [
            "WARNING:absl:Found untraced functions such as _update_step_xla while saving (showing 1 of 1). These functions will not be directly callable after loading.\n"
          ]
        },
        {
          "output_type": "stream",
          "name": "stdout",
          "text": [
            "\b\b\b\b\b\b\b\b\b\b\b\b\b\b\b\b\b\b\b\b\b\b\b\b\b\b\b\b\b\b\b\b\b\b\b\b\b\b\b\b\b\b\b\b\b\b\b\b\b\b\b\b\b\b\b\b\b\b\b\b\b\b\b\b\b\b\b\b\b\b\b\b\b\b\b\b\b\b\b\b\b\b\b\b\r109/109 [==============================] - 298s 3s/step - loss: 1.0020 - accuracy: 0.6037 - val_loss: 1.1177 - val_accuracy: 0.5547\n",
            "Epoch 16/22\n",
            "109/109 [==============================] - ETA: 0s - loss: 0.9968 - accuracy: 0.6043"
          ]
        },
        {
          "output_type": "stream",
          "name": "stderr",
          "text": [
            "WARNING:absl:Found untraced functions such as _update_step_xla while saving (showing 1 of 1). These functions will not be directly callable after loading.\n"
          ]
        },
        {
          "output_type": "stream",
          "name": "stdout",
          "text": [
            "\b\b\b\b\b\b\b\b\b\b\b\b\b\b\b\b\b\b\b\b\b\b\b\b\b\b\b\b\b\b\b\b\b\b\b\b\b\b\b\b\b\b\b\b\b\b\b\b\b\b\b\b\b\b\b\b\b\b\b\b\b\b\b\b\b\b\b\b\b\b\b\b\b\b\b\b\b\b\b\b\b\b\b\b\r109/109 [==============================] - 297s 3s/step - loss: 0.9968 - accuracy: 0.6043 - val_loss: 1.1039 - val_accuracy: 0.5609\n",
            "Epoch 17/22\n",
            "109/109 [==============================] - ETA: 0s - loss: 0.9956 - accuracy: 0.6057"
          ]
        },
        {
          "output_type": "stream",
          "name": "stderr",
          "text": [
            "WARNING:absl:Found untraced functions such as _update_step_xla while saving (showing 1 of 1). These functions will not be directly callable after loading.\n"
          ]
        },
        {
          "output_type": "stream",
          "name": "stdout",
          "text": [
            "\b\b\b\b\b\b\b\b\b\b\b\b\b\b\b\b\b\b\b\b\b\b\b\b\b\b\b\b\b\b\b\b\b\b\b\b\b\b\b\b\b\b\b\b\b\b\b\b\b\b\b\b\b\b\b\b\b\b\b\b\b\b\b\b\b\b\b\b\b\b\b\b\b\b\b\b\b\b\b\b\b\b\b\b\r109/109 [==============================] - 296s 3s/step - loss: 0.9956 - accuracy: 0.6057 - val_loss: 1.0793 - val_accuracy: 0.5692\n",
            "Epoch 18/22\n",
            "109/109 [==============================] - ETA: 0s - loss: 0.9895 - accuracy: 0.6077"
          ]
        },
        {
          "output_type": "stream",
          "name": "stderr",
          "text": [
            "WARNING:absl:Found untraced functions such as _update_step_xla while saving (showing 1 of 1). These functions will not be directly callable after loading.\n"
          ]
        },
        {
          "output_type": "stream",
          "name": "stdout",
          "text": [
            "\b\b\b\b\b\b\b\b\b\b\b\b\b\b\b\b\b\b\b\b\b\b\b\b\b\b\b\b\b\b\b\b\b\b\b\b\b\b\b\b\b\b\b\b\b\b\b\b\b\b\b\b\b\b\b\b\b\b\b\b\b\b\b\b\b\b\b\b\b\b\b\b\b\b\b\b\b\b\b\b\b\b\b\b\r109/109 [==============================] - 295s 3s/step - loss: 0.9895 - accuracy: 0.6077 - val_loss: 1.0981 - val_accuracy: 0.5627\n",
            "Epoch 19/22\n",
            "109/109 [==============================] - ETA: 0s - loss: 0.9880 - accuracy: 0.6050"
          ]
        },
        {
          "output_type": "stream",
          "name": "stderr",
          "text": [
            "WARNING:absl:Found untraced functions such as _update_step_xla while saving (showing 1 of 1). These functions will not be directly callable after loading.\n"
          ]
        },
        {
          "output_type": "stream",
          "name": "stdout",
          "text": [
            "\b\b\b\b\b\b\b\b\b\b\b\b\b\b\b\b\b\b\b\b\b\b\b\b\b\b\b\b\b\b\b\b\b\b\b\b\b\b\b\b\b\b\b\b\b\b\b\b\b\b\b\b\b\b\b\b\b\b\b\b\b\b\b\b\b\b\b\b\b\b\b\b\b\b\b\b\b\b\b\b\b\b\b\b\r109/109 [==============================] - 296s 3s/step - loss: 0.9880 - accuracy: 0.6050 - val_loss: 1.0778 - val_accuracy: 0.5674\n",
            "Epoch 20/22\n",
            "109/109 [==============================] - ETA: 0s - loss: 0.9864 - accuracy: 0.6106"
          ]
        },
        {
          "output_type": "stream",
          "name": "stderr",
          "text": [
            "WARNING:absl:Found untraced functions such as _update_step_xla while saving (showing 1 of 1). These functions will not be directly callable after loading.\n"
          ]
        },
        {
          "output_type": "stream",
          "name": "stdout",
          "text": [
            "\b\b\b\b\b\b\b\b\b\b\b\b\b\b\b\b\b\b\b\b\b\b\b\b\b\b\b\b\b\b\b\b\b\b\b\b\b\b\b\b\b\b\b\b\b\b\b\b\b\b\b\b\b\b\b\b\b\b\b\b\b\b\b\b\b\b\b\b\b\b\b\b\b\b\b\b\b\b\b\b\b\b\b\b\r109/109 [==============================] - 297s 3s/step - loss: 0.9864 - accuracy: 0.6106 - val_loss: 1.1282 - val_accuracy: 0.5568\n",
            "Epoch 21/22\n",
            " 75/109 [===================>..........] - ETA: 1:25 - loss: 0.9851 - accuracy: 0.6109"
          ]
        }
      ],
      "source": [
        "model_10 = load_model(\"/content/model9.tf/content/model9.tf\")\n",
        "\n",
        "filepath = \"model10.tf\"\n",
        "checkpoint = ModelCheckpoint(filepath, monitor='loss', save_best_only=True, mode='min', save_format='tf')\n",
        "callbacks_list = [checkpoint]\n",
        "history = model_10.fit(X_trHE, Y_trHE, validation_data=(X_valHE, Y_valHE), batch_size=250, epochs=22, callbacks=callbacks_list)"
      ],
      "id": "wfsqrayZRrjt"
    },
    {
      "cell_type": "code",
      "source": [
        "!zip -r /content/model10.tf.zip /content/model10.tf"
      ],
      "metadata": {
        "id": "4FCsQZ15Rrju"
      },
      "execution_count": null,
      "outputs": [],
      "id": "4FCsQZ15Rrju"
    },
    {
      "cell_type": "code",
      "source": [
        "plt.subplot(1, 2, 1)\n",
        "plt.plot(history.history['accuracy'])\n",
        "plt.plot(history.history['val_accuracy'])\n",
        "plt.title('Accuracy')\n",
        "plt.ylabel('Accuracy')\n",
        "plt.xlabel('Epoch')\n",
        "plt.legend(['Train', 'Val'], loc='upper left')\n",
        "\n",
        "plt.subplot(1, 2, 2)\n",
        "plt.plot(history.history['loss'])\n",
        "plt.plot(history.history['val_loss'])\n",
        "plt.title('Loss')\n",
        "plt.ylabel('Loss')\n",
        "plt.xlabel('Epoch')\n",
        "plt.legend(['Train', 'Val'], loc='upper left')\n",
        "\n",
        "plt.figure(figsize=(10,6))\n",
        "#plt.tight_layout()\n",
        "\n",
        "plt.show()"
      ],
      "metadata": {
        "id": "f7fMRDaaR_h3"
      },
      "id": "f7fMRDaaR_h3",
      "execution_count": null,
      "outputs": []
    },
    {
      "cell_type": "markdown",
      "source": [
        "# Archive"
      ],
      "metadata": {
        "id": "aflFsEbWeSyo"
      },
      "id": "aflFsEbWeSyo"
    },
    {
      "cell_type": "markdown",
      "metadata": {
        "id": "AY1GWYQAcwVR"
      },
      "source": [
        "DON'T RUN BELOW - IT'S THE HYPERPARAMETER TUNER AND TAKES OVER 12 HOURS."
      ],
      "id": "AY1GWYQAcwVR"
    },
    {
      "cell_type": "code",
      "execution_count": null,
      "metadata": {
        "id": "8a04950d"
      },
      "outputs": [],
      "source": [
        "def build_model(hp):\n",
        "    model = keras.Sequential()\n",
        "\n",
        "    model.add(\n",
        "        layers.Bidirectional(layers.LSTM(units = hp.Int('initial-l', min_value=50, max_value=250, step=10), \n",
        "                                         activation='sigmoid',return_sequences=True, \n",
        "                                        dropout = hp.Float('dropout_init', min_value=0.01, max_value=0.2, step=0.01),\n",
        "                                        kernel_initializer=initializers.RandomNormal(stddev=0.2)), \n",
        "                             input_shape=(X_trNN_transformed.shape[1],1)))\n",
        "\n",
        "    for i in range(hp.Int('num_layers', 1, 8)):\n",
        "        model.add(layers.Bidirectional(layers.LSTM(units = hp.Int('layer'+str(i), min_value=50, max_value=250, step=10),\n",
        "                                                   activation='sigmoid',return_sequences=True, \n",
        "                                                   dropout = hp.Float('dropout'+str(i), min_value=0.01, max_value=0.2, step=0.01),\n",
        "                                                   kernel_initializer=initializers.RandomNormal(stddev=0.2))))\n",
        "\n",
        "    model.add(layers.Bidirectional(layers.LSTM(units = hp.Int('final-l', min_value=50, max_value=250, step=10),\n",
        "                                                   activation='sigmoid',\n",
        "                                                   dropout = hp.Float('dropout'+str(i), min_value=0.01, max_value=0.2, step=0.01),\n",
        "                                                   kernel_initializer=initializers.RandomNormal(stddev=0.2))))\n",
        "    \n",
        "    model.add(tf.keras.layers.Dense(5,activation=\"softmax\"))\n",
        "\n",
        "    optimizers_choices=hp.Choice('Optimizer', values=['Adam', 'SGD'])\n",
        "\n",
        "    if optimizers_choices == 'Adam':\n",
        "        hp_learning_rate = hp.Float('learning_rate', min_value=0.01, max_value=0.1, step=0.01)\n",
        "    elif optimizers_choices == 'SGD':\n",
        "        hp_learning_rate = hp.Float('learning_rate', min_value=0.01, max_value=0.1, step=0.01)\n",
        "        #nesterov=True\n",
        "        #momentum=0.9\n",
        "\n",
        "    model.compile(loss='categorical_crossentropy', optimizer = optimizers_choices, metrics=['accuracy'])\n",
        "    #Sparse Multiclass Cross-Entropy Loss\n",
        "    return model\n",
        "\n",
        "#Reference: \n",
        "#1) https://www.tensorflow.org/guide/keras/rnn#bidirectional_rnns\n",
        "#2) https://www.tensorflow.org/api_docs/python/tf/keras/layers/LSTM\n",
        "#3) https://www.tensorflow.org/api_docs/python/tf/keras/layers/Bidirectional\n",
        "#4) https://keras.io/keras_tuner/\n",
        "#5) https://towardsdatascience.com/tune-deep-neural-networks-using-bayesian-optimization-c9f6503a049f\n",
        "\n",
        "#With ReLu there was a vanishing gradient issue"
      ],
      "id": "8a04950d"
    },
    {
      "cell_type": "code",
      "execution_count": null,
      "metadata": {
        "id": "8ae2eb40"
      },
      "outputs": [],
      "source": [
        "tuner_rnn = keras_tuner.BayesianOptimization(\n",
        "    build_model,\n",
        "    objective='val_loss',\n",
        "    max_trials=10,\n",
        "    project_name = 'FinalizedRNN1')\n",
        "\n",
        "tuner_rnn.search(X_trHE, Y_trHE, validation_data=(X_valHE, Y_valHE),epochs=20, batch_size=200)\n",
        "#Reference: https://machinelearningmastery.com/difference-between-a-batch-and-an-epoch/#:~:text=The%20number%20of%20epochs%20is%20the%20number%20of%20complete%20passes,value%20between%20one%20and%20infinity."
      ],
      "id": "8ae2eb40"
    },
    {
      "cell_type": "code",
      "execution_count": null,
      "metadata": {
        "id": "ed4f2d2f"
      },
      "outputs": [],
      "source": [],
      "id": "ed4f2d2f"
    }
  ],
  "metadata": {
    "colab": {
      "provenance": []
    },
    "kernelspec": {
      "display_name": "Python 3 (ipykernel)",
      "language": "python",
      "name": "python3"
    },
    "language_info": {
      "codemirror_mode": {
        "name": "ipython",
        "version": 3
      },
      "file_extension": ".py",
      "mimetype": "text/x-python",
      "name": "python",
      "nbconvert_exporter": "python",
      "pygments_lexer": "ipython3",
      "version": "3.9.15"
    },
    "gpuClass": "standard",
    "accelerator": "GPU"
  },
  "nbformat": 4,
  "nbformat_minor": 5
}